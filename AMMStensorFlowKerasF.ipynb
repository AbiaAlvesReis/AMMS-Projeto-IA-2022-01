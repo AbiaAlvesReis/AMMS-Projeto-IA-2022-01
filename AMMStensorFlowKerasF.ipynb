{
  "cells": [
    {
      "cell_type": "markdown",
      "metadata": {
        "id": "view-in-github",
        "colab_type": "text"
      },
      "source": [
        "<a href=\"https://colab.research.google.com/github/AbiaAlvesReis/Projeto-IA-2022-01/blob/main/AMMStensorFlowKerasF.ipynb\" target=\"_parent\"><img src=\"https://colab.research.google.com/assets/colab-badge.svg\" alt=\"Open In Colab\"/></a>"
      ]
    },
    {
      "cell_type": "code",
      "execution_count": null,
      "metadata": {
        "id": "cqI3K4Z1_9y_",
        "colab": {
          "base_uri": "https://localhost:8080/"
        },
        "outputId": "1b9fd6cc-fa59-43b8-c933-710a3d328c59"
      },
      "outputs": [
        {
          "output_type": "stream",
          "name": "stdout",
          "text": [
            "Drive already mounted at /content/drive; to attempt to forcibly remount, call drive.mount(\"/content/drive\", force_remount=True).\n"
          ]
        }
      ],
      "source": [
        "# Import everything\n",
        "import numpy as np\n",
        "import pandas as pd\n",
        "from sklearn.preprocessing import StandardScaler\n",
        "import matplotlib.pyplot as plt\n",
        "import seaborn as sns\n",
        "%matplotlib inline\n",
        "\n",
        "from sklearn.preprocessing import StandardScaler\n",
        "from google.colab import drive\n",
        "\n",
        "drive.mount('/content/drive')"
      ]
    },
    {
      "cell_type": "code",
      "source": [
        "# Create a DataFrame\n",
        "mega_df = pd.read_excel('/content/drive/MyDrive/Colab Notebooks/dados testes /mega.xlsx', parse_dates=True, index_col=1)"
      ],
      "metadata": {
        "id": "SbUZAI-o3gWp"
      },
      "execution_count": null,
      "outputs": []
    },
    {
      "cell_type": "code",
      "source": [
        ""
      ],
      "metadata": {
        "id": "T2gS_gyl9AhV"
      },
      "execution_count": null,
      "outputs": []
    },
    {
      "cell_type": "code",
      "execution_count": null,
      "metadata": {
        "colab": {
          "base_uri": "https://localhost:8080/",
          "height": 238
        },
        "id": "gDHVObV5A_Tt",
        "outputId": "42c62be3-24c7-4de0-92be-b5e9caa4a6af"
      },
      "outputs": [
        {
          "output_type": "execute_result",
          "data": {
            "text/plain": [
              "            lottery  ball_01  ball_02  ball_03  ball_04  ball_05  ball_06\n",
              "date                                                                     \n",
              "1996-03-11      1.0     41.0      5.0      4.0     52.0     30.0     33.0\n",
              "1996-03-18      2.0      9.0     39.0     37.0     49.0     43.0     41.0\n",
              "1996-03-25      3.0     36.0     30.0     10.0     11.0     29.0     47.0\n",
              "1996-04-01      4.0      6.0     59.0     42.0     27.0      1.0      5.0\n",
              "1996-04-08      5.0      1.0     19.0     46.0      6.0     16.0      2.0"
            ],
            "text/html": [
              "\n",
              "  <div id=\"df-cf326db0-4aaf-491f-84e4-d426aa3d85cd\">\n",
              "    <div class=\"colab-df-container\">\n",
              "      <div>\n",
              "<style scoped>\n",
              "    .dataframe tbody tr th:only-of-type {\n",
              "        vertical-align: middle;\n",
              "    }\n",
              "\n",
              "    .dataframe tbody tr th {\n",
              "        vertical-align: top;\n",
              "    }\n",
              "\n",
              "    .dataframe thead th {\n",
              "        text-align: right;\n",
              "    }\n",
              "</style>\n",
              "<table border=\"1\" class=\"dataframe\">\n",
              "  <thead>\n",
              "    <tr style=\"text-align: right;\">\n",
              "      <th></th>\n",
              "      <th>lottery</th>\n",
              "      <th>ball_01</th>\n",
              "      <th>ball_02</th>\n",
              "      <th>ball_03</th>\n",
              "      <th>ball_04</th>\n",
              "      <th>ball_05</th>\n",
              "      <th>ball_06</th>\n",
              "    </tr>\n",
              "    <tr>\n",
              "      <th>date</th>\n",
              "      <th></th>\n",
              "      <th></th>\n",
              "      <th></th>\n",
              "      <th></th>\n",
              "      <th></th>\n",
              "      <th></th>\n",
              "      <th></th>\n",
              "    </tr>\n",
              "  </thead>\n",
              "  <tbody>\n",
              "    <tr>\n",
              "      <th>1996-03-11</th>\n",
              "      <td>1.0</td>\n",
              "      <td>41.0</td>\n",
              "      <td>5.0</td>\n",
              "      <td>4.0</td>\n",
              "      <td>52.0</td>\n",
              "      <td>30.0</td>\n",
              "      <td>33.0</td>\n",
              "    </tr>\n",
              "    <tr>\n",
              "      <th>1996-03-18</th>\n",
              "      <td>2.0</td>\n",
              "      <td>9.0</td>\n",
              "      <td>39.0</td>\n",
              "      <td>37.0</td>\n",
              "      <td>49.0</td>\n",
              "      <td>43.0</td>\n",
              "      <td>41.0</td>\n",
              "    </tr>\n",
              "    <tr>\n",
              "      <th>1996-03-25</th>\n",
              "      <td>3.0</td>\n",
              "      <td>36.0</td>\n",
              "      <td>30.0</td>\n",
              "      <td>10.0</td>\n",
              "      <td>11.0</td>\n",
              "      <td>29.0</td>\n",
              "      <td>47.0</td>\n",
              "    </tr>\n",
              "    <tr>\n",
              "      <th>1996-04-01</th>\n",
              "      <td>4.0</td>\n",
              "      <td>6.0</td>\n",
              "      <td>59.0</td>\n",
              "      <td>42.0</td>\n",
              "      <td>27.0</td>\n",
              "      <td>1.0</td>\n",
              "      <td>5.0</td>\n",
              "    </tr>\n",
              "    <tr>\n",
              "      <th>1996-04-08</th>\n",
              "      <td>5.0</td>\n",
              "      <td>1.0</td>\n",
              "      <td>19.0</td>\n",
              "      <td>46.0</td>\n",
              "      <td>6.0</td>\n",
              "      <td>16.0</td>\n",
              "      <td>2.0</td>\n",
              "    </tr>\n",
              "  </tbody>\n",
              "</table>\n",
              "</div>\n",
              "      <button class=\"colab-df-convert\" onclick=\"convertToInteractive('df-cf326db0-4aaf-491f-84e4-d426aa3d85cd')\"\n",
              "              title=\"Convert this dataframe to an interactive table.\"\n",
              "              style=\"display:none;\">\n",
              "        \n",
              "  <svg xmlns=\"http://www.w3.org/2000/svg\" height=\"24px\"viewBox=\"0 0 24 24\"\n",
              "       width=\"24px\">\n",
              "    <path d=\"M0 0h24v24H0V0z\" fill=\"none\"/>\n",
              "    <path d=\"M18.56 5.44l.94 2.06.94-2.06 2.06-.94-2.06-.94-.94-2.06-.94 2.06-2.06.94zm-11 1L8.5 8.5l.94-2.06 2.06-.94-2.06-.94L8.5 2.5l-.94 2.06-2.06.94zm10 10l.94 2.06.94-2.06 2.06-.94-2.06-.94-.94-2.06-.94 2.06-2.06.94z\"/><path d=\"M17.41 7.96l-1.37-1.37c-.4-.4-.92-.59-1.43-.59-.52 0-1.04.2-1.43.59L10.3 9.45l-7.72 7.72c-.78.78-.78 2.05 0 2.83L4 21.41c.39.39.9.59 1.41.59.51 0 1.02-.2 1.41-.59l7.78-7.78 2.81-2.81c.8-.78.8-2.07 0-2.86zM5.41 20L4 18.59l7.72-7.72 1.47 1.35L5.41 20z\"/>\n",
              "  </svg>\n",
              "      </button>\n",
              "      \n",
              "  <style>\n",
              "    .colab-df-container {\n",
              "      display:flex;\n",
              "      flex-wrap:wrap;\n",
              "      gap: 12px;\n",
              "    }\n",
              "\n",
              "    .colab-df-convert {\n",
              "      background-color: #E8F0FE;\n",
              "      border: none;\n",
              "      border-radius: 50%;\n",
              "      cursor: pointer;\n",
              "      display: none;\n",
              "      fill: #1967D2;\n",
              "      height: 32px;\n",
              "      padding: 0 0 0 0;\n",
              "      width: 32px;\n",
              "    }\n",
              "\n",
              "    .colab-df-convert:hover {\n",
              "      background-color: #E2EBFA;\n",
              "      box-shadow: 0px 1px 2px rgba(60, 64, 67, 0.3), 0px 1px 3px 1px rgba(60, 64, 67, 0.15);\n",
              "      fill: #174EA6;\n",
              "    }\n",
              "\n",
              "    [theme=dark] .colab-df-convert {\n",
              "      background-color: #3B4455;\n",
              "      fill: #D2E3FC;\n",
              "    }\n",
              "\n",
              "    [theme=dark] .colab-df-convert:hover {\n",
              "      background-color: #434B5C;\n",
              "      box-shadow: 0px 1px 3px 1px rgba(0, 0, 0, 0.15);\n",
              "      filter: drop-shadow(0px 1px 2px rgba(0, 0, 0, 0.3));\n",
              "      fill: #FFFFFF;\n",
              "    }\n",
              "  </style>\n",
              "\n",
              "      <script>\n",
              "        const buttonEl =\n",
              "          document.querySelector('#df-cf326db0-4aaf-491f-84e4-d426aa3d85cd button.colab-df-convert');\n",
              "        buttonEl.style.display =\n",
              "          google.colab.kernel.accessAllowed ? 'block' : 'none';\n",
              "\n",
              "        async function convertToInteractive(key) {\n",
              "          const element = document.querySelector('#df-cf326db0-4aaf-491f-84e4-d426aa3d85cd');\n",
              "          const dataTable =\n",
              "            await google.colab.kernel.invokeFunction('convertToInteractive',\n",
              "                                                     [key], {});\n",
              "          if (!dataTable) return;\n",
              "\n",
              "          const docLinkHtml = 'Like what you see? Visit the ' +\n",
              "            '<a target=\"_blank\" href=https://colab.research.google.com/notebooks/data_table.ipynb>data table notebook</a>'\n",
              "            + ' to learn more about interactive tables.';\n",
              "          element.innerHTML = '';\n",
              "          dataTable['output_type'] = 'display_data';\n",
              "          await google.colab.output.renderOutput(dataTable, element);\n",
              "          const docLink = document.createElement('div');\n",
              "          docLink.innerHTML = docLinkHtml;\n",
              "          element.appendChild(docLink);\n",
              "        }\n",
              "      </script>\n",
              "    </div>\n",
              "  </div>\n",
              "  "
            ]
          },
          "metadata": {},
          "execution_count": 156
        }
      ],
      "source": [
        "mega_df.head()"
      ]
    },
    {
      "cell_type": "markdown",
      "source": [
        " “tail()” retorna as últimas cinco observações."
      ],
      "metadata": {
        "id": "Hp2td45CnQoW"
      }
    },
    {
      "cell_type": "code",
      "execution_count": null,
      "metadata": {
        "colab": {
          "base_uri": "https://localhost:8080/",
          "height": 238
        },
        "id": "HjWDe-HI_9zD",
        "outputId": "bef1b2f1-ba70-415b-fd61-8bcda265519c"
      },
      "outputs": [
        {
          "output_type": "execute_result",
          "data": {
            "text/plain": [
              "            lottery  ball_01  ball_02  ball_03  ball_04  ball_05  ball_06\n",
              "date                                                                     \n",
              "2022-05-14   2481.0      1.0     37.0     36.0     21.0      8.0     27.0\n",
              "2022-05-18   2482.0     32.0      1.0     57.0     44.0     35.0     45.0\n",
              "2022-05-21   2483.0     54.0     49.0     34.0     38.0     40.0     20.0\n",
              "2022-05-25   2484.0     59.0     36.0     41.0     54.0     14.0     11.0\n",
              "2022-05-28   2485.0     60.0     12.0     38.0     47.0      5.0     32.0"
            ],
            "text/html": [
              "\n",
              "  <div id=\"df-3c80553f-9938-4825-b26d-7728db259b5e\">\n",
              "    <div class=\"colab-df-container\">\n",
              "      <div>\n",
              "<style scoped>\n",
              "    .dataframe tbody tr th:only-of-type {\n",
              "        vertical-align: middle;\n",
              "    }\n",
              "\n",
              "    .dataframe tbody tr th {\n",
              "        vertical-align: top;\n",
              "    }\n",
              "\n",
              "    .dataframe thead th {\n",
              "        text-align: right;\n",
              "    }\n",
              "</style>\n",
              "<table border=\"1\" class=\"dataframe\">\n",
              "  <thead>\n",
              "    <tr style=\"text-align: right;\">\n",
              "      <th></th>\n",
              "      <th>lottery</th>\n",
              "      <th>ball_01</th>\n",
              "      <th>ball_02</th>\n",
              "      <th>ball_03</th>\n",
              "      <th>ball_04</th>\n",
              "      <th>ball_05</th>\n",
              "      <th>ball_06</th>\n",
              "    </tr>\n",
              "    <tr>\n",
              "      <th>date</th>\n",
              "      <th></th>\n",
              "      <th></th>\n",
              "      <th></th>\n",
              "      <th></th>\n",
              "      <th></th>\n",
              "      <th></th>\n",
              "      <th></th>\n",
              "    </tr>\n",
              "  </thead>\n",
              "  <tbody>\n",
              "    <tr>\n",
              "      <th>2022-05-14</th>\n",
              "      <td>2481.0</td>\n",
              "      <td>1.0</td>\n",
              "      <td>37.0</td>\n",
              "      <td>36.0</td>\n",
              "      <td>21.0</td>\n",
              "      <td>8.0</td>\n",
              "      <td>27.0</td>\n",
              "    </tr>\n",
              "    <tr>\n",
              "      <th>2022-05-18</th>\n",
              "      <td>2482.0</td>\n",
              "      <td>32.0</td>\n",
              "      <td>1.0</td>\n",
              "      <td>57.0</td>\n",
              "      <td>44.0</td>\n",
              "      <td>35.0</td>\n",
              "      <td>45.0</td>\n",
              "    </tr>\n",
              "    <tr>\n",
              "      <th>2022-05-21</th>\n",
              "      <td>2483.0</td>\n",
              "      <td>54.0</td>\n",
              "      <td>49.0</td>\n",
              "      <td>34.0</td>\n",
              "      <td>38.0</td>\n",
              "      <td>40.0</td>\n",
              "      <td>20.0</td>\n",
              "    </tr>\n",
              "    <tr>\n",
              "      <th>2022-05-25</th>\n",
              "      <td>2484.0</td>\n",
              "      <td>59.0</td>\n",
              "      <td>36.0</td>\n",
              "      <td>41.0</td>\n",
              "      <td>54.0</td>\n",
              "      <td>14.0</td>\n",
              "      <td>11.0</td>\n",
              "    </tr>\n",
              "    <tr>\n",
              "      <th>2022-05-28</th>\n",
              "      <td>2485.0</td>\n",
              "      <td>60.0</td>\n",
              "      <td>12.0</td>\n",
              "      <td>38.0</td>\n",
              "      <td>47.0</td>\n",
              "      <td>5.0</td>\n",
              "      <td>32.0</td>\n",
              "    </tr>\n",
              "  </tbody>\n",
              "</table>\n",
              "</div>\n",
              "      <button class=\"colab-df-convert\" onclick=\"convertToInteractive('df-3c80553f-9938-4825-b26d-7728db259b5e')\"\n",
              "              title=\"Convert this dataframe to an interactive table.\"\n",
              "              style=\"display:none;\">\n",
              "        \n",
              "  <svg xmlns=\"http://www.w3.org/2000/svg\" height=\"24px\"viewBox=\"0 0 24 24\"\n",
              "       width=\"24px\">\n",
              "    <path d=\"M0 0h24v24H0V0z\" fill=\"none\"/>\n",
              "    <path d=\"M18.56 5.44l.94 2.06.94-2.06 2.06-.94-2.06-.94-.94-2.06-.94 2.06-2.06.94zm-11 1L8.5 8.5l.94-2.06 2.06-.94-2.06-.94L8.5 2.5l-.94 2.06-2.06.94zm10 10l.94 2.06.94-2.06 2.06-.94-2.06-.94-.94-2.06-.94 2.06-2.06.94z\"/><path d=\"M17.41 7.96l-1.37-1.37c-.4-.4-.92-.59-1.43-.59-.52 0-1.04.2-1.43.59L10.3 9.45l-7.72 7.72c-.78.78-.78 2.05 0 2.83L4 21.41c.39.39.9.59 1.41.59.51 0 1.02-.2 1.41-.59l7.78-7.78 2.81-2.81c.8-.78.8-2.07 0-2.86zM5.41 20L4 18.59l7.72-7.72 1.47 1.35L5.41 20z\"/>\n",
              "  </svg>\n",
              "      </button>\n",
              "      \n",
              "  <style>\n",
              "    .colab-df-container {\n",
              "      display:flex;\n",
              "      flex-wrap:wrap;\n",
              "      gap: 12px;\n",
              "    }\n",
              "\n",
              "    .colab-df-convert {\n",
              "      background-color: #E8F0FE;\n",
              "      border: none;\n",
              "      border-radius: 50%;\n",
              "      cursor: pointer;\n",
              "      display: none;\n",
              "      fill: #1967D2;\n",
              "      height: 32px;\n",
              "      padding: 0 0 0 0;\n",
              "      width: 32px;\n",
              "    }\n",
              "\n",
              "    .colab-df-convert:hover {\n",
              "      background-color: #E2EBFA;\n",
              "      box-shadow: 0px 1px 2px rgba(60, 64, 67, 0.3), 0px 1px 3px 1px rgba(60, 64, 67, 0.15);\n",
              "      fill: #174EA6;\n",
              "    }\n",
              "\n",
              "    [theme=dark] .colab-df-convert {\n",
              "      background-color: #3B4455;\n",
              "      fill: #D2E3FC;\n",
              "    }\n",
              "\n",
              "    [theme=dark] .colab-df-convert:hover {\n",
              "      background-color: #434B5C;\n",
              "      box-shadow: 0px 1px 3px 1px rgba(0, 0, 0, 0.15);\n",
              "      filter: drop-shadow(0px 1px 2px rgba(0, 0, 0, 0.3));\n",
              "      fill: #FFFFFF;\n",
              "    }\n",
              "  </style>\n",
              "\n",
              "      <script>\n",
              "        const buttonEl =\n",
              "          document.querySelector('#df-3c80553f-9938-4825-b26d-7728db259b5e button.colab-df-convert');\n",
              "        buttonEl.style.display =\n",
              "          google.colab.kernel.accessAllowed ? 'block' : 'none';\n",
              "\n",
              "        async function convertToInteractive(key) {\n",
              "          const element = document.querySelector('#df-3c80553f-9938-4825-b26d-7728db259b5e');\n",
              "          const dataTable =\n",
              "            await google.colab.kernel.invokeFunction('convertToInteractive',\n",
              "                                                     [key], {});\n",
              "          if (!dataTable) return;\n",
              "\n",
              "          const docLinkHtml = 'Like what you see? Visit the ' +\n",
              "            '<a target=\"_blank\" href=https://colab.research.google.com/notebooks/data_table.ipynb>data table notebook</a>'\n",
              "            + ' to learn more about interactive tables.';\n",
              "          element.innerHTML = '';\n",
              "          dataTable['output_type'] = 'display_data';\n",
              "          await google.colab.output.renderOutput(dataTable, element);\n",
              "          const docLink = document.createElement('div');\n",
              "          docLink.innerHTML = docLinkHtml;\n",
              "          element.appendChild(docLink);\n",
              "        }\n",
              "      </script>\n",
              "    </div>\n",
              "  </div>\n",
              "  "
            ]
          },
          "metadata": {},
          "execution_count": 157
        }
      ],
      "source": [
        "mega_df.tail()"
      ]
    },
    {
      "cell_type": "markdown",
      "source": [
        "Total de registros"
      ],
      "metadata": {
        "id": "4mqWtD_lnZaE"
      }
    },
    {
      "cell_type": "code",
      "source": [
        "print(mega_df.shape)"
      ],
      "metadata": {
        "colab": {
          "base_uri": "https://localhost:8080/"
        },
        "id": "7g7B8Pp_nbP2",
        "outputId": "99e3a403-e89b-4420-f242-7b42a058f137"
      },
      "execution_count": null,
      "outputs": [
        {
          "output_type": "stream",
          "name": "stdout",
          "text": [
            "(2485, 7)\n"
          ]
        }
      ]
    },
    {
      "cell_type": "code",
      "execution_count": null,
      "metadata": {
        "colab": {
          "base_uri": "https://localhost:8080/"
        },
        "id": "-LixHJ-m_9zE",
        "outputId": "eea4f799-95af-44b0-f0f8-dc5dacdb975a"
      },
      "outputs": [
        {
          "output_type": "stream",
          "name": "stdout",
          "text": [
            "<class 'pandas.core.frame.DataFrame'>\n",
            "DatetimeIndex: 2485 entries, 1996-03-11 to 2022-05-28\n",
            "Data columns (total 7 columns):\n",
            " #   Column   Non-Null Count  Dtype  \n",
            "---  ------   --------------  -----  \n",
            " 0   lottery  2485 non-null   float64\n",
            " 1   ball_01  2485 non-null   float64\n",
            " 2   ball_02  2485 non-null   float64\n",
            " 3   ball_03  2485 non-null   float64\n",
            " 4   ball_04  2485 non-null   float64\n",
            " 5   ball_05  2485 non-null   float64\n",
            " 6   ball_06  2485 non-null   float64\n",
            "dtypes: float64(7)\n",
            "memory usage: 155.3 KB\n"
          ]
        }
      ],
      "source": [
        "mega_df.info()"
      ]
    },
    {
      "cell_type": "markdown",
      "source": [
        "Retorna a contagem, média, desvio padrão, valores mínimo e máximo e os quantis dos dados"
      ],
      "metadata": {
        "id": "csVTakAHnuK3"
      }
    },
    {
      "cell_type": "code",
      "execution_count": null,
      "metadata": {
        "colab": {
          "base_uri": "https://localhost:8080/",
          "height": 300
        },
        "id": "nDx9p9qZ_9zF",
        "outputId": "b942916d-d5c0-4825-9e72-92420c824089"
      },
      "outputs": [
        {
          "output_type": "execute_result",
          "data": {
            "text/plain": [
              "           lottery      ball_01      ball_02      ball_03      ball_04  \\\n",
              "count  2485.000000  2485.000000  2485.000000  2485.000000  2485.000000   \n",
              "mean   1243.000000    30.465191    30.151710    30.734406    30.752918   \n",
              "std     717.502033    17.302279    17.367138    17.328347    17.248985   \n",
              "min       1.000000     1.000000     1.000000     1.000000     1.000000   \n",
              "25%     622.000000    16.000000    15.000000    16.000000    16.000000   \n",
              "50%    1243.000000    30.000000    31.000000    31.000000    31.000000   \n",
              "75%    1864.000000    45.000000    45.000000    45.000000    45.000000   \n",
              "max    2485.000000    60.000000    60.000000    60.000000    60.000000   \n",
              "\n",
              "          ball_05      ball_06  \n",
              "count  2485.00000  2485.000000  \n",
              "mean     30.55493    30.372233  \n",
              "std      17.17453    17.173908  \n",
              "min       1.00000     1.000000  \n",
              "25%      15.00000    16.000000  \n",
              "50%      31.00000    30.000000  \n",
              "75%      45.00000    45.000000  \n",
              "max      60.00000    60.000000  "
            ],
            "text/html": [
              "\n",
              "  <div id=\"df-028872d4-c117-49e9-9625-9f75b501722c\">\n",
              "    <div class=\"colab-df-container\">\n",
              "      <div>\n",
              "<style scoped>\n",
              "    .dataframe tbody tr th:only-of-type {\n",
              "        vertical-align: middle;\n",
              "    }\n",
              "\n",
              "    .dataframe tbody tr th {\n",
              "        vertical-align: top;\n",
              "    }\n",
              "\n",
              "    .dataframe thead th {\n",
              "        text-align: right;\n",
              "    }\n",
              "</style>\n",
              "<table border=\"1\" class=\"dataframe\">\n",
              "  <thead>\n",
              "    <tr style=\"text-align: right;\">\n",
              "      <th></th>\n",
              "      <th>lottery</th>\n",
              "      <th>ball_01</th>\n",
              "      <th>ball_02</th>\n",
              "      <th>ball_03</th>\n",
              "      <th>ball_04</th>\n",
              "      <th>ball_05</th>\n",
              "      <th>ball_06</th>\n",
              "    </tr>\n",
              "  </thead>\n",
              "  <tbody>\n",
              "    <tr>\n",
              "      <th>count</th>\n",
              "      <td>2485.000000</td>\n",
              "      <td>2485.000000</td>\n",
              "      <td>2485.000000</td>\n",
              "      <td>2485.000000</td>\n",
              "      <td>2485.000000</td>\n",
              "      <td>2485.00000</td>\n",
              "      <td>2485.000000</td>\n",
              "    </tr>\n",
              "    <tr>\n",
              "      <th>mean</th>\n",
              "      <td>1243.000000</td>\n",
              "      <td>30.465191</td>\n",
              "      <td>30.151710</td>\n",
              "      <td>30.734406</td>\n",
              "      <td>30.752918</td>\n",
              "      <td>30.55493</td>\n",
              "      <td>30.372233</td>\n",
              "    </tr>\n",
              "    <tr>\n",
              "      <th>std</th>\n",
              "      <td>717.502033</td>\n",
              "      <td>17.302279</td>\n",
              "      <td>17.367138</td>\n",
              "      <td>17.328347</td>\n",
              "      <td>17.248985</td>\n",
              "      <td>17.17453</td>\n",
              "      <td>17.173908</td>\n",
              "    </tr>\n",
              "    <tr>\n",
              "      <th>min</th>\n",
              "      <td>1.000000</td>\n",
              "      <td>1.000000</td>\n",
              "      <td>1.000000</td>\n",
              "      <td>1.000000</td>\n",
              "      <td>1.000000</td>\n",
              "      <td>1.00000</td>\n",
              "      <td>1.000000</td>\n",
              "    </tr>\n",
              "    <tr>\n",
              "      <th>25%</th>\n",
              "      <td>622.000000</td>\n",
              "      <td>16.000000</td>\n",
              "      <td>15.000000</td>\n",
              "      <td>16.000000</td>\n",
              "      <td>16.000000</td>\n",
              "      <td>15.00000</td>\n",
              "      <td>16.000000</td>\n",
              "    </tr>\n",
              "    <tr>\n",
              "      <th>50%</th>\n",
              "      <td>1243.000000</td>\n",
              "      <td>30.000000</td>\n",
              "      <td>31.000000</td>\n",
              "      <td>31.000000</td>\n",
              "      <td>31.000000</td>\n",
              "      <td>31.00000</td>\n",
              "      <td>30.000000</td>\n",
              "    </tr>\n",
              "    <tr>\n",
              "      <th>75%</th>\n",
              "      <td>1864.000000</td>\n",
              "      <td>45.000000</td>\n",
              "      <td>45.000000</td>\n",
              "      <td>45.000000</td>\n",
              "      <td>45.000000</td>\n",
              "      <td>45.00000</td>\n",
              "      <td>45.000000</td>\n",
              "    </tr>\n",
              "    <tr>\n",
              "      <th>max</th>\n",
              "      <td>2485.000000</td>\n",
              "      <td>60.000000</td>\n",
              "      <td>60.000000</td>\n",
              "      <td>60.000000</td>\n",
              "      <td>60.000000</td>\n",
              "      <td>60.00000</td>\n",
              "      <td>60.000000</td>\n",
              "    </tr>\n",
              "  </tbody>\n",
              "</table>\n",
              "</div>\n",
              "      <button class=\"colab-df-convert\" onclick=\"convertToInteractive('df-028872d4-c117-49e9-9625-9f75b501722c')\"\n",
              "              title=\"Convert this dataframe to an interactive table.\"\n",
              "              style=\"display:none;\">\n",
              "        \n",
              "  <svg xmlns=\"http://www.w3.org/2000/svg\" height=\"24px\"viewBox=\"0 0 24 24\"\n",
              "       width=\"24px\">\n",
              "    <path d=\"M0 0h24v24H0V0z\" fill=\"none\"/>\n",
              "    <path d=\"M18.56 5.44l.94 2.06.94-2.06 2.06-.94-2.06-.94-.94-2.06-.94 2.06-2.06.94zm-11 1L8.5 8.5l.94-2.06 2.06-.94-2.06-.94L8.5 2.5l-.94 2.06-2.06.94zm10 10l.94 2.06.94-2.06 2.06-.94-2.06-.94-.94-2.06-.94 2.06-2.06.94z\"/><path d=\"M17.41 7.96l-1.37-1.37c-.4-.4-.92-.59-1.43-.59-.52 0-1.04.2-1.43.59L10.3 9.45l-7.72 7.72c-.78.78-.78 2.05 0 2.83L4 21.41c.39.39.9.59 1.41.59.51 0 1.02-.2 1.41-.59l7.78-7.78 2.81-2.81c.8-.78.8-2.07 0-2.86zM5.41 20L4 18.59l7.72-7.72 1.47 1.35L5.41 20z\"/>\n",
              "  </svg>\n",
              "      </button>\n",
              "      \n",
              "  <style>\n",
              "    .colab-df-container {\n",
              "      display:flex;\n",
              "      flex-wrap:wrap;\n",
              "      gap: 12px;\n",
              "    }\n",
              "\n",
              "    .colab-df-convert {\n",
              "      background-color: #E8F0FE;\n",
              "      border: none;\n",
              "      border-radius: 50%;\n",
              "      cursor: pointer;\n",
              "      display: none;\n",
              "      fill: #1967D2;\n",
              "      height: 32px;\n",
              "      padding: 0 0 0 0;\n",
              "      width: 32px;\n",
              "    }\n",
              "\n",
              "    .colab-df-convert:hover {\n",
              "      background-color: #E2EBFA;\n",
              "      box-shadow: 0px 1px 2px rgba(60, 64, 67, 0.3), 0px 1px 3px 1px rgba(60, 64, 67, 0.15);\n",
              "      fill: #174EA6;\n",
              "    }\n",
              "\n",
              "    [theme=dark] .colab-df-convert {\n",
              "      background-color: #3B4455;\n",
              "      fill: #D2E3FC;\n",
              "    }\n",
              "\n",
              "    [theme=dark] .colab-df-convert:hover {\n",
              "      background-color: #434B5C;\n",
              "      box-shadow: 0px 1px 3px 1px rgba(0, 0, 0, 0.15);\n",
              "      filter: drop-shadow(0px 1px 2px rgba(0, 0, 0, 0.3));\n",
              "      fill: #FFFFFF;\n",
              "    }\n",
              "  </style>\n",
              "\n",
              "      <script>\n",
              "        const buttonEl =\n",
              "          document.querySelector('#df-028872d4-c117-49e9-9625-9f75b501722c button.colab-df-convert');\n",
              "        buttonEl.style.display =\n",
              "          google.colab.kernel.accessAllowed ? 'block' : 'none';\n",
              "\n",
              "        async function convertToInteractive(key) {\n",
              "          const element = document.querySelector('#df-028872d4-c117-49e9-9625-9f75b501722c');\n",
              "          const dataTable =\n",
              "            await google.colab.kernel.invokeFunction('convertToInteractive',\n",
              "                                                     [key], {});\n",
              "          if (!dataTable) return;\n",
              "\n",
              "          const docLinkHtml = 'Like what you see? Visit the ' +\n",
              "            '<a target=\"_blank\" href=https://colab.research.google.com/notebooks/data_table.ipynb>data table notebook</a>'\n",
              "            + ' to learn more about interactive tables.';\n",
              "          element.innerHTML = '';\n",
              "          dataTable['output_type'] = 'display_data';\n",
              "          await google.colab.output.renderOutput(dataTable, element);\n",
              "          const docLink = document.createElement('div');\n",
              "          docLink.innerHTML = docLinkHtml;\n",
              "          element.appendChild(docLink);\n",
              "        }\n",
              "      </script>\n",
              "    </div>\n",
              "  </div>\n",
              "  "
            ]
          },
          "metadata": {},
          "execution_count": 160
        }
      ],
      "source": [
        "mega_df.describe()"
      ]
    },
    {
      "cell_type": "code",
      "execution_count": null,
      "metadata": {
        "id": "wXq7yEJi_9zF"
      },
      "outputs": [],
      "source": [
        "mega_df.drop('lottery', inplace=True, axis=1)"
      ]
    },
    {
      "cell_type": "code",
      "source": [
        "#df.drop('date', inplace=True, axis=1)"
      ],
      "metadata": {
        "id": "RzfJicOv4j3N"
      },
      "execution_count": null,
      "outputs": []
    },
    {
      "cell_type": "code",
      "execution_count": null,
      "metadata": {
        "colab": {
          "base_uri": "https://localhost:8080/",
          "height": 238
        },
        "id": "kHj-RrWP_9zG",
        "outputId": "c2e8aeb4-8a6f-41f9-d615-9f05ac4e4c84",
        "scrolled": true
      },
      "outputs": [
        {
          "output_type": "execute_result",
          "data": {
            "text/plain": [
              "            ball_01  ball_02  ball_03  ball_04  ball_05  ball_06\n",
              "date                                                            \n",
              "1996-03-11     41.0      5.0      4.0     52.0     30.0     33.0\n",
              "1996-03-18      9.0     39.0     37.0     49.0     43.0     41.0\n",
              "1996-03-25     36.0     30.0     10.0     11.0     29.0     47.0\n",
              "1996-04-01      6.0     59.0     42.0     27.0      1.0      5.0\n",
              "1996-04-08      1.0     19.0     46.0      6.0     16.0      2.0"
            ],
            "text/html": [
              "\n",
              "  <div id=\"df-119a2496-e8a6-4764-8952-8d2ac9cc2099\">\n",
              "    <div class=\"colab-df-container\">\n",
              "      <div>\n",
              "<style scoped>\n",
              "    .dataframe tbody tr th:only-of-type {\n",
              "        vertical-align: middle;\n",
              "    }\n",
              "\n",
              "    .dataframe tbody tr th {\n",
              "        vertical-align: top;\n",
              "    }\n",
              "\n",
              "    .dataframe thead th {\n",
              "        text-align: right;\n",
              "    }\n",
              "</style>\n",
              "<table border=\"1\" class=\"dataframe\">\n",
              "  <thead>\n",
              "    <tr style=\"text-align: right;\">\n",
              "      <th></th>\n",
              "      <th>ball_01</th>\n",
              "      <th>ball_02</th>\n",
              "      <th>ball_03</th>\n",
              "      <th>ball_04</th>\n",
              "      <th>ball_05</th>\n",
              "      <th>ball_06</th>\n",
              "    </tr>\n",
              "    <tr>\n",
              "      <th>date</th>\n",
              "      <th></th>\n",
              "      <th></th>\n",
              "      <th></th>\n",
              "      <th></th>\n",
              "      <th></th>\n",
              "      <th></th>\n",
              "    </tr>\n",
              "  </thead>\n",
              "  <tbody>\n",
              "    <tr>\n",
              "      <th>1996-03-11</th>\n",
              "      <td>41.0</td>\n",
              "      <td>5.0</td>\n",
              "      <td>4.0</td>\n",
              "      <td>52.0</td>\n",
              "      <td>30.0</td>\n",
              "      <td>33.0</td>\n",
              "    </tr>\n",
              "    <tr>\n",
              "      <th>1996-03-18</th>\n",
              "      <td>9.0</td>\n",
              "      <td>39.0</td>\n",
              "      <td>37.0</td>\n",
              "      <td>49.0</td>\n",
              "      <td>43.0</td>\n",
              "      <td>41.0</td>\n",
              "    </tr>\n",
              "    <tr>\n",
              "      <th>1996-03-25</th>\n",
              "      <td>36.0</td>\n",
              "      <td>30.0</td>\n",
              "      <td>10.0</td>\n",
              "      <td>11.0</td>\n",
              "      <td>29.0</td>\n",
              "      <td>47.0</td>\n",
              "    </tr>\n",
              "    <tr>\n",
              "      <th>1996-04-01</th>\n",
              "      <td>6.0</td>\n",
              "      <td>59.0</td>\n",
              "      <td>42.0</td>\n",
              "      <td>27.0</td>\n",
              "      <td>1.0</td>\n",
              "      <td>5.0</td>\n",
              "    </tr>\n",
              "    <tr>\n",
              "      <th>1996-04-08</th>\n",
              "      <td>1.0</td>\n",
              "      <td>19.0</td>\n",
              "      <td>46.0</td>\n",
              "      <td>6.0</td>\n",
              "      <td>16.0</td>\n",
              "      <td>2.0</td>\n",
              "    </tr>\n",
              "  </tbody>\n",
              "</table>\n",
              "</div>\n",
              "      <button class=\"colab-df-convert\" onclick=\"convertToInteractive('df-119a2496-e8a6-4764-8952-8d2ac9cc2099')\"\n",
              "              title=\"Convert this dataframe to an interactive table.\"\n",
              "              style=\"display:none;\">\n",
              "        \n",
              "  <svg xmlns=\"http://www.w3.org/2000/svg\" height=\"24px\"viewBox=\"0 0 24 24\"\n",
              "       width=\"24px\">\n",
              "    <path d=\"M0 0h24v24H0V0z\" fill=\"none\"/>\n",
              "    <path d=\"M18.56 5.44l.94 2.06.94-2.06 2.06-.94-2.06-.94-.94-2.06-.94 2.06-2.06.94zm-11 1L8.5 8.5l.94-2.06 2.06-.94-2.06-.94L8.5 2.5l-.94 2.06-2.06.94zm10 10l.94 2.06.94-2.06 2.06-.94-2.06-.94-.94-2.06-.94 2.06-2.06.94z\"/><path d=\"M17.41 7.96l-1.37-1.37c-.4-.4-.92-.59-1.43-.59-.52 0-1.04.2-1.43.59L10.3 9.45l-7.72 7.72c-.78.78-.78 2.05 0 2.83L4 21.41c.39.39.9.59 1.41.59.51 0 1.02-.2 1.41-.59l7.78-7.78 2.81-2.81c.8-.78.8-2.07 0-2.86zM5.41 20L4 18.59l7.72-7.72 1.47 1.35L5.41 20z\"/>\n",
              "  </svg>\n",
              "      </button>\n",
              "      \n",
              "  <style>\n",
              "    .colab-df-container {\n",
              "      display:flex;\n",
              "      flex-wrap:wrap;\n",
              "      gap: 12px;\n",
              "    }\n",
              "\n",
              "    .colab-df-convert {\n",
              "      background-color: #E8F0FE;\n",
              "      border: none;\n",
              "      border-radius: 50%;\n",
              "      cursor: pointer;\n",
              "      display: none;\n",
              "      fill: #1967D2;\n",
              "      height: 32px;\n",
              "      padding: 0 0 0 0;\n",
              "      width: 32px;\n",
              "    }\n",
              "\n",
              "    .colab-df-convert:hover {\n",
              "      background-color: #E2EBFA;\n",
              "      box-shadow: 0px 1px 2px rgba(60, 64, 67, 0.3), 0px 1px 3px 1px rgba(60, 64, 67, 0.15);\n",
              "      fill: #174EA6;\n",
              "    }\n",
              "\n",
              "    [theme=dark] .colab-df-convert {\n",
              "      background-color: #3B4455;\n",
              "      fill: #D2E3FC;\n",
              "    }\n",
              "\n",
              "    [theme=dark] .colab-df-convert:hover {\n",
              "      background-color: #434B5C;\n",
              "      box-shadow: 0px 1px 3px 1px rgba(0, 0, 0, 0.15);\n",
              "      filter: drop-shadow(0px 1px 2px rgba(0, 0, 0, 0.3));\n",
              "      fill: #FFFFFF;\n",
              "    }\n",
              "  </style>\n",
              "\n",
              "      <script>\n",
              "        const buttonEl =\n",
              "          document.querySelector('#df-119a2496-e8a6-4764-8952-8d2ac9cc2099 button.colab-df-convert');\n",
              "        buttonEl.style.display =\n",
              "          google.colab.kernel.accessAllowed ? 'block' : 'none';\n",
              "\n",
              "        async function convertToInteractive(key) {\n",
              "          const element = document.querySelector('#df-119a2496-e8a6-4764-8952-8d2ac9cc2099');\n",
              "          const dataTable =\n",
              "            await google.colab.kernel.invokeFunction('convertToInteractive',\n",
              "                                                     [key], {});\n",
              "          if (!dataTable) return;\n",
              "\n",
              "          const docLinkHtml = 'Like what you see? Visit the ' +\n",
              "            '<a target=\"_blank\" href=https://colab.research.google.com/notebooks/data_table.ipynb>data table notebook</a>'\n",
              "            + ' to learn more about interactive tables.';\n",
              "          element.innerHTML = '';\n",
              "          dataTable['output_type'] = 'display_data';\n",
              "          await google.colab.output.renderOutput(dataTable, element);\n",
              "          const docLink = document.createElement('div');\n",
              "          docLink.innerHTML = docLinkHtml;\n",
              "          element.appendChild(docLink);\n",
              "        }\n",
              "      </script>\n",
              "    </div>\n",
              "  </div>\n",
              "  "
            ]
          },
          "metadata": {},
          "execution_count": 163
        }
      ],
      "source": [
        "mega_df.head()"
      ]
    },
    {
      "cell_type": "markdown",
      "source": [
        "A entrada tem que ser semelhantes, média de 0 e 1, redimensionando os dados"
      ],
      "metadata": {
        "id": "BrerdHAeoHSg"
      }
    },
    {
      "cell_type": "code",
      "execution_count": null,
      "metadata": {
        "id": "IFxUoUUa_9zG"
      },
      "outputs": [],
      "source": [
        "scaler = StandardScaler().fit(mega_df.values)\n",
        "transformed_dataset = scaler.transform(mega_df.values)\n",
        "transformed_mega_df = pd.DataFrame(data=transformed_dataset, index=mega_df.index)"
      ]
    },
    {
      "cell_type": "code",
      "execution_count": null,
      "metadata": {
        "colab": {
          "base_uri": "https://localhost:8080/",
          "height": 238
        },
        "id": "0nuARcYc_9zH",
        "outputId": "8dda3a1b-8051-46b2-b302-c7236a916689"
      },
      "outputs": [
        {
          "output_type": "execute_result",
          "data": {
            "text/plain": [
              "                   0         1         2         3         4         5\n",
              "date                                                                  \n",
              "1996-03-11  0.608991 -1.448527 -1.543124  1.232035 -0.032318  0.153040\n",
              "1996-03-18 -1.240849  0.509587  0.361653  1.058077  0.724769  0.618957\n",
              "1996-03-25  0.319953 -0.008737 -1.196801 -1.145395 -0.090555  0.968394\n",
              "1996-04-01 -1.414271  1.661419  0.650256 -0.217617 -1.721205 -1.477668\n",
              "1996-04-08 -1.703309 -0.642245  0.881138 -1.435325 -0.847642 -1.652387"
            ],
            "text/html": [
              "\n",
              "  <div id=\"df-1d2f3c8d-d0bb-4002-88d3-738b826f23e3\">\n",
              "    <div class=\"colab-df-container\">\n",
              "      <div>\n",
              "<style scoped>\n",
              "    .dataframe tbody tr th:only-of-type {\n",
              "        vertical-align: middle;\n",
              "    }\n",
              "\n",
              "    .dataframe tbody tr th {\n",
              "        vertical-align: top;\n",
              "    }\n",
              "\n",
              "    .dataframe thead th {\n",
              "        text-align: right;\n",
              "    }\n",
              "</style>\n",
              "<table border=\"1\" class=\"dataframe\">\n",
              "  <thead>\n",
              "    <tr style=\"text-align: right;\">\n",
              "      <th></th>\n",
              "      <th>0</th>\n",
              "      <th>1</th>\n",
              "      <th>2</th>\n",
              "      <th>3</th>\n",
              "      <th>4</th>\n",
              "      <th>5</th>\n",
              "    </tr>\n",
              "    <tr>\n",
              "      <th>date</th>\n",
              "      <th></th>\n",
              "      <th></th>\n",
              "      <th></th>\n",
              "      <th></th>\n",
              "      <th></th>\n",
              "      <th></th>\n",
              "    </tr>\n",
              "  </thead>\n",
              "  <tbody>\n",
              "    <tr>\n",
              "      <th>1996-03-11</th>\n",
              "      <td>0.608991</td>\n",
              "      <td>-1.448527</td>\n",
              "      <td>-1.543124</td>\n",
              "      <td>1.232035</td>\n",
              "      <td>-0.032318</td>\n",
              "      <td>0.153040</td>\n",
              "    </tr>\n",
              "    <tr>\n",
              "      <th>1996-03-18</th>\n",
              "      <td>-1.240849</td>\n",
              "      <td>0.509587</td>\n",
              "      <td>0.361653</td>\n",
              "      <td>1.058077</td>\n",
              "      <td>0.724769</td>\n",
              "      <td>0.618957</td>\n",
              "    </tr>\n",
              "    <tr>\n",
              "      <th>1996-03-25</th>\n",
              "      <td>0.319953</td>\n",
              "      <td>-0.008737</td>\n",
              "      <td>-1.196801</td>\n",
              "      <td>-1.145395</td>\n",
              "      <td>-0.090555</td>\n",
              "      <td>0.968394</td>\n",
              "    </tr>\n",
              "    <tr>\n",
              "      <th>1996-04-01</th>\n",
              "      <td>-1.414271</td>\n",
              "      <td>1.661419</td>\n",
              "      <td>0.650256</td>\n",
              "      <td>-0.217617</td>\n",
              "      <td>-1.721205</td>\n",
              "      <td>-1.477668</td>\n",
              "    </tr>\n",
              "    <tr>\n",
              "      <th>1996-04-08</th>\n",
              "      <td>-1.703309</td>\n",
              "      <td>-0.642245</td>\n",
              "      <td>0.881138</td>\n",
              "      <td>-1.435325</td>\n",
              "      <td>-0.847642</td>\n",
              "      <td>-1.652387</td>\n",
              "    </tr>\n",
              "  </tbody>\n",
              "</table>\n",
              "</div>\n",
              "      <button class=\"colab-df-convert\" onclick=\"convertToInteractive('df-1d2f3c8d-d0bb-4002-88d3-738b826f23e3')\"\n",
              "              title=\"Convert this dataframe to an interactive table.\"\n",
              "              style=\"display:none;\">\n",
              "        \n",
              "  <svg xmlns=\"http://www.w3.org/2000/svg\" height=\"24px\"viewBox=\"0 0 24 24\"\n",
              "       width=\"24px\">\n",
              "    <path d=\"M0 0h24v24H0V0z\" fill=\"none\"/>\n",
              "    <path d=\"M18.56 5.44l.94 2.06.94-2.06 2.06-.94-2.06-.94-.94-2.06-.94 2.06-2.06.94zm-11 1L8.5 8.5l.94-2.06 2.06-.94-2.06-.94L8.5 2.5l-.94 2.06-2.06.94zm10 10l.94 2.06.94-2.06 2.06-.94-2.06-.94-.94-2.06-.94 2.06-2.06.94z\"/><path d=\"M17.41 7.96l-1.37-1.37c-.4-.4-.92-.59-1.43-.59-.52 0-1.04.2-1.43.59L10.3 9.45l-7.72 7.72c-.78.78-.78 2.05 0 2.83L4 21.41c.39.39.9.59 1.41.59.51 0 1.02-.2 1.41-.59l7.78-7.78 2.81-2.81c.8-.78.8-2.07 0-2.86zM5.41 20L4 18.59l7.72-7.72 1.47 1.35L5.41 20z\"/>\n",
              "  </svg>\n",
              "      </button>\n",
              "      \n",
              "  <style>\n",
              "    .colab-df-container {\n",
              "      display:flex;\n",
              "      flex-wrap:wrap;\n",
              "      gap: 12px;\n",
              "    }\n",
              "\n",
              "    .colab-df-convert {\n",
              "      background-color: #E8F0FE;\n",
              "      border: none;\n",
              "      border-radius: 50%;\n",
              "      cursor: pointer;\n",
              "      display: none;\n",
              "      fill: #1967D2;\n",
              "      height: 32px;\n",
              "      padding: 0 0 0 0;\n",
              "      width: 32px;\n",
              "    }\n",
              "\n",
              "    .colab-df-convert:hover {\n",
              "      background-color: #E2EBFA;\n",
              "      box-shadow: 0px 1px 2px rgba(60, 64, 67, 0.3), 0px 1px 3px 1px rgba(60, 64, 67, 0.15);\n",
              "      fill: #174EA6;\n",
              "    }\n",
              "\n",
              "    [theme=dark] .colab-df-convert {\n",
              "      background-color: #3B4455;\n",
              "      fill: #D2E3FC;\n",
              "    }\n",
              "\n",
              "    [theme=dark] .colab-df-convert:hover {\n",
              "      background-color: #434B5C;\n",
              "      box-shadow: 0px 1px 3px 1px rgba(0, 0, 0, 0.15);\n",
              "      filter: drop-shadow(0px 1px 2px rgba(0, 0, 0, 0.3));\n",
              "      fill: #FFFFFF;\n",
              "    }\n",
              "  </style>\n",
              "\n",
              "      <script>\n",
              "        const buttonEl =\n",
              "          document.querySelector('#df-1d2f3c8d-d0bb-4002-88d3-738b826f23e3 button.colab-df-convert');\n",
              "        buttonEl.style.display =\n",
              "          google.colab.kernel.accessAllowed ? 'block' : 'none';\n",
              "\n",
              "        async function convertToInteractive(key) {\n",
              "          const element = document.querySelector('#df-1d2f3c8d-d0bb-4002-88d3-738b826f23e3');\n",
              "          const dataTable =\n",
              "            await google.colab.kernel.invokeFunction('convertToInteractive',\n",
              "                                                     [key], {});\n",
              "          if (!dataTable) return;\n",
              "\n",
              "          const docLinkHtml = 'Like what you see? Visit the ' +\n",
              "            '<a target=\"_blank\" href=https://colab.research.google.com/notebooks/data_table.ipynb>data table notebook</a>'\n",
              "            + ' to learn more about interactive tables.';\n",
              "          element.innerHTML = '';\n",
              "          dataTable['output_type'] = 'display_data';\n",
              "          await google.colab.output.renderOutput(dataTable, element);\n",
              "          const docLink = document.createElement('div');\n",
              "          docLink.innerHTML = docLinkHtml;\n",
              "          element.appendChild(docLink);\n",
              "        }\n",
              "      </script>\n",
              "    </div>\n",
              "  </div>\n",
              "  "
            ]
          },
          "metadata": {},
          "execution_count": 165
        }
      ],
      "source": [
        "transformed_mega_df.head()"
      ]
    },
    {
      "cell_type": "markdown",
      "source": [
        "Variáveis"
      ],
      "metadata": {
        "id": "sl2BwyvhozpR"
      }
    },
    {
      "cell_type": "code",
      "execution_count": null,
      "metadata": {
        "colab": {
          "base_uri": "https://localhost:8080/"
        },
        "id": "VO8P7MGA_9zI",
        "outputId": "bf50405c-1419-4c5f-fa59-0811b6028cd0"
      },
      "outputs": [
        {
          "output_type": "execute_result",
          "data": {
            "text/plain": [
              "2485"
            ]
          },
          "metadata": {},
          "execution_count": 166
        }
      ],
      "source": [
        "# Todos Sorteios\n",
        "number_of_rows = mega_df.values.shape[0]\n",
        "number_of_rows"
      ]
    },
    {
      "cell_type": "code",
      "execution_count": null,
      "metadata": {
        "colab": {
          "base_uri": "https://localhost:8080/"
        },
        "id": "w0Sy4qwI_9zI",
        "outputId": "78d42dd3-9fa8-4d7e-9cf1-42e4c7fcbd1f"
      },
      "outputs": [
        {
          "output_type": "execute_result",
          "data": {
            "text/plain": [
              "7"
            ]
          },
          "metadata": {},
          "execution_count": 167
        }
      ],
      "source": [
        "# Quantidade de jogos para a previsão\n",
        "window_length = 7\n",
        "window_length "
      ]
    },
    {
      "cell_type": "code",
      "execution_count": null,
      "metadata": {
        "colab": {
          "base_uri": "https://localhost:8080/"
        },
        "id": "rtJz-WDK_9zJ",
        "outputId": "7187b9d3-3aa2-4b35-d85a-46f55c2dc6ab"
      },
      "outputs": [
        {
          "output_type": "execute_result",
          "data": {
            "text/plain": [
              "6"
            ]
          },
          "metadata": {},
          "execution_count": 168
        }
      ],
      "source": [
        "# contagem\n",
        "number_of_features = mega_df.values.shape[1]\n",
        "number_of_features"
      ]
    },
    {
      "cell_type": "code",
      "execution_count": null,
      "metadata": {
        "id": "vOGYjTw6_9zJ"
      },
      "outputs": [],
      "source": [
        "X = np.empty([ number_of_rows - window_length, window_length, number_of_features], dtype=float)\n"
      ]
    },
    {
      "cell_type": "code",
      "execution_count": null,
      "metadata": {
        "id": "-AEtpsnR_9zK"
      },
      "outputs": [],
      "source": [
        "y = np.empty([ number_of_rows - window_length, number_of_features], dtype=float)\n"
      ]
    },
    {
      "cell_type": "markdown",
      "source": [
        "X e y dos dados modelo kerasLSTM"
      ],
      "metadata": {
        "id": "YrYGhzu7pbWX"
      }
    },
    {
      "cell_type": "code",
      "execution_count": null,
      "metadata": {
        "id": "W8Od3t8__9zK"
      },
      "outputs": [],
      "source": [
        "for i in range(0, number_of_rows-window_length):\n",
        "    X[i] = transformed_mega_df.iloc[i : i+window_length, 0 : number_of_features]\n",
        "    y[i] = transformed_mega_df.iloc[i+window_length : i+window_length+1, 0 : number_of_features]"
      ]
    },
    {
      "cell_type": "code",
      "execution_count": null,
      "metadata": {
        "colab": {
          "base_uri": "https://localhost:8080/"
        },
        "id": "tQ2DX4qm_9zL",
        "outputId": "008c6a62-c7ed-4523-e52c-d3afe0e008cf"
      },
      "outputs": [
        {
          "output_type": "execute_result",
          "data": {
            "text/plain": [
              "(2478, 7, 6)"
            ]
          },
          "metadata": {},
          "execution_count": 174
        }
      ],
      "source": [
        "X.shape"
      ]
    },
    {
      "cell_type": "code",
      "execution_count": null,
      "metadata": {
        "colab": {
          "base_uri": "https://localhost:8080/"
        },
        "id": "-e1Ialkb_9zL",
        "outputId": "0a523142-f759-4873-f187-586ba55cfdb0"
      },
      "outputs": [
        {
          "output_type": "execute_result",
          "data": {
            "text/plain": [
              "(2478, 6)"
            ]
          },
          "metadata": {},
          "execution_count": 175
        }
      ],
      "source": [
        "y.shape"
      ]
    },
    {
      "cell_type": "markdown",
      "source": [
        "Amostra em escala de 7 jogos\n",
        "\n",
        "\n"
      ],
      "metadata": {
        "id": "D1uAK4HkqobA"
      }
    },
    {
      "cell_type": "code",
      "execution_count": null,
      "metadata": {
        "colab": {
          "base_uri": "https://localhost:8080/"
        },
        "id": "Pyo51t3s_9zL",
        "outputId": "dc772d5e-2bcd-4ce7-c205-aa39a6909d00"
      },
      "outputs": [
        {
          "output_type": "execute_result",
          "data": {
            "text/plain": [
              "array([[ 0.60899083, -1.44852726, -1.54312392,  1.23203531, -0.0323177 ,\n",
              "         0.15304004],\n",
              "       [-1.24084876,  0.50958717,  0.36165334,  1.05807703,  0.72476949,\n",
              "         0.61895672],\n",
              "       [ 0.31995339, -0.00873724, -1.19680078, -1.14539452, -0.09055517,\n",
              "         0.96839423],\n",
              "       [-1.41427122,  1.66141919,  0.65025595, -0.21761702, -1.7212045 ,\n",
              "        -1.47766835],\n",
              "       [-1.70330866, -0.64224485,  0.88113804, -1.43532498, -0.84764236,\n",
              "        -1.65238711],\n",
              "       [-0.66277389,  0.56717877, -1.36996235, -1.02942233, -0.49821751,\n",
              "         0.96839423],\n",
              "       [ 1.47610314,  0.45199557, -0.56187503, -0.62351968, -1.60472955,\n",
              "        -1.47766835]])"
            ]
          },
          "metadata": {},
          "execution_count": 176
        }
      ],
      "source": [
        "X[0]"
      ]
    },
    {
      "cell_type": "code",
      "execution_count": null,
      "metadata": {
        "colab": {
          "base_uri": "https://localhost:8080/"
        },
        "id": "Ow6h9xj2_9zL",
        "outputId": "28d91720-a02b-4f1e-a8bb-5c4b17d88875"
      },
      "outputs": [
        {
          "output_type": "execute_result",
          "data": {
            "text/plain": [
              "array([ 1.30268067, -0.75742805,  0.41937386, -1.55129717,  0.9577194 ,\n",
              "        0.38599838])"
            ]
          },
          "metadata": {},
          "execution_count": 177
        }
      ],
      "source": [
        "y[0]"
      ]
    },
    {
      "cell_type": "code",
      "execution_count": null,
      "metadata": {
        "colab": {
          "base_uri": "https://localhost:8080/"
        },
        "id": "rOx-WcYz_9zM",
        "outputId": "b24c9c80-c117-4c2d-a638-45ba8811ed71"
      },
      "outputs": [
        {
          "output_type": "execute_result",
          "data": {
            "text/plain": [
              "array([[-1.24084876,  0.50958717,  0.36165334,  1.05807703,  0.72476949,\n",
              "         0.61895672],\n",
              "       [ 0.31995339, -0.00873724, -1.19680078, -1.14539452, -0.09055517,\n",
              "         0.96839423],\n",
              "       [-1.41427122,  1.66141919,  0.65025595, -0.21761702, -1.7212045 ,\n",
              "        -1.47766835],\n",
              "       [-1.70330866, -0.64224485,  0.88113804, -1.43532498, -0.84764236,\n",
              "        -1.65238711],\n",
              "       [-0.66277389,  0.56717877, -1.36996235, -1.02942233, -0.49821751,\n",
              "         0.96839423],\n",
              "       [ 1.47610314,  0.45199557, -0.56187503, -0.62351968, -1.60472955,\n",
              "        -1.47766835],\n",
              "       [ 1.30268067, -0.75742805,  0.41937386, -1.55129717,  0.9577194 ,\n",
              "         0.38599838]])"
            ]
          },
          "metadata": {},
          "execution_count": 178
        }
      ],
      "source": [
        "X[1]"
      ]
    },
    {
      "cell_type": "code",
      "execution_count": null,
      "metadata": {
        "colab": {
          "base_uri": "https://localhost:8080/"
        },
        "id": "yAnAQgdw_9zM",
        "outputId": "7254a04e-643f-4202-f4b3-e6ff91cd7b93"
      },
      "outputs": [
        {
          "output_type": "execute_result",
          "data": {
            "text/plain": [
              "array([ 1.41829565,  0.73995358,  1.45834327,  1.34800749, -1.31354217,\n",
              "        1.72550884])"
            ]
          },
          "metadata": {},
          "execution_count": 179
        }
      ],
      "source": [
        "y[1]"
      ]
    },
    {
      "cell_type": "markdown",
      "source": [
        "Modelagem iniando RNN"
      ],
      "metadata": {
        "id": "bp7BCwglrpoC"
      }
    },
    {
      "cell_type": "code",
      "execution_count": null,
      "metadata": {
        "id": "maIGJp8t_9zM"
      },
      "outputs": [],
      "source": [
        "# Recurrent Neural Netowrk (RNN) with Long Short Term Memory (LSTM)\n",
        "# Importing the Keras libraries and packages\n",
        "from keras.models import Sequential\n",
        "from keras.layers import LSTM, Dense, Bidirectional, Dropout\n",
        "batch_size = 60"
      ]
    },
    {
      "cell_type": "code",
      "execution_count": null,
      "metadata": {
        "id": "b9d815xa_9zN"
      },
      "outputs": [],
      "source": [
        "# Initialising the RNN\n",
        "model = Sequential()\n",
        "# Adding the input layer and the LSTM layer\n",
        "model.add(Bidirectional(LSTM(60,\n",
        "                        input_shape = (window_length, number_of_features),\n",
        "                        return_sequences = True)))\n",
        "# Adding a first Dropout layer\n",
        "model.add(Dropout(0.2))\n",
        "# Adding a second LSTM layer\n",
        "model.add(Bidirectional(LSTM(240,\n",
        "                        input_shape = (window_length, number_of_features),\n",
        "                        return_sequences = True)))\n",
        "# Adding a second Dropout layer\n",
        "model.add(Dropout(0.2))\n",
        "# Adding a third LSTM layer\n",
        "model.add(Bidirectional(LSTM(240,\n",
        "                        input_shape = (window_length, number_of_features),\n",
        "                        return_sequences = True)))\n",
        "# Adding a fourth LSTM layer\n",
        "model.add(Bidirectional(LSTM(240,\n",
        "                        input_shape = (window_length, number_of_features),\n",
        "                        return_sequences = False)))\n",
        "# Adding a fourth Dropout layer\n",
        "model.add(Dropout(0.2))\n",
        "# Adding the first output layer\n",
        "model.add(Dense(59))\n",
        "# Adding the last output layer\n",
        "model.add(Dense(number_of_features))"
      ]
    },
    {
      "cell_type": "code",
      "execution_count": null,
      "metadata": {
        "id": "bE0G1oQc_9zN"
      },
      "outputs": [],
      "source": [
        "from tensorflow import keras\n",
        "from tensorflow.keras.optimizers import Adam\n",
        "model.compile(optimizer=Adam(learning_rate=0.0001), loss ='mse', metrics=['accuracy'])"
      ]
    },
    {
      "cell_type": "code",
      "execution_count": null,
      "metadata": {
        "colab": {
          "base_uri": "https://localhost:8080/"
        },
        "id": "p0XPuMCI_9zN",
        "outputId": "63531b33-e36e-469e-c9cc-b40d418b1c6b"
      },
      "outputs": [
        {
          "output_type": "stream",
          "name": "stdout",
          "text": [
            "Epoch 1/300\n",
            "25/25 - 25s - loss: 1.0002 - accuracy: 0.1868 - 25s/epoch - 1s/step\n",
            "Epoch 2/300\n",
            "25/25 - 9s - loss: 0.9978 - accuracy: 0.1893 - 9s/epoch - 370ms/step\n",
            "Epoch 3/300\n",
            "25/25 - 9s - loss: 0.9968 - accuracy: 0.1812 - 9s/epoch - 366ms/step\n",
            "Epoch 4/300\n",
            "25/25 - 9s - loss: 0.9959 - accuracy: 0.1844 - 9s/epoch - 367ms/step\n",
            "Epoch 5/300\n",
            "25/25 - 9s - loss: 0.9955 - accuracy: 0.1860 - 9s/epoch - 371ms/step\n",
            "Epoch 6/300\n",
            "25/25 - 9s - loss: 0.9952 - accuracy: 0.1776 - 9s/epoch - 368ms/step\n",
            "Epoch 7/300\n",
            "25/25 - 9s - loss: 0.9944 - accuracy: 0.1860 - 9s/epoch - 370ms/step\n",
            "Epoch 8/300\n",
            "25/25 - 9s - loss: 0.9946 - accuracy: 0.1840 - 9s/epoch - 370ms/step\n",
            "Epoch 9/300\n",
            "25/25 - 9s - loss: 0.9941 - accuracy: 0.1796 - 9s/epoch - 368ms/step\n",
            "Epoch 10/300\n",
            "25/25 - 9s - loss: 0.9937 - accuracy: 0.1868 - 9s/epoch - 373ms/step\n",
            "Epoch 11/300\n",
            "25/25 - 9s - loss: 0.9934 - accuracy: 0.1848 - 9s/epoch - 371ms/step\n",
            "Epoch 12/300\n",
            "25/25 - 9s - loss: 0.9932 - accuracy: 0.1872 - 9s/epoch - 368ms/step\n",
            "Epoch 13/300\n",
            "25/25 - 9s - loss: 0.9932 - accuracy: 0.1860 - 9s/epoch - 371ms/step\n",
            "Epoch 14/300\n",
            "25/25 - 9s - loss: 0.9932 - accuracy: 0.1808 - 9s/epoch - 372ms/step\n",
            "Epoch 15/300\n",
            "25/25 - 9s - loss: 0.9922 - accuracy: 0.1921 - 9s/epoch - 369ms/step\n",
            "Epoch 16/300\n",
            "25/25 - 9s - loss: 0.9925 - accuracy: 0.1860 - 9s/epoch - 369ms/step\n",
            "Epoch 17/300\n",
            "25/25 - 9s - loss: 0.9914 - accuracy: 0.1840 - 9s/epoch - 373ms/step\n",
            "Epoch 18/300\n",
            "25/25 - 10s - loss: 0.9919 - accuracy: 0.1917 - 10s/epoch - 394ms/step\n",
            "Epoch 19/300\n",
            "25/25 - 10s - loss: 0.9905 - accuracy: 0.1860 - 10s/epoch - 411ms/step\n",
            "Epoch 20/300\n",
            "25/25 - 9s - loss: 0.9908 - accuracy: 0.1877 - 9s/epoch - 373ms/step\n",
            "Epoch 21/300\n",
            "25/25 - 9s - loss: 0.9903 - accuracy: 0.1905 - 9s/epoch - 375ms/step\n",
            "Epoch 22/300\n",
            "25/25 - 9s - loss: 0.9900 - accuracy: 0.1796 - 9s/epoch - 372ms/step\n",
            "Epoch 23/300\n",
            "25/25 - 9s - loss: 0.9901 - accuracy: 0.1913 - 9s/epoch - 375ms/step\n",
            "Epoch 24/300\n",
            "25/25 - 9s - loss: 0.9890 - accuracy: 0.1856 - 9s/epoch - 375ms/step\n",
            "Epoch 25/300\n",
            "25/25 - 9s - loss: 0.9887 - accuracy: 0.1925 - 9s/epoch - 375ms/step\n",
            "Epoch 26/300\n",
            "25/25 - 9s - loss: 0.9884 - accuracy: 0.1909 - 9s/epoch - 372ms/step\n",
            "Epoch 27/300\n",
            "25/25 - 9s - loss: 0.9881 - accuracy: 0.1860 - 9s/epoch - 373ms/step\n",
            "Epoch 28/300\n",
            "25/25 - 9s - loss: 0.9872 - accuracy: 0.1929 - 9s/epoch - 374ms/step\n",
            "Epoch 29/300\n",
            "25/25 - 9s - loss: 0.9866 - accuracy: 0.1921 - 9s/epoch - 373ms/step\n",
            "Epoch 30/300\n",
            "25/25 - 9s - loss: 0.9861 - accuracy: 0.1957 - 9s/epoch - 372ms/step\n",
            "Epoch 31/300\n",
            "25/25 - 9s - loss: 0.9856 - accuracy: 0.1913 - 9s/epoch - 372ms/step\n",
            "Epoch 32/300\n",
            "25/25 - 9s - loss: 0.9852 - accuracy: 0.1973 - 9s/epoch - 370ms/step\n",
            "Epoch 33/300\n",
            "25/25 - 9s - loss: 0.9839 - accuracy: 0.2010 - 9s/epoch - 373ms/step\n",
            "Epoch 34/300\n",
            "25/25 - 9s - loss: 0.9832 - accuracy: 0.1953 - 9s/epoch - 370ms/step\n",
            "Epoch 35/300\n",
            "25/25 - 9s - loss: 0.9827 - accuracy: 0.2127 - 9s/epoch - 370ms/step\n",
            "Epoch 36/300\n",
            "25/25 - 9s - loss: 0.9817 - accuracy: 0.1977 - 9s/epoch - 368ms/step\n",
            "Epoch 37/300\n",
            "25/25 - 9s - loss: 0.9807 - accuracy: 0.2074 - 9s/epoch - 370ms/step\n",
            "Epoch 38/300\n",
            "25/25 - 9s - loss: 0.9800 - accuracy: 0.2082 - 9s/epoch - 367ms/step\n",
            "Epoch 39/300\n",
            "25/25 - 9s - loss: 0.9804 - accuracy: 0.2014 - 9s/epoch - 370ms/step\n",
            "Epoch 40/300\n",
            "25/25 - 9s - loss: 0.9784 - accuracy: 0.2022 - 9s/epoch - 372ms/step\n",
            "Epoch 41/300\n",
            "25/25 - 9s - loss: 0.9778 - accuracy: 0.2135 - 9s/epoch - 370ms/step\n",
            "Epoch 42/300\n",
            "25/25 - 9s - loss: 0.9783 - accuracy: 0.2094 - 9s/epoch - 371ms/step\n",
            "Epoch 43/300\n",
            "25/25 - 9s - loss: 0.9765 - accuracy: 0.2147 - 9s/epoch - 372ms/step\n",
            "Epoch 44/300\n",
            "25/25 - 9s - loss: 0.9757 - accuracy: 0.2119 - 9s/epoch - 372ms/step\n",
            "Epoch 45/300\n",
            "25/25 - 9s - loss: 0.9759 - accuracy: 0.2046 - 9s/epoch - 370ms/step\n",
            "Epoch 46/300\n",
            "25/25 - 11s - loss: 0.9764 - accuracy: 0.2082 - 11s/epoch - 437ms/step\n",
            "Epoch 47/300\n",
            "25/25 - 9s - loss: 0.9738 - accuracy: 0.2074 - 9s/epoch - 371ms/step\n",
            "Epoch 48/300\n",
            "25/25 - 9s - loss: 0.9720 - accuracy: 0.2163 - 9s/epoch - 368ms/step\n",
            "Epoch 49/300\n",
            "25/25 - 9s - loss: 0.9728 - accuracy: 0.2159 - 9s/epoch - 370ms/step\n",
            "Epoch 50/300\n",
            "25/25 - 9s - loss: 0.9696 - accuracy: 0.2276 - 9s/epoch - 368ms/step\n",
            "Epoch 51/300\n",
            "25/25 - 9s - loss: 0.9695 - accuracy: 0.2175 - 9s/epoch - 368ms/step\n",
            "Epoch 52/300\n",
            "25/25 - 9s - loss: 0.9696 - accuracy: 0.2220 - 9s/epoch - 370ms/step\n",
            "Epoch 53/300\n",
            "25/25 - 9s - loss: 0.9702 - accuracy: 0.2143 - 9s/epoch - 373ms/step\n",
            "Epoch 54/300\n",
            "25/25 - 9s - loss: 0.9683 - accuracy: 0.2260 - 9s/epoch - 371ms/step\n",
            "Epoch 55/300\n",
            "25/25 - 9s - loss: 0.9673 - accuracy: 0.2135 - 9s/epoch - 371ms/step\n",
            "Epoch 56/300\n",
            "25/25 - 9s - loss: 0.9658 - accuracy: 0.2215 - 9s/epoch - 370ms/step\n",
            "Epoch 57/300\n",
            "25/25 - 9s - loss: 0.9661 - accuracy: 0.2312 - 9s/epoch - 371ms/step\n",
            "Epoch 58/300\n",
            "25/25 - 9s - loss: 0.9649 - accuracy: 0.2320 - 9s/epoch - 369ms/step\n",
            "Epoch 59/300\n",
            "25/25 - 9s - loss: 0.9657 - accuracy: 0.2248 - 9s/epoch - 374ms/step\n",
            "Epoch 60/300\n",
            "25/25 - 9s - loss: 0.9619 - accuracy: 0.2304 - 9s/epoch - 374ms/step\n",
            "Epoch 61/300\n",
            "25/25 - 9s - loss: 0.9638 - accuracy: 0.2260 - 9s/epoch - 371ms/step\n",
            "Epoch 62/300\n",
            "25/25 - 9s - loss: 0.9634 - accuracy: 0.2256 - 9s/epoch - 374ms/step\n",
            "Epoch 63/300\n",
            "25/25 - 9s - loss: 0.9615 - accuracy: 0.2276 - 9s/epoch - 369ms/step\n",
            "Epoch 64/300\n",
            "25/25 - 9s - loss: 0.9642 - accuracy: 0.2171 - 9s/epoch - 370ms/step\n",
            "Epoch 65/300\n",
            "25/25 - 9s - loss: 0.9586 - accuracy: 0.2429 - 9s/epoch - 371ms/step\n",
            "Epoch 66/300\n",
            "25/25 - 9s - loss: 0.9590 - accuracy: 0.2361 - 9s/epoch - 370ms/step\n",
            "Epoch 67/300\n",
            "25/25 - 9s - loss: 0.9610 - accuracy: 0.2401 - 9s/epoch - 370ms/step\n",
            "Epoch 68/300\n",
            "25/25 - 9s - loss: 0.9593 - accuracy: 0.2195 - 9s/epoch - 373ms/step\n",
            "Epoch 69/300\n",
            "25/25 - 9s - loss: 0.9555 - accuracy: 0.2357 - 9s/epoch - 372ms/step\n",
            "Epoch 70/300\n",
            "25/25 - 9s - loss: 0.9555 - accuracy: 0.2433 - 9s/epoch - 374ms/step\n",
            "Epoch 71/300\n",
            "25/25 - 9s - loss: 0.9566 - accuracy: 0.2337 - 9s/epoch - 372ms/step\n",
            "Epoch 72/300\n",
            "25/25 - 9s - loss: 0.9555 - accuracy: 0.2353 - 9s/epoch - 372ms/step\n",
            "Epoch 73/300\n",
            "25/25 - 9s - loss: 0.9549 - accuracy: 0.2328 - 9s/epoch - 374ms/step\n",
            "Epoch 74/300\n",
            "25/25 - 11s - loss: 0.9546 - accuracy: 0.2409 - 11s/epoch - 441ms/step\n",
            "Epoch 75/300\n",
            "25/25 - 9s - loss: 0.9520 - accuracy: 0.2450 - 9s/epoch - 373ms/step\n",
            "Epoch 76/300\n",
            "25/25 - 9s - loss: 0.9541 - accuracy: 0.2328 - 9s/epoch - 374ms/step\n",
            "Epoch 77/300\n",
            "25/25 - 9s - loss: 0.9520 - accuracy: 0.2462 - 9s/epoch - 373ms/step\n",
            "Epoch 78/300\n",
            "25/25 - 9s - loss: 0.9496 - accuracy: 0.2446 - 9s/epoch - 373ms/step\n",
            "Epoch 79/300\n",
            "25/25 - 9s - loss: 0.9516 - accuracy: 0.2466 - 9s/epoch - 373ms/step\n",
            "Epoch 80/300\n",
            "25/25 - 9s - loss: 0.9500 - accuracy: 0.2353 - 9s/epoch - 372ms/step\n",
            "Epoch 81/300\n",
            "25/25 - 9s - loss: 0.9478 - accuracy: 0.2482 - 9s/epoch - 373ms/step\n",
            "Epoch 82/300\n",
            "25/25 - 9s - loss: 0.9488 - accuracy: 0.2462 - 9s/epoch - 372ms/step\n",
            "Epoch 83/300\n",
            "25/25 - 9s - loss: 0.9485 - accuracy: 0.2498 - 9s/epoch - 374ms/step\n",
            "Epoch 84/300\n",
            "25/25 - 9s - loss: 0.9443 - accuracy: 0.2490 - 9s/epoch - 374ms/step\n",
            "Epoch 85/300\n",
            "25/25 - 9s - loss: 0.9437 - accuracy: 0.2397 - 9s/epoch - 374ms/step\n",
            "Epoch 86/300\n",
            "25/25 - 9s - loss: 0.9433 - accuracy: 0.2542 - 9s/epoch - 376ms/step\n",
            "Epoch 87/300\n",
            "25/25 - 9s - loss: 0.9450 - accuracy: 0.2437 - 9s/epoch - 375ms/step\n",
            "Epoch 88/300\n",
            "25/25 - 9s - loss: 0.9448 - accuracy: 0.2478 - 9s/epoch - 374ms/step\n",
            "Epoch 89/300\n",
            "25/25 - 9s - loss: 0.9433 - accuracy: 0.2437 - 9s/epoch - 374ms/step\n",
            "Epoch 90/300\n",
            "25/25 - 9s - loss: 0.9419 - accuracy: 0.2506 - 9s/epoch - 370ms/step\n",
            "Epoch 91/300\n",
            "25/25 - 9s - loss: 0.9396 - accuracy: 0.2437 - 9s/epoch - 374ms/step\n",
            "Epoch 92/300\n",
            "25/25 - 9s - loss: 0.9380 - accuracy: 0.2615 - 9s/epoch - 374ms/step\n",
            "Epoch 93/300\n",
            "25/25 - 9s - loss: 0.9409 - accuracy: 0.2405 - 9s/epoch - 369ms/step\n",
            "Epoch 94/300\n",
            "25/25 - 9s - loss: 0.9383 - accuracy: 0.2639 - 9s/epoch - 370ms/step\n",
            "Epoch 95/300\n",
            "25/25 - 9s - loss: 0.9366 - accuracy: 0.2474 - 9s/epoch - 373ms/step\n",
            "Epoch 96/300\n",
            "25/25 - 9s - loss: 0.9372 - accuracy: 0.2595 - 9s/epoch - 371ms/step\n",
            "Epoch 97/300\n",
            "25/25 - 9s - loss: 0.9341 - accuracy: 0.2627 - 9s/epoch - 372ms/step\n",
            "Epoch 98/300\n",
            "25/25 - 9s - loss: 0.9328 - accuracy: 0.2635 - 9s/epoch - 372ms/step\n",
            "Epoch 99/300\n",
            "25/25 - 9s - loss: 0.9352 - accuracy: 0.2688 - 9s/epoch - 371ms/step\n",
            "Epoch 100/300\n",
            "25/25 - 9s - loss: 0.9295 - accuracy: 0.2639 - 9s/epoch - 369ms/step\n",
            "Epoch 101/300\n",
            "25/25 - 9s - loss: 0.9293 - accuracy: 0.2538 - 9s/epoch - 370ms/step\n",
            "Epoch 102/300\n",
            "25/25 - 10s - loss: 0.9261 - accuracy: 0.2559 - 10s/epoch - 418ms/step\n",
            "Epoch 103/300\n",
            "25/25 - 10s - loss: 0.9286 - accuracy: 0.2554 - 10s/epoch - 387ms/step\n",
            "Epoch 104/300\n",
            "25/25 - 9s - loss: 0.9255 - accuracy: 0.2623 - 9s/epoch - 369ms/step\n",
            "Epoch 105/300\n",
            "25/25 - 9s - loss: 0.9231 - accuracy: 0.2599 - 9s/epoch - 372ms/step\n",
            "Epoch 106/300\n",
            "25/25 - 9s - loss: 0.9212 - accuracy: 0.2571 - 9s/epoch - 368ms/step\n",
            "Epoch 107/300\n",
            "25/25 - 9s - loss: 0.9214 - accuracy: 0.2534 - 9s/epoch - 370ms/step\n",
            "Epoch 108/300\n",
            "25/25 - 9s - loss: 0.9211 - accuracy: 0.2667 - 9s/epoch - 369ms/step\n",
            "Epoch 109/300\n",
            "25/25 - 9s - loss: 0.9196 - accuracy: 0.2571 - 9s/epoch - 367ms/step\n",
            "Epoch 110/300\n",
            "25/25 - 9s - loss: 0.9215 - accuracy: 0.2639 - 9s/epoch - 370ms/step\n",
            "Epoch 111/300\n",
            "25/25 - 9s - loss: 0.9187 - accuracy: 0.2575 - 9s/epoch - 370ms/step\n",
            "Epoch 112/300\n",
            "25/25 - 9s - loss: 0.9114 - accuracy: 0.2599 - 9s/epoch - 371ms/step\n",
            "Epoch 113/300\n",
            "25/25 - 9s - loss: 0.9134 - accuracy: 0.2655 - 9s/epoch - 368ms/step\n",
            "Epoch 114/300\n",
            "25/25 - 9s - loss: 0.9111 - accuracy: 0.2672 - 9s/epoch - 368ms/step\n",
            "Epoch 115/300\n",
            "25/25 - 9s - loss: 0.9073 - accuracy: 0.2655 - 9s/epoch - 369ms/step\n",
            "Epoch 116/300\n",
            "25/25 - 9s - loss: 0.9075 - accuracy: 0.2720 - 9s/epoch - 370ms/step\n",
            "Epoch 117/300\n",
            "25/25 - 9s - loss: 0.9065 - accuracy: 0.2712 - 9s/epoch - 371ms/step\n",
            "Epoch 118/300\n",
            "25/25 - 9s - loss: 0.9062 - accuracy: 0.2659 - 9s/epoch - 369ms/step\n",
            "Epoch 119/300\n",
            "25/25 - 9s - loss: 0.9049 - accuracy: 0.2716 - 9s/epoch - 368ms/step\n",
            "Epoch 120/300\n",
            "25/25 - 9s - loss: 0.9016 - accuracy: 0.2756 - 9s/epoch - 371ms/step\n",
            "Epoch 121/300\n",
            "25/25 - 9s - loss: 0.9004 - accuracy: 0.2764 - 9s/epoch - 367ms/step\n",
            "Epoch 122/300\n",
            "25/25 - 9s - loss: 0.9024 - accuracy: 0.2789 - 9s/epoch - 371ms/step\n",
            "Epoch 123/300\n",
            "25/25 - 9s - loss: 0.8951 - accuracy: 0.2805 - 9s/epoch - 372ms/step\n",
            "Epoch 124/300\n",
            "25/25 - 9s - loss: 0.8909 - accuracy: 0.2748 - 9s/epoch - 368ms/step\n",
            "Epoch 125/300\n",
            "25/25 - 9s - loss: 0.8899 - accuracy: 0.2720 - 9s/epoch - 370ms/step\n",
            "Epoch 126/300\n",
            "25/25 - 9s - loss: 0.8899 - accuracy: 0.2970 - 9s/epoch - 370ms/step\n",
            "Epoch 127/300\n",
            "25/25 - 9s - loss: 0.8903 - accuracy: 0.2833 - 9s/epoch - 369ms/step\n",
            "Epoch 128/300\n",
            "25/25 - 9s - loss: 0.8842 - accuracy: 0.2906 - 9s/epoch - 370ms/step\n",
            "Epoch 129/300\n",
            "25/25 - 9s - loss: 0.8857 - accuracy: 0.2889 - 9s/epoch - 370ms/step\n",
            "Epoch 130/300\n",
            "25/25 - 11s - loss: 0.8842 - accuracy: 0.3002 - 11s/epoch - 437ms/step\n",
            "Epoch 131/300\n",
            "25/25 - 9s - loss: 0.8827 - accuracy: 0.2893 - 9s/epoch - 372ms/step\n",
            "Epoch 132/300\n",
            "25/25 - 9s - loss: 0.8787 - accuracy: 0.2922 - 9s/epoch - 371ms/step\n",
            "Epoch 133/300\n",
            "25/25 - 9s - loss: 0.8692 - accuracy: 0.2962 - 9s/epoch - 369ms/step\n",
            "Epoch 134/300\n",
            "25/25 - 9s - loss: 0.8723 - accuracy: 0.2962 - 9s/epoch - 372ms/step\n",
            "Epoch 135/300\n",
            "25/25 - 9s - loss: 0.8730 - accuracy: 0.2926 - 9s/epoch - 368ms/step\n",
            "Epoch 136/300\n",
            "25/25 - 9s - loss: 0.8655 - accuracy: 0.2906 - 9s/epoch - 371ms/step\n",
            "Epoch 137/300\n",
            "25/25 - 9s - loss: 0.8659 - accuracy: 0.2885 - 9s/epoch - 371ms/step\n",
            "Epoch 138/300\n",
            "25/25 - 9s - loss: 0.8603 - accuracy: 0.2994 - 9s/epoch - 371ms/step\n",
            "Epoch 139/300\n",
            "25/25 - 9s - loss: 0.8596 - accuracy: 0.2962 - 9s/epoch - 370ms/step\n",
            "Epoch 140/300\n",
            "25/25 - 9s - loss: 0.8575 - accuracy: 0.2986 - 9s/epoch - 370ms/step\n",
            "Epoch 141/300\n",
            "25/25 - 9s - loss: 0.8562 - accuracy: 0.3043 - 9s/epoch - 368ms/step\n",
            "Epoch 142/300\n",
            "25/25 - 9s - loss: 0.8503 - accuracy: 0.2966 - 9s/epoch - 372ms/step\n",
            "Epoch 143/300\n",
            "25/25 - 9s - loss: 0.8456 - accuracy: 0.3172 - 9s/epoch - 370ms/step\n",
            "Epoch 144/300\n",
            "25/25 - 9s - loss: 0.8424 - accuracy: 0.3067 - 9s/epoch - 369ms/step\n",
            "Epoch 145/300\n",
            "25/25 - 9s - loss: 0.8377 - accuracy: 0.3164 - 9s/epoch - 370ms/step\n",
            "Epoch 146/300\n",
            "25/25 - 9s - loss: 0.8387 - accuracy: 0.3107 - 9s/epoch - 370ms/step\n",
            "Epoch 147/300\n",
            "25/25 - 9s - loss: 0.8353 - accuracy: 0.3188 - 9s/epoch - 369ms/step\n",
            "Epoch 148/300\n",
            "25/25 - 9s - loss: 0.8310 - accuracy: 0.3216 - 9s/epoch - 369ms/step\n",
            "Epoch 149/300\n",
            "25/25 - 9s - loss: 0.8229 - accuracy: 0.3067 - 9s/epoch - 371ms/step\n",
            "Epoch 150/300\n",
            "25/25 - 9s - loss: 0.8209 - accuracy: 0.3172 - 9s/epoch - 371ms/step\n",
            "Epoch 151/300\n",
            "25/25 - 9s - loss: 0.8230 - accuracy: 0.3103 - 9s/epoch - 371ms/step\n",
            "Epoch 152/300\n",
            "25/25 - 9s - loss: 0.8148 - accuracy: 0.3249 - 9s/epoch - 369ms/step\n",
            "Epoch 153/300\n",
            "25/25 - 9s - loss: 0.8119 - accuracy: 0.3277 - 9s/epoch - 370ms/step\n",
            "Epoch 154/300\n",
            "25/25 - 9s - loss: 0.8092 - accuracy: 0.3273 - 9s/epoch - 371ms/step\n",
            "Epoch 155/300\n",
            "25/25 - 9s - loss: 0.7984 - accuracy: 0.3430 - 9s/epoch - 374ms/step\n",
            "Epoch 156/300\n",
            "25/25 - 9s - loss: 0.7963 - accuracy: 0.3374 - 9s/epoch - 370ms/step\n",
            "Epoch 157/300\n",
            "25/25 - 9s - loss: 0.7947 - accuracy: 0.3406 - 9s/epoch - 373ms/step\n",
            "Epoch 158/300\n",
            "25/25 - 9s - loss: 0.7911 - accuracy: 0.3321 - 9s/epoch - 372ms/step\n",
            "Epoch 159/300\n",
            "25/25 - 11s - loss: 0.7846 - accuracy: 0.3317 - 11s/epoch - 433ms/step\n",
            "Epoch 160/300\n",
            "25/25 - 9s - loss: 0.7815 - accuracy: 0.3438 - 9s/epoch - 367ms/step\n",
            "Epoch 161/300\n",
            "25/25 - 9s - loss: 0.7719 - accuracy: 0.3462 - 9s/epoch - 370ms/step\n",
            "Epoch 162/300\n",
            "25/25 - 9s - loss: 0.7691 - accuracy: 0.3438 - 9s/epoch - 371ms/step\n",
            "Epoch 163/300\n",
            "25/25 - 9s - loss: 0.7628 - accuracy: 0.3535 - 9s/epoch - 370ms/step\n",
            "Epoch 164/300\n",
            "25/25 - 9s - loss: 0.7567 - accuracy: 0.3531 - 9s/epoch - 370ms/step\n",
            "Epoch 165/300\n",
            "25/25 - 9s - loss: 0.7495 - accuracy: 0.3624 - 9s/epoch - 370ms/step\n",
            "Epoch 166/300\n",
            "25/25 - 9s - loss: 0.7464 - accuracy: 0.3697 - 9s/epoch - 370ms/step\n",
            "Epoch 167/300\n",
            "25/25 - 9s - loss: 0.7463 - accuracy: 0.3559 - 9s/epoch - 369ms/step\n",
            "Epoch 168/300\n",
            "25/25 - 9s - loss: 0.7346 - accuracy: 0.3753 - 9s/epoch - 370ms/step\n",
            "Epoch 169/300\n",
            "25/25 - 9s - loss: 0.7301 - accuracy: 0.3737 - 9s/epoch - 371ms/step\n",
            "Epoch 170/300\n",
            "25/25 - 9s - loss: 0.7191 - accuracy: 0.3684 - 9s/epoch - 373ms/step\n",
            "Epoch 171/300\n",
            "25/25 - 9s - loss: 0.7181 - accuracy: 0.3797 - 9s/epoch - 375ms/step\n",
            "Epoch 172/300\n",
            "25/25 - 9s - loss: 0.7124 - accuracy: 0.3789 - 9s/epoch - 377ms/step\n",
            "Epoch 173/300\n",
            "25/25 - 9s - loss: 0.7006 - accuracy: 0.3826 - 9s/epoch - 376ms/step\n",
            "Epoch 174/300\n",
            "25/25 - 9s - loss: 0.7020 - accuracy: 0.3842 - 9s/epoch - 375ms/step\n",
            "Epoch 175/300\n",
            "25/25 - 9s - loss: 0.6897 - accuracy: 0.3951 - 9s/epoch - 376ms/step\n",
            "Epoch 176/300\n",
            "25/25 - 9s - loss: 0.6821 - accuracy: 0.4048 - 9s/epoch - 373ms/step\n",
            "Epoch 177/300\n",
            "25/25 - 9s - loss: 0.6786 - accuracy: 0.4104 - 9s/epoch - 372ms/step\n",
            "Epoch 178/300\n",
            "25/25 - 9s - loss: 0.6690 - accuracy: 0.4080 - 9s/epoch - 367ms/step\n",
            "Epoch 179/300\n",
            "25/25 - 9s - loss: 0.6628 - accuracy: 0.4040 - 9s/epoch - 370ms/step\n",
            "Epoch 180/300\n",
            "25/25 - 9s - loss: 0.6540 - accuracy: 0.4153 - 9s/epoch - 373ms/step\n",
            "Epoch 181/300\n",
            "25/25 - 9s - loss: 0.6508 - accuracy: 0.4185 - 9s/epoch - 375ms/step\n",
            "Epoch 182/300\n",
            "25/25 - 9s - loss: 0.6389 - accuracy: 0.4257 - 9s/epoch - 372ms/step\n",
            "Epoch 183/300\n",
            "25/25 - 9s - loss: 0.6351 - accuracy: 0.4262 - 9s/epoch - 374ms/step\n",
            "Epoch 184/300\n",
            "25/25 - 9s - loss: 0.6248 - accuracy: 0.4366 - 9s/epoch - 377ms/step\n",
            "Epoch 185/300\n",
            "25/25 - 9s - loss: 0.6118 - accuracy: 0.4379 - 9s/epoch - 373ms/step\n",
            "Epoch 186/300\n",
            "25/25 - 9s - loss: 0.6116 - accuracy: 0.4423 - 9s/epoch - 372ms/step\n",
            "Epoch 187/300\n",
            "25/25 - 9s - loss: 0.6000 - accuracy: 0.4395 - 9s/epoch - 372ms/step\n",
            "Epoch 188/300\n",
            "25/25 - 11s - loss: 0.5924 - accuracy: 0.4496 - 11s/epoch - 436ms/step\n",
            "Epoch 189/300\n",
            "25/25 - 9s - loss: 0.5808 - accuracy: 0.4588 - 9s/epoch - 371ms/step\n",
            "Epoch 190/300\n",
            "25/25 - 9s - loss: 0.5728 - accuracy: 0.4661 - 9s/epoch - 371ms/step\n",
            "Epoch 191/300\n",
            "25/25 - 9s - loss: 0.5624 - accuracy: 0.4701 - 9s/epoch - 368ms/step\n",
            "Epoch 192/300\n",
            "25/25 - 9s - loss: 0.5576 - accuracy: 0.4677 - 9s/epoch - 370ms/step\n",
            "Epoch 193/300\n",
            "25/25 - 9s - loss: 0.5497 - accuracy: 0.4689 - 9s/epoch - 370ms/step\n",
            "Epoch 194/300\n",
            "25/25 - 9s - loss: 0.5386 - accuracy: 0.4847 - 9s/epoch - 372ms/step\n",
            "Epoch 195/300\n",
            "25/25 - 9s - loss: 0.5288 - accuracy: 0.4778 - 9s/epoch - 371ms/step\n",
            "Epoch 196/300\n",
            "25/25 - 9s - loss: 0.5216 - accuracy: 0.4802 - 9s/epoch - 370ms/step\n",
            "Epoch 197/300\n",
            "25/25 - 9s - loss: 0.5073 - accuracy: 0.4944 - 9s/epoch - 370ms/step\n",
            "Epoch 198/300\n",
            "25/25 - 9s - loss: 0.5008 - accuracy: 0.4984 - 9s/epoch - 369ms/step\n",
            "Epoch 199/300\n",
            "25/25 - 9s - loss: 0.4943 - accuracy: 0.5056 - 9s/epoch - 369ms/step\n",
            "Epoch 200/300\n",
            "25/25 - 9s - loss: 0.4843 - accuracy: 0.5117 - 9s/epoch - 372ms/step\n",
            "Epoch 201/300\n",
            "25/25 - 9s - loss: 0.4796 - accuracy: 0.5024 - 9s/epoch - 371ms/step\n",
            "Epoch 202/300\n",
            "25/25 - 9s - loss: 0.4668 - accuracy: 0.5137 - 9s/epoch - 371ms/step\n",
            "Epoch 203/300\n",
            "25/25 - 9s - loss: 0.4584 - accuracy: 0.5101 - 9s/epoch - 370ms/step\n",
            "Epoch 204/300\n",
            "25/25 - 9s - loss: 0.4553 - accuracy: 0.5113 - 9s/epoch - 369ms/step\n",
            "Epoch 205/300\n",
            "25/25 - 9s - loss: 0.4396 - accuracy: 0.5186 - 9s/epoch - 371ms/step\n",
            "Epoch 206/300\n",
            "25/25 - 9s - loss: 0.4305 - accuracy: 0.5303 - 9s/epoch - 369ms/step\n",
            "Epoch 207/300\n",
            "25/25 - 9s - loss: 0.4254 - accuracy: 0.5416 - 9s/epoch - 373ms/step\n",
            "Epoch 208/300\n",
            "25/25 - 9s - loss: 0.4174 - accuracy: 0.5307 - 9s/epoch - 370ms/step\n",
            "Epoch 209/300\n",
            "25/25 - 9s - loss: 0.4001 - accuracy: 0.5371 - 9s/epoch - 372ms/step\n",
            "Epoch 210/300\n",
            "25/25 - 9s - loss: 0.4002 - accuracy: 0.5460 - 9s/epoch - 372ms/step\n",
            "Epoch 211/300\n",
            "25/25 - 9s - loss: 0.3866 - accuracy: 0.5605 - 9s/epoch - 373ms/step\n",
            "Epoch 212/300\n",
            "25/25 - 10s - loss: 0.3805 - accuracy: 0.5686 - 10s/epoch - 381ms/step\n",
            "Epoch 213/300\n",
            "25/25 - 9s - loss: 0.3680 - accuracy: 0.5634 - 9s/epoch - 372ms/step\n",
            "Epoch 214/300\n",
            "25/25 - 9s - loss: 0.3636 - accuracy: 0.5876 - 9s/epoch - 375ms/step\n",
            "Epoch 215/300\n",
            "25/25 - 9s - loss: 0.3573 - accuracy: 0.5658 - 9s/epoch - 376ms/step\n",
            "Epoch 216/300\n",
            "25/25 - 9s - loss: 0.3478 - accuracy: 0.5714 - 9s/epoch - 375ms/step\n",
            "Epoch 217/300\n",
            "25/25 - 9s - loss: 0.3436 - accuracy: 0.5763 - 9s/epoch - 374ms/step\n",
            "Epoch 218/300\n",
            "25/25 - 11s - loss: 0.3317 - accuracy: 0.5856 - 11s/epoch - 436ms/step\n",
            "Epoch 219/300\n",
            "25/25 - 9s - loss: 0.3263 - accuracy: 0.6061 - 9s/epoch - 373ms/step\n",
            "Epoch 220/300\n",
            "25/25 - 9s - loss: 0.3196 - accuracy: 0.6033 - 9s/epoch - 372ms/step\n",
            "Epoch 221/300\n",
            "25/25 - 9s - loss: 0.3087 - accuracy: 0.5868 - 9s/epoch - 373ms/step\n",
            "Epoch 222/300\n",
            "25/25 - 9s - loss: 0.3036 - accuracy: 0.5985 - 9s/epoch - 375ms/step\n",
            "Epoch 223/300\n",
            "25/25 - 9s - loss: 0.2981 - accuracy: 0.6166 - 9s/epoch - 373ms/step\n",
            "Epoch 224/300\n",
            "25/25 - 9s - loss: 0.2914 - accuracy: 0.6069 - 9s/epoch - 375ms/step\n",
            "Epoch 225/300\n",
            "25/25 - 9s - loss: 0.2860 - accuracy: 0.6364 - 9s/epoch - 374ms/step\n",
            "Epoch 226/300\n",
            "25/25 - 9s - loss: 0.2769 - accuracy: 0.6190 - 9s/epoch - 375ms/step\n",
            "Epoch 227/300\n",
            "25/25 - 9s - loss: 0.2709 - accuracy: 0.6215 - 9s/epoch - 375ms/step\n",
            "Epoch 228/300\n",
            "25/25 - 9s - loss: 0.2644 - accuracy: 0.6368 - 9s/epoch - 374ms/step\n",
            "Epoch 229/300\n",
            "25/25 - 9s - loss: 0.2649 - accuracy: 0.6259 - 9s/epoch - 374ms/step\n",
            "Epoch 230/300\n",
            "25/25 - 9s - loss: 0.2532 - accuracy: 0.6376 - 9s/epoch - 374ms/step\n",
            "Epoch 231/300\n",
            "25/25 - 9s - loss: 0.2477 - accuracy: 0.6429 - 9s/epoch - 375ms/step\n",
            "Epoch 232/300\n",
            "25/25 - 9s - loss: 0.2471 - accuracy: 0.6368 - 9s/epoch - 375ms/step\n",
            "Epoch 233/300\n",
            "25/25 - 9s - loss: 0.2388 - accuracy: 0.6457 - 9s/epoch - 376ms/step\n",
            "Epoch 234/300\n",
            "25/25 - 9s - loss: 0.2301 - accuracy: 0.6308 - 9s/epoch - 378ms/step\n",
            "Epoch 235/300\n",
            "25/25 - 9s - loss: 0.2288 - accuracy: 0.6392 - 9s/epoch - 377ms/step\n",
            "Epoch 236/300\n",
            "25/25 - 10s - loss: 0.2259 - accuracy: 0.6429 - 10s/epoch - 408ms/step\n",
            "Epoch 237/300\n",
            "25/25 - 10s - loss: 0.2167 - accuracy: 0.6626 - 10s/epoch - 406ms/step\n",
            "Epoch 238/300\n",
            "25/25 - 10s - loss: 0.2121 - accuracy: 0.6735 - 10s/epoch - 398ms/step\n",
            "Epoch 239/300\n",
            "25/25 - 10s - loss: 0.2137 - accuracy: 0.6820 - 10s/epoch - 413ms/step\n",
            "Epoch 240/300\n",
            "25/25 - 10s - loss: 0.2017 - accuracy: 0.6642 - 10s/epoch - 406ms/step\n",
            "Epoch 241/300\n",
            "25/25 - 10s - loss: 0.2020 - accuracy: 0.6953 - 10s/epoch - 402ms/step\n",
            "Epoch 242/300\n",
            "25/25 - 10s - loss: 0.2005 - accuracy: 0.6671 - 10s/epoch - 401ms/step\n",
            "Epoch 243/300\n",
            "25/25 - 10s - loss: 0.1896 - accuracy: 0.6659 - 10s/epoch - 381ms/step\n",
            "Epoch 244/300\n",
            "25/25 - 9s - loss: 0.1901 - accuracy: 0.6872 - 9s/epoch - 378ms/step\n",
            "Epoch 245/300\n",
            "25/25 - 10s - loss: 0.1870 - accuracy: 0.6824 - 10s/epoch - 380ms/step\n",
            "Epoch 246/300\n",
            "25/25 - 9s - loss: 0.1866 - accuracy: 0.6856 - 9s/epoch - 375ms/step\n",
            "Epoch 247/300\n",
            "25/25 - 11s - loss: 0.1822 - accuracy: 0.6957 - 11s/epoch - 440ms/step\n",
            "Epoch 248/300\n",
            "25/25 - 9s - loss: 0.1790 - accuracy: 0.6844 - 9s/epoch - 377ms/step\n",
            "Epoch 249/300\n",
            "25/25 - 9s - loss: 0.1729 - accuracy: 0.7046 - 9s/epoch - 373ms/step\n",
            "Epoch 250/300\n",
            "25/25 - 9s - loss: 0.1667 - accuracy: 0.7058 - 9s/epoch - 375ms/step\n",
            "Epoch 251/300\n",
            "25/25 - 9s - loss: 0.1666 - accuracy: 0.6941 - 9s/epoch - 380ms/step\n",
            "Epoch 252/300\n",
            "25/25 - 9s - loss: 0.1647 - accuracy: 0.7018 - 9s/epoch - 377ms/step\n",
            "Epoch 253/300\n",
            "25/25 - 9s - loss: 0.1642 - accuracy: 0.7002 - 9s/epoch - 376ms/step\n",
            "Epoch 254/300\n",
            "25/25 - 9s - loss: 0.1629 - accuracy: 0.7022 - 9s/epoch - 376ms/step\n",
            "Epoch 255/300\n",
            "25/25 - 9s - loss: 0.1557 - accuracy: 0.7070 - 9s/epoch - 377ms/step\n",
            "Epoch 256/300\n",
            "25/25 - 9s - loss: 0.1550 - accuracy: 0.7082 - 9s/epoch - 375ms/step\n",
            "Epoch 257/300\n",
            "25/25 - 9s - loss: 0.1522 - accuracy: 0.7058 - 9s/epoch - 377ms/step\n",
            "Epoch 258/300\n",
            "25/25 - 10s - loss: 0.1512 - accuracy: 0.7207 - 10s/epoch - 389ms/step\n",
            "Epoch 259/300\n",
            "25/25 - 9s - loss: 0.1485 - accuracy: 0.7082 - 9s/epoch - 375ms/step\n",
            "Epoch 260/300\n",
            "25/25 - 9s - loss: 0.1444 - accuracy: 0.7171 - 9s/epoch - 376ms/step\n",
            "Epoch 261/300\n",
            "25/25 - 9s - loss: 0.1419 - accuracy: 0.7300 - 9s/epoch - 375ms/step\n",
            "Epoch 262/300\n",
            "25/25 - 9s - loss: 0.1408 - accuracy: 0.7187 - 9s/epoch - 376ms/step\n",
            "Epoch 263/300\n",
            "25/25 - 9s - loss: 0.1386 - accuracy: 0.7143 - 9s/epoch - 374ms/step\n",
            "Epoch 264/300\n",
            "25/25 - 10s - loss: 0.1367 - accuracy: 0.7252 - 10s/epoch - 381ms/step\n",
            "Epoch 265/300\n",
            "25/25 - 9s - loss: 0.1354 - accuracy: 0.7276 - 9s/epoch - 379ms/step\n",
            "Epoch 266/300\n",
            "25/25 - 10s - loss: 0.1326 - accuracy: 0.7421 - 10s/epoch - 383ms/step\n",
            "Epoch 267/300\n",
            "25/25 - 10s - loss: 0.1297 - accuracy: 0.7393 - 10s/epoch - 388ms/step\n",
            "Epoch 268/300\n",
            "25/25 - 10s - loss: 0.1283 - accuracy: 0.7272 - 10s/epoch - 383ms/step\n",
            "Epoch 269/300\n",
            "25/25 - 10s - loss: 0.1302 - accuracy: 0.7320 - 10s/epoch - 398ms/step\n",
            "Epoch 270/300\n",
            "25/25 - 10s - loss: 0.1289 - accuracy: 0.7474 - 10s/epoch - 382ms/step\n",
            "Epoch 271/300\n",
            "25/25 - 9s - loss: 0.1238 - accuracy: 0.7349 - 9s/epoch - 378ms/step\n",
            "Epoch 272/300\n",
            "25/25 - 9s - loss: 0.1219 - accuracy: 0.7361 - 9s/epoch - 378ms/step\n",
            "Epoch 273/300\n",
            "25/25 - 10s - loss: 0.1204 - accuracy: 0.7478 - 10s/epoch - 381ms/step\n",
            "Epoch 274/300\n",
            "25/25 - 10s - loss: 0.1192 - accuracy: 0.7320 - 10s/epoch - 391ms/step\n",
            "Epoch 275/300\n",
            "25/25 - 11s - loss: 0.1184 - accuracy: 0.7494 - 11s/epoch - 440ms/step\n",
            "Epoch 276/300\n",
            "25/25 - 9s - loss: 0.1184 - accuracy: 0.7454 - 9s/epoch - 371ms/step\n",
            "Epoch 277/300\n",
            "25/25 - 9s - loss: 0.1128 - accuracy: 0.7486 - 9s/epoch - 373ms/step\n",
            "Epoch 278/300\n",
            "25/25 - 9s - loss: 0.1123 - accuracy: 0.7486 - 9s/epoch - 373ms/step\n",
            "Epoch 279/300\n",
            "25/25 - 9s - loss: 0.1129 - accuracy: 0.7429 - 9s/epoch - 375ms/step\n",
            "Epoch 280/300\n",
            "25/25 - 9s - loss: 0.1142 - accuracy: 0.7510 - 9s/epoch - 374ms/step\n",
            "Epoch 281/300\n",
            "25/25 - 9s - loss: 0.1111 - accuracy: 0.7454 - 9s/epoch - 370ms/step\n",
            "Epoch 282/300\n",
            "25/25 - 9s - loss: 0.1087 - accuracy: 0.7450 - 9s/epoch - 374ms/step\n",
            "Epoch 283/300\n",
            "25/25 - 9s - loss: 0.1088 - accuracy: 0.7542 - 9s/epoch - 374ms/step\n",
            "Epoch 284/300\n",
            "25/25 - 9s - loss: 0.1087 - accuracy: 0.7692 - 9s/epoch - 374ms/step\n",
            "Epoch 285/300\n",
            "25/25 - 9s - loss: 0.1074 - accuracy: 0.7518 - 9s/epoch - 377ms/step\n",
            "Epoch 286/300\n",
            "25/25 - 9s - loss: 0.1050 - accuracy: 0.7696 - 9s/epoch - 372ms/step\n",
            "Epoch 287/300\n",
            "25/25 - 9s - loss: 0.1048 - accuracy: 0.7559 - 9s/epoch - 374ms/step\n",
            "Epoch 288/300\n",
            "25/25 - 9s - loss: 0.1020 - accuracy: 0.7526 - 9s/epoch - 377ms/step\n",
            "Epoch 289/300\n",
            "25/25 - 10s - loss: 0.1003 - accuracy: 0.7559 - 10s/epoch - 380ms/step\n",
            "Epoch 290/300\n",
            "25/25 - 9s - loss: 0.1007 - accuracy: 0.7538 - 9s/epoch - 375ms/step\n",
            "Epoch 291/300\n",
            "25/25 - 9s - loss: 0.1002 - accuracy: 0.7450 - 9s/epoch - 379ms/step\n",
            "Epoch 292/300\n",
            "25/25 - 9s - loss: 0.1019 - accuracy: 0.7627 - 9s/epoch - 375ms/step\n",
            "Epoch 293/300\n",
            "25/25 - 9s - loss: 0.1005 - accuracy: 0.7486 - 9s/epoch - 374ms/step\n",
            "Epoch 294/300\n",
            "25/25 - 9s - loss: 0.0954 - accuracy: 0.7546 - 9s/epoch - 374ms/step\n",
            "Epoch 295/300\n",
            "25/25 - 9s - loss: 0.0972 - accuracy: 0.7546 - 9s/epoch - 376ms/step\n",
            "Epoch 296/300\n",
            "25/25 - 9s - loss: 0.0956 - accuracy: 0.7603 - 9s/epoch - 375ms/step\n",
            "Epoch 297/300\n",
            "25/25 - 9s - loss: 0.0965 - accuracy: 0.7667 - 9s/epoch - 375ms/step\n",
            "Epoch 298/300\n",
            "25/25 - 9s - loss: 0.0924 - accuracy: 0.7785 - 9s/epoch - 376ms/step\n",
            "Epoch 299/300\n",
            "25/25 - 9s - loss: 0.0926 - accuracy: 0.7797 - 9s/epoch - 376ms/step\n",
            "Epoch 300/300\n",
            "25/25 - 9s - loss: 0.0922 - accuracy: 0.7732 - 9s/epoch - 373ms/step\n"
          ]
        },
        {
          "output_type": "execute_result",
          "data": {
            "text/plain": [
              "<keras.callbacks.History at 0x7f5eb0443ed0>"
            ]
          },
          "metadata": {},
          "execution_count": 183
        }
      ],
      "source": [
        "model.fit(x=X, y=y, batch_size=100, epochs=300, verbose=2)"
      ]
    },
    {
      "cell_type": "markdown",
      "source": [
        "Resultado do 100 ultimos jogos da Mega-Sena"
      ],
      "metadata": {
        "id": "Hz0uNOe_sYVZ"
      }
    },
    {
      "cell_type": "code",
      "execution_count": null,
      "metadata": {
        "id": "Jt2Btz2P_9zO"
      },
      "outputs": [],
      "source": [
        "mega_df_predicit = mega_df.tail(6)\n",
        "\n"
      ]
    },
    {
      "cell_type": "code",
      "source": [
        "mega_df_predicit.drop([mega_df_predicit.index[-1]],axis=0, inplace=True)\n",
        "mega_df_predicit"
      ],
      "metadata": {
        "id": "Rpzc6GpIs0EC"
      },
      "execution_count": null,
      "outputs": []
    },
    {
      "cell_type": "code",
      "source": [
        "prediction = mega_df.tail(1)\n",
        "prediction"
      ],
      "metadata": {
        "colab": {
          "base_uri": "https://localhost:8080/",
          "height": 112
        },
        "id": "NCp8ih4Gta-W",
        "outputId": "2e4b0281-1641-4b59-e8bd-6297703c4bf8"
      },
      "execution_count": null,
      "outputs": [
        {
          "output_type": "execute_result",
          "data": {
            "text/plain": [
              "            ball_01  ball_02  ball_03  ball_04  ball_05  ball_06\n",
              "date                                                            \n",
              "2022-05-28     60.0     12.0     38.0     47.0      5.0     32.0"
            ],
            "text/html": [
              "\n",
              "  <div id=\"df-c64ad0fc-2d1e-4ad8-9696-7c87b6eaffed\">\n",
              "    <div class=\"colab-df-container\">\n",
              "      <div>\n",
              "<style scoped>\n",
              "    .dataframe tbody tr th:only-of-type {\n",
              "        vertical-align: middle;\n",
              "    }\n",
              "\n",
              "    .dataframe tbody tr th {\n",
              "        vertical-align: top;\n",
              "    }\n",
              "\n",
              "    .dataframe thead th {\n",
              "        text-align: right;\n",
              "    }\n",
              "</style>\n",
              "<table border=\"1\" class=\"dataframe\">\n",
              "  <thead>\n",
              "    <tr style=\"text-align: right;\">\n",
              "      <th></th>\n",
              "      <th>ball_01</th>\n",
              "      <th>ball_02</th>\n",
              "      <th>ball_03</th>\n",
              "      <th>ball_04</th>\n",
              "      <th>ball_05</th>\n",
              "      <th>ball_06</th>\n",
              "    </tr>\n",
              "    <tr>\n",
              "      <th>date</th>\n",
              "      <th></th>\n",
              "      <th></th>\n",
              "      <th></th>\n",
              "      <th></th>\n",
              "      <th></th>\n",
              "      <th></th>\n",
              "    </tr>\n",
              "  </thead>\n",
              "  <tbody>\n",
              "    <tr>\n",
              "      <th>2022-05-28</th>\n",
              "      <td>60.0</td>\n",
              "      <td>12.0</td>\n",
              "      <td>38.0</td>\n",
              "      <td>47.0</td>\n",
              "      <td>5.0</td>\n",
              "      <td>32.0</td>\n",
              "    </tr>\n",
              "  </tbody>\n",
              "</table>\n",
              "</div>\n",
              "      <button class=\"colab-df-convert\" onclick=\"convertToInteractive('df-c64ad0fc-2d1e-4ad8-9696-7c87b6eaffed')\"\n",
              "              title=\"Convert this dataframe to an interactive table.\"\n",
              "              style=\"display:none;\">\n",
              "        \n",
              "  <svg xmlns=\"http://www.w3.org/2000/svg\" height=\"24px\"viewBox=\"0 0 24 24\"\n",
              "       width=\"24px\">\n",
              "    <path d=\"M0 0h24v24H0V0z\" fill=\"none\"/>\n",
              "    <path d=\"M18.56 5.44l.94 2.06.94-2.06 2.06-.94-2.06-.94-.94-2.06-.94 2.06-2.06.94zm-11 1L8.5 8.5l.94-2.06 2.06-.94-2.06-.94L8.5 2.5l-.94 2.06-2.06.94zm10 10l.94 2.06.94-2.06 2.06-.94-2.06-.94-.94-2.06-.94 2.06-2.06.94z\"/><path d=\"M17.41 7.96l-1.37-1.37c-.4-.4-.92-.59-1.43-.59-.52 0-1.04.2-1.43.59L10.3 9.45l-7.72 7.72c-.78.78-.78 2.05 0 2.83L4 21.41c.39.39.9.59 1.41.59.51 0 1.02-.2 1.41-.59l7.78-7.78 2.81-2.81c.8-.78.8-2.07 0-2.86zM5.41 20L4 18.59l7.72-7.72 1.47 1.35L5.41 20z\"/>\n",
              "  </svg>\n",
              "      </button>\n",
              "      \n",
              "  <style>\n",
              "    .colab-df-container {\n",
              "      display:flex;\n",
              "      flex-wrap:wrap;\n",
              "      gap: 12px;\n",
              "    }\n",
              "\n",
              "    .colab-df-convert {\n",
              "      background-color: #E8F0FE;\n",
              "      border: none;\n",
              "      border-radius: 50%;\n",
              "      cursor: pointer;\n",
              "      display: none;\n",
              "      fill: #1967D2;\n",
              "      height: 32px;\n",
              "      padding: 0 0 0 0;\n",
              "      width: 32px;\n",
              "    }\n",
              "\n",
              "    .colab-df-convert:hover {\n",
              "      background-color: #E2EBFA;\n",
              "      box-shadow: 0px 1px 2px rgba(60, 64, 67, 0.3), 0px 1px 3px 1px rgba(60, 64, 67, 0.15);\n",
              "      fill: #174EA6;\n",
              "    }\n",
              "\n",
              "    [theme=dark] .colab-df-convert {\n",
              "      background-color: #3B4455;\n",
              "      fill: #D2E3FC;\n",
              "    }\n",
              "\n",
              "    [theme=dark] .colab-df-convert:hover {\n",
              "      background-color: #434B5C;\n",
              "      box-shadow: 0px 1px 3px 1px rgba(0, 0, 0, 0.15);\n",
              "      filter: drop-shadow(0px 1px 2px rgba(0, 0, 0, 0.3));\n",
              "      fill: #FFFFFF;\n",
              "    }\n",
              "  </style>\n",
              "\n",
              "      <script>\n",
              "        const buttonEl =\n",
              "          document.querySelector('#df-c64ad0fc-2d1e-4ad8-9696-7c87b6eaffed button.colab-df-convert');\n",
              "        buttonEl.style.display =\n",
              "          google.colab.kernel.accessAllowed ? 'block' : 'none';\n",
              "\n",
              "        async function convertToInteractive(key) {\n",
              "          const element = document.querySelector('#df-c64ad0fc-2d1e-4ad8-9696-7c87b6eaffed');\n",
              "          const dataTable =\n",
              "            await google.colab.kernel.invokeFunction('convertToInteractive',\n",
              "                                                     [key], {});\n",
              "          if (!dataTable) return;\n",
              "\n",
              "          const docLinkHtml = 'Like what you see? Visit the ' +\n",
              "            '<a target=\"_blank\" href=https://colab.research.google.com/notebooks/data_table.ipynb>data table notebook</a>'\n",
              "            + ' to learn more about interactive tables.';\n",
              "          element.innerHTML = '';\n",
              "          dataTable['output_type'] = 'display_data';\n",
              "          await google.colab.output.renderOutput(dataTable, element);\n",
              "          const docLink = document.createElement('div');\n",
              "          docLink.innerHTML = docLinkHtml;\n",
              "          element.appendChild(docLink);\n",
              "        }\n",
              "      </script>\n",
              "    </div>\n",
              "  </div>\n",
              "  "
            ]
          },
          "metadata": {},
          "execution_count": 194
        }
      ]
    },
    {
      "cell_type": "code",
      "execution_count": null,
      "metadata": {
        "colab": {
          "base_uri": "https://localhost:8080/"
        },
        "id": "YG4U8by7_9zO",
        "outputId": "4fdf44ac-922a-4b2b-ff8a-9a6840b39f82"
      },
      "outputs": [
        {
          "output_type": "execute_result",
          "data": {
            "text/plain": [
              "array([[31., 56.,  6.,  4., 50.,  9.],\n",
              "       [ 1., 37., 36., 21.,  8., 27.],\n",
              "       [32.,  1., 57., 44., 35., 45.],\n",
              "       [54., 49., 34., 38., 40., 20.],\n",
              "       [59., 36., 41., 54., 14., 11.]])"
            ]
          },
          "metadata": {},
          "execution_count": 195
        }
      ],
      "source": [
        "mega_df_predicit = np.array(mega_df_predicit)\n",
        "mega_df_predicit"
      ]
    },
    {
      "cell_type": "code",
      "execution_count": null,
      "metadata": {
        "id": "H5frjfOID1el",
        "colab": {
          "base_uri": "https://localhost:8080/"
        },
        "outputId": "0b93b17e-f21f-4303-b502-0f7b6df12746"
      },
      "outputs": [
        {
          "output_type": "execute_result",
          "data": {
            "text/plain": [
              "array([[ 0.03091596,  1.48864439, -1.42768287, -1.55129717,  1.13243182,\n",
              "        -1.24471001],\n",
              "       [-1.70330866,  0.39440397,  0.30393281, -0.56553358, -1.31354217,\n",
              "        -0.19639747],\n",
              "       [ 0.08872344, -1.67889367,  1.51606379,  0.76814656,  0.25886968,\n",
              "         0.85191506],\n",
              "       [ 1.36048816,  1.08550318,  0.18849177,  0.42023   ,  0.55005706,\n",
              "        -0.60407457],\n",
              "       [ 1.6495256 ,  0.33681237,  0.59253543,  1.34800749, -0.96411732,\n",
              "        -1.12823084]])"
            ]
          },
          "metadata": {},
          "execution_count": 196
        }
      ],
      "source": [
        "scaled_to_predict = scaler.transform(mega_df_predicit)\n",
        "scaled_to_predict\n"
      ]
    },
    {
      "cell_type": "code",
      "execution_count": null,
      "metadata": {
        "colab": {
          "base_uri": "https://localhost:8080/"
        },
        "id": "hD3arI-s_9zO",
        "outputId": "df453cec-bcec-45d0-dd3e-a3b18822620b"
      },
      "outputs": [
        {
          "output_type": "stream",
          "name": "stdout",
          "text": [
            "Numeros previstos: [24 27 32 32 21 36]\n"
          ]
        }
      ],
      "source": [
        "y_pred = model.predict(np.array([scaled_to_predict]))\n",
        "resulta=scaler.inverse_transform(y_pred).astype(int)[0]\n",
        "#print(\"Numeros previstos:\", scaler.inverse_transform(y_pred).astype(int)[0])\n",
        "print(\"Numeros previstos:\", resulta)\n",
        "\n"
      ]
    },
    {
      "cell_type": "code",
      "execution_count": null,
      "metadata": {
        "colab": {
          "base_uri": "https://localhost:8080/"
        },
        "id": "Rz6nBsxV_9zP",
        "outputId": "f573bdea-fbce-43da-b456-54e2b3721794"
      },
      "outputs": [
        {
          "output_type": "stream",
          "name": "stdout",
          "text": [
            "Numeros sorteados: [21. 10. 35. 20. 17. 15.]\n"
          ]
        }
      ],
      "source": [
        "prediction = mega_df.tail(7)\n",
        "prediction = np.array(prediction)\n",
        "prediction_final = prediction[0]\n",
        "print(\"Numeros sorteados:\", prediction_final)"
      ]
    }
  ],
  "metadata": {
    "accelerator": "GPU",
    "colab": {
      "collapsed_sections": [],
      "name": "AMMStensorFlowKerasF.ipynb",
      "provenance": [],
      "include_colab_link": true
    },
    "kernelspec": {
      "display_name": "Python 3",
      "language": "python",
      "name": "python3"
    },
    "language_info": {
      "codemirror_mode": {
        "name": "ipython",
        "version": 3
      },
      "file_extension": ".py",
      "mimetype": "text/x-python",
      "name": "python",
      "nbconvert_exporter": "python",
      "pygments_lexer": "ipython3",
      "version": "3.7.4"
    }
  },
  "nbformat": 4,
  "nbformat_minor": 0
}