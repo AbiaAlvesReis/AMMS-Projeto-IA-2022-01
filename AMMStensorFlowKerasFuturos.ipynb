{
  "cells": [
    {
      "cell_type": "markdown",
      "metadata": {
        "id": "view-in-github",
        "colab_type": "text"
      },
      "source": [
        "<a href=\"https://colab.research.google.com/github/AbiaAlvesReis/Projeto-IA-2022-01/blob/main/AMMStensorFlowKerasFuturos.ipynb\" target=\"_parent\"><img src=\"https://colab.research.google.com/assets/colab-badge.svg\" alt=\"Open In Colab\"/></a>"
      ]
    },
    {
      "cell_type": "code",
      "execution_count": 30,
      "metadata": {
        "id": "cqI3K4Z1_9y_",
        "colab": {
          "base_uri": "https://localhost:8080/"
        },
        "outputId": "aff5bd3c-49d8-4ff6-d473-7dfbf27b59a4"
      },
      "outputs": [
        {
          "output_type": "stream",
          "name": "stdout",
          "text": [
            "Drive already mounted at /content/drive; to attempt to forcibly remount, call drive.mount(\"/content/drive\", force_remount=True).\n"
          ]
        }
      ],
      "source": [
        "# Import everything\n",
        "import numpy as np\n",
        "import pandas as pd\n",
        "from sklearn.preprocessing import StandardScaler\n",
        "import matplotlib.pyplot as plt\n",
        "import seaborn as sns\n",
        "%matplotlib inline\n",
        "\n",
        "from sklearn.preprocessing import StandardScaler\n",
        "from google.colab import drive\n",
        "\n",
        "drive.mount('/content/drive')"
      ]
    },
    {
      "cell_type": "code",
      "source": [
        "# Create a DataFrame\n",
        "mega_df = pd.read_excel('/content/drive/MyDrive/Colab Notebooks/dados testes /mega.xlsx', parse_dates=True, index_col=1)"
      ],
      "metadata": {
        "id": "SbUZAI-o3gWp"
      },
      "execution_count": 31,
      "outputs": []
    },
    {
      "cell_type": "code",
      "source": [
        ""
      ],
      "metadata": {
        "id": "T2gS_gyl9AhV"
      },
      "execution_count": 2,
      "outputs": []
    },
    {
      "cell_type": "code",
      "execution_count": 32,
      "metadata": {
        "colab": {
          "base_uri": "https://localhost:8080/",
          "height": 238
        },
        "id": "gDHVObV5A_Tt",
        "outputId": "1aa46784-8458-4f6c-b51b-e934b7a82b66"
      },
      "outputs": [
        {
          "output_type": "execute_result",
          "data": {
            "text/plain": [
              "            lottery  ball_01  ball_02  ball_03  ball_04  ball_05  ball_06\n",
              "date                                                                     \n",
              "1996-03-11      1.0     41.0      5.0      4.0     52.0     30.0     33.0\n",
              "1996-03-18      2.0      9.0     39.0     37.0     49.0     43.0     41.0\n",
              "1996-03-25      3.0     36.0     30.0     10.0     11.0     29.0     47.0\n",
              "1996-04-01      4.0      6.0     59.0     42.0     27.0      1.0      5.0\n",
              "1996-04-08      5.0      1.0     19.0     46.0      6.0     16.0      2.0"
            ],
            "text/html": [
              "\n",
              "  <div id=\"df-60f8496b-4d83-4ee9-a25c-53c264011728\">\n",
              "    <div class=\"colab-df-container\">\n",
              "      <div>\n",
              "<style scoped>\n",
              "    .dataframe tbody tr th:only-of-type {\n",
              "        vertical-align: middle;\n",
              "    }\n",
              "\n",
              "    .dataframe tbody tr th {\n",
              "        vertical-align: top;\n",
              "    }\n",
              "\n",
              "    .dataframe thead th {\n",
              "        text-align: right;\n",
              "    }\n",
              "</style>\n",
              "<table border=\"1\" class=\"dataframe\">\n",
              "  <thead>\n",
              "    <tr style=\"text-align: right;\">\n",
              "      <th></th>\n",
              "      <th>lottery</th>\n",
              "      <th>ball_01</th>\n",
              "      <th>ball_02</th>\n",
              "      <th>ball_03</th>\n",
              "      <th>ball_04</th>\n",
              "      <th>ball_05</th>\n",
              "      <th>ball_06</th>\n",
              "    </tr>\n",
              "    <tr>\n",
              "      <th>date</th>\n",
              "      <th></th>\n",
              "      <th></th>\n",
              "      <th></th>\n",
              "      <th></th>\n",
              "      <th></th>\n",
              "      <th></th>\n",
              "      <th></th>\n",
              "    </tr>\n",
              "  </thead>\n",
              "  <tbody>\n",
              "    <tr>\n",
              "      <th>1996-03-11</th>\n",
              "      <td>1.0</td>\n",
              "      <td>41.0</td>\n",
              "      <td>5.0</td>\n",
              "      <td>4.0</td>\n",
              "      <td>52.0</td>\n",
              "      <td>30.0</td>\n",
              "      <td>33.0</td>\n",
              "    </tr>\n",
              "    <tr>\n",
              "      <th>1996-03-18</th>\n",
              "      <td>2.0</td>\n",
              "      <td>9.0</td>\n",
              "      <td>39.0</td>\n",
              "      <td>37.0</td>\n",
              "      <td>49.0</td>\n",
              "      <td>43.0</td>\n",
              "      <td>41.0</td>\n",
              "    </tr>\n",
              "    <tr>\n",
              "      <th>1996-03-25</th>\n",
              "      <td>3.0</td>\n",
              "      <td>36.0</td>\n",
              "      <td>30.0</td>\n",
              "      <td>10.0</td>\n",
              "      <td>11.0</td>\n",
              "      <td>29.0</td>\n",
              "      <td>47.0</td>\n",
              "    </tr>\n",
              "    <tr>\n",
              "      <th>1996-04-01</th>\n",
              "      <td>4.0</td>\n",
              "      <td>6.0</td>\n",
              "      <td>59.0</td>\n",
              "      <td>42.0</td>\n",
              "      <td>27.0</td>\n",
              "      <td>1.0</td>\n",
              "      <td>5.0</td>\n",
              "    </tr>\n",
              "    <tr>\n",
              "      <th>1996-04-08</th>\n",
              "      <td>5.0</td>\n",
              "      <td>1.0</td>\n",
              "      <td>19.0</td>\n",
              "      <td>46.0</td>\n",
              "      <td>6.0</td>\n",
              "      <td>16.0</td>\n",
              "      <td>2.0</td>\n",
              "    </tr>\n",
              "  </tbody>\n",
              "</table>\n",
              "</div>\n",
              "      <button class=\"colab-df-convert\" onclick=\"convertToInteractive('df-60f8496b-4d83-4ee9-a25c-53c264011728')\"\n",
              "              title=\"Convert this dataframe to an interactive table.\"\n",
              "              style=\"display:none;\">\n",
              "        \n",
              "  <svg xmlns=\"http://www.w3.org/2000/svg\" height=\"24px\"viewBox=\"0 0 24 24\"\n",
              "       width=\"24px\">\n",
              "    <path d=\"M0 0h24v24H0V0z\" fill=\"none\"/>\n",
              "    <path d=\"M18.56 5.44l.94 2.06.94-2.06 2.06-.94-2.06-.94-.94-2.06-.94 2.06-2.06.94zm-11 1L8.5 8.5l.94-2.06 2.06-.94-2.06-.94L8.5 2.5l-.94 2.06-2.06.94zm10 10l.94 2.06.94-2.06 2.06-.94-2.06-.94-.94-2.06-.94 2.06-2.06.94z\"/><path d=\"M17.41 7.96l-1.37-1.37c-.4-.4-.92-.59-1.43-.59-.52 0-1.04.2-1.43.59L10.3 9.45l-7.72 7.72c-.78.78-.78 2.05 0 2.83L4 21.41c.39.39.9.59 1.41.59.51 0 1.02-.2 1.41-.59l7.78-7.78 2.81-2.81c.8-.78.8-2.07 0-2.86zM5.41 20L4 18.59l7.72-7.72 1.47 1.35L5.41 20z\"/>\n",
              "  </svg>\n",
              "      </button>\n",
              "      \n",
              "  <style>\n",
              "    .colab-df-container {\n",
              "      display:flex;\n",
              "      flex-wrap:wrap;\n",
              "      gap: 12px;\n",
              "    }\n",
              "\n",
              "    .colab-df-convert {\n",
              "      background-color: #E8F0FE;\n",
              "      border: none;\n",
              "      border-radius: 50%;\n",
              "      cursor: pointer;\n",
              "      display: none;\n",
              "      fill: #1967D2;\n",
              "      height: 32px;\n",
              "      padding: 0 0 0 0;\n",
              "      width: 32px;\n",
              "    }\n",
              "\n",
              "    .colab-df-convert:hover {\n",
              "      background-color: #E2EBFA;\n",
              "      box-shadow: 0px 1px 2px rgba(60, 64, 67, 0.3), 0px 1px 3px 1px rgba(60, 64, 67, 0.15);\n",
              "      fill: #174EA6;\n",
              "    }\n",
              "\n",
              "    [theme=dark] .colab-df-convert {\n",
              "      background-color: #3B4455;\n",
              "      fill: #D2E3FC;\n",
              "    }\n",
              "\n",
              "    [theme=dark] .colab-df-convert:hover {\n",
              "      background-color: #434B5C;\n",
              "      box-shadow: 0px 1px 3px 1px rgba(0, 0, 0, 0.15);\n",
              "      filter: drop-shadow(0px 1px 2px rgba(0, 0, 0, 0.3));\n",
              "      fill: #FFFFFF;\n",
              "    }\n",
              "  </style>\n",
              "\n",
              "      <script>\n",
              "        const buttonEl =\n",
              "          document.querySelector('#df-60f8496b-4d83-4ee9-a25c-53c264011728 button.colab-df-convert');\n",
              "        buttonEl.style.display =\n",
              "          google.colab.kernel.accessAllowed ? 'block' : 'none';\n",
              "\n",
              "        async function convertToInteractive(key) {\n",
              "          const element = document.querySelector('#df-60f8496b-4d83-4ee9-a25c-53c264011728');\n",
              "          const dataTable =\n",
              "            await google.colab.kernel.invokeFunction('convertToInteractive',\n",
              "                                                     [key], {});\n",
              "          if (!dataTable) return;\n",
              "\n",
              "          const docLinkHtml = 'Like what you see? Visit the ' +\n",
              "            '<a target=\"_blank\" href=https://colab.research.google.com/notebooks/data_table.ipynb>data table notebook</a>'\n",
              "            + ' to learn more about interactive tables.';\n",
              "          element.innerHTML = '';\n",
              "          dataTable['output_type'] = 'display_data';\n",
              "          await google.colab.output.renderOutput(dataTable, element);\n",
              "          const docLink = document.createElement('div');\n",
              "          docLink.innerHTML = docLinkHtml;\n",
              "          element.appendChild(docLink);\n",
              "        }\n",
              "      </script>\n",
              "    </div>\n",
              "  </div>\n",
              "  "
            ]
          },
          "metadata": {},
          "execution_count": 32
        }
      ],
      "source": [
        "mega_df.head()"
      ]
    },
    {
      "cell_type": "code",
      "execution_count": 33,
      "metadata": {
        "colab": {
          "base_uri": "https://localhost:8080/",
          "height": 238
        },
        "id": "HjWDe-HI_9zD",
        "outputId": "aaeca8ef-e022-4d60-a4bb-668d2ed6aded"
      },
      "outputs": [
        {
          "output_type": "execute_result",
          "data": {
            "text/plain": [
              "            lottery  ball_01  ball_02  ball_03  ball_04  ball_05  ball_06\n",
              "date                                                                     \n",
              "2022-05-14   2481.0      1.0     37.0     36.0     21.0      8.0     27.0\n",
              "2022-05-18   2482.0     32.0      1.0     57.0     44.0     35.0     45.0\n",
              "2022-05-21   2483.0     54.0     49.0     34.0     38.0     40.0     20.0\n",
              "2022-05-25   2484.0     59.0     36.0     41.0     54.0     14.0     11.0\n",
              "2022-05-28   2485.0     60.0     12.0     38.0     47.0      5.0     32.0"
            ],
            "text/html": [
              "\n",
              "  <div id=\"df-39ae2f09-41d3-4cee-99bf-375c4b0dd809\">\n",
              "    <div class=\"colab-df-container\">\n",
              "      <div>\n",
              "<style scoped>\n",
              "    .dataframe tbody tr th:only-of-type {\n",
              "        vertical-align: middle;\n",
              "    }\n",
              "\n",
              "    .dataframe tbody tr th {\n",
              "        vertical-align: top;\n",
              "    }\n",
              "\n",
              "    .dataframe thead th {\n",
              "        text-align: right;\n",
              "    }\n",
              "</style>\n",
              "<table border=\"1\" class=\"dataframe\">\n",
              "  <thead>\n",
              "    <tr style=\"text-align: right;\">\n",
              "      <th></th>\n",
              "      <th>lottery</th>\n",
              "      <th>ball_01</th>\n",
              "      <th>ball_02</th>\n",
              "      <th>ball_03</th>\n",
              "      <th>ball_04</th>\n",
              "      <th>ball_05</th>\n",
              "      <th>ball_06</th>\n",
              "    </tr>\n",
              "    <tr>\n",
              "      <th>date</th>\n",
              "      <th></th>\n",
              "      <th></th>\n",
              "      <th></th>\n",
              "      <th></th>\n",
              "      <th></th>\n",
              "      <th></th>\n",
              "      <th></th>\n",
              "    </tr>\n",
              "  </thead>\n",
              "  <tbody>\n",
              "    <tr>\n",
              "      <th>2022-05-14</th>\n",
              "      <td>2481.0</td>\n",
              "      <td>1.0</td>\n",
              "      <td>37.0</td>\n",
              "      <td>36.0</td>\n",
              "      <td>21.0</td>\n",
              "      <td>8.0</td>\n",
              "      <td>27.0</td>\n",
              "    </tr>\n",
              "    <tr>\n",
              "      <th>2022-05-18</th>\n",
              "      <td>2482.0</td>\n",
              "      <td>32.0</td>\n",
              "      <td>1.0</td>\n",
              "      <td>57.0</td>\n",
              "      <td>44.0</td>\n",
              "      <td>35.0</td>\n",
              "      <td>45.0</td>\n",
              "    </tr>\n",
              "    <tr>\n",
              "      <th>2022-05-21</th>\n",
              "      <td>2483.0</td>\n",
              "      <td>54.0</td>\n",
              "      <td>49.0</td>\n",
              "      <td>34.0</td>\n",
              "      <td>38.0</td>\n",
              "      <td>40.0</td>\n",
              "      <td>20.0</td>\n",
              "    </tr>\n",
              "    <tr>\n",
              "      <th>2022-05-25</th>\n",
              "      <td>2484.0</td>\n",
              "      <td>59.0</td>\n",
              "      <td>36.0</td>\n",
              "      <td>41.0</td>\n",
              "      <td>54.0</td>\n",
              "      <td>14.0</td>\n",
              "      <td>11.0</td>\n",
              "    </tr>\n",
              "    <tr>\n",
              "      <th>2022-05-28</th>\n",
              "      <td>2485.0</td>\n",
              "      <td>60.0</td>\n",
              "      <td>12.0</td>\n",
              "      <td>38.0</td>\n",
              "      <td>47.0</td>\n",
              "      <td>5.0</td>\n",
              "      <td>32.0</td>\n",
              "    </tr>\n",
              "  </tbody>\n",
              "</table>\n",
              "</div>\n",
              "      <button class=\"colab-df-convert\" onclick=\"convertToInteractive('df-39ae2f09-41d3-4cee-99bf-375c4b0dd809')\"\n",
              "              title=\"Convert this dataframe to an interactive table.\"\n",
              "              style=\"display:none;\">\n",
              "        \n",
              "  <svg xmlns=\"http://www.w3.org/2000/svg\" height=\"24px\"viewBox=\"0 0 24 24\"\n",
              "       width=\"24px\">\n",
              "    <path d=\"M0 0h24v24H0V0z\" fill=\"none\"/>\n",
              "    <path d=\"M18.56 5.44l.94 2.06.94-2.06 2.06-.94-2.06-.94-.94-2.06-.94 2.06-2.06.94zm-11 1L8.5 8.5l.94-2.06 2.06-.94-2.06-.94L8.5 2.5l-.94 2.06-2.06.94zm10 10l.94 2.06.94-2.06 2.06-.94-2.06-.94-.94-2.06-.94 2.06-2.06.94z\"/><path d=\"M17.41 7.96l-1.37-1.37c-.4-.4-.92-.59-1.43-.59-.52 0-1.04.2-1.43.59L10.3 9.45l-7.72 7.72c-.78.78-.78 2.05 0 2.83L4 21.41c.39.39.9.59 1.41.59.51 0 1.02-.2 1.41-.59l7.78-7.78 2.81-2.81c.8-.78.8-2.07 0-2.86zM5.41 20L4 18.59l7.72-7.72 1.47 1.35L5.41 20z\"/>\n",
              "  </svg>\n",
              "      </button>\n",
              "      \n",
              "  <style>\n",
              "    .colab-df-container {\n",
              "      display:flex;\n",
              "      flex-wrap:wrap;\n",
              "      gap: 12px;\n",
              "    }\n",
              "\n",
              "    .colab-df-convert {\n",
              "      background-color: #E8F0FE;\n",
              "      border: none;\n",
              "      border-radius: 50%;\n",
              "      cursor: pointer;\n",
              "      display: none;\n",
              "      fill: #1967D2;\n",
              "      height: 32px;\n",
              "      padding: 0 0 0 0;\n",
              "      width: 32px;\n",
              "    }\n",
              "\n",
              "    .colab-df-convert:hover {\n",
              "      background-color: #E2EBFA;\n",
              "      box-shadow: 0px 1px 2px rgba(60, 64, 67, 0.3), 0px 1px 3px 1px rgba(60, 64, 67, 0.15);\n",
              "      fill: #174EA6;\n",
              "    }\n",
              "\n",
              "    [theme=dark] .colab-df-convert {\n",
              "      background-color: #3B4455;\n",
              "      fill: #D2E3FC;\n",
              "    }\n",
              "\n",
              "    [theme=dark] .colab-df-convert:hover {\n",
              "      background-color: #434B5C;\n",
              "      box-shadow: 0px 1px 3px 1px rgba(0, 0, 0, 0.15);\n",
              "      filter: drop-shadow(0px 1px 2px rgba(0, 0, 0, 0.3));\n",
              "      fill: #FFFFFF;\n",
              "    }\n",
              "  </style>\n",
              "\n",
              "      <script>\n",
              "        const buttonEl =\n",
              "          document.querySelector('#df-39ae2f09-41d3-4cee-99bf-375c4b0dd809 button.colab-df-convert');\n",
              "        buttonEl.style.display =\n",
              "          google.colab.kernel.accessAllowed ? 'block' : 'none';\n",
              "\n",
              "        async function convertToInteractive(key) {\n",
              "          const element = document.querySelector('#df-39ae2f09-41d3-4cee-99bf-375c4b0dd809');\n",
              "          const dataTable =\n",
              "            await google.colab.kernel.invokeFunction('convertToInteractive',\n",
              "                                                     [key], {});\n",
              "          if (!dataTable) return;\n",
              "\n",
              "          const docLinkHtml = 'Like what you see? Visit the ' +\n",
              "            '<a target=\"_blank\" href=https://colab.research.google.com/notebooks/data_table.ipynb>data table notebook</a>'\n",
              "            + ' to learn more about interactive tables.';\n",
              "          element.innerHTML = '';\n",
              "          dataTable['output_type'] = 'display_data';\n",
              "          await google.colab.output.renderOutput(dataTable, element);\n",
              "          const docLink = document.createElement('div');\n",
              "          docLink.innerHTML = docLinkHtml;\n",
              "          element.appendChild(docLink);\n",
              "        }\n",
              "      </script>\n",
              "    </div>\n",
              "  </div>\n",
              "  "
            ]
          },
          "metadata": {},
          "execution_count": 33
        }
      ],
      "source": [
        "mega_df.tail()"
      ]
    },
    {
      "cell_type": "code",
      "execution_count": 34,
      "metadata": {
        "colab": {
          "base_uri": "https://localhost:8080/"
        },
        "id": "-LixHJ-m_9zE",
        "outputId": "3c3e2b71-6991-41ed-cdb1-37271f10a97f"
      },
      "outputs": [
        {
          "output_type": "stream",
          "name": "stdout",
          "text": [
            "<class 'pandas.core.frame.DataFrame'>\n",
            "DatetimeIndex: 2485 entries, 1996-03-11 to 2022-05-28\n",
            "Data columns (total 7 columns):\n",
            " #   Column   Non-Null Count  Dtype  \n",
            "---  ------   --------------  -----  \n",
            " 0   lottery  2485 non-null   float64\n",
            " 1   ball_01  2485 non-null   float64\n",
            " 2   ball_02  2485 non-null   float64\n",
            " 3   ball_03  2485 non-null   float64\n",
            " 4   ball_04  2485 non-null   float64\n",
            " 5   ball_05  2485 non-null   float64\n",
            " 6   ball_06  2485 non-null   float64\n",
            "dtypes: float64(7)\n",
            "memory usage: 155.3 KB\n"
          ]
        }
      ],
      "source": [
        "mega_df.info()"
      ]
    },
    {
      "cell_type": "code",
      "execution_count": 35,
      "metadata": {
        "colab": {
          "base_uri": "https://localhost:8080/",
          "height": 300
        },
        "id": "nDx9p9qZ_9zF",
        "outputId": "b160e395-4c44-4635-cb09-177b4237d2e7"
      },
      "outputs": [
        {
          "output_type": "execute_result",
          "data": {
            "text/plain": [
              "           lottery      ball_01      ball_02      ball_03      ball_04  \\\n",
              "count  2485.000000  2485.000000  2485.000000  2485.000000  2485.000000   \n",
              "mean   1243.000000    30.465191    30.151710    30.734406    30.752918   \n",
              "std     717.502033    17.302279    17.367138    17.328347    17.248985   \n",
              "min       1.000000     1.000000     1.000000     1.000000     1.000000   \n",
              "25%     622.000000    16.000000    15.000000    16.000000    16.000000   \n",
              "50%    1243.000000    30.000000    31.000000    31.000000    31.000000   \n",
              "75%    1864.000000    45.000000    45.000000    45.000000    45.000000   \n",
              "max    2485.000000    60.000000    60.000000    60.000000    60.000000   \n",
              "\n",
              "          ball_05      ball_06  \n",
              "count  2485.00000  2485.000000  \n",
              "mean     30.55493    30.372233  \n",
              "std      17.17453    17.173908  \n",
              "min       1.00000     1.000000  \n",
              "25%      15.00000    16.000000  \n",
              "50%      31.00000    30.000000  \n",
              "75%      45.00000    45.000000  \n",
              "max      60.00000    60.000000  "
            ],
            "text/html": [
              "\n",
              "  <div id=\"df-a780a1b4-36b6-4b8e-8b7f-137f53cf31dd\">\n",
              "    <div class=\"colab-df-container\">\n",
              "      <div>\n",
              "<style scoped>\n",
              "    .dataframe tbody tr th:only-of-type {\n",
              "        vertical-align: middle;\n",
              "    }\n",
              "\n",
              "    .dataframe tbody tr th {\n",
              "        vertical-align: top;\n",
              "    }\n",
              "\n",
              "    .dataframe thead th {\n",
              "        text-align: right;\n",
              "    }\n",
              "</style>\n",
              "<table border=\"1\" class=\"dataframe\">\n",
              "  <thead>\n",
              "    <tr style=\"text-align: right;\">\n",
              "      <th></th>\n",
              "      <th>lottery</th>\n",
              "      <th>ball_01</th>\n",
              "      <th>ball_02</th>\n",
              "      <th>ball_03</th>\n",
              "      <th>ball_04</th>\n",
              "      <th>ball_05</th>\n",
              "      <th>ball_06</th>\n",
              "    </tr>\n",
              "  </thead>\n",
              "  <tbody>\n",
              "    <tr>\n",
              "      <th>count</th>\n",
              "      <td>2485.000000</td>\n",
              "      <td>2485.000000</td>\n",
              "      <td>2485.000000</td>\n",
              "      <td>2485.000000</td>\n",
              "      <td>2485.000000</td>\n",
              "      <td>2485.00000</td>\n",
              "      <td>2485.000000</td>\n",
              "    </tr>\n",
              "    <tr>\n",
              "      <th>mean</th>\n",
              "      <td>1243.000000</td>\n",
              "      <td>30.465191</td>\n",
              "      <td>30.151710</td>\n",
              "      <td>30.734406</td>\n",
              "      <td>30.752918</td>\n",
              "      <td>30.55493</td>\n",
              "      <td>30.372233</td>\n",
              "    </tr>\n",
              "    <tr>\n",
              "      <th>std</th>\n",
              "      <td>717.502033</td>\n",
              "      <td>17.302279</td>\n",
              "      <td>17.367138</td>\n",
              "      <td>17.328347</td>\n",
              "      <td>17.248985</td>\n",
              "      <td>17.17453</td>\n",
              "      <td>17.173908</td>\n",
              "    </tr>\n",
              "    <tr>\n",
              "      <th>min</th>\n",
              "      <td>1.000000</td>\n",
              "      <td>1.000000</td>\n",
              "      <td>1.000000</td>\n",
              "      <td>1.000000</td>\n",
              "      <td>1.000000</td>\n",
              "      <td>1.00000</td>\n",
              "      <td>1.000000</td>\n",
              "    </tr>\n",
              "    <tr>\n",
              "      <th>25%</th>\n",
              "      <td>622.000000</td>\n",
              "      <td>16.000000</td>\n",
              "      <td>15.000000</td>\n",
              "      <td>16.000000</td>\n",
              "      <td>16.000000</td>\n",
              "      <td>15.00000</td>\n",
              "      <td>16.000000</td>\n",
              "    </tr>\n",
              "    <tr>\n",
              "      <th>50%</th>\n",
              "      <td>1243.000000</td>\n",
              "      <td>30.000000</td>\n",
              "      <td>31.000000</td>\n",
              "      <td>31.000000</td>\n",
              "      <td>31.000000</td>\n",
              "      <td>31.00000</td>\n",
              "      <td>30.000000</td>\n",
              "    </tr>\n",
              "    <tr>\n",
              "      <th>75%</th>\n",
              "      <td>1864.000000</td>\n",
              "      <td>45.000000</td>\n",
              "      <td>45.000000</td>\n",
              "      <td>45.000000</td>\n",
              "      <td>45.000000</td>\n",
              "      <td>45.00000</td>\n",
              "      <td>45.000000</td>\n",
              "    </tr>\n",
              "    <tr>\n",
              "      <th>max</th>\n",
              "      <td>2485.000000</td>\n",
              "      <td>60.000000</td>\n",
              "      <td>60.000000</td>\n",
              "      <td>60.000000</td>\n",
              "      <td>60.000000</td>\n",
              "      <td>60.00000</td>\n",
              "      <td>60.000000</td>\n",
              "    </tr>\n",
              "  </tbody>\n",
              "</table>\n",
              "</div>\n",
              "      <button class=\"colab-df-convert\" onclick=\"convertToInteractive('df-a780a1b4-36b6-4b8e-8b7f-137f53cf31dd')\"\n",
              "              title=\"Convert this dataframe to an interactive table.\"\n",
              "              style=\"display:none;\">\n",
              "        \n",
              "  <svg xmlns=\"http://www.w3.org/2000/svg\" height=\"24px\"viewBox=\"0 0 24 24\"\n",
              "       width=\"24px\">\n",
              "    <path d=\"M0 0h24v24H0V0z\" fill=\"none\"/>\n",
              "    <path d=\"M18.56 5.44l.94 2.06.94-2.06 2.06-.94-2.06-.94-.94-2.06-.94 2.06-2.06.94zm-11 1L8.5 8.5l.94-2.06 2.06-.94-2.06-.94L8.5 2.5l-.94 2.06-2.06.94zm10 10l.94 2.06.94-2.06 2.06-.94-2.06-.94-.94-2.06-.94 2.06-2.06.94z\"/><path d=\"M17.41 7.96l-1.37-1.37c-.4-.4-.92-.59-1.43-.59-.52 0-1.04.2-1.43.59L10.3 9.45l-7.72 7.72c-.78.78-.78 2.05 0 2.83L4 21.41c.39.39.9.59 1.41.59.51 0 1.02-.2 1.41-.59l7.78-7.78 2.81-2.81c.8-.78.8-2.07 0-2.86zM5.41 20L4 18.59l7.72-7.72 1.47 1.35L5.41 20z\"/>\n",
              "  </svg>\n",
              "      </button>\n",
              "      \n",
              "  <style>\n",
              "    .colab-df-container {\n",
              "      display:flex;\n",
              "      flex-wrap:wrap;\n",
              "      gap: 12px;\n",
              "    }\n",
              "\n",
              "    .colab-df-convert {\n",
              "      background-color: #E8F0FE;\n",
              "      border: none;\n",
              "      border-radius: 50%;\n",
              "      cursor: pointer;\n",
              "      display: none;\n",
              "      fill: #1967D2;\n",
              "      height: 32px;\n",
              "      padding: 0 0 0 0;\n",
              "      width: 32px;\n",
              "    }\n",
              "\n",
              "    .colab-df-convert:hover {\n",
              "      background-color: #E2EBFA;\n",
              "      box-shadow: 0px 1px 2px rgba(60, 64, 67, 0.3), 0px 1px 3px 1px rgba(60, 64, 67, 0.15);\n",
              "      fill: #174EA6;\n",
              "    }\n",
              "\n",
              "    [theme=dark] .colab-df-convert {\n",
              "      background-color: #3B4455;\n",
              "      fill: #D2E3FC;\n",
              "    }\n",
              "\n",
              "    [theme=dark] .colab-df-convert:hover {\n",
              "      background-color: #434B5C;\n",
              "      box-shadow: 0px 1px 3px 1px rgba(0, 0, 0, 0.15);\n",
              "      filter: drop-shadow(0px 1px 2px rgba(0, 0, 0, 0.3));\n",
              "      fill: #FFFFFF;\n",
              "    }\n",
              "  </style>\n",
              "\n",
              "      <script>\n",
              "        const buttonEl =\n",
              "          document.querySelector('#df-a780a1b4-36b6-4b8e-8b7f-137f53cf31dd button.colab-df-convert');\n",
              "        buttonEl.style.display =\n",
              "          google.colab.kernel.accessAllowed ? 'block' : 'none';\n",
              "\n",
              "        async function convertToInteractive(key) {\n",
              "          const element = document.querySelector('#df-a780a1b4-36b6-4b8e-8b7f-137f53cf31dd');\n",
              "          const dataTable =\n",
              "            await google.colab.kernel.invokeFunction('convertToInteractive',\n",
              "                                                     [key], {});\n",
              "          if (!dataTable) return;\n",
              "\n",
              "          const docLinkHtml = 'Like what you see? Visit the ' +\n",
              "            '<a target=\"_blank\" href=https://colab.research.google.com/notebooks/data_table.ipynb>data table notebook</a>'\n",
              "            + ' to learn more about interactive tables.';\n",
              "          element.innerHTML = '';\n",
              "          dataTable['output_type'] = 'display_data';\n",
              "          await google.colab.output.renderOutput(dataTable, element);\n",
              "          const docLink = document.createElement('div');\n",
              "          docLink.innerHTML = docLinkHtml;\n",
              "          element.appendChild(docLink);\n",
              "        }\n",
              "      </script>\n",
              "    </div>\n",
              "  </div>\n",
              "  "
            ]
          },
          "metadata": {},
          "execution_count": 35
        }
      ],
      "source": [
        "mega_df.describe()"
      ]
    },
    {
      "cell_type": "code",
      "execution_count": 36,
      "metadata": {
        "id": "wXq7yEJi_9zF"
      },
      "outputs": [],
      "source": [
        "mega_df.drop('lottery', inplace=True, axis=1)"
      ]
    },
    {
      "cell_type": "code",
      "source": [
        "#df.drop('date', inplace=True, axis=1)"
      ],
      "metadata": {
        "id": "RzfJicOv4j3N"
      },
      "execution_count": 37,
      "outputs": []
    },
    {
      "cell_type": "code",
      "execution_count": 38,
      "metadata": {
        "colab": {
          "base_uri": "https://localhost:8080/",
          "height": 238
        },
        "id": "kHj-RrWP_9zG",
        "outputId": "0fa86000-f737-4847-d394-aabc185b345a",
        "scrolled": true
      },
      "outputs": [
        {
          "output_type": "execute_result",
          "data": {
            "text/plain": [
              "            ball_01  ball_02  ball_03  ball_04  ball_05  ball_06\n",
              "date                                                            \n",
              "1996-03-11     41.0      5.0      4.0     52.0     30.0     33.0\n",
              "1996-03-18      9.0     39.0     37.0     49.0     43.0     41.0\n",
              "1996-03-25     36.0     30.0     10.0     11.0     29.0     47.0\n",
              "1996-04-01      6.0     59.0     42.0     27.0      1.0      5.0\n",
              "1996-04-08      1.0     19.0     46.0      6.0     16.0      2.0"
            ],
            "text/html": [
              "\n",
              "  <div id=\"df-b3e98671-e931-4c12-b8d3-20474f0d1e14\">\n",
              "    <div class=\"colab-df-container\">\n",
              "      <div>\n",
              "<style scoped>\n",
              "    .dataframe tbody tr th:only-of-type {\n",
              "        vertical-align: middle;\n",
              "    }\n",
              "\n",
              "    .dataframe tbody tr th {\n",
              "        vertical-align: top;\n",
              "    }\n",
              "\n",
              "    .dataframe thead th {\n",
              "        text-align: right;\n",
              "    }\n",
              "</style>\n",
              "<table border=\"1\" class=\"dataframe\">\n",
              "  <thead>\n",
              "    <tr style=\"text-align: right;\">\n",
              "      <th></th>\n",
              "      <th>ball_01</th>\n",
              "      <th>ball_02</th>\n",
              "      <th>ball_03</th>\n",
              "      <th>ball_04</th>\n",
              "      <th>ball_05</th>\n",
              "      <th>ball_06</th>\n",
              "    </tr>\n",
              "    <tr>\n",
              "      <th>date</th>\n",
              "      <th></th>\n",
              "      <th></th>\n",
              "      <th></th>\n",
              "      <th></th>\n",
              "      <th></th>\n",
              "      <th></th>\n",
              "    </tr>\n",
              "  </thead>\n",
              "  <tbody>\n",
              "    <tr>\n",
              "      <th>1996-03-11</th>\n",
              "      <td>41.0</td>\n",
              "      <td>5.0</td>\n",
              "      <td>4.0</td>\n",
              "      <td>52.0</td>\n",
              "      <td>30.0</td>\n",
              "      <td>33.0</td>\n",
              "    </tr>\n",
              "    <tr>\n",
              "      <th>1996-03-18</th>\n",
              "      <td>9.0</td>\n",
              "      <td>39.0</td>\n",
              "      <td>37.0</td>\n",
              "      <td>49.0</td>\n",
              "      <td>43.0</td>\n",
              "      <td>41.0</td>\n",
              "    </tr>\n",
              "    <tr>\n",
              "      <th>1996-03-25</th>\n",
              "      <td>36.0</td>\n",
              "      <td>30.0</td>\n",
              "      <td>10.0</td>\n",
              "      <td>11.0</td>\n",
              "      <td>29.0</td>\n",
              "      <td>47.0</td>\n",
              "    </tr>\n",
              "    <tr>\n",
              "      <th>1996-04-01</th>\n",
              "      <td>6.0</td>\n",
              "      <td>59.0</td>\n",
              "      <td>42.0</td>\n",
              "      <td>27.0</td>\n",
              "      <td>1.0</td>\n",
              "      <td>5.0</td>\n",
              "    </tr>\n",
              "    <tr>\n",
              "      <th>1996-04-08</th>\n",
              "      <td>1.0</td>\n",
              "      <td>19.0</td>\n",
              "      <td>46.0</td>\n",
              "      <td>6.0</td>\n",
              "      <td>16.0</td>\n",
              "      <td>2.0</td>\n",
              "    </tr>\n",
              "  </tbody>\n",
              "</table>\n",
              "</div>\n",
              "      <button class=\"colab-df-convert\" onclick=\"convertToInteractive('df-b3e98671-e931-4c12-b8d3-20474f0d1e14')\"\n",
              "              title=\"Convert this dataframe to an interactive table.\"\n",
              "              style=\"display:none;\">\n",
              "        \n",
              "  <svg xmlns=\"http://www.w3.org/2000/svg\" height=\"24px\"viewBox=\"0 0 24 24\"\n",
              "       width=\"24px\">\n",
              "    <path d=\"M0 0h24v24H0V0z\" fill=\"none\"/>\n",
              "    <path d=\"M18.56 5.44l.94 2.06.94-2.06 2.06-.94-2.06-.94-.94-2.06-.94 2.06-2.06.94zm-11 1L8.5 8.5l.94-2.06 2.06-.94-2.06-.94L8.5 2.5l-.94 2.06-2.06.94zm10 10l.94 2.06.94-2.06 2.06-.94-2.06-.94-.94-2.06-.94 2.06-2.06.94z\"/><path d=\"M17.41 7.96l-1.37-1.37c-.4-.4-.92-.59-1.43-.59-.52 0-1.04.2-1.43.59L10.3 9.45l-7.72 7.72c-.78.78-.78 2.05 0 2.83L4 21.41c.39.39.9.59 1.41.59.51 0 1.02-.2 1.41-.59l7.78-7.78 2.81-2.81c.8-.78.8-2.07 0-2.86zM5.41 20L4 18.59l7.72-7.72 1.47 1.35L5.41 20z\"/>\n",
              "  </svg>\n",
              "      </button>\n",
              "      \n",
              "  <style>\n",
              "    .colab-df-container {\n",
              "      display:flex;\n",
              "      flex-wrap:wrap;\n",
              "      gap: 12px;\n",
              "    }\n",
              "\n",
              "    .colab-df-convert {\n",
              "      background-color: #E8F0FE;\n",
              "      border: none;\n",
              "      border-radius: 50%;\n",
              "      cursor: pointer;\n",
              "      display: none;\n",
              "      fill: #1967D2;\n",
              "      height: 32px;\n",
              "      padding: 0 0 0 0;\n",
              "      width: 32px;\n",
              "    }\n",
              "\n",
              "    .colab-df-convert:hover {\n",
              "      background-color: #E2EBFA;\n",
              "      box-shadow: 0px 1px 2px rgba(60, 64, 67, 0.3), 0px 1px 3px 1px rgba(60, 64, 67, 0.15);\n",
              "      fill: #174EA6;\n",
              "    }\n",
              "\n",
              "    [theme=dark] .colab-df-convert {\n",
              "      background-color: #3B4455;\n",
              "      fill: #D2E3FC;\n",
              "    }\n",
              "\n",
              "    [theme=dark] .colab-df-convert:hover {\n",
              "      background-color: #434B5C;\n",
              "      box-shadow: 0px 1px 3px 1px rgba(0, 0, 0, 0.15);\n",
              "      filter: drop-shadow(0px 1px 2px rgba(0, 0, 0, 0.3));\n",
              "      fill: #FFFFFF;\n",
              "    }\n",
              "  </style>\n",
              "\n",
              "      <script>\n",
              "        const buttonEl =\n",
              "          document.querySelector('#df-b3e98671-e931-4c12-b8d3-20474f0d1e14 button.colab-df-convert');\n",
              "        buttonEl.style.display =\n",
              "          google.colab.kernel.accessAllowed ? 'block' : 'none';\n",
              "\n",
              "        async function convertToInteractive(key) {\n",
              "          const element = document.querySelector('#df-b3e98671-e931-4c12-b8d3-20474f0d1e14');\n",
              "          const dataTable =\n",
              "            await google.colab.kernel.invokeFunction('convertToInteractive',\n",
              "                                                     [key], {});\n",
              "          if (!dataTable) return;\n",
              "\n",
              "          const docLinkHtml = 'Like what you see? Visit the ' +\n",
              "            '<a target=\"_blank\" href=https://colab.research.google.com/notebooks/data_table.ipynb>data table notebook</a>'\n",
              "            + ' to learn more about interactive tables.';\n",
              "          element.innerHTML = '';\n",
              "          dataTable['output_type'] = 'display_data';\n",
              "          await google.colab.output.renderOutput(dataTable, element);\n",
              "          const docLink = document.createElement('div');\n",
              "          docLink.innerHTML = docLinkHtml;\n",
              "          element.appendChild(docLink);\n",
              "        }\n",
              "      </script>\n",
              "    </div>\n",
              "  </div>\n",
              "  "
            ]
          },
          "metadata": {},
          "execution_count": 38
        }
      ],
      "source": [
        "mega_df.head()"
      ]
    },
    {
      "cell_type": "code",
      "execution_count": 39,
      "metadata": {
        "id": "IFxUoUUa_9zG"
      },
      "outputs": [],
      "source": [
        "scaler = StandardScaler().fit(mega_df.values)\n",
        "transformed_dataset = scaler.transform(mega_df.values)\n",
        "transformed_mega_df = pd.DataFrame(data=transformed_dataset, index=mega_df.index)"
      ]
    },
    {
      "cell_type": "code",
      "execution_count": 40,
      "metadata": {
        "colab": {
          "base_uri": "https://localhost:8080/",
          "height": 238
        },
        "id": "0nuARcYc_9zH",
        "outputId": "1909f16a-4e46-4c43-eb23-59843f2c085c"
      },
      "outputs": [
        {
          "output_type": "execute_result",
          "data": {
            "text/plain": [
              "                   0         1         2         3         4         5\n",
              "date                                                                  \n",
              "1996-03-11  0.608991 -1.448527 -1.543124  1.232035 -0.032318  0.153040\n",
              "1996-03-18 -1.240849  0.509587  0.361653  1.058077  0.724769  0.618957\n",
              "1996-03-25  0.319953 -0.008737 -1.196801 -1.145395 -0.090555  0.968394\n",
              "1996-04-01 -1.414271  1.661419  0.650256 -0.217617 -1.721205 -1.477668\n",
              "1996-04-08 -1.703309 -0.642245  0.881138 -1.435325 -0.847642 -1.652387"
            ],
            "text/html": [
              "\n",
              "  <div id=\"df-70703d1c-dfad-40dc-b952-c322f635dd44\">\n",
              "    <div class=\"colab-df-container\">\n",
              "      <div>\n",
              "<style scoped>\n",
              "    .dataframe tbody tr th:only-of-type {\n",
              "        vertical-align: middle;\n",
              "    }\n",
              "\n",
              "    .dataframe tbody tr th {\n",
              "        vertical-align: top;\n",
              "    }\n",
              "\n",
              "    .dataframe thead th {\n",
              "        text-align: right;\n",
              "    }\n",
              "</style>\n",
              "<table border=\"1\" class=\"dataframe\">\n",
              "  <thead>\n",
              "    <tr style=\"text-align: right;\">\n",
              "      <th></th>\n",
              "      <th>0</th>\n",
              "      <th>1</th>\n",
              "      <th>2</th>\n",
              "      <th>3</th>\n",
              "      <th>4</th>\n",
              "      <th>5</th>\n",
              "    </tr>\n",
              "    <tr>\n",
              "      <th>date</th>\n",
              "      <th></th>\n",
              "      <th></th>\n",
              "      <th></th>\n",
              "      <th></th>\n",
              "      <th></th>\n",
              "      <th></th>\n",
              "    </tr>\n",
              "  </thead>\n",
              "  <tbody>\n",
              "    <tr>\n",
              "      <th>1996-03-11</th>\n",
              "      <td>0.608991</td>\n",
              "      <td>-1.448527</td>\n",
              "      <td>-1.543124</td>\n",
              "      <td>1.232035</td>\n",
              "      <td>-0.032318</td>\n",
              "      <td>0.153040</td>\n",
              "    </tr>\n",
              "    <tr>\n",
              "      <th>1996-03-18</th>\n",
              "      <td>-1.240849</td>\n",
              "      <td>0.509587</td>\n",
              "      <td>0.361653</td>\n",
              "      <td>1.058077</td>\n",
              "      <td>0.724769</td>\n",
              "      <td>0.618957</td>\n",
              "    </tr>\n",
              "    <tr>\n",
              "      <th>1996-03-25</th>\n",
              "      <td>0.319953</td>\n",
              "      <td>-0.008737</td>\n",
              "      <td>-1.196801</td>\n",
              "      <td>-1.145395</td>\n",
              "      <td>-0.090555</td>\n",
              "      <td>0.968394</td>\n",
              "    </tr>\n",
              "    <tr>\n",
              "      <th>1996-04-01</th>\n",
              "      <td>-1.414271</td>\n",
              "      <td>1.661419</td>\n",
              "      <td>0.650256</td>\n",
              "      <td>-0.217617</td>\n",
              "      <td>-1.721205</td>\n",
              "      <td>-1.477668</td>\n",
              "    </tr>\n",
              "    <tr>\n",
              "      <th>1996-04-08</th>\n",
              "      <td>-1.703309</td>\n",
              "      <td>-0.642245</td>\n",
              "      <td>0.881138</td>\n",
              "      <td>-1.435325</td>\n",
              "      <td>-0.847642</td>\n",
              "      <td>-1.652387</td>\n",
              "    </tr>\n",
              "  </tbody>\n",
              "</table>\n",
              "</div>\n",
              "      <button class=\"colab-df-convert\" onclick=\"convertToInteractive('df-70703d1c-dfad-40dc-b952-c322f635dd44')\"\n",
              "              title=\"Convert this dataframe to an interactive table.\"\n",
              "              style=\"display:none;\">\n",
              "        \n",
              "  <svg xmlns=\"http://www.w3.org/2000/svg\" height=\"24px\"viewBox=\"0 0 24 24\"\n",
              "       width=\"24px\">\n",
              "    <path d=\"M0 0h24v24H0V0z\" fill=\"none\"/>\n",
              "    <path d=\"M18.56 5.44l.94 2.06.94-2.06 2.06-.94-2.06-.94-.94-2.06-.94 2.06-2.06.94zm-11 1L8.5 8.5l.94-2.06 2.06-.94-2.06-.94L8.5 2.5l-.94 2.06-2.06.94zm10 10l.94 2.06.94-2.06 2.06-.94-2.06-.94-.94-2.06-.94 2.06-2.06.94z\"/><path d=\"M17.41 7.96l-1.37-1.37c-.4-.4-.92-.59-1.43-.59-.52 0-1.04.2-1.43.59L10.3 9.45l-7.72 7.72c-.78.78-.78 2.05 0 2.83L4 21.41c.39.39.9.59 1.41.59.51 0 1.02-.2 1.41-.59l7.78-7.78 2.81-2.81c.8-.78.8-2.07 0-2.86zM5.41 20L4 18.59l7.72-7.72 1.47 1.35L5.41 20z\"/>\n",
              "  </svg>\n",
              "      </button>\n",
              "      \n",
              "  <style>\n",
              "    .colab-df-container {\n",
              "      display:flex;\n",
              "      flex-wrap:wrap;\n",
              "      gap: 12px;\n",
              "    }\n",
              "\n",
              "    .colab-df-convert {\n",
              "      background-color: #E8F0FE;\n",
              "      border: none;\n",
              "      border-radius: 50%;\n",
              "      cursor: pointer;\n",
              "      display: none;\n",
              "      fill: #1967D2;\n",
              "      height: 32px;\n",
              "      padding: 0 0 0 0;\n",
              "      width: 32px;\n",
              "    }\n",
              "\n",
              "    .colab-df-convert:hover {\n",
              "      background-color: #E2EBFA;\n",
              "      box-shadow: 0px 1px 2px rgba(60, 64, 67, 0.3), 0px 1px 3px 1px rgba(60, 64, 67, 0.15);\n",
              "      fill: #174EA6;\n",
              "    }\n",
              "\n",
              "    [theme=dark] .colab-df-convert {\n",
              "      background-color: #3B4455;\n",
              "      fill: #D2E3FC;\n",
              "    }\n",
              "\n",
              "    [theme=dark] .colab-df-convert:hover {\n",
              "      background-color: #434B5C;\n",
              "      box-shadow: 0px 1px 3px 1px rgba(0, 0, 0, 0.15);\n",
              "      filter: drop-shadow(0px 1px 2px rgba(0, 0, 0, 0.3));\n",
              "      fill: #FFFFFF;\n",
              "    }\n",
              "  </style>\n",
              "\n",
              "      <script>\n",
              "        const buttonEl =\n",
              "          document.querySelector('#df-70703d1c-dfad-40dc-b952-c322f635dd44 button.colab-df-convert');\n",
              "        buttonEl.style.display =\n",
              "          google.colab.kernel.accessAllowed ? 'block' : 'none';\n",
              "\n",
              "        async function convertToInteractive(key) {\n",
              "          const element = document.querySelector('#df-70703d1c-dfad-40dc-b952-c322f635dd44');\n",
              "          const dataTable =\n",
              "            await google.colab.kernel.invokeFunction('convertToInteractive',\n",
              "                                                     [key], {});\n",
              "          if (!dataTable) return;\n",
              "\n",
              "          const docLinkHtml = 'Like what you see? Visit the ' +\n",
              "            '<a target=\"_blank\" href=https://colab.research.google.com/notebooks/data_table.ipynb>data table notebook</a>'\n",
              "            + ' to learn more about interactive tables.';\n",
              "          element.innerHTML = '';\n",
              "          dataTable['output_type'] = 'display_data';\n",
              "          await google.colab.output.renderOutput(dataTable, element);\n",
              "          const docLink = document.createElement('div');\n",
              "          docLink.innerHTML = docLinkHtml;\n",
              "          element.appendChild(docLink);\n",
              "        }\n",
              "      </script>\n",
              "    </div>\n",
              "  </div>\n",
              "  "
            ]
          },
          "metadata": {},
          "execution_count": 40
        }
      ],
      "source": [
        "transformed_mega_df.head()"
      ]
    },
    {
      "cell_type": "code",
      "execution_count": 41,
      "metadata": {
        "colab": {
          "base_uri": "https://localhost:8080/"
        },
        "id": "VO8P7MGA_9zI",
        "outputId": "589cfa02-2fa1-4173-d4a4-69d8fe9131a0"
      },
      "outputs": [
        {
          "output_type": "execute_result",
          "data": {
            "text/plain": [
              "2485"
            ]
          },
          "metadata": {},
          "execution_count": 41
        }
      ],
      "source": [
        "# All our games\n",
        "number_of_rows = mega_df.values.shape[0]\n",
        "number_of_rows"
      ]
    },
    {
      "cell_type": "code",
      "execution_count": 42,
      "metadata": {
        "colab": {
          "base_uri": "https://localhost:8080/"
        },
        "id": "w0Sy4qwI_9zI",
        "outputId": "d51f4e44-71fa-40ef-a41e-a80dacbd106c"
      },
      "outputs": [
        {
          "output_type": "execute_result",
          "data": {
            "text/plain": [
              "7"
            ]
          },
          "metadata": {},
          "execution_count": 42
        }
      ],
      "source": [
        "# Amount of games we need to take into consideration for prediction\n",
        "window_length = 7\n",
        "window_length "
      ]
    },
    {
      "cell_type": "code",
      "execution_count": 43,
      "metadata": {
        "colab": {
          "base_uri": "https://localhost:8080/"
        },
        "id": "rtJz-WDK_9zJ",
        "outputId": "b600ca9a-f24b-442f-93a9-0eb6ff93c548"
      },
      "outputs": [
        {
          "output_type": "execute_result",
          "data": {
            "text/plain": [
              "6"
            ]
          },
          "metadata": {},
          "execution_count": 43
        }
      ],
      "source": [
        "# Balls counts\n",
        "number_of_features = mega_df.values.shape[1]\n",
        "number_of_features"
      ]
    },
    {
      "cell_type": "code",
      "execution_count": 44,
      "metadata": {
        "colab": {
          "base_uri": "https://localhost:8080/"
        },
        "id": "vOGYjTw6_9zJ",
        "outputId": "e6dec403-2125-4938-b2b1-556bcc1988a4"
      },
      "outputs": [
        {
          "output_type": "execute_result",
          "data": {
            "text/plain": [
              "array([[[ 1.55342073e-314, -8.39572910e-019,  1.68856075e-028,\n",
              "          2.17356699e-020,  4.46271756e-020,  5.53661141e-021],\n",
              "        [-8.61546985e-020,  2.20678882e-023, -1.06099790e-314,\n",
              "         -4.32142226e-018, -1.94034011e-029,  2.77522445e-021],\n",
              "        [-4.09019050e-022,  5.60395673e-031, -1.90699824e-021,\n",
              "         -3.27313659e-019,  2.80921583e-020,  2.69351744e-017],\n",
              "        ...,\n",
              "        [-1.16943961e-018,  1.16018946e-017, -1.44878823e-019,\n",
              "         -1.06099790e-314, -1.02558055e-021,  1.98368703e-018],\n",
              "        [-1.55259743e-314,  4.03756091e-016,  7.82987316e-020,\n",
              "          1.23654375e-019, -6.61765908e-018, -4.99363389e-315],\n",
              "        [-4.76255853e-315,  3.26944912e-018,  1.06099790e-314,\n",
              "         -1.84824943e-016,  4.82303356e-020,  6.01638671e-021]],\n",
              "\n",
              "       [[-2.51367005e-020,  1.30455721e-020, -5.74750827e-019,\n",
              "         -8.55745827e-023,  7.45035729e-024, -2.97405811e-016],\n",
              "        [-1.80629784e-022,  4.43208154e-020,  1.06099790e-314,\n",
              "         -4.26071706e-027,  4.69068335e-020, -1.55493315e-314],\n",
              "        [-1.55920535e-314, -3.86905568e-021, -5.15365052e-019,\n",
              "          1.27579393e-018,  4.57490678e-018, -2.24340845e-017],\n",
              "        ...,\n",
              "        [ 3.11596271e-023, -1.43480331e-017,  2.29153651e-020,\n",
              "         -1.55877336e-314,  4.93486073e-315, -5.00620981e-315],\n",
              "        [-4.86113939e-315, -4.64127829e-019,  1.83877913e-017,\n",
              "         -5.86229362e-021, -5.03178434e-315, -1.16510387e-021],\n",
              "        [-5.42568762e-029, -2.92136471e-020,  3.60511197e-018,\n",
              "          2.61175588e-020,  5.40764718e-015, -3.95378950e-022]],\n",
              "\n",
              "       [[-2.03499535e-019,  1.03577885e-017, -1.52460244e-020,\n",
              "          4.76907751e-020,  1.97673650e-019,  3.27713971e-021],\n",
              "        [ 2.51679418e-018, -1.55553084e-314,  3.08613267e-018,\n",
              "          4.20733321e-019, -3.92214878e-018, -1.05597818e-014],\n",
              "        [-2.91945034e-021, -1.03607218e-026, -9.87436754e-018,\n",
              "          1.06099790e-314, -1.55591017e-314,  7.54611159e-022],\n",
              "        ...,\n",
              "        [ 1.56288445e-314,  1.55853345e-314,  1.06099790e-314,\n",
              "         -1.81300461e-021,  3.17779233e-016, -7.45863064e-019],\n",
              "        [ 4.13114706e-017,  3.19263588e-017,  2.13258448e-024,\n",
              "         -8.50002000e-019, -2.50223347e-022,  1.35456216e-015],\n",
              "        [ 2.73125058e-019, -4.55931185e-023, -4.85280098e-016,\n",
              "         -5.01930460e-315,  1.55692838e-314, -7.59601803e-017]],\n",
              "\n",
              "       ...,\n",
              "\n",
              "       [[-1.75623061e-031,  4.94647659e-032,  3.01664431e-031,\n",
              "          1.28386278e-041,  1.32468837e-042,  6.63159076e-031],\n",
              "        [-2.75406990e-031, -2.14808563e-029,  8.93410770e-034,\n",
              "          1.29802497e-035,  1.05856044e-029, -1.26028255e-028],\n",
              "        [ 1.60504788e-032,  9.41586567e-031,  1.75842233e-033,\n",
              "         -1.81252974e-031,  1.05866077e-031,  2.01480217e-030],\n",
              "        ...,\n",
              "        [-2.74888579e-033, -5.00569963e-031,  3.06024357e-040,\n",
              "         -2.13212389e-029,  3.98164873e-028, -1.99954639e-031],\n",
              "        [ 1.12892677e-027, -6.96641932e-034,  3.94308392e-028,\n",
              "         -5.75451605e-029, -2.64189012e-031,  4.61912641e-027],\n",
              "        [ 3.93989637e-031,  6.92462500e-034, -2.97830626e-037,\n",
              "          1.71409907e-032, -1.52686737e-028,  2.99594017e-033]],\n",
              "\n",
              "       [[-4.08267725e-030, -7.15978047e-029, -3.70234577e-032,\n",
              "         -2.34991807e-028,  1.09907721e-026, -5.63100600e-036],\n",
              "        [ 4.41974642e-039, -3.87323224e-029,  2.76726040e-037,\n",
              "         -3.62918430e-028, -2.44909606e-027,  2.46640922e-035],\n",
              "        [ 8.10457934e-033, -1.60029536e-028, -7.99856051e-035,\n",
              "          8.20262415e-032, -1.35163581e-031,  4.36010312e-031],\n",
              "        ...,\n",
              "        [ 3.18127931e-029,  2.22457490e-033,  1.44536490e-028,\n",
              "         -4.31933787e-028, -4.20808105e-032,  7.83215321e-028],\n",
              "        [ 5.80931625e-028,  4.91270943e-030, -4.89670270e-029,\n",
              "         -1.81744205e-028,  2.08391864e-034, -8.96234471e-039],\n",
              "        [ 3.57184377e-034,  5.02930170e-031,  6.00793042e-034,\n",
              "         -9.81970399e-029, -6.95004471e-045, -2.27723909e-029]],\n",
              "\n",
              "       [[-1.09458487e-033, -1.16687711e-030,  2.24563911e-034,\n",
              "         -1.47839797e-028,  1.11885035e-030, -3.38618779e-028],\n",
              "        [ 4.77452356e-032,  5.49069822e-034,  9.92604377e-036,\n",
              "          4.89058185e-029,  2.85003616e-027, -5.89667757e-030],\n",
              "        [ 9.90550177e-029, -2.58526778e-027, -1.24355757e-031,\n",
              "         -4.28609616e-027,  5.91255064e-029, -9.69653837e-029],\n",
              "        ...,\n",
              "        [-1.23196749e-027,  3.31381315e-032, -4.40330263e-028,\n",
              "         -9.52311214e-031,  1.63799281e-031, -6.53142866e-030],\n",
              "        [-1.65493462e-034,  8.99291370e-032,  4.10673439e-029,\n",
              "          1.98698400e-029,  9.49291460e-029,  8.41762489e-034],\n",
              "        [-4.35213478e-033, -2.61837553e-031,  1.55964403e-033,\n",
              "         -2.21246988e-032,  1.53608952e-033,  1.81462559e-032]]])"
            ]
          },
          "metadata": {},
          "execution_count": 44
        }
      ],
      "source": [
        "X = np.empty([ number_of_rows - window_length, window_length, number_of_features], dtype=float)\n",
        "X"
      ]
    },
    {
      "cell_type": "code",
      "execution_count": 45,
      "metadata": {
        "colab": {
          "base_uri": "https://localhost:8080/"
        },
        "id": "-AEtpsnR_9zK",
        "outputId": "7b2f0610-cede-42d1-ff09-2f4a3d12b53c"
      },
      "outputs": [
        {
          "output_type": "execute_result",
          "data": {
            "text/plain": [
              "array([[ 2.29624384e-315, -4.12308827e-035,  5.01212659e-036,\n",
              "        -2.32410030e-037,  9.54948753e-041, -5.11823204e-044],\n",
              "       [-2.29267049e-031, -7.38101019e-039, -3.44321172e-035,\n",
              "         2.66407488e-036, -3.21550460e-037,  6.02111145e-038],\n",
              "       [-2.66763260e-042,  2.11440485e-039,  3.74494413e-035,\n",
              "        -3.26192357e-039, -1.00934206e-033, -1.97454491e-035],\n",
              "       ...,\n",
              "       [ 3.30736163e-037, -5.37380787e-039, -1.24708360e-042,\n",
              "        -5.22511913e-034, -1.19146375e-042,  4.75240719e-042],\n",
              "       [-1.13157677e-047,  1.88158821e-032, -3.43927458e-038,\n",
              "         1.61188044e-036, -7.22008788e-039, -3.10325852e-035],\n",
              "       [-8.68074007e-036,  3.81995847e-034, -1.19050603e-036,\n",
              "         3.60609043e-053,  1.85593041e-036,  1.55160519e-032]])"
            ]
          },
          "metadata": {},
          "execution_count": 45
        }
      ],
      "source": [
        "y = np.empty([ number_of_rows - window_length, number_of_features], dtype=float)\n",
        "y"
      ]
    },
    {
      "cell_type": "code",
      "execution_count": 46,
      "metadata": {
        "id": "W8Od3t8__9zK"
      },
      "outputs": [],
      "source": [
        "for i in range(0, number_of_rows-window_length):\n",
        "    X[i] = transformed_mega_df.iloc[i : i+window_length, 0 : number_of_features]\n",
        "    y[i] = transformed_mega_df.iloc[i+window_length : i+window_length+1, 0 : number_of_features]"
      ]
    },
    {
      "cell_type": "code",
      "execution_count": 47,
      "metadata": {
        "colab": {
          "base_uri": "https://localhost:8080/"
        },
        "id": "tQ2DX4qm_9zL",
        "outputId": "654f94cc-2f3a-4bab-bf95-c32c2e43c197"
      },
      "outputs": [
        {
          "output_type": "execute_result",
          "data": {
            "text/plain": [
              "(2478, 7, 6)"
            ]
          },
          "metadata": {},
          "execution_count": 47
        }
      ],
      "source": [
        "X.shape"
      ]
    },
    {
      "cell_type": "code",
      "execution_count": 48,
      "metadata": {
        "colab": {
          "base_uri": "https://localhost:8080/"
        },
        "id": "-e1Ialkb_9zL",
        "outputId": "73d70cd7-a744-459e-d440-5e4293cfa6f4"
      },
      "outputs": [
        {
          "output_type": "execute_result",
          "data": {
            "text/plain": [
              "(2478, 6)"
            ]
          },
          "metadata": {},
          "execution_count": 48
        }
      ],
      "source": [
        "y.shape"
      ]
    },
    {
      "cell_type": "code",
      "execution_count": 49,
      "metadata": {
        "colab": {
          "base_uri": "https://localhost:8080/"
        },
        "id": "Pyo51t3s_9zL",
        "outputId": "ebeaf966-79bf-4da5-8bc5-8804fff005a7"
      },
      "outputs": [
        {
          "output_type": "execute_result",
          "data": {
            "text/plain": [
              "array([[ 0.60899083, -1.44852726, -1.54312392,  1.23203531, -0.0323177 ,\n",
              "         0.15304004],\n",
              "       [-1.24084876,  0.50958717,  0.36165334,  1.05807703,  0.72476949,\n",
              "         0.61895672],\n",
              "       [ 0.31995339, -0.00873724, -1.19680078, -1.14539452, -0.09055517,\n",
              "         0.96839423],\n",
              "       [-1.41427122,  1.66141919,  0.65025595, -0.21761702, -1.7212045 ,\n",
              "        -1.47766835],\n",
              "       [-1.70330866, -0.64224485,  0.88113804, -1.43532498, -0.84764236,\n",
              "        -1.65238711],\n",
              "       [-0.66277389,  0.56717877, -1.36996235, -1.02942233, -0.49821751,\n",
              "         0.96839423],\n",
              "       [ 1.47610314,  0.45199557, -0.56187503, -0.62351968, -1.60472955,\n",
              "        -1.47766835]])"
            ]
          },
          "metadata": {},
          "execution_count": 49
        }
      ],
      "source": [
        "X[0]"
      ]
    },
    {
      "cell_type": "code",
      "execution_count": 50,
      "metadata": {
        "colab": {
          "base_uri": "https://localhost:8080/"
        },
        "id": "Ow6h9xj2_9zL",
        "outputId": "3bd9e88c-813b-4ee9-dbf2-7189e735d72d"
      },
      "outputs": [
        {
          "output_type": "execute_result",
          "data": {
            "text/plain": [
              "array([[-1.24084876,  0.50958717,  0.36165334,  1.05807703,  0.72476949,\n",
              "         0.61895672],\n",
              "       [ 0.31995339, -0.00873724, -1.19680078, -1.14539452, -0.09055517,\n",
              "         0.96839423],\n",
              "       [-1.41427122,  1.66141919,  0.65025595, -0.21761702, -1.7212045 ,\n",
              "        -1.47766835],\n",
              "       [-1.70330866, -0.64224485,  0.88113804, -1.43532498, -0.84764236,\n",
              "        -1.65238711],\n",
              "       [-0.66277389,  0.56717877, -1.36996235, -1.02942233, -0.49821751,\n",
              "         0.96839423],\n",
              "       [ 1.47610314,  0.45199557, -0.56187503, -0.62351968, -1.60472955,\n",
              "        -1.47766835],\n",
              "       [ 1.30268067, -0.75742805,  0.41937386, -1.55129717,  0.9577194 ,\n",
              "         0.38599838]])"
            ]
          },
          "metadata": {},
          "execution_count": 50
        }
      ],
      "source": [
        "X[1]"
      ]
    },
    {
      "cell_type": "code",
      "execution_count": 51,
      "metadata": {
        "colab": {
          "base_uri": "https://localhost:8080/"
        },
        "id": "yAnAQgdw_9zM",
        "outputId": "6873141f-0f5d-4643-d622-d7eac508cb4e"
      },
      "outputs": [
        {
          "output_type": "execute_result",
          "data": {
            "text/plain": [
              "array([ 1.30268067, -0.75742805,  0.41937386, -1.55129717,  0.9577194 ,\n",
              "        0.38599838])"
            ]
          },
          "metadata": {},
          "execution_count": 51
        }
      ],
      "source": [
        "y[0]"
      ]
    },
    {
      "cell_type": "code",
      "execution_count": 52,
      "metadata": {
        "colab": {
          "base_uri": "https://localhost:8080/"
        },
        "id": "rOx-WcYz_9zM",
        "outputId": "b638db5a-25f5-411c-cd18-a894d9dbddf9"
      },
      "outputs": [
        {
          "output_type": "execute_result",
          "data": {
            "text/plain": [
              "array([ 1.41829565,  0.73995358,  1.45834327,  1.34800749, -1.31354217,\n",
              "        1.72550884])"
            ]
          },
          "metadata": {},
          "execution_count": 52
        }
      ],
      "source": [
        "y[1]"
      ]
    },
    {
      "cell_type": "code",
      "execution_count": 53,
      "metadata": {
        "id": "maIGJp8t_9zM"
      },
      "outputs": [],
      "source": [
        "# Recurrent Neural Netowrk (RNN) with Long Short Term Memory (LSTM)\n",
        "# Importing the Keras libraries and packages\n",
        "from keras.models import Sequential\n",
        "from keras.layers import LSTM, Dense, Bidirectional, Dropout\n",
        "batch_size = 60"
      ]
    },
    {
      "cell_type": "code",
      "execution_count": 54,
      "metadata": {
        "id": "b9d815xa_9zN"
      },
      "outputs": [],
      "source": [
        "# Initialising the RNN\n",
        "model = Sequential()\n",
        "# Adding the input layer and the LSTM layer\n",
        "model.add(Bidirectional(LSTM(60,\n",
        "                        input_shape = (window_length, number_of_features),\n",
        "                        return_sequences = True)))\n",
        "# Adding a first Dropout layer\n",
        "model.add(Dropout(0.2))\n",
        "# Adding a second LSTM layer\n",
        "model.add(Bidirectional(LSTM(240,\n",
        "                        input_shape = (window_length, number_of_features),\n",
        "                        return_sequences = True)))\n",
        "# Adding a second Dropout layer\n",
        "model.add(Dropout(0.2))\n",
        "# Adding a third LSTM layer\n",
        "model.add(Bidirectional(LSTM(240,\n",
        "                        input_shape = (window_length, number_of_features),\n",
        "                        return_sequences = True)))\n",
        "# Adding a fourth LSTM layer\n",
        "model.add(Bidirectional(LSTM(240,\n",
        "                        input_shape = (window_length, number_of_features),\n",
        "                        return_sequences = False)))\n",
        "# Adding a fourth Dropout layer\n",
        "model.add(Dropout(0.2))\n",
        "# Adding the first output layer\n",
        "model.add(Dense(59))\n",
        "# Adding the last output layer\n",
        "model.add(Dense(number_of_features))"
      ]
    },
    {
      "cell_type": "code",
      "execution_count": 55,
      "metadata": {
        "id": "bE0G1oQc_9zN"
      },
      "outputs": [],
      "source": [
        "from tensorflow import keras\n",
        "from tensorflow.keras.optimizers import Adam\n",
        "model.compile(optimizer=Adam(learning_rate=0.0001), loss ='mse', metrics=['accuracy'])"
      ]
    },
    {
      "cell_type": "code",
      "execution_count": 56,
      "metadata": {
        "colab": {
          "base_uri": "https://localhost:8080/"
        },
        "id": "p0XPuMCI_9zN",
        "outputId": "b3cb107b-2102-4a1d-b599-fa7536b73eee"
      },
      "outputs": [
        {
          "output_type": "stream",
          "name": "stdout",
          "text": [
            "Epoch 1/20\n",
            "42/42 - 27s - loss: 1.0003 - accuracy: 0.1711 - 27s/epoch - 653ms/step\n",
            "Epoch 2/20\n",
            "42/42 - 11s - loss: 0.9976 - accuracy: 0.1852 - 11s/epoch - 267ms/step\n",
            "Epoch 3/20\n",
            "42/42 - 11s - loss: 0.9968 - accuracy: 0.1844 - 11s/epoch - 264ms/step\n",
            "Epoch 4/20\n",
            "42/42 - 11s - loss: 0.9965 - accuracy: 0.1739 - 11s/epoch - 265ms/step\n",
            "Epoch 5/20\n",
            "42/42 - 11s - loss: 0.9954 - accuracy: 0.1788 - 11s/epoch - 265ms/step\n",
            "Epoch 6/20\n",
            "42/42 - 11s - loss: 0.9955 - accuracy: 0.1881 - 11s/epoch - 267ms/step\n",
            "Epoch 7/20\n",
            "42/42 - 11s - loss: 0.9951 - accuracy: 0.1868 - 11s/epoch - 268ms/step\n",
            "Epoch 8/20\n",
            "42/42 - 11s - loss: 0.9946 - accuracy: 0.1820 - 11s/epoch - 265ms/step\n",
            "Epoch 9/20\n",
            "42/42 - 11s - loss: 0.9951 - accuracy: 0.1864 - 11s/epoch - 266ms/step\n",
            "Epoch 10/20\n",
            "42/42 - 11s - loss: 0.9948 - accuracy: 0.1844 - 11s/epoch - 266ms/step\n",
            "Epoch 11/20\n",
            "42/42 - 11s - loss: 0.9936 - accuracy: 0.1868 - 11s/epoch - 265ms/step\n",
            "Epoch 12/20\n",
            "42/42 - 11s - loss: 0.9934 - accuracy: 0.1852 - 11s/epoch - 263ms/step\n",
            "Epoch 13/20\n",
            "42/42 - 11s - loss: 0.9925 - accuracy: 0.1808 - 11s/epoch - 264ms/step\n",
            "Epoch 14/20\n",
            "42/42 - 11s - loss: 0.9935 - accuracy: 0.1877 - 11s/epoch - 265ms/step\n",
            "Epoch 15/20\n",
            "42/42 - 12s - loss: 0.9924 - accuracy: 0.1881 - 12s/epoch - 292ms/step\n",
            "Epoch 16/20\n",
            "42/42 - 11s - loss: 0.9924 - accuracy: 0.2026 - 11s/epoch - 273ms/step\n",
            "Epoch 17/20\n",
            "42/42 - 11s - loss: 0.9915 - accuracy: 0.1836 - 11s/epoch - 264ms/step\n",
            "Epoch 18/20\n",
            "42/42 - 11s - loss: 0.9913 - accuracy: 0.1921 - 11s/epoch - 264ms/step\n",
            "Epoch 19/20\n",
            "42/42 - 11s - loss: 0.9916 - accuracy: 0.1840 - 11s/epoch - 264ms/step\n",
            "Epoch 20/20\n",
            "42/42 - 11s - loss: 0.9906 - accuracy: 0.1836 - 11s/epoch - 264ms/step\n"
          ]
        },
        {
          "output_type": "execute_result",
          "data": {
            "text/plain": [
              "<keras.callbacks.History at 0x7f5eb7dcc290>"
            ]
          },
          "metadata": {},
          "execution_count": 56
        }
      ],
      "source": [
        "model.fit(x=X, y=y, batch_size=60, epochs=20, verbose=2)"
      ]
    },
    {
      "cell_type": "code",
      "execution_count": 57,
      "metadata": {
        "colab": {
          "base_uri": "https://localhost:8080/",
          "height": 269
        },
        "id": "Jt2Btz2P_9zO",
        "outputId": "e684ebe6-e9b4-4305-a522-d5d629ba0ec9"
      },
      "outputs": [
        {
          "output_type": "execute_result",
          "data": {
            "text/plain": [
              "            ball_01  ball_02  ball_03  ball_04  ball_05  ball_06\n",
              "date                                                            \n",
              "2022-05-11     31.0     56.0      6.0      4.0     50.0      9.0\n",
              "2022-05-14      1.0     37.0     36.0     21.0      8.0     27.0\n",
              "2022-05-18     32.0      1.0     57.0     44.0     35.0     45.0\n",
              "2022-05-21     54.0     49.0     34.0     38.0     40.0     20.0\n",
              "2022-05-25     59.0     36.0     41.0     54.0     14.0     11.0\n",
              "2022-05-28     60.0     12.0     38.0     47.0      5.0     32.0"
            ],
            "text/html": [
              "\n",
              "  <div id=\"df-16771339-6055-44fe-be2f-5f1379fec063\">\n",
              "    <div class=\"colab-df-container\">\n",
              "      <div>\n",
              "<style scoped>\n",
              "    .dataframe tbody tr th:only-of-type {\n",
              "        vertical-align: middle;\n",
              "    }\n",
              "\n",
              "    .dataframe tbody tr th {\n",
              "        vertical-align: top;\n",
              "    }\n",
              "\n",
              "    .dataframe thead th {\n",
              "        text-align: right;\n",
              "    }\n",
              "</style>\n",
              "<table border=\"1\" class=\"dataframe\">\n",
              "  <thead>\n",
              "    <tr style=\"text-align: right;\">\n",
              "      <th></th>\n",
              "      <th>ball_01</th>\n",
              "      <th>ball_02</th>\n",
              "      <th>ball_03</th>\n",
              "      <th>ball_04</th>\n",
              "      <th>ball_05</th>\n",
              "      <th>ball_06</th>\n",
              "    </tr>\n",
              "    <tr>\n",
              "      <th>date</th>\n",
              "      <th></th>\n",
              "      <th></th>\n",
              "      <th></th>\n",
              "      <th></th>\n",
              "      <th></th>\n",
              "      <th></th>\n",
              "    </tr>\n",
              "  </thead>\n",
              "  <tbody>\n",
              "    <tr>\n",
              "      <th>2022-05-11</th>\n",
              "      <td>31.0</td>\n",
              "      <td>56.0</td>\n",
              "      <td>6.0</td>\n",
              "      <td>4.0</td>\n",
              "      <td>50.0</td>\n",
              "      <td>9.0</td>\n",
              "    </tr>\n",
              "    <tr>\n",
              "      <th>2022-05-14</th>\n",
              "      <td>1.0</td>\n",
              "      <td>37.0</td>\n",
              "      <td>36.0</td>\n",
              "      <td>21.0</td>\n",
              "      <td>8.0</td>\n",
              "      <td>27.0</td>\n",
              "    </tr>\n",
              "    <tr>\n",
              "      <th>2022-05-18</th>\n",
              "      <td>32.0</td>\n",
              "      <td>1.0</td>\n",
              "      <td>57.0</td>\n",
              "      <td>44.0</td>\n",
              "      <td>35.0</td>\n",
              "      <td>45.0</td>\n",
              "    </tr>\n",
              "    <tr>\n",
              "      <th>2022-05-21</th>\n",
              "      <td>54.0</td>\n",
              "      <td>49.0</td>\n",
              "      <td>34.0</td>\n",
              "      <td>38.0</td>\n",
              "      <td>40.0</td>\n",
              "      <td>20.0</td>\n",
              "    </tr>\n",
              "    <tr>\n",
              "      <th>2022-05-25</th>\n",
              "      <td>59.0</td>\n",
              "      <td>36.0</td>\n",
              "      <td>41.0</td>\n",
              "      <td>54.0</td>\n",
              "      <td>14.0</td>\n",
              "      <td>11.0</td>\n",
              "    </tr>\n",
              "    <tr>\n",
              "      <th>2022-05-28</th>\n",
              "      <td>60.0</td>\n",
              "      <td>12.0</td>\n",
              "      <td>38.0</td>\n",
              "      <td>47.0</td>\n",
              "      <td>5.0</td>\n",
              "      <td>32.0</td>\n",
              "    </tr>\n",
              "  </tbody>\n",
              "</table>\n",
              "</div>\n",
              "      <button class=\"colab-df-convert\" onclick=\"convertToInteractive('df-16771339-6055-44fe-be2f-5f1379fec063')\"\n",
              "              title=\"Convert this dataframe to an interactive table.\"\n",
              "              style=\"display:none;\">\n",
              "        \n",
              "  <svg xmlns=\"http://www.w3.org/2000/svg\" height=\"24px\"viewBox=\"0 0 24 24\"\n",
              "       width=\"24px\">\n",
              "    <path d=\"M0 0h24v24H0V0z\" fill=\"none\"/>\n",
              "    <path d=\"M18.56 5.44l.94 2.06.94-2.06 2.06-.94-2.06-.94-.94-2.06-.94 2.06-2.06.94zm-11 1L8.5 8.5l.94-2.06 2.06-.94-2.06-.94L8.5 2.5l-.94 2.06-2.06.94zm10 10l.94 2.06.94-2.06 2.06-.94-2.06-.94-.94-2.06-.94 2.06-2.06.94z\"/><path d=\"M17.41 7.96l-1.37-1.37c-.4-.4-.92-.59-1.43-.59-.52 0-1.04.2-1.43.59L10.3 9.45l-7.72 7.72c-.78.78-.78 2.05 0 2.83L4 21.41c.39.39.9.59 1.41.59.51 0 1.02-.2 1.41-.59l7.78-7.78 2.81-2.81c.8-.78.8-2.07 0-2.86zM5.41 20L4 18.59l7.72-7.72 1.47 1.35L5.41 20z\"/>\n",
              "  </svg>\n",
              "      </button>\n",
              "      \n",
              "  <style>\n",
              "    .colab-df-container {\n",
              "      display:flex;\n",
              "      flex-wrap:wrap;\n",
              "      gap: 12px;\n",
              "    }\n",
              "\n",
              "    .colab-df-convert {\n",
              "      background-color: #E8F0FE;\n",
              "      border: none;\n",
              "      border-radius: 50%;\n",
              "      cursor: pointer;\n",
              "      display: none;\n",
              "      fill: #1967D2;\n",
              "      height: 32px;\n",
              "      padding: 0 0 0 0;\n",
              "      width: 32px;\n",
              "    }\n",
              "\n",
              "    .colab-df-convert:hover {\n",
              "      background-color: #E2EBFA;\n",
              "      box-shadow: 0px 1px 2px rgba(60, 64, 67, 0.3), 0px 1px 3px 1px rgba(60, 64, 67, 0.15);\n",
              "      fill: #174EA6;\n",
              "    }\n",
              "\n",
              "    [theme=dark] .colab-df-convert {\n",
              "      background-color: #3B4455;\n",
              "      fill: #D2E3FC;\n",
              "    }\n",
              "\n",
              "    [theme=dark] .colab-df-convert:hover {\n",
              "      background-color: #434B5C;\n",
              "      box-shadow: 0px 1px 3px 1px rgba(0, 0, 0, 0.15);\n",
              "      filter: drop-shadow(0px 1px 2px rgba(0, 0, 0, 0.3));\n",
              "      fill: #FFFFFF;\n",
              "    }\n",
              "  </style>\n",
              "\n",
              "      <script>\n",
              "        const buttonEl =\n",
              "          document.querySelector('#df-16771339-6055-44fe-be2f-5f1379fec063 button.colab-df-convert');\n",
              "        buttonEl.style.display =\n",
              "          google.colab.kernel.accessAllowed ? 'block' : 'none';\n",
              "\n",
              "        async function convertToInteractive(key) {\n",
              "          const element = document.querySelector('#df-16771339-6055-44fe-be2f-5f1379fec063');\n",
              "          const dataTable =\n",
              "            await google.colab.kernel.invokeFunction('convertToInteractive',\n",
              "                                                     [key], {});\n",
              "          if (!dataTable) return;\n",
              "\n",
              "          const docLinkHtml = 'Like what you see? Visit the ' +\n",
              "            '<a target=\"_blank\" href=https://colab.research.google.com/notebooks/data_table.ipynb>data table notebook</a>'\n",
              "            + ' to learn more about interactive tables.';\n",
              "          element.innerHTML = '';\n",
              "          dataTable['output_type'] = 'display_data';\n",
              "          await google.colab.output.renderOutput(dataTable, element);\n",
              "          const docLink = document.createElement('div');\n",
              "          docLink.innerHTML = docLinkHtml;\n",
              "          element.appendChild(docLink);\n",
              "        }\n",
              "      </script>\n",
              "    </div>\n",
              "  </div>\n",
              "  "
            ]
          },
          "metadata": {},
          "execution_count": 57
        }
      ],
      "source": [
        "mega_df_predicit = mega_df.tail(6)\n",
        "mega_df.drop([mega_df_predicit.index[-1]],axis=0, inplace=True)\n",
        "mega_df_predicit\n"
      ]
    },
    {
      "cell_type": "code",
      "execution_count": 58,
      "metadata": {
        "colab": {
          "base_uri": "https://localhost:8080/"
        },
        "id": "YG4U8by7_9zO",
        "outputId": "7098f630-ecc1-42df-8066-fb6914fec7ce"
      },
      "outputs": [
        {
          "output_type": "execute_result",
          "data": {
            "text/plain": [
              "array([[31., 56.,  6.,  4., 50.,  9.],\n",
              "       [ 1., 37., 36., 21.,  8., 27.],\n",
              "       [32.,  1., 57., 44., 35., 45.],\n",
              "       [54., 49., 34., 38., 40., 20.],\n",
              "       [59., 36., 41., 54., 14., 11.],\n",
              "       [60., 12., 38., 47.,  5., 32.]])"
            ]
          },
          "metadata": {},
          "execution_count": 58
        }
      ],
      "source": [
        "mega_df_predicit = np.array(mega_df_predicit)\n",
        "mega_df_predicit"
      ]
    },
    {
      "cell_type": "code",
      "execution_count": 59,
      "metadata": {
        "id": "H5frjfOID1el"
      },
      "outputs": [],
      "source": [
        "scaled_to_predict = scaler.transform(mega_df_predicit)"
      ]
    },
    {
      "cell_type": "code",
      "source": [
        "\n",
        "scaled_to_predict"
      ],
      "metadata": {
        "colab": {
          "base_uri": "https://localhost:8080/"
        },
        "id": "tQn5NUnSEHUD",
        "outputId": "d7d98fd1-89a6-487d-8347-e99151a5d717"
      },
      "execution_count": 60,
      "outputs": [
        {
          "output_type": "execute_result",
          "data": {
            "text/plain": [
              "array([[ 0.03091596,  1.48864439, -1.42768287, -1.55129717,  1.13243182,\n",
              "        -1.24471001],\n",
              "       [-1.70330866,  0.39440397,  0.30393281, -0.56553358, -1.31354217,\n",
              "        -0.19639747],\n",
              "       [ 0.08872344, -1.67889367,  1.51606379,  0.76814656,  0.25886968,\n",
              "         0.85191506],\n",
              "       [ 1.36048816,  1.08550318,  0.18849177,  0.42023   ,  0.55005706,\n",
              "        -0.60407457],\n",
              "       [ 1.6495256 ,  0.33681237,  0.59253543,  1.34800749, -0.96411732,\n",
              "        -1.12823084],\n",
              "       [ 1.70733308, -1.04538605,  0.41937386,  0.94210484, -1.4882546 ,\n",
              "         0.09480045]])"
            ]
          },
          "metadata": {},
          "execution_count": 60
        }
      ]
    },
    {
      "cell_type": "code",
      "execution_count": 61,
      "metadata": {
        "colab": {
          "base_uri": "https://localhost:8080/"
        },
        "id": "hD3arI-s_9zO",
        "outputId": "ab476caa-46ff-4a83-b795-bfc98ed33a0c"
      },
      "outputs": [
        {
          "output_type": "stream",
          "name": "stdout",
          "text": [
            "Numeros previstos: [28 26 29 30 30 31]\n"
          ]
        }
      ],
      "source": [
        "y_pred = model.predict(np.array([scaled_to_predict]))\n",
        "resulta=scaler.inverse_transform(y_pred).astype(int)[0]\n",
        "#print(\"Numeros previstos:\", scaler.inverse_transform(y_pred).astype(int)[0])\n",
        "print(\"Numeros previstos:\", resulta)"
      ]
    },
    {
      "cell_type": "code",
      "execution_count": 62,
      "metadata": {
        "colab": {
          "base_uri": "https://localhost:8080/"
        },
        "id": "Rz6nBsxV_9zP",
        "outputId": "ca803141-55ec-4148-a214-000b6b1b9023"
      },
      "outputs": [
        {
          "output_type": "stream",
          "name": "stdout",
          "text": [
            "Numeros sorteados: [21. 10. 35. 20. 17. 15.]\n"
          ]
        }
      ],
      "source": [
        "prediction = mega_df.tail(6)\n",
        "prediction = np.array(prediction)\n",
        "prediction_final = prediction[0]\n",
        "print(\"Numeros sorteados:\", prediction_final)"
      ]
    }
  ],
  "metadata": {
    "accelerator": "GPU",
    "colab": {
      "collapsed_sections": [],
      "name": "AMMStensorFlowKerasFuturos.ipynb",
      "provenance": [],
      "include_colab_link": true
    },
    "kernelspec": {
      "display_name": "Python 3",
      "language": "python",
      "name": "python3"
    },
    "language_info": {
      "codemirror_mode": {
        "name": "ipython",
        "version": 3
      },
      "file_extension": ".py",
      "mimetype": "text/x-python",
      "name": "python",
      "nbconvert_exporter": "python",
      "pygments_lexer": "ipython3",
      "version": "3.7.4"
    }
  },
  "nbformat": 4,
  "nbformat_minor": 0
}