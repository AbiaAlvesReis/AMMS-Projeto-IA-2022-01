{
  "cells": [
    {
      "cell_type": "markdown",
      "metadata": {
        "id": "view-in-github",
        "colab_type": "text"
      },
      "source": [
        "<a href=\"https://colab.research.google.com/github/AbiaAlvesReis/Projeto-IA-2022-01/blob/main/AMMStensorFlowKerasFuturos.ipynb\" target=\"_parent\"><img src=\"https://colab.research.google.com/assets/colab-badge.svg\" alt=\"Open In Colab\"/></a>"
      ]
    },
    {
      "cell_type": "code",
      "execution_count": null,
      "metadata": {
        "id": "cqI3K4Z1_9y_",
        "colab": {
          "base_uri": "https://localhost:8080/"
        },
        "outputId": "58bd183f-05b6-4742-a7c6-dd8121b7d630"
      },
      "outputs": [
        {
          "output_type": "stream",
          "name": "stdout",
          "text": [
            "Drive already mounted at /content/drive; to attempt to forcibly remount, call drive.mount(\"/content/drive\", force_remount=True).\n"
          ]
        }
      ],
      "source": [
        "# Import everything\n",
        "import numpy as np\n",
        "import pandas as pd\n",
        "from sklearn.preprocessing import StandardScaler\n",
        "import matplotlib.pyplot as plt\n",
        "import seaborn as sns\n",
        "%matplotlib inline\n",
        "\n",
        "from sklearn.preprocessing import StandardScaler\n",
        "from google.colab import drive\n",
        "\n",
        "drive.mount('/content/drive')"
      ]
    },
    {
      "cell_type": "code",
      "source": [
        "# Create a DataFrame\n",
        "mega_df = pd.read_excel('/content/drive/MyDrive/Colab Notebooks/dados testes /mega.xlsx', parse_dates=True, index_col=1)"
      ],
      "metadata": {
        "id": "SbUZAI-o3gWp"
      },
      "execution_count": null,
      "outputs": []
    },
    {
      "cell_type": "code",
      "source": [
        ""
      ],
      "metadata": {
        "id": "T2gS_gyl9AhV"
      },
      "execution_count": null,
      "outputs": []
    },
    {
      "cell_type": "code",
      "execution_count": null,
      "metadata": {
        "colab": {
          "base_uri": "https://localhost:8080/",
          "height": 238
        },
        "id": "gDHVObV5A_Tt",
        "outputId": "c540429c-fd41-47a7-fddd-584a1584e3af"
      },
      "outputs": [
        {
          "output_type": "execute_result",
          "data": {
            "text/plain": [
              "            lottery  ball_01  ball_02  ball_03  ball_04  ball_05  ball_06\n",
              "date                                                                     \n",
              "1996-03-11      1.0     41.0      5.0      4.0     52.0     30.0     33.0\n",
              "1996-03-18      2.0      9.0     39.0     37.0     49.0     43.0     41.0\n",
              "1996-03-25      3.0     36.0     30.0     10.0     11.0     29.0     47.0\n",
              "1996-04-01      4.0      6.0     59.0     42.0     27.0      1.0      5.0\n",
              "1996-04-08      5.0      1.0     19.0     46.0      6.0     16.0      2.0"
            ],
            "text/html": [
              "\n",
              "  <div id=\"df-37df85b5-2804-403d-b558-cb735a390c3e\">\n",
              "    <div class=\"colab-df-container\">\n",
              "      <div>\n",
              "<style scoped>\n",
              "    .dataframe tbody tr th:only-of-type {\n",
              "        vertical-align: middle;\n",
              "    }\n",
              "\n",
              "    .dataframe tbody tr th {\n",
              "        vertical-align: top;\n",
              "    }\n",
              "\n",
              "    .dataframe thead th {\n",
              "        text-align: right;\n",
              "    }\n",
              "</style>\n",
              "<table border=\"1\" class=\"dataframe\">\n",
              "  <thead>\n",
              "    <tr style=\"text-align: right;\">\n",
              "      <th></th>\n",
              "      <th>lottery</th>\n",
              "      <th>ball_01</th>\n",
              "      <th>ball_02</th>\n",
              "      <th>ball_03</th>\n",
              "      <th>ball_04</th>\n",
              "      <th>ball_05</th>\n",
              "      <th>ball_06</th>\n",
              "    </tr>\n",
              "    <tr>\n",
              "      <th>date</th>\n",
              "      <th></th>\n",
              "      <th></th>\n",
              "      <th></th>\n",
              "      <th></th>\n",
              "      <th></th>\n",
              "      <th></th>\n",
              "      <th></th>\n",
              "    </tr>\n",
              "  </thead>\n",
              "  <tbody>\n",
              "    <tr>\n",
              "      <th>1996-03-11</th>\n",
              "      <td>1.0</td>\n",
              "      <td>41.0</td>\n",
              "      <td>5.0</td>\n",
              "      <td>4.0</td>\n",
              "      <td>52.0</td>\n",
              "      <td>30.0</td>\n",
              "      <td>33.0</td>\n",
              "    </tr>\n",
              "    <tr>\n",
              "      <th>1996-03-18</th>\n",
              "      <td>2.0</td>\n",
              "      <td>9.0</td>\n",
              "      <td>39.0</td>\n",
              "      <td>37.0</td>\n",
              "      <td>49.0</td>\n",
              "      <td>43.0</td>\n",
              "      <td>41.0</td>\n",
              "    </tr>\n",
              "    <tr>\n",
              "      <th>1996-03-25</th>\n",
              "      <td>3.0</td>\n",
              "      <td>36.0</td>\n",
              "      <td>30.0</td>\n",
              "      <td>10.0</td>\n",
              "      <td>11.0</td>\n",
              "      <td>29.0</td>\n",
              "      <td>47.0</td>\n",
              "    </tr>\n",
              "    <tr>\n",
              "      <th>1996-04-01</th>\n",
              "      <td>4.0</td>\n",
              "      <td>6.0</td>\n",
              "      <td>59.0</td>\n",
              "      <td>42.0</td>\n",
              "      <td>27.0</td>\n",
              "      <td>1.0</td>\n",
              "      <td>5.0</td>\n",
              "    </tr>\n",
              "    <tr>\n",
              "      <th>1996-04-08</th>\n",
              "      <td>5.0</td>\n",
              "      <td>1.0</td>\n",
              "      <td>19.0</td>\n",
              "      <td>46.0</td>\n",
              "      <td>6.0</td>\n",
              "      <td>16.0</td>\n",
              "      <td>2.0</td>\n",
              "    </tr>\n",
              "  </tbody>\n",
              "</table>\n",
              "</div>\n",
              "      <button class=\"colab-df-convert\" onclick=\"convertToInteractive('df-37df85b5-2804-403d-b558-cb735a390c3e')\"\n",
              "              title=\"Convert this dataframe to an interactive table.\"\n",
              "              style=\"display:none;\">\n",
              "        \n",
              "  <svg xmlns=\"http://www.w3.org/2000/svg\" height=\"24px\"viewBox=\"0 0 24 24\"\n",
              "       width=\"24px\">\n",
              "    <path d=\"M0 0h24v24H0V0z\" fill=\"none\"/>\n",
              "    <path d=\"M18.56 5.44l.94 2.06.94-2.06 2.06-.94-2.06-.94-.94-2.06-.94 2.06-2.06.94zm-11 1L8.5 8.5l.94-2.06 2.06-.94-2.06-.94L8.5 2.5l-.94 2.06-2.06.94zm10 10l.94 2.06.94-2.06 2.06-.94-2.06-.94-.94-2.06-.94 2.06-2.06.94z\"/><path d=\"M17.41 7.96l-1.37-1.37c-.4-.4-.92-.59-1.43-.59-.52 0-1.04.2-1.43.59L10.3 9.45l-7.72 7.72c-.78.78-.78 2.05 0 2.83L4 21.41c.39.39.9.59 1.41.59.51 0 1.02-.2 1.41-.59l7.78-7.78 2.81-2.81c.8-.78.8-2.07 0-2.86zM5.41 20L4 18.59l7.72-7.72 1.47 1.35L5.41 20z\"/>\n",
              "  </svg>\n",
              "      </button>\n",
              "      \n",
              "  <style>\n",
              "    .colab-df-container {\n",
              "      display:flex;\n",
              "      flex-wrap:wrap;\n",
              "      gap: 12px;\n",
              "    }\n",
              "\n",
              "    .colab-df-convert {\n",
              "      background-color: #E8F0FE;\n",
              "      border: none;\n",
              "      border-radius: 50%;\n",
              "      cursor: pointer;\n",
              "      display: none;\n",
              "      fill: #1967D2;\n",
              "      height: 32px;\n",
              "      padding: 0 0 0 0;\n",
              "      width: 32px;\n",
              "    }\n",
              "\n",
              "    .colab-df-convert:hover {\n",
              "      background-color: #E2EBFA;\n",
              "      box-shadow: 0px 1px 2px rgba(60, 64, 67, 0.3), 0px 1px 3px 1px rgba(60, 64, 67, 0.15);\n",
              "      fill: #174EA6;\n",
              "    }\n",
              "\n",
              "    [theme=dark] .colab-df-convert {\n",
              "      background-color: #3B4455;\n",
              "      fill: #D2E3FC;\n",
              "    }\n",
              "\n",
              "    [theme=dark] .colab-df-convert:hover {\n",
              "      background-color: #434B5C;\n",
              "      box-shadow: 0px 1px 3px 1px rgba(0, 0, 0, 0.15);\n",
              "      filter: drop-shadow(0px 1px 2px rgba(0, 0, 0, 0.3));\n",
              "      fill: #FFFFFF;\n",
              "    }\n",
              "  </style>\n",
              "\n",
              "      <script>\n",
              "        const buttonEl =\n",
              "          document.querySelector('#df-37df85b5-2804-403d-b558-cb735a390c3e button.colab-df-convert');\n",
              "        buttonEl.style.display =\n",
              "          google.colab.kernel.accessAllowed ? 'block' : 'none';\n",
              "\n",
              "        async function convertToInteractive(key) {\n",
              "          const element = document.querySelector('#df-37df85b5-2804-403d-b558-cb735a390c3e');\n",
              "          const dataTable =\n",
              "            await google.colab.kernel.invokeFunction('convertToInteractive',\n",
              "                                                     [key], {});\n",
              "          if (!dataTable) return;\n",
              "\n",
              "          const docLinkHtml = 'Like what you see? Visit the ' +\n",
              "            '<a target=\"_blank\" href=https://colab.research.google.com/notebooks/data_table.ipynb>data table notebook</a>'\n",
              "            + ' to learn more about interactive tables.';\n",
              "          element.innerHTML = '';\n",
              "          dataTable['output_type'] = 'display_data';\n",
              "          await google.colab.output.renderOutput(dataTable, element);\n",
              "          const docLink = document.createElement('div');\n",
              "          docLink.innerHTML = docLinkHtml;\n",
              "          element.appendChild(docLink);\n",
              "        }\n",
              "      </script>\n",
              "    </div>\n",
              "  </div>\n",
              "  "
            ]
          },
          "metadata": {},
          "execution_count": 168
        }
      ],
      "source": [
        "mega_df.head()"
      ]
    },
    {
      "cell_type": "code",
      "execution_count": null,
      "metadata": {
        "colab": {
          "base_uri": "https://localhost:8080/",
          "height": 238
        },
        "id": "HjWDe-HI_9zD",
        "outputId": "399e9329-2e5e-460c-82bc-311619cff133"
      },
      "outputs": [
        {
          "output_type": "execute_result",
          "data": {
            "text/plain": [
              "            lottery  ball_01  ball_02  ball_03  ball_04  ball_05  ball_06\n",
              "date                                                                     \n",
              "2022-05-14   2481.0      1.0     37.0     36.0     21.0      8.0     27.0\n",
              "2022-05-18   2482.0     32.0      1.0     57.0     44.0     35.0     45.0\n",
              "2022-05-21   2483.0     54.0     49.0     34.0     38.0     40.0     20.0\n",
              "2022-05-25   2484.0     59.0     36.0     41.0     54.0     14.0     11.0\n",
              "2022-05-28   2485.0     60.0     12.0     38.0     47.0      5.0     32.0"
            ],
            "text/html": [
              "\n",
              "  <div id=\"df-7fdfe7a3-f72b-4a42-9ef6-e36210799bd4\">\n",
              "    <div class=\"colab-df-container\">\n",
              "      <div>\n",
              "<style scoped>\n",
              "    .dataframe tbody tr th:only-of-type {\n",
              "        vertical-align: middle;\n",
              "    }\n",
              "\n",
              "    .dataframe tbody tr th {\n",
              "        vertical-align: top;\n",
              "    }\n",
              "\n",
              "    .dataframe thead th {\n",
              "        text-align: right;\n",
              "    }\n",
              "</style>\n",
              "<table border=\"1\" class=\"dataframe\">\n",
              "  <thead>\n",
              "    <tr style=\"text-align: right;\">\n",
              "      <th></th>\n",
              "      <th>lottery</th>\n",
              "      <th>ball_01</th>\n",
              "      <th>ball_02</th>\n",
              "      <th>ball_03</th>\n",
              "      <th>ball_04</th>\n",
              "      <th>ball_05</th>\n",
              "      <th>ball_06</th>\n",
              "    </tr>\n",
              "    <tr>\n",
              "      <th>date</th>\n",
              "      <th></th>\n",
              "      <th></th>\n",
              "      <th></th>\n",
              "      <th></th>\n",
              "      <th></th>\n",
              "      <th></th>\n",
              "      <th></th>\n",
              "    </tr>\n",
              "  </thead>\n",
              "  <tbody>\n",
              "    <tr>\n",
              "      <th>2022-05-14</th>\n",
              "      <td>2481.0</td>\n",
              "      <td>1.0</td>\n",
              "      <td>37.0</td>\n",
              "      <td>36.0</td>\n",
              "      <td>21.0</td>\n",
              "      <td>8.0</td>\n",
              "      <td>27.0</td>\n",
              "    </tr>\n",
              "    <tr>\n",
              "      <th>2022-05-18</th>\n",
              "      <td>2482.0</td>\n",
              "      <td>32.0</td>\n",
              "      <td>1.0</td>\n",
              "      <td>57.0</td>\n",
              "      <td>44.0</td>\n",
              "      <td>35.0</td>\n",
              "      <td>45.0</td>\n",
              "    </tr>\n",
              "    <tr>\n",
              "      <th>2022-05-21</th>\n",
              "      <td>2483.0</td>\n",
              "      <td>54.0</td>\n",
              "      <td>49.0</td>\n",
              "      <td>34.0</td>\n",
              "      <td>38.0</td>\n",
              "      <td>40.0</td>\n",
              "      <td>20.0</td>\n",
              "    </tr>\n",
              "    <tr>\n",
              "      <th>2022-05-25</th>\n",
              "      <td>2484.0</td>\n",
              "      <td>59.0</td>\n",
              "      <td>36.0</td>\n",
              "      <td>41.0</td>\n",
              "      <td>54.0</td>\n",
              "      <td>14.0</td>\n",
              "      <td>11.0</td>\n",
              "    </tr>\n",
              "    <tr>\n",
              "      <th>2022-05-28</th>\n",
              "      <td>2485.0</td>\n",
              "      <td>60.0</td>\n",
              "      <td>12.0</td>\n",
              "      <td>38.0</td>\n",
              "      <td>47.0</td>\n",
              "      <td>5.0</td>\n",
              "      <td>32.0</td>\n",
              "    </tr>\n",
              "  </tbody>\n",
              "</table>\n",
              "</div>\n",
              "      <button class=\"colab-df-convert\" onclick=\"convertToInteractive('df-7fdfe7a3-f72b-4a42-9ef6-e36210799bd4')\"\n",
              "              title=\"Convert this dataframe to an interactive table.\"\n",
              "              style=\"display:none;\">\n",
              "        \n",
              "  <svg xmlns=\"http://www.w3.org/2000/svg\" height=\"24px\"viewBox=\"0 0 24 24\"\n",
              "       width=\"24px\">\n",
              "    <path d=\"M0 0h24v24H0V0z\" fill=\"none\"/>\n",
              "    <path d=\"M18.56 5.44l.94 2.06.94-2.06 2.06-.94-2.06-.94-.94-2.06-.94 2.06-2.06.94zm-11 1L8.5 8.5l.94-2.06 2.06-.94-2.06-.94L8.5 2.5l-.94 2.06-2.06.94zm10 10l.94 2.06.94-2.06 2.06-.94-2.06-.94-.94-2.06-.94 2.06-2.06.94z\"/><path d=\"M17.41 7.96l-1.37-1.37c-.4-.4-.92-.59-1.43-.59-.52 0-1.04.2-1.43.59L10.3 9.45l-7.72 7.72c-.78.78-.78 2.05 0 2.83L4 21.41c.39.39.9.59 1.41.59.51 0 1.02-.2 1.41-.59l7.78-7.78 2.81-2.81c.8-.78.8-2.07 0-2.86zM5.41 20L4 18.59l7.72-7.72 1.47 1.35L5.41 20z\"/>\n",
              "  </svg>\n",
              "      </button>\n",
              "      \n",
              "  <style>\n",
              "    .colab-df-container {\n",
              "      display:flex;\n",
              "      flex-wrap:wrap;\n",
              "      gap: 12px;\n",
              "    }\n",
              "\n",
              "    .colab-df-convert {\n",
              "      background-color: #E8F0FE;\n",
              "      border: none;\n",
              "      border-radius: 50%;\n",
              "      cursor: pointer;\n",
              "      display: none;\n",
              "      fill: #1967D2;\n",
              "      height: 32px;\n",
              "      padding: 0 0 0 0;\n",
              "      width: 32px;\n",
              "    }\n",
              "\n",
              "    .colab-df-convert:hover {\n",
              "      background-color: #E2EBFA;\n",
              "      box-shadow: 0px 1px 2px rgba(60, 64, 67, 0.3), 0px 1px 3px 1px rgba(60, 64, 67, 0.15);\n",
              "      fill: #174EA6;\n",
              "    }\n",
              "\n",
              "    [theme=dark] .colab-df-convert {\n",
              "      background-color: #3B4455;\n",
              "      fill: #D2E3FC;\n",
              "    }\n",
              "\n",
              "    [theme=dark] .colab-df-convert:hover {\n",
              "      background-color: #434B5C;\n",
              "      box-shadow: 0px 1px 3px 1px rgba(0, 0, 0, 0.15);\n",
              "      filter: drop-shadow(0px 1px 2px rgba(0, 0, 0, 0.3));\n",
              "      fill: #FFFFFF;\n",
              "    }\n",
              "  </style>\n",
              "\n",
              "      <script>\n",
              "        const buttonEl =\n",
              "          document.querySelector('#df-7fdfe7a3-f72b-4a42-9ef6-e36210799bd4 button.colab-df-convert');\n",
              "        buttonEl.style.display =\n",
              "          google.colab.kernel.accessAllowed ? 'block' : 'none';\n",
              "\n",
              "        async function convertToInteractive(key) {\n",
              "          const element = document.querySelector('#df-7fdfe7a3-f72b-4a42-9ef6-e36210799bd4');\n",
              "          const dataTable =\n",
              "            await google.colab.kernel.invokeFunction('convertToInteractive',\n",
              "                                                     [key], {});\n",
              "          if (!dataTable) return;\n",
              "\n",
              "          const docLinkHtml = 'Like what you see? Visit the ' +\n",
              "            '<a target=\"_blank\" href=https://colab.research.google.com/notebooks/data_table.ipynb>data table notebook</a>'\n",
              "            + ' to learn more about interactive tables.';\n",
              "          element.innerHTML = '';\n",
              "          dataTable['output_type'] = 'display_data';\n",
              "          await google.colab.output.renderOutput(dataTable, element);\n",
              "          const docLink = document.createElement('div');\n",
              "          docLink.innerHTML = docLinkHtml;\n",
              "          element.appendChild(docLink);\n",
              "        }\n",
              "      </script>\n",
              "    </div>\n",
              "  </div>\n",
              "  "
            ]
          },
          "metadata": {},
          "execution_count": 169
        }
      ],
      "source": [
        "mega_df.tail()"
      ]
    },
    {
      "cell_type": "code",
      "execution_count": null,
      "metadata": {
        "colab": {
          "base_uri": "https://localhost:8080/"
        },
        "id": "-LixHJ-m_9zE",
        "outputId": "05217766-d6e9-453b-d77c-55f34932285c"
      },
      "outputs": [
        {
          "output_type": "stream",
          "name": "stdout",
          "text": [
            "<class 'pandas.core.frame.DataFrame'>\n",
            "DatetimeIndex: 2485 entries, 1996-03-11 to 2022-05-28\n",
            "Data columns (total 7 columns):\n",
            " #   Column   Non-Null Count  Dtype  \n",
            "---  ------   --------------  -----  \n",
            " 0   lottery  2485 non-null   float64\n",
            " 1   ball_01  2485 non-null   float64\n",
            " 2   ball_02  2485 non-null   float64\n",
            " 3   ball_03  2485 non-null   float64\n",
            " 4   ball_04  2485 non-null   float64\n",
            " 5   ball_05  2485 non-null   float64\n",
            " 6   ball_06  2485 non-null   float64\n",
            "dtypes: float64(7)\n",
            "memory usage: 155.3 KB\n"
          ]
        }
      ],
      "source": [
        "mega_df.info()"
      ]
    },
    {
      "cell_type": "code",
      "execution_count": null,
      "metadata": {
        "colab": {
          "base_uri": "https://localhost:8080/",
          "height": 300
        },
        "id": "nDx9p9qZ_9zF",
        "outputId": "a4bdf6ce-551e-4b0b-c80e-4a004b799f1d"
      },
      "outputs": [
        {
          "output_type": "execute_result",
          "data": {
            "text/plain": [
              "           lottery      ball_01      ball_02      ball_03      ball_04  \\\n",
              "count  2485.000000  2485.000000  2485.000000  2485.000000  2485.000000   \n",
              "mean   1243.000000    30.465191    30.151710    30.734406    30.752918   \n",
              "std     717.502033    17.302279    17.367138    17.328347    17.248985   \n",
              "min       1.000000     1.000000     1.000000     1.000000     1.000000   \n",
              "25%     622.000000    16.000000    15.000000    16.000000    16.000000   \n",
              "50%    1243.000000    30.000000    31.000000    31.000000    31.000000   \n",
              "75%    1864.000000    45.000000    45.000000    45.000000    45.000000   \n",
              "max    2485.000000    60.000000    60.000000    60.000000    60.000000   \n",
              "\n",
              "          ball_05      ball_06  \n",
              "count  2485.00000  2485.000000  \n",
              "mean     30.55493    30.372233  \n",
              "std      17.17453    17.173908  \n",
              "min       1.00000     1.000000  \n",
              "25%      15.00000    16.000000  \n",
              "50%      31.00000    30.000000  \n",
              "75%      45.00000    45.000000  \n",
              "max      60.00000    60.000000  "
            ],
            "text/html": [
              "\n",
              "  <div id=\"df-2075b086-9f5e-48e9-9fd8-b7208a71e849\">\n",
              "    <div class=\"colab-df-container\">\n",
              "      <div>\n",
              "<style scoped>\n",
              "    .dataframe tbody tr th:only-of-type {\n",
              "        vertical-align: middle;\n",
              "    }\n",
              "\n",
              "    .dataframe tbody tr th {\n",
              "        vertical-align: top;\n",
              "    }\n",
              "\n",
              "    .dataframe thead th {\n",
              "        text-align: right;\n",
              "    }\n",
              "</style>\n",
              "<table border=\"1\" class=\"dataframe\">\n",
              "  <thead>\n",
              "    <tr style=\"text-align: right;\">\n",
              "      <th></th>\n",
              "      <th>lottery</th>\n",
              "      <th>ball_01</th>\n",
              "      <th>ball_02</th>\n",
              "      <th>ball_03</th>\n",
              "      <th>ball_04</th>\n",
              "      <th>ball_05</th>\n",
              "      <th>ball_06</th>\n",
              "    </tr>\n",
              "  </thead>\n",
              "  <tbody>\n",
              "    <tr>\n",
              "      <th>count</th>\n",
              "      <td>2485.000000</td>\n",
              "      <td>2485.000000</td>\n",
              "      <td>2485.000000</td>\n",
              "      <td>2485.000000</td>\n",
              "      <td>2485.000000</td>\n",
              "      <td>2485.00000</td>\n",
              "      <td>2485.000000</td>\n",
              "    </tr>\n",
              "    <tr>\n",
              "      <th>mean</th>\n",
              "      <td>1243.000000</td>\n",
              "      <td>30.465191</td>\n",
              "      <td>30.151710</td>\n",
              "      <td>30.734406</td>\n",
              "      <td>30.752918</td>\n",
              "      <td>30.55493</td>\n",
              "      <td>30.372233</td>\n",
              "    </tr>\n",
              "    <tr>\n",
              "      <th>std</th>\n",
              "      <td>717.502033</td>\n",
              "      <td>17.302279</td>\n",
              "      <td>17.367138</td>\n",
              "      <td>17.328347</td>\n",
              "      <td>17.248985</td>\n",
              "      <td>17.17453</td>\n",
              "      <td>17.173908</td>\n",
              "    </tr>\n",
              "    <tr>\n",
              "      <th>min</th>\n",
              "      <td>1.000000</td>\n",
              "      <td>1.000000</td>\n",
              "      <td>1.000000</td>\n",
              "      <td>1.000000</td>\n",
              "      <td>1.000000</td>\n",
              "      <td>1.00000</td>\n",
              "      <td>1.000000</td>\n",
              "    </tr>\n",
              "    <tr>\n",
              "      <th>25%</th>\n",
              "      <td>622.000000</td>\n",
              "      <td>16.000000</td>\n",
              "      <td>15.000000</td>\n",
              "      <td>16.000000</td>\n",
              "      <td>16.000000</td>\n",
              "      <td>15.00000</td>\n",
              "      <td>16.000000</td>\n",
              "    </tr>\n",
              "    <tr>\n",
              "      <th>50%</th>\n",
              "      <td>1243.000000</td>\n",
              "      <td>30.000000</td>\n",
              "      <td>31.000000</td>\n",
              "      <td>31.000000</td>\n",
              "      <td>31.000000</td>\n",
              "      <td>31.00000</td>\n",
              "      <td>30.000000</td>\n",
              "    </tr>\n",
              "    <tr>\n",
              "      <th>75%</th>\n",
              "      <td>1864.000000</td>\n",
              "      <td>45.000000</td>\n",
              "      <td>45.000000</td>\n",
              "      <td>45.000000</td>\n",
              "      <td>45.000000</td>\n",
              "      <td>45.00000</td>\n",
              "      <td>45.000000</td>\n",
              "    </tr>\n",
              "    <tr>\n",
              "      <th>max</th>\n",
              "      <td>2485.000000</td>\n",
              "      <td>60.000000</td>\n",
              "      <td>60.000000</td>\n",
              "      <td>60.000000</td>\n",
              "      <td>60.000000</td>\n",
              "      <td>60.00000</td>\n",
              "      <td>60.000000</td>\n",
              "    </tr>\n",
              "  </tbody>\n",
              "</table>\n",
              "</div>\n",
              "      <button class=\"colab-df-convert\" onclick=\"convertToInteractive('df-2075b086-9f5e-48e9-9fd8-b7208a71e849')\"\n",
              "              title=\"Convert this dataframe to an interactive table.\"\n",
              "              style=\"display:none;\">\n",
              "        \n",
              "  <svg xmlns=\"http://www.w3.org/2000/svg\" height=\"24px\"viewBox=\"0 0 24 24\"\n",
              "       width=\"24px\">\n",
              "    <path d=\"M0 0h24v24H0V0z\" fill=\"none\"/>\n",
              "    <path d=\"M18.56 5.44l.94 2.06.94-2.06 2.06-.94-2.06-.94-.94-2.06-.94 2.06-2.06.94zm-11 1L8.5 8.5l.94-2.06 2.06-.94-2.06-.94L8.5 2.5l-.94 2.06-2.06.94zm10 10l.94 2.06.94-2.06 2.06-.94-2.06-.94-.94-2.06-.94 2.06-2.06.94z\"/><path d=\"M17.41 7.96l-1.37-1.37c-.4-.4-.92-.59-1.43-.59-.52 0-1.04.2-1.43.59L10.3 9.45l-7.72 7.72c-.78.78-.78 2.05 0 2.83L4 21.41c.39.39.9.59 1.41.59.51 0 1.02-.2 1.41-.59l7.78-7.78 2.81-2.81c.8-.78.8-2.07 0-2.86zM5.41 20L4 18.59l7.72-7.72 1.47 1.35L5.41 20z\"/>\n",
              "  </svg>\n",
              "      </button>\n",
              "      \n",
              "  <style>\n",
              "    .colab-df-container {\n",
              "      display:flex;\n",
              "      flex-wrap:wrap;\n",
              "      gap: 12px;\n",
              "    }\n",
              "\n",
              "    .colab-df-convert {\n",
              "      background-color: #E8F0FE;\n",
              "      border: none;\n",
              "      border-radius: 50%;\n",
              "      cursor: pointer;\n",
              "      display: none;\n",
              "      fill: #1967D2;\n",
              "      height: 32px;\n",
              "      padding: 0 0 0 0;\n",
              "      width: 32px;\n",
              "    }\n",
              "\n",
              "    .colab-df-convert:hover {\n",
              "      background-color: #E2EBFA;\n",
              "      box-shadow: 0px 1px 2px rgba(60, 64, 67, 0.3), 0px 1px 3px 1px rgba(60, 64, 67, 0.15);\n",
              "      fill: #174EA6;\n",
              "    }\n",
              "\n",
              "    [theme=dark] .colab-df-convert {\n",
              "      background-color: #3B4455;\n",
              "      fill: #D2E3FC;\n",
              "    }\n",
              "\n",
              "    [theme=dark] .colab-df-convert:hover {\n",
              "      background-color: #434B5C;\n",
              "      box-shadow: 0px 1px 3px 1px rgba(0, 0, 0, 0.15);\n",
              "      filter: drop-shadow(0px 1px 2px rgba(0, 0, 0, 0.3));\n",
              "      fill: #FFFFFF;\n",
              "    }\n",
              "  </style>\n",
              "\n",
              "      <script>\n",
              "        const buttonEl =\n",
              "          document.querySelector('#df-2075b086-9f5e-48e9-9fd8-b7208a71e849 button.colab-df-convert');\n",
              "        buttonEl.style.display =\n",
              "          google.colab.kernel.accessAllowed ? 'block' : 'none';\n",
              "\n",
              "        async function convertToInteractive(key) {\n",
              "          const element = document.querySelector('#df-2075b086-9f5e-48e9-9fd8-b7208a71e849');\n",
              "          const dataTable =\n",
              "            await google.colab.kernel.invokeFunction('convertToInteractive',\n",
              "                                                     [key], {});\n",
              "          if (!dataTable) return;\n",
              "\n",
              "          const docLinkHtml = 'Like what you see? Visit the ' +\n",
              "            '<a target=\"_blank\" href=https://colab.research.google.com/notebooks/data_table.ipynb>data table notebook</a>'\n",
              "            + ' to learn more about interactive tables.';\n",
              "          element.innerHTML = '';\n",
              "          dataTable['output_type'] = 'display_data';\n",
              "          await google.colab.output.renderOutput(dataTable, element);\n",
              "          const docLink = document.createElement('div');\n",
              "          docLink.innerHTML = docLinkHtml;\n",
              "          element.appendChild(docLink);\n",
              "        }\n",
              "      </script>\n",
              "    </div>\n",
              "  </div>\n",
              "  "
            ]
          },
          "metadata": {},
          "execution_count": 171
        }
      ],
      "source": [
        "mega_df.describe()"
      ]
    },
    {
      "cell_type": "code",
      "execution_count": null,
      "metadata": {
        "id": "wXq7yEJi_9zF"
      },
      "outputs": [],
      "source": [
        "mega_df.drop('lottery', inplace=True, axis=1)"
      ]
    },
    {
      "cell_type": "code",
      "source": [
        "#df.drop('date', inplace=True, axis=1)"
      ],
      "metadata": {
        "id": "RzfJicOv4j3N"
      },
      "execution_count": null,
      "outputs": []
    },
    {
      "cell_type": "code",
      "execution_count": null,
      "metadata": {
        "colab": {
          "base_uri": "https://localhost:8080/",
          "height": 238
        },
        "id": "kHj-RrWP_9zG",
        "outputId": "5fbb1271-326b-49ce-da2b-a90699b77834",
        "scrolled": true
      },
      "outputs": [
        {
          "output_type": "execute_result",
          "data": {
            "text/plain": [
              "            ball_01  ball_02  ball_03  ball_04  ball_05  ball_06\n",
              "date                                                            \n",
              "1996-03-11     41.0      5.0      4.0     52.0     30.0     33.0\n",
              "1996-03-18      9.0     39.0     37.0     49.0     43.0     41.0\n",
              "1996-03-25     36.0     30.0     10.0     11.0     29.0     47.0\n",
              "1996-04-01      6.0     59.0     42.0     27.0      1.0      5.0\n",
              "1996-04-08      1.0     19.0     46.0      6.0     16.0      2.0"
            ],
            "text/html": [
              "\n",
              "  <div id=\"df-1831f6d0-dc44-4580-a64d-8c1eb83184b6\">\n",
              "    <div class=\"colab-df-container\">\n",
              "      <div>\n",
              "<style scoped>\n",
              "    .dataframe tbody tr th:only-of-type {\n",
              "        vertical-align: middle;\n",
              "    }\n",
              "\n",
              "    .dataframe tbody tr th {\n",
              "        vertical-align: top;\n",
              "    }\n",
              "\n",
              "    .dataframe thead th {\n",
              "        text-align: right;\n",
              "    }\n",
              "</style>\n",
              "<table border=\"1\" class=\"dataframe\">\n",
              "  <thead>\n",
              "    <tr style=\"text-align: right;\">\n",
              "      <th></th>\n",
              "      <th>ball_01</th>\n",
              "      <th>ball_02</th>\n",
              "      <th>ball_03</th>\n",
              "      <th>ball_04</th>\n",
              "      <th>ball_05</th>\n",
              "      <th>ball_06</th>\n",
              "    </tr>\n",
              "    <tr>\n",
              "      <th>date</th>\n",
              "      <th></th>\n",
              "      <th></th>\n",
              "      <th></th>\n",
              "      <th></th>\n",
              "      <th></th>\n",
              "      <th></th>\n",
              "    </tr>\n",
              "  </thead>\n",
              "  <tbody>\n",
              "    <tr>\n",
              "      <th>1996-03-11</th>\n",
              "      <td>41.0</td>\n",
              "      <td>5.0</td>\n",
              "      <td>4.0</td>\n",
              "      <td>52.0</td>\n",
              "      <td>30.0</td>\n",
              "      <td>33.0</td>\n",
              "    </tr>\n",
              "    <tr>\n",
              "      <th>1996-03-18</th>\n",
              "      <td>9.0</td>\n",
              "      <td>39.0</td>\n",
              "      <td>37.0</td>\n",
              "      <td>49.0</td>\n",
              "      <td>43.0</td>\n",
              "      <td>41.0</td>\n",
              "    </tr>\n",
              "    <tr>\n",
              "      <th>1996-03-25</th>\n",
              "      <td>36.0</td>\n",
              "      <td>30.0</td>\n",
              "      <td>10.0</td>\n",
              "      <td>11.0</td>\n",
              "      <td>29.0</td>\n",
              "      <td>47.0</td>\n",
              "    </tr>\n",
              "    <tr>\n",
              "      <th>1996-04-01</th>\n",
              "      <td>6.0</td>\n",
              "      <td>59.0</td>\n",
              "      <td>42.0</td>\n",
              "      <td>27.0</td>\n",
              "      <td>1.0</td>\n",
              "      <td>5.0</td>\n",
              "    </tr>\n",
              "    <tr>\n",
              "      <th>1996-04-08</th>\n",
              "      <td>1.0</td>\n",
              "      <td>19.0</td>\n",
              "      <td>46.0</td>\n",
              "      <td>6.0</td>\n",
              "      <td>16.0</td>\n",
              "      <td>2.0</td>\n",
              "    </tr>\n",
              "  </tbody>\n",
              "</table>\n",
              "</div>\n",
              "      <button class=\"colab-df-convert\" onclick=\"convertToInteractive('df-1831f6d0-dc44-4580-a64d-8c1eb83184b6')\"\n",
              "              title=\"Convert this dataframe to an interactive table.\"\n",
              "              style=\"display:none;\">\n",
              "        \n",
              "  <svg xmlns=\"http://www.w3.org/2000/svg\" height=\"24px\"viewBox=\"0 0 24 24\"\n",
              "       width=\"24px\">\n",
              "    <path d=\"M0 0h24v24H0V0z\" fill=\"none\"/>\n",
              "    <path d=\"M18.56 5.44l.94 2.06.94-2.06 2.06-.94-2.06-.94-.94-2.06-.94 2.06-2.06.94zm-11 1L8.5 8.5l.94-2.06 2.06-.94-2.06-.94L8.5 2.5l-.94 2.06-2.06.94zm10 10l.94 2.06.94-2.06 2.06-.94-2.06-.94-.94-2.06-.94 2.06-2.06.94z\"/><path d=\"M17.41 7.96l-1.37-1.37c-.4-.4-.92-.59-1.43-.59-.52 0-1.04.2-1.43.59L10.3 9.45l-7.72 7.72c-.78.78-.78 2.05 0 2.83L4 21.41c.39.39.9.59 1.41.59.51 0 1.02-.2 1.41-.59l7.78-7.78 2.81-2.81c.8-.78.8-2.07 0-2.86zM5.41 20L4 18.59l7.72-7.72 1.47 1.35L5.41 20z\"/>\n",
              "  </svg>\n",
              "      </button>\n",
              "      \n",
              "  <style>\n",
              "    .colab-df-container {\n",
              "      display:flex;\n",
              "      flex-wrap:wrap;\n",
              "      gap: 12px;\n",
              "    }\n",
              "\n",
              "    .colab-df-convert {\n",
              "      background-color: #E8F0FE;\n",
              "      border: none;\n",
              "      border-radius: 50%;\n",
              "      cursor: pointer;\n",
              "      display: none;\n",
              "      fill: #1967D2;\n",
              "      height: 32px;\n",
              "      padding: 0 0 0 0;\n",
              "      width: 32px;\n",
              "    }\n",
              "\n",
              "    .colab-df-convert:hover {\n",
              "      background-color: #E2EBFA;\n",
              "      box-shadow: 0px 1px 2px rgba(60, 64, 67, 0.3), 0px 1px 3px 1px rgba(60, 64, 67, 0.15);\n",
              "      fill: #174EA6;\n",
              "    }\n",
              "\n",
              "    [theme=dark] .colab-df-convert {\n",
              "      background-color: #3B4455;\n",
              "      fill: #D2E3FC;\n",
              "    }\n",
              "\n",
              "    [theme=dark] .colab-df-convert:hover {\n",
              "      background-color: #434B5C;\n",
              "      box-shadow: 0px 1px 3px 1px rgba(0, 0, 0, 0.15);\n",
              "      filter: drop-shadow(0px 1px 2px rgba(0, 0, 0, 0.3));\n",
              "      fill: #FFFFFF;\n",
              "    }\n",
              "  </style>\n",
              "\n",
              "      <script>\n",
              "        const buttonEl =\n",
              "          document.querySelector('#df-1831f6d0-dc44-4580-a64d-8c1eb83184b6 button.colab-df-convert');\n",
              "        buttonEl.style.display =\n",
              "          google.colab.kernel.accessAllowed ? 'block' : 'none';\n",
              "\n",
              "        async function convertToInteractive(key) {\n",
              "          const element = document.querySelector('#df-1831f6d0-dc44-4580-a64d-8c1eb83184b6');\n",
              "          const dataTable =\n",
              "            await google.colab.kernel.invokeFunction('convertToInteractive',\n",
              "                                                     [key], {});\n",
              "          if (!dataTable) return;\n",
              "\n",
              "          const docLinkHtml = 'Like what you see? Visit the ' +\n",
              "            '<a target=\"_blank\" href=https://colab.research.google.com/notebooks/data_table.ipynb>data table notebook</a>'\n",
              "            + ' to learn more about interactive tables.';\n",
              "          element.innerHTML = '';\n",
              "          dataTable['output_type'] = 'display_data';\n",
              "          await google.colab.output.renderOutput(dataTable, element);\n",
              "          const docLink = document.createElement('div');\n",
              "          docLink.innerHTML = docLinkHtml;\n",
              "          element.appendChild(docLink);\n",
              "        }\n",
              "      </script>\n",
              "    </div>\n",
              "  </div>\n",
              "  "
            ]
          },
          "metadata": {},
          "execution_count": 174
        }
      ],
      "source": [
        "mega_df.head()"
      ]
    },
    {
      "cell_type": "code",
      "execution_count": null,
      "metadata": {
        "id": "IFxUoUUa_9zG"
      },
      "outputs": [],
      "source": [
        "scaler = StandardScaler().fit(mega_df.values)\n",
        "transformed_dataset = scaler.transform(mega_df.values)\n",
        "transformed_mega_df = pd.DataFrame(data=transformed_dataset, index=mega_df.index)"
      ]
    },
    {
      "cell_type": "code",
      "execution_count": null,
      "metadata": {
        "colab": {
          "base_uri": "https://localhost:8080/",
          "height": 238
        },
        "id": "0nuARcYc_9zH",
        "outputId": "f6b4ce20-9e56-467e-93f1-5ce6b86a7b80"
      },
      "outputs": [
        {
          "output_type": "execute_result",
          "data": {
            "text/plain": [
              "                   0         1         2         3         4         5\n",
              "date                                                                  \n",
              "1996-03-11  0.608991 -1.448527 -1.543124  1.232035 -0.032318  0.153040\n",
              "1996-03-18 -1.240849  0.509587  0.361653  1.058077  0.724769  0.618957\n",
              "1996-03-25  0.319953 -0.008737 -1.196801 -1.145395 -0.090555  0.968394\n",
              "1996-04-01 -1.414271  1.661419  0.650256 -0.217617 -1.721205 -1.477668\n",
              "1996-04-08 -1.703309 -0.642245  0.881138 -1.435325 -0.847642 -1.652387"
            ],
            "text/html": [
              "\n",
              "  <div id=\"df-ed1d75c4-1d3d-4ec1-940c-21c0ef10482f\">\n",
              "    <div class=\"colab-df-container\">\n",
              "      <div>\n",
              "<style scoped>\n",
              "    .dataframe tbody tr th:only-of-type {\n",
              "        vertical-align: middle;\n",
              "    }\n",
              "\n",
              "    .dataframe tbody tr th {\n",
              "        vertical-align: top;\n",
              "    }\n",
              "\n",
              "    .dataframe thead th {\n",
              "        text-align: right;\n",
              "    }\n",
              "</style>\n",
              "<table border=\"1\" class=\"dataframe\">\n",
              "  <thead>\n",
              "    <tr style=\"text-align: right;\">\n",
              "      <th></th>\n",
              "      <th>0</th>\n",
              "      <th>1</th>\n",
              "      <th>2</th>\n",
              "      <th>3</th>\n",
              "      <th>4</th>\n",
              "      <th>5</th>\n",
              "    </tr>\n",
              "    <tr>\n",
              "      <th>date</th>\n",
              "      <th></th>\n",
              "      <th></th>\n",
              "      <th></th>\n",
              "      <th></th>\n",
              "      <th></th>\n",
              "      <th></th>\n",
              "    </tr>\n",
              "  </thead>\n",
              "  <tbody>\n",
              "    <tr>\n",
              "      <th>1996-03-11</th>\n",
              "      <td>0.608991</td>\n",
              "      <td>-1.448527</td>\n",
              "      <td>-1.543124</td>\n",
              "      <td>1.232035</td>\n",
              "      <td>-0.032318</td>\n",
              "      <td>0.153040</td>\n",
              "    </tr>\n",
              "    <tr>\n",
              "      <th>1996-03-18</th>\n",
              "      <td>-1.240849</td>\n",
              "      <td>0.509587</td>\n",
              "      <td>0.361653</td>\n",
              "      <td>1.058077</td>\n",
              "      <td>0.724769</td>\n",
              "      <td>0.618957</td>\n",
              "    </tr>\n",
              "    <tr>\n",
              "      <th>1996-03-25</th>\n",
              "      <td>0.319953</td>\n",
              "      <td>-0.008737</td>\n",
              "      <td>-1.196801</td>\n",
              "      <td>-1.145395</td>\n",
              "      <td>-0.090555</td>\n",
              "      <td>0.968394</td>\n",
              "    </tr>\n",
              "    <tr>\n",
              "      <th>1996-04-01</th>\n",
              "      <td>-1.414271</td>\n",
              "      <td>1.661419</td>\n",
              "      <td>0.650256</td>\n",
              "      <td>-0.217617</td>\n",
              "      <td>-1.721205</td>\n",
              "      <td>-1.477668</td>\n",
              "    </tr>\n",
              "    <tr>\n",
              "      <th>1996-04-08</th>\n",
              "      <td>-1.703309</td>\n",
              "      <td>-0.642245</td>\n",
              "      <td>0.881138</td>\n",
              "      <td>-1.435325</td>\n",
              "      <td>-0.847642</td>\n",
              "      <td>-1.652387</td>\n",
              "    </tr>\n",
              "  </tbody>\n",
              "</table>\n",
              "</div>\n",
              "      <button class=\"colab-df-convert\" onclick=\"convertToInteractive('df-ed1d75c4-1d3d-4ec1-940c-21c0ef10482f')\"\n",
              "              title=\"Convert this dataframe to an interactive table.\"\n",
              "              style=\"display:none;\">\n",
              "        \n",
              "  <svg xmlns=\"http://www.w3.org/2000/svg\" height=\"24px\"viewBox=\"0 0 24 24\"\n",
              "       width=\"24px\">\n",
              "    <path d=\"M0 0h24v24H0V0z\" fill=\"none\"/>\n",
              "    <path d=\"M18.56 5.44l.94 2.06.94-2.06 2.06-.94-2.06-.94-.94-2.06-.94 2.06-2.06.94zm-11 1L8.5 8.5l.94-2.06 2.06-.94-2.06-.94L8.5 2.5l-.94 2.06-2.06.94zm10 10l.94 2.06.94-2.06 2.06-.94-2.06-.94-.94-2.06-.94 2.06-2.06.94z\"/><path d=\"M17.41 7.96l-1.37-1.37c-.4-.4-.92-.59-1.43-.59-.52 0-1.04.2-1.43.59L10.3 9.45l-7.72 7.72c-.78.78-.78 2.05 0 2.83L4 21.41c.39.39.9.59 1.41.59.51 0 1.02-.2 1.41-.59l7.78-7.78 2.81-2.81c.8-.78.8-2.07 0-2.86zM5.41 20L4 18.59l7.72-7.72 1.47 1.35L5.41 20z\"/>\n",
              "  </svg>\n",
              "      </button>\n",
              "      \n",
              "  <style>\n",
              "    .colab-df-container {\n",
              "      display:flex;\n",
              "      flex-wrap:wrap;\n",
              "      gap: 12px;\n",
              "    }\n",
              "\n",
              "    .colab-df-convert {\n",
              "      background-color: #E8F0FE;\n",
              "      border: none;\n",
              "      border-radius: 50%;\n",
              "      cursor: pointer;\n",
              "      display: none;\n",
              "      fill: #1967D2;\n",
              "      height: 32px;\n",
              "      padding: 0 0 0 0;\n",
              "      width: 32px;\n",
              "    }\n",
              "\n",
              "    .colab-df-convert:hover {\n",
              "      background-color: #E2EBFA;\n",
              "      box-shadow: 0px 1px 2px rgba(60, 64, 67, 0.3), 0px 1px 3px 1px rgba(60, 64, 67, 0.15);\n",
              "      fill: #174EA6;\n",
              "    }\n",
              "\n",
              "    [theme=dark] .colab-df-convert {\n",
              "      background-color: #3B4455;\n",
              "      fill: #D2E3FC;\n",
              "    }\n",
              "\n",
              "    [theme=dark] .colab-df-convert:hover {\n",
              "      background-color: #434B5C;\n",
              "      box-shadow: 0px 1px 3px 1px rgba(0, 0, 0, 0.15);\n",
              "      filter: drop-shadow(0px 1px 2px rgba(0, 0, 0, 0.3));\n",
              "      fill: #FFFFFF;\n",
              "    }\n",
              "  </style>\n",
              "\n",
              "      <script>\n",
              "        const buttonEl =\n",
              "          document.querySelector('#df-ed1d75c4-1d3d-4ec1-940c-21c0ef10482f button.colab-df-convert');\n",
              "        buttonEl.style.display =\n",
              "          google.colab.kernel.accessAllowed ? 'block' : 'none';\n",
              "\n",
              "        async function convertToInteractive(key) {\n",
              "          const element = document.querySelector('#df-ed1d75c4-1d3d-4ec1-940c-21c0ef10482f');\n",
              "          const dataTable =\n",
              "            await google.colab.kernel.invokeFunction('convertToInteractive',\n",
              "                                                     [key], {});\n",
              "          if (!dataTable) return;\n",
              "\n",
              "          const docLinkHtml = 'Like what you see? Visit the ' +\n",
              "            '<a target=\"_blank\" href=https://colab.research.google.com/notebooks/data_table.ipynb>data table notebook</a>'\n",
              "            + ' to learn more about interactive tables.';\n",
              "          element.innerHTML = '';\n",
              "          dataTable['output_type'] = 'display_data';\n",
              "          await google.colab.output.renderOutput(dataTable, element);\n",
              "          const docLink = document.createElement('div');\n",
              "          docLink.innerHTML = docLinkHtml;\n",
              "          element.appendChild(docLink);\n",
              "        }\n",
              "      </script>\n",
              "    </div>\n",
              "  </div>\n",
              "  "
            ]
          },
          "metadata": {},
          "execution_count": 176
        }
      ],
      "source": [
        "transformed_mega_df.head()"
      ]
    },
    {
      "cell_type": "code",
      "execution_count": null,
      "metadata": {
        "colab": {
          "base_uri": "https://localhost:8080/"
        },
        "id": "VO8P7MGA_9zI",
        "outputId": "18ecc34a-e2c7-492b-e0e7-320a5be8a68e"
      },
      "outputs": [
        {
          "output_type": "execute_result",
          "data": {
            "text/plain": [
              "2485"
            ]
          },
          "metadata": {},
          "execution_count": 177
        }
      ],
      "source": [
        "# All our games\n",
        "number_of_rows = mega_df.values.shape[0]\n",
        "number_of_rows"
      ]
    },
    {
      "cell_type": "code",
      "execution_count": null,
      "metadata": {
        "colab": {
          "base_uri": "https://localhost:8080/"
        },
        "id": "w0Sy4qwI_9zI",
        "outputId": "4f2988cd-d7a3-4adf-d844-e690728feae5"
      },
      "outputs": [
        {
          "output_type": "execute_result",
          "data": {
            "text/plain": [
              "7"
            ]
          },
          "metadata": {},
          "execution_count": 178
        }
      ],
      "source": [
        "# Amount of games we need to take into consideration for prediction\n",
        "window_length = 7\n",
        "window_length "
      ]
    },
    {
      "cell_type": "code",
      "execution_count": null,
      "metadata": {
        "colab": {
          "base_uri": "https://localhost:8080/"
        },
        "id": "rtJz-WDK_9zJ",
        "outputId": "c6ba071f-429d-4956-d224-ff83fc199434"
      },
      "outputs": [
        {
          "output_type": "execute_result",
          "data": {
            "text/plain": [
              "6"
            ]
          },
          "metadata": {},
          "execution_count": 179
        }
      ],
      "source": [
        "# Balls counts\n",
        "number_of_features = mega_df.values.shape[1]\n",
        "number_of_features"
      ]
    },
    {
      "cell_type": "code",
      "execution_count": null,
      "metadata": {
        "colab": {
          "base_uri": "https://localhost:8080/"
        },
        "id": "vOGYjTw6_9zJ",
        "outputId": "daab6c75-0709-4593-af26-0e71ccac2e26"
      },
      "outputs": [
        {
          "output_type": "execute_result",
          "data": {
            "text/plain": [
              "array([[[0., 0., 0., 0., 0., 0.],\n",
              "        [0., 0., 0., 0., 0., 0.],\n",
              "        [0., 0., 0., 0., 0., 0.],\n",
              "        ...,\n",
              "        [0., 0., 0., 0., 0., 0.],\n",
              "        [0., 0., 0., 0., 0., 0.],\n",
              "        [0., 0., 0., 0., 0., 0.]],\n",
              "\n",
              "       [[0., 0., 0., 0., 0., 0.],\n",
              "        [0., 0., 0., 0., 0., 0.],\n",
              "        [0., 0., 0., 0., 0., 0.],\n",
              "        ...,\n",
              "        [0., 0., 0., 0., 0., 0.],\n",
              "        [0., 0., 0., 0., 0., 0.],\n",
              "        [0., 0., 0., 0., 0., 0.]],\n",
              "\n",
              "       [[0., 0., 0., 0., 0., 0.],\n",
              "        [0., 0., 0., 0., 0., 0.],\n",
              "        [0., 0., 0., 0., 0., 0.],\n",
              "        ...,\n",
              "        [0., 0., 0., 0., 0., 0.],\n",
              "        [0., 0., 0., 0., 0., 0.],\n",
              "        [0., 0., 0., 0., 0., 0.]],\n",
              "\n",
              "       ...,\n",
              "\n",
              "       [[0., 0., 0., 0., 0., 0.],\n",
              "        [0., 0., 0., 0., 0., 0.],\n",
              "        [0., 0., 0., 0., 0., 0.],\n",
              "        ...,\n",
              "        [0., 0., 0., 0., 0., 0.],\n",
              "        [0., 0., 0., 0., 0., 0.],\n",
              "        [0., 0., 0., 0., 0., 0.]],\n",
              "\n",
              "       [[0., 0., 0., 0., 0., 0.],\n",
              "        [0., 0., 0., 0., 0., 0.],\n",
              "        [0., 0., 0., 0., 0., 0.],\n",
              "        ...,\n",
              "        [0., 0., 0., 0., 0., 0.],\n",
              "        [0., 0., 0., 0., 0., 0.],\n",
              "        [0., 0., 0., 0., 0., 0.]],\n",
              "\n",
              "       [[0., 0., 0., 0., 0., 0.],\n",
              "        [0., 0., 0., 0., 0., 0.],\n",
              "        [0., 0., 0., 0., 0., 0.],\n",
              "        ...,\n",
              "        [0., 0., 0., 0., 0., 0.],\n",
              "        [0., 0., 0., 0., 0., 0.],\n",
              "        [0., 0., 0., 0., 0., 0.]]])"
            ]
          },
          "metadata": {},
          "execution_count": 180
        }
      ],
      "source": [
        "X = np.empty([ number_of_rows - window_length, window_length, number_of_features], dtype=float)\n",
        "X"
      ]
    },
    {
      "cell_type": "code",
      "execution_count": null,
      "metadata": {
        "colab": {
          "base_uri": "https://localhost:8080/"
        },
        "id": "-AEtpsnR_9zK",
        "outputId": "d67aec39-af59-4be6-ede4-7b2e11542d34"
      },
      "outputs": [
        {
          "output_type": "execute_result",
          "data": {
            "text/plain": [
              "array([[0., 0., 0., 0., 0., 0.],\n",
              "       [0., 0., 0., 0., 0., 0.],\n",
              "       [0., 0., 0., 0., 0., 0.],\n",
              "       ...,\n",
              "       [0., 0., 0., 0., 0., 0.],\n",
              "       [0., 0., 0., 0., 0., 0.],\n",
              "       [0., 0., 0., 0., 0., 0.]])"
            ]
          },
          "metadata": {},
          "execution_count": 181
        }
      ],
      "source": [
        "y = np.empty([ number_of_rows - window_length, number_of_features], dtype=float)\n",
        "y"
      ]
    },
    {
      "cell_type": "code",
      "execution_count": null,
      "metadata": {
        "id": "W8Od3t8__9zK"
      },
      "outputs": [],
      "source": [
        "for i in range(0, number_of_rows-window_length):\n",
        "    X[i] = transformed_mega_df.iloc[i : i+window_length, 0 : number_of_features]\n",
        "    y[i] = transformed_mega_df.iloc[i+window_length : i+window_length+1, 0 : number_of_features]"
      ]
    },
    {
      "cell_type": "code",
      "execution_count": null,
      "metadata": {
        "colab": {
          "base_uri": "https://localhost:8080/"
        },
        "id": "tQ2DX4qm_9zL",
        "outputId": "13c8f759-6695-43c2-a81a-19a9a1e54f1c"
      },
      "outputs": [
        {
          "output_type": "execute_result",
          "data": {
            "text/plain": [
              "(2478, 7, 6)"
            ]
          },
          "metadata": {},
          "execution_count": 183
        }
      ],
      "source": [
        "X.shape"
      ]
    },
    {
      "cell_type": "code",
      "execution_count": null,
      "metadata": {
        "colab": {
          "base_uri": "https://localhost:8080/"
        },
        "id": "-e1Ialkb_9zL",
        "outputId": "6f2b11c9-74ec-4d60-d232-00847db836f7"
      },
      "outputs": [
        {
          "output_type": "execute_result",
          "data": {
            "text/plain": [
              "(2478, 6)"
            ]
          },
          "metadata": {},
          "execution_count": 184
        }
      ],
      "source": [
        "y.shape"
      ]
    },
    {
      "cell_type": "code",
      "execution_count": null,
      "metadata": {
        "colab": {
          "base_uri": "https://localhost:8080/"
        },
        "id": "Pyo51t3s_9zL",
        "outputId": "e09d34f3-8b51-4da7-c6b0-375973e390e3"
      },
      "outputs": [
        {
          "output_type": "execute_result",
          "data": {
            "text/plain": [
              "array([[ 0.60899083, -1.44852726, -1.54312392,  1.23203531, -0.0323177 ,\n",
              "         0.15304004],\n",
              "       [-1.24084876,  0.50958717,  0.36165334,  1.05807703,  0.72476949,\n",
              "         0.61895672],\n",
              "       [ 0.31995339, -0.00873724, -1.19680078, -1.14539452, -0.09055517,\n",
              "         0.96839423],\n",
              "       [-1.41427122,  1.66141919,  0.65025595, -0.21761702, -1.7212045 ,\n",
              "        -1.47766835],\n",
              "       [-1.70330866, -0.64224485,  0.88113804, -1.43532498, -0.84764236,\n",
              "        -1.65238711],\n",
              "       [-0.66277389,  0.56717877, -1.36996235, -1.02942233, -0.49821751,\n",
              "         0.96839423],\n",
              "       [ 1.47610314,  0.45199557, -0.56187503, -0.62351968, -1.60472955,\n",
              "        -1.47766835]])"
            ]
          },
          "metadata": {},
          "execution_count": 185
        }
      ],
      "source": [
        "X[0]"
      ]
    },
    {
      "cell_type": "code",
      "execution_count": null,
      "metadata": {
        "colab": {
          "base_uri": "https://localhost:8080/"
        },
        "id": "Ow6h9xj2_9zL",
        "outputId": "e2b63312-f97f-4fdf-8043-b73e68e5a150"
      },
      "outputs": [
        {
          "output_type": "execute_result",
          "data": {
            "text/plain": [
              "array([[-1.24084876,  0.50958717,  0.36165334,  1.05807703,  0.72476949,\n",
              "         0.61895672],\n",
              "       [ 0.31995339, -0.00873724, -1.19680078, -1.14539452, -0.09055517,\n",
              "         0.96839423],\n",
              "       [-1.41427122,  1.66141919,  0.65025595, -0.21761702, -1.7212045 ,\n",
              "        -1.47766835],\n",
              "       [-1.70330866, -0.64224485,  0.88113804, -1.43532498, -0.84764236,\n",
              "        -1.65238711],\n",
              "       [-0.66277389,  0.56717877, -1.36996235, -1.02942233, -0.49821751,\n",
              "         0.96839423],\n",
              "       [ 1.47610314,  0.45199557, -0.56187503, -0.62351968, -1.60472955,\n",
              "        -1.47766835],\n",
              "       [ 1.30268067, -0.75742805,  0.41937386, -1.55129717,  0.9577194 ,\n",
              "         0.38599838]])"
            ]
          },
          "metadata": {},
          "execution_count": 186
        }
      ],
      "source": [
        "X[1]"
      ]
    },
    {
      "cell_type": "code",
      "execution_count": null,
      "metadata": {
        "colab": {
          "base_uri": "https://localhost:8080/"
        },
        "id": "yAnAQgdw_9zM",
        "outputId": "8fb7ef82-cd57-4dab-c73d-518256605eab"
      },
      "outputs": [
        {
          "output_type": "execute_result",
          "data": {
            "text/plain": [
              "array([ 1.30268067, -0.75742805,  0.41937386, -1.55129717,  0.9577194 ,\n",
              "        0.38599838])"
            ]
          },
          "metadata": {},
          "execution_count": 187
        }
      ],
      "source": [
        "y[0]"
      ]
    },
    {
      "cell_type": "code",
      "execution_count": null,
      "metadata": {
        "colab": {
          "base_uri": "https://localhost:8080/"
        },
        "id": "rOx-WcYz_9zM",
        "outputId": "a88b942b-704e-4522-8eb2-21540a75466d"
      },
      "outputs": [
        {
          "output_type": "execute_result",
          "data": {
            "text/plain": [
              "array([ 1.41829565,  0.73995358,  1.45834327,  1.34800749, -1.31354217,\n",
              "        1.72550884])"
            ]
          },
          "metadata": {},
          "execution_count": 188
        }
      ],
      "source": [
        "y[1]"
      ]
    },
    {
      "cell_type": "code",
      "execution_count": null,
      "metadata": {
        "id": "maIGJp8t_9zM"
      },
      "outputs": [],
      "source": [
        "# Recurrent Neural Netowrk (RNN) with Long Short Term Memory (LSTM)\n",
        "# Importing the Keras libraries and packages\n",
        "from keras.models import Sequential\n",
        "from keras.layers import LSTM, Dense, Bidirectional, Dropout\n",
        "batch_size = 60"
      ]
    },
    {
      "cell_type": "code",
      "execution_count": null,
      "metadata": {
        "id": "b9d815xa_9zN"
      },
      "outputs": [],
      "source": [
        "# Initialising the RNN\n",
        "model = Sequential()\n",
        "# Adding the input layer and the LSTM layer\n",
        "model.add(Bidirectional(LSTM(60,\n",
        "                        input_shape = (window_length, number_of_features),\n",
        "                        return_sequences = True)))\n",
        "# Adding a first Dropout layer\n",
        "model.add(Dropout(0.2))\n",
        "# Adding a second LSTM layer\n",
        "model.add(Bidirectional(LSTM(240,\n",
        "                        input_shape = (window_length, number_of_features),\n",
        "                        return_sequences = True)))\n",
        "# Adding a second Dropout layer\n",
        "model.add(Dropout(0.2))\n",
        "# Adding a third LSTM layer\n",
        "model.add(Bidirectional(LSTM(240,\n",
        "                        input_shape = (window_length, number_of_features),\n",
        "                        return_sequences = True)))\n",
        "# Adding a fourth LSTM layer\n",
        "model.add(Bidirectional(LSTM(240,\n",
        "                        input_shape = (window_length, number_of_features),\n",
        "                        return_sequences = False)))\n",
        "# Adding a fourth Dropout layer\n",
        "model.add(Dropout(0.2))\n",
        "# Adding the first output layer\n",
        "model.add(Dense(59))\n",
        "# Adding the last output layer\n",
        "model.add(Dense(number_of_features))"
      ]
    },
    {
      "cell_type": "code",
      "execution_count": null,
      "metadata": {
        "id": "bE0G1oQc_9zN"
      },
      "outputs": [],
      "source": [
        "from tensorflow import keras\n",
        "from tensorflow.keras.optimizers import Adam\n",
        "model.compile(optimizer=Adam(learning_rate=0.0001), loss ='mse', metrics=['accuracy'])"
      ]
    },
    {
      "cell_type": "code",
      "execution_count": null,
      "metadata": {
        "colab": {
          "base_uri": "https://localhost:8080/"
        },
        "id": "p0XPuMCI_9zN",
        "outputId": "c9eb836b-75de-4c35-92c7-0a6a40c5e2ba"
      },
      "outputs": [
        {
          "output_type": "stream",
          "name": "stdout",
          "text": [
            "Epoch 1/50\n",
            "42/42 - 13s - loss: 1.0003 - accuracy: 0.1703 - 13s/epoch - 313ms/step\n",
            "Epoch 2/50\n",
            "42/42 - 1s - loss: 0.9978 - accuracy: 0.1788 - 606ms/epoch - 14ms/step\n",
            "Epoch 3/50\n",
            "42/42 - 1s - loss: 0.9966 - accuracy: 0.1735 - 623ms/epoch - 15ms/step\n",
            "Epoch 4/50\n",
            "42/42 - 1s - loss: 0.9962 - accuracy: 0.1808 - 609ms/epoch - 15ms/step\n",
            "Epoch 5/50\n",
            "42/42 - 1s - loss: 0.9959 - accuracy: 0.1776 - 603ms/epoch - 14ms/step\n",
            "Epoch 6/50\n",
            "42/42 - 1s - loss: 0.9960 - accuracy: 0.1812 - 607ms/epoch - 14ms/step\n",
            "Epoch 7/50\n",
            "42/42 - 1s - loss: 0.9952 - accuracy: 0.1727 - 605ms/epoch - 14ms/step\n",
            "Epoch 8/50\n",
            "42/42 - 1s - loss: 0.9946 - accuracy: 0.1864 - 616ms/epoch - 15ms/step\n",
            "Epoch 9/50\n",
            "42/42 - 1s - loss: 0.9944 - accuracy: 0.1800 - 608ms/epoch - 14ms/step\n",
            "Epoch 10/50\n",
            "42/42 - 1s - loss: 0.9941 - accuracy: 0.1852 - 607ms/epoch - 14ms/step\n",
            "Epoch 11/50\n",
            "42/42 - 1s - loss: 0.9931 - accuracy: 0.1885 - 602ms/epoch - 14ms/step\n",
            "Epoch 12/50\n",
            "42/42 - 1s - loss: 0.9932 - accuracy: 0.1864 - 601ms/epoch - 14ms/step\n",
            "Epoch 13/50\n",
            "42/42 - 1s - loss: 0.9931 - accuracy: 0.1844 - 608ms/epoch - 14ms/step\n",
            "Epoch 14/50\n",
            "42/42 - 1s - loss: 0.9923 - accuracy: 0.1832 - 597ms/epoch - 14ms/step\n",
            "Epoch 15/50\n",
            "42/42 - 1s - loss: 0.9927 - accuracy: 0.1909 - 616ms/epoch - 15ms/step\n",
            "Epoch 16/50\n",
            "42/42 - 1s - loss: 0.9925 - accuracy: 0.1917 - 604ms/epoch - 14ms/step\n",
            "Epoch 17/50\n",
            "42/42 - 1s - loss: 0.9918 - accuracy: 0.1905 - 600ms/epoch - 14ms/step\n",
            "Epoch 18/50\n",
            "42/42 - 1s - loss: 0.9909 - accuracy: 0.1872 - 595ms/epoch - 14ms/step\n",
            "Epoch 19/50\n",
            "42/42 - 1s - loss: 0.9909 - accuracy: 0.1868 - 618ms/epoch - 15ms/step\n",
            "Epoch 20/50\n",
            "42/42 - 1s - loss: 0.9905 - accuracy: 0.1917 - 599ms/epoch - 14ms/step\n",
            "Epoch 21/50\n",
            "42/42 - 1s - loss: 0.9906 - accuracy: 0.1848 - 613ms/epoch - 15ms/step\n",
            "Epoch 22/50\n",
            "42/42 - 1s - loss: 0.9894 - accuracy: 0.1824 - 609ms/epoch - 14ms/step\n",
            "Epoch 23/50\n",
            "42/42 - 1s - loss: 0.9890 - accuracy: 0.1937 - 614ms/epoch - 15ms/step\n",
            "Epoch 24/50\n",
            "42/42 - 1s - loss: 0.9875 - accuracy: 0.1981 - 608ms/epoch - 14ms/step\n",
            "Epoch 25/50\n",
            "42/42 - 1s - loss: 0.9884 - accuracy: 0.1901 - 604ms/epoch - 14ms/step\n",
            "Epoch 26/50\n",
            "42/42 - 1s - loss: 0.9861 - accuracy: 0.2026 - 618ms/epoch - 15ms/step\n",
            "Epoch 27/50\n",
            "42/42 - 1s - loss: 0.9859 - accuracy: 0.1965 - 667ms/epoch - 16ms/step\n",
            "Epoch 28/50\n",
            "42/42 - 1s - loss: 0.9852 - accuracy: 0.2066 - 595ms/epoch - 14ms/step\n",
            "Epoch 29/50\n",
            "42/42 - 1s - loss: 0.9838 - accuracy: 0.2050 - 600ms/epoch - 14ms/step\n",
            "Epoch 30/50\n",
            "42/42 - 1s - loss: 0.9825 - accuracy: 0.1933 - 604ms/epoch - 14ms/step\n",
            "Epoch 31/50\n",
            "42/42 - 1s - loss: 0.9830 - accuracy: 0.2006 - 616ms/epoch - 15ms/step\n",
            "Epoch 32/50\n",
            "42/42 - 1s - loss: 0.9840 - accuracy: 0.1998 - 632ms/epoch - 15ms/step\n",
            "Epoch 33/50\n",
            "42/42 - 1s - loss: 0.9810 - accuracy: 0.2094 - 640ms/epoch - 15ms/step\n",
            "Epoch 34/50\n",
            "42/42 - 1s - loss: 0.9795 - accuracy: 0.2062 - 620ms/epoch - 15ms/step\n",
            "Epoch 35/50\n",
            "42/42 - 1s - loss: 0.9814 - accuracy: 0.2006 - 593ms/epoch - 14ms/step\n",
            "Epoch 36/50\n",
            "42/42 - 1s - loss: 0.9792 - accuracy: 0.1933 - 600ms/epoch - 14ms/step\n",
            "Epoch 37/50\n",
            "42/42 - 1s - loss: 0.9780 - accuracy: 0.2155 - 603ms/epoch - 14ms/step\n",
            "Epoch 38/50\n",
            "42/42 - 1s - loss: 0.9766 - accuracy: 0.1981 - 608ms/epoch - 14ms/step\n",
            "Epoch 39/50\n",
            "42/42 - 1s - loss: 0.9781 - accuracy: 0.2058 - 604ms/epoch - 14ms/step\n",
            "Epoch 40/50\n",
            "42/42 - 1s - loss: 0.9757 - accuracy: 0.2155 - 613ms/epoch - 15ms/step\n",
            "Epoch 41/50\n",
            "42/42 - 1s - loss: 0.9746 - accuracy: 0.2135 - 603ms/epoch - 14ms/step\n",
            "Epoch 42/50\n",
            "42/42 - 1s - loss: 0.9721 - accuracy: 0.2127 - 602ms/epoch - 14ms/step\n",
            "Epoch 43/50\n",
            "42/42 - 1s - loss: 0.9735 - accuracy: 0.2078 - 597ms/epoch - 14ms/step\n",
            "Epoch 44/50\n",
            "42/42 - 1s - loss: 0.9740 - accuracy: 0.2220 - 612ms/epoch - 15ms/step\n",
            "Epoch 45/50\n",
            "42/42 - 1s - loss: 0.9713 - accuracy: 0.2183 - 627ms/epoch - 15ms/step\n",
            "Epoch 46/50\n",
            "42/42 - 1s - loss: 0.9701 - accuracy: 0.2183 - 636ms/epoch - 15ms/step\n",
            "Epoch 47/50\n",
            "42/42 - 1s - loss: 0.9689 - accuracy: 0.2078 - 608ms/epoch - 14ms/step\n",
            "Epoch 48/50\n",
            "42/42 - 1s - loss: 0.9679 - accuracy: 0.2220 - 603ms/epoch - 14ms/step\n",
            "Epoch 49/50\n",
            "42/42 - 1s - loss: 0.9672 - accuracy: 0.2147 - 628ms/epoch - 15ms/step\n",
            "Epoch 50/50\n",
            "42/42 - 1s - loss: 0.9675 - accuracy: 0.2244 - 592ms/epoch - 14ms/step\n"
          ]
        },
        {
          "output_type": "execute_result",
          "data": {
            "text/plain": [
              "<keras.callbacks.History at 0x7fc1a8afc1d0>"
            ]
          },
          "metadata": {},
          "execution_count": 192
        }
      ],
      "source": [
        "model.fit(x=X, y=y, batch_size=60, epochs=50, verbose=2)"
      ]
    },
    {
      "cell_type": "code",
      "execution_count": null,
      "metadata": {
        "colab": {
          "base_uri": "https://localhost:8080/",
          "height": 269
        },
        "id": "Jt2Btz2P_9zO",
        "outputId": "9d5aaefe-a7b1-4a99-8749-f46dc80abdda"
      },
      "outputs": [
        {
          "output_type": "execute_result",
          "data": {
            "text/plain": [
              "            ball_01  ball_02  ball_03  ball_04  ball_05  ball_06\n",
              "date                                                            \n",
              "2022-05-07     21.0     10.0     35.0     20.0     17.0     15.0\n",
              "2022-05-11     31.0     56.0      6.0      4.0     50.0      9.0\n",
              "2022-05-14      1.0     37.0     36.0     21.0      8.0     27.0\n",
              "2022-05-18     32.0      1.0     57.0     44.0     35.0     45.0\n",
              "2022-05-21     54.0     49.0     34.0     38.0     40.0     20.0\n",
              "2022-05-25     59.0     36.0     41.0     54.0     14.0     11.0"
            ],
            "text/html": [
              "\n",
              "  <div id=\"df-78c84648-2490-4f43-97b2-809225a5e916\">\n",
              "    <div class=\"colab-df-container\">\n",
              "      <div>\n",
              "<style scoped>\n",
              "    .dataframe tbody tr th:only-of-type {\n",
              "        vertical-align: middle;\n",
              "    }\n",
              "\n",
              "    .dataframe tbody tr th {\n",
              "        vertical-align: top;\n",
              "    }\n",
              "\n",
              "    .dataframe thead th {\n",
              "        text-align: right;\n",
              "    }\n",
              "</style>\n",
              "<table border=\"1\" class=\"dataframe\">\n",
              "  <thead>\n",
              "    <tr style=\"text-align: right;\">\n",
              "      <th></th>\n",
              "      <th>ball_01</th>\n",
              "      <th>ball_02</th>\n",
              "      <th>ball_03</th>\n",
              "      <th>ball_04</th>\n",
              "      <th>ball_05</th>\n",
              "      <th>ball_06</th>\n",
              "    </tr>\n",
              "    <tr>\n",
              "      <th>date</th>\n",
              "      <th></th>\n",
              "      <th></th>\n",
              "      <th></th>\n",
              "      <th></th>\n",
              "      <th></th>\n",
              "      <th></th>\n",
              "    </tr>\n",
              "  </thead>\n",
              "  <tbody>\n",
              "    <tr>\n",
              "      <th>2022-05-07</th>\n",
              "      <td>21.0</td>\n",
              "      <td>10.0</td>\n",
              "      <td>35.0</td>\n",
              "      <td>20.0</td>\n",
              "      <td>17.0</td>\n",
              "      <td>15.0</td>\n",
              "    </tr>\n",
              "    <tr>\n",
              "      <th>2022-05-11</th>\n",
              "      <td>31.0</td>\n",
              "      <td>56.0</td>\n",
              "      <td>6.0</td>\n",
              "      <td>4.0</td>\n",
              "      <td>50.0</td>\n",
              "      <td>9.0</td>\n",
              "    </tr>\n",
              "    <tr>\n",
              "      <th>2022-05-14</th>\n",
              "      <td>1.0</td>\n",
              "      <td>37.0</td>\n",
              "      <td>36.0</td>\n",
              "      <td>21.0</td>\n",
              "      <td>8.0</td>\n",
              "      <td>27.0</td>\n",
              "    </tr>\n",
              "    <tr>\n",
              "      <th>2022-05-18</th>\n",
              "      <td>32.0</td>\n",
              "      <td>1.0</td>\n",
              "      <td>57.0</td>\n",
              "      <td>44.0</td>\n",
              "      <td>35.0</td>\n",
              "      <td>45.0</td>\n",
              "    </tr>\n",
              "    <tr>\n",
              "      <th>2022-05-21</th>\n",
              "      <td>54.0</td>\n",
              "      <td>49.0</td>\n",
              "      <td>34.0</td>\n",
              "      <td>38.0</td>\n",
              "      <td>40.0</td>\n",
              "      <td>20.0</td>\n",
              "    </tr>\n",
              "    <tr>\n",
              "      <th>2022-05-25</th>\n",
              "      <td>59.0</td>\n",
              "      <td>36.0</td>\n",
              "      <td>41.0</td>\n",
              "      <td>54.0</td>\n",
              "      <td>14.0</td>\n",
              "      <td>11.0</td>\n",
              "    </tr>\n",
              "  </tbody>\n",
              "</table>\n",
              "</div>\n",
              "      <button class=\"colab-df-convert\" onclick=\"convertToInteractive('df-78c84648-2490-4f43-97b2-809225a5e916')\"\n",
              "              title=\"Convert this dataframe to an interactive table.\"\n",
              "              style=\"display:none;\">\n",
              "        \n",
              "  <svg xmlns=\"http://www.w3.org/2000/svg\" height=\"24px\"viewBox=\"0 0 24 24\"\n",
              "       width=\"24px\">\n",
              "    <path d=\"M0 0h24v24H0V0z\" fill=\"none\"/>\n",
              "    <path d=\"M18.56 5.44l.94 2.06.94-2.06 2.06-.94-2.06-.94-.94-2.06-.94 2.06-2.06.94zm-11 1L8.5 8.5l.94-2.06 2.06-.94-2.06-.94L8.5 2.5l-.94 2.06-2.06.94zm10 10l.94 2.06.94-2.06 2.06-.94-2.06-.94-.94-2.06-.94 2.06-2.06.94z\"/><path d=\"M17.41 7.96l-1.37-1.37c-.4-.4-.92-.59-1.43-.59-.52 0-1.04.2-1.43.59L10.3 9.45l-7.72 7.72c-.78.78-.78 2.05 0 2.83L4 21.41c.39.39.9.59 1.41.59.51 0 1.02-.2 1.41-.59l7.78-7.78 2.81-2.81c.8-.78.8-2.07 0-2.86zM5.41 20L4 18.59l7.72-7.72 1.47 1.35L5.41 20z\"/>\n",
              "  </svg>\n",
              "      </button>\n",
              "      \n",
              "  <style>\n",
              "    .colab-df-container {\n",
              "      display:flex;\n",
              "      flex-wrap:wrap;\n",
              "      gap: 12px;\n",
              "    }\n",
              "\n",
              "    .colab-df-convert {\n",
              "      background-color: #E8F0FE;\n",
              "      border: none;\n",
              "      border-radius: 50%;\n",
              "      cursor: pointer;\n",
              "      display: none;\n",
              "      fill: #1967D2;\n",
              "      height: 32px;\n",
              "      padding: 0 0 0 0;\n",
              "      width: 32px;\n",
              "    }\n",
              "\n",
              "    .colab-df-convert:hover {\n",
              "      background-color: #E2EBFA;\n",
              "      box-shadow: 0px 1px 2px rgba(60, 64, 67, 0.3), 0px 1px 3px 1px rgba(60, 64, 67, 0.15);\n",
              "      fill: #174EA6;\n",
              "    }\n",
              "\n",
              "    [theme=dark] .colab-df-convert {\n",
              "      background-color: #3B4455;\n",
              "      fill: #D2E3FC;\n",
              "    }\n",
              "\n",
              "    [theme=dark] .colab-df-convert:hover {\n",
              "      background-color: #434B5C;\n",
              "      box-shadow: 0px 1px 3px 1px rgba(0, 0, 0, 0.15);\n",
              "      filter: drop-shadow(0px 1px 2px rgba(0, 0, 0, 0.3));\n",
              "      fill: #FFFFFF;\n",
              "    }\n",
              "  </style>\n",
              "\n",
              "      <script>\n",
              "        const buttonEl =\n",
              "          document.querySelector('#df-78c84648-2490-4f43-97b2-809225a5e916 button.colab-df-convert');\n",
              "        buttonEl.style.display =\n",
              "          google.colab.kernel.accessAllowed ? 'block' : 'none';\n",
              "\n",
              "        async function convertToInteractive(key) {\n",
              "          const element = document.querySelector('#df-78c84648-2490-4f43-97b2-809225a5e916');\n",
              "          const dataTable =\n",
              "            await google.colab.kernel.invokeFunction('convertToInteractive',\n",
              "                                                     [key], {});\n",
              "          if (!dataTable) return;\n",
              "\n",
              "          const docLinkHtml = 'Like what you see? Visit the ' +\n",
              "            '<a target=\"_blank\" href=https://colab.research.google.com/notebooks/data_table.ipynb>data table notebook</a>'\n",
              "            + ' to learn more about interactive tables.';\n",
              "          element.innerHTML = '';\n",
              "          dataTable['output_type'] = 'display_data';\n",
              "          await google.colab.output.renderOutput(dataTable, element);\n",
              "          const docLink = document.createElement('div');\n",
              "          docLink.innerHTML = docLinkHtml;\n",
              "          element.appendChild(docLink);\n",
              "        }\n",
              "      </script>\n",
              "    </div>\n",
              "  </div>\n",
              "  "
            ]
          },
          "metadata": {},
          "execution_count": 211
        }
      ],
      "source": [
        "mega_df_predicit = mega_df.tail(6)\n",
        "mega_df.drop([mega_df_predicit.index[-1]],axis=0, inplace=True)\n",
        "mega_df_predicit\n"
      ]
    },
    {
      "cell_type": "code",
      "execution_count": null,
      "metadata": {
        "colab": {
          "base_uri": "https://localhost:8080/"
        },
        "id": "YG4U8by7_9zO",
        "outputId": "d670a09d-c52b-4bc5-f2b6-f15328bd4b7e"
      },
      "outputs": [
        {
          "output_type": "execute_result",
          "data": {
            "text/plain": [
              "array([[21., 10., 35., 20., 17., 15.],\n",
              "       [31., 56.,  6.,  4., 50.,  9.],\n",
              "       [ 1., 37., 36., 21.,  8., 27.],\n",
              "       [32.,  1., 57., 44., 35., 45.],\n",
              "       [54., 49., 34., 38., 40., 20.],\n",
              "       [59., 36., 41., 54., 14., 11.]])"
            ]
          },
          "metadata": {},
          "execution_count": 212
        }
      ],
      "source": [
        "mega_df_predicit = np.array(mega_df_predicit)\n",
        "mega_df_predicit"
      ]
    },
    {
      "cell_type": "code",
      "execution_count": null,
      "metadata": {
        "id": "H5frjfOID1el"
      },
      "outputs": [],
      "source": [
        "scaled_to_predict = scaler.transform(mega_df_predicit)"
      ]
    },
    {
      "cell_type": "code",
      "source": [
        "\n",
        "scaled_to_predict"
      ],
      "metadata": {
        "colab": {
          "base_uri": "https://localhost:8080/"
        },
        "id": "tQn5NUnSEHUD",
        "outputId": "21af1c5a-fdd0-4036-8331-f89594c57e31"
      },
      "execution_count": null,
      "outputs": [
        {
          "output_type": "execute_result",
          "data": {
            "text/plain": [
              "array([[-0.54715892, -1.16056926,  0.24621229, -0.62351968, -0.78940489,\n",
              "        -0.8952725 ],\n",
              "       [ 0.03091596,  1.48864439, -1.42768287, -1.55129717,  1.13243182,\n",
              "        -1.24471001],\n",
              "       [-1.70330866,  0.39440397,  0.30393281, -0.56553358, -1.31354217,\n",
              "        -0.19639747],\n",
              "       [ 0.08872344, -1.67889367,  1.51606379,  0.76814656,  0.25886968,\n",
              "         0.85191506],\n",
              "       [ 1.36048816,  1.08550318,  0.18849177,  0.42023   ,  0.55005706,\n",
              "        -0.60407457],\n",
              "       [ 1.6495256 ,  0.33681237,  0.59253543,  1.34800749, -0.96411732,\n",
              "        -1.12823084]])"
            ]
          },
          "metadata": {},
          "execution_count": 214
        }
      ]
    },
    {
      "cell_type": "code",
      "execution_count": null,
      "metadata": {
        "colab": {
          "base_uri": "https://localhost:8080/"
        },
        "id": "hD3arI-s_9zO",
        "outputId": "a31f3479-0550-4daf-cd5b-0cfc5a23546f"
      },
      "outputs": [
        {
          "output_type": "stream",
          "name": "stdout",
          "text": [
            "Numeros previstos: [27 28 28 30 26 35]\n"
          ]
        }
      ],
      "source": [
        "y_pred = model.predict(np.array([scaled_to_predict]))\n",
        "resulta=scaler.inverse_transform(y_pred).astype(int)[0]\n",
        "#print(\"Numeros previstos:\", scaler.inverse_transform(y_pred).astype(int)[0])\n",
        "print(\"Numeros previstos:\", resulta)\n",
        "\n",
        "\n",
        "\n"
      ]
    },
    {
      "cell_type": "code",
      "execution_count": null,
      "metadata": {
        "colab": {
          "base_uri": "https://localhost:8080/"
        },
        "id": "Rz6nBsxV_9zP",
        "outputId": "c2fc3b37-792d-4b59-fc5c-44fe1e7e0f7e"
      },
      "outputs": [
        {
          "output_type": "stream",
          "name": "stdout",
          "text": [
            "Numeros sorteados: [ 2. 23. 28. 46. 17. 39.]\n"
          ]
        }
      ],
      "source": [
        "prediction = mega_df.tail(6)\n",
        "prediction = np.array(prediction)\n",
        "prediction_final = prediction[0]\n",
        "print(\"Numeros sorteados:\", prediction_final)"
      ]
    }
  ],
  "metadata": {
    "accelerator": "GPU",
    "colab": {
      "collapsed_sections": [],
      "name": "AMMStensorFlowKerasFuturos.ipynb",
      "provenance": [],
      "include_colab_link": true
    },
    "kernelspec": {
      "display_name": "Python 3",
      "language": "python",
      "name": "python3"
    },
    "language_info": {
      "codemirror_mode": {
        "name": "ipython",
        "version": 3
      },
      "file_extension": ".py",
      "mimetype": "text/x-python",
      "name": "python",
      "nbconvert_exporter": "python",
      "pygments_lexer": "ipython3",
      "version": "3.7.4"
    }
  },
  "nbformat": 4,
  "nbformat_minor": 0
}