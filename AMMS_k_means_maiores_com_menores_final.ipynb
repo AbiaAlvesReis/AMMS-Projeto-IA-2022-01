{
  "nbformat": 4,
  "nbformat_minor": 0,
  "metadata": {
    "colab": {
      "name": "AMMS-k-means-maiores-com-menores-final.ipynb",
      "provenance": [],
      "collapsed_sections": [],
      "authorship_tag": "ABX9TyO3rYWRsgXFVG3bsSE84q92",
      "include_colab_link": true
    },
    "kernelspec": {
      "name": "python3",
      "display_name": "Python 3"
    },
    "language_info": {
      "name": "python"
    }
  },
  "cells": [
    {
      "cell_type": "markdown",
      "metadata": {
        "id": "view-in-github",
        "colab_type": "text"
      },
      "source": [
        "<a href=\"https://colab.research.google.com/github/AbiaAlvesReis/Projeto-IA-2022-01/blob/main/AMMS_k_means_maiores_com_menores_final.ipynb\" target=\"_parent\"><img src=\"https://colab.research.google.com/assets/colab-badge.svg\" alt=\"Open In Colab\"/></a>"
      ]
    },
    {
      "cell_type": "markdown",
      "source": [
        "Tentativa: Esses números não fizeram muito sentido: Ver o k-means\n",
        "Aplicando o algoritmo de IA k-means, para predizer qual as melhores dezena para jogar entre as dezenas que mais saíram e as que menos saíram."
      ],
      "metadata": {
        "id": "kqpeBnF5kYjx"
      }
    },
    {
      "cell_type": "code",
      "execution_count": null,
      "metadata": {
        "id": "4exc_drgkRx1"
      },
      "outputs": [],
      "source": [
        "import numpy as np #para manipular os vetores\n",
        "from matplotlib import pyplot as plt #para plotar os gráficos\n",
        "from sklearn.cluster import KMeans #para usar o KMeans"
      ]
    },
    {
      "cell_type": "markdown",
      "source": [
        "K-means com números que mais saíram com menos saíram, dados com:\n",
        "[dezena, quantidade de vezes que saiu]\n",
        "\n"
      ],
      "metadata": {
        "id": "tHQvQyFPYCcG"
      }
    },
    {
      "cell_type": "code",
      "source": [
        "novo_dataset = np.array(\n",
        "[\n",
        "[1, 241],\n",
        "[2, 255],\n",
        "[3, 228],\n",
        "[4, 265],\n",
        "[5, 271],\n",
        "[6, 250],\n",
        "[7, 236],\n",
        "[8, 252],\n",
        "[9, 233],\n",
        "[10, 282],\n",
        "[11, 259],\n",
        "[12, 239],\n",
        "[13, 253],\n",
        "[14, 233],\n",
        "[15, 219],\n",
        "[16, 258],\n",
        "[17, 259],\n",
        "[18, 244],\n",
        "[19, 235],\n",
        "[20, 241],\n",
        "[21, 214],\n",
        "[22, 218],\n",
        "[23, 266],\n",
        "[24, 256],\n",
        "[25, 236],\n",
        "[26, 205],\n",
        "[27, 262],\n",
        "[28, 263],\n",
        "[29, 259],\n",
        "[30, 264],\n",
        "[31, 234],\n",
        "[32, 256],\n",
        "[33, 267],\n",
        "[34, 261],\n",
        "[35, 263],\n",
        "[36, 256],\n",
        "[37, 270],\n",
        "[38, 257],\n",
        "[39, 235],\n",
        "[40, 239],\n",
        "[41, 262],\n",
        "[42, 272],\n",
        "[43, 257],\n",
        "[44, 260],\n",
        "[45, 240],\n",
        "[46, 248],\n",
        "[47, 237],\n",
        "[48, 228],\n",
        "[49, 258],\n",
        "[50, 244],\n",
        "[51, 258],\n",
        "[52, 249],\n",
        "[53, 284],\n",
        "[54, 263],\n",
        "[55, 211],\n",
        "[56, 253],\n",
        "[57, 236],\n",
        "[58, 241],\n",
        "[59, 234],\n",
        "[60, 235]\n",
        "])\n",
        "\n",
        "#plt.scatter(novo_dataset[:,1], novo_dataset[:,0]) #posicionamento dos eixos x e y\n",
        "#plt.xlim(0, 400) #range do eixo x\n",
        "#plt.ylim(1, 60) #range do eixo y\n",
        "#plt.grid() #função que desenha a grade no nosso gráfico"
      ],
      "metadata": {
        "id": "hmPuoqd3YPah"
      },
      "execution_count": null,
      "outputs": []
    },
    {
      "cell_type": "code",
      "source": [
        "#for x in novo_dataset:\n",
        "#  print('[' + str(x[1]) + ',' + str(x[0]) + '],')"
      ],
      "metadata": {
        "id": "kotMuBYNja6k"
      },
      "execution_count": null,
      "outputs": []
    },
    {
      "cell_type": "code",
      "source": [
        "novo_dataset = np.array(\n",
        "[    \n",
        "[241,1],\n",
        "[255,2],\n",
        "[228,3],\n",
        "[265,4],\n",
        "[271,5],\n",
        "[250,6],\n",
        "[236,7],\n",
        "[252,8],\n",
        "[233,9],\n",
        "[282,10],\n",
        "[259,11],\n",
        "[239,12],\n",
        "[253,13],\n",
        "[233,14],\n",
        "[219,15],\n",
        "[258,16],\n",
        "[259,17],\n",
        "[244,18],\n",
        "[235,19],\n",
        "[241,20],\n",
        "[214,21],\n",
        "[218,22],\n",
        "[266,23],\n",
        "[256,24],\n",
        "[236,25],\n",
        "[205,26],\n",
        "[262,27],\n",
        "[263,28],\n",
        "[259,29],\n",
        "[264,30],\n",
        "[234,31],\n",
        "[256,32],\n",
        "[267,33],\n",
        "[261,34],\n",
        "[263,35],\n",
        "[256,36],\n",
        "[270,37],\n",
        "[257,38],\n",
        "[235,39],\n",
        "[239,40],\n",
        "[262,41],\n",
        "[272,42],\n",
        "[257,43],\n",
        "[260,44],\n",
        "[240,45],\n",
        "[248,46],\n",
        "[237,47],\n",
        "[228,48],\n",
        "[258,49],\n",
        "[244,50],\n",
        "[258,51],\n",
        "[249,52],\n",
        "[284,53],\n",
        "[263,54],\n",
        "[211,55],\n",
        "[253,56],\n",
        "[236,57],\n",
        "[241,58],\n",
        "[234,59],\n",
        "[235,60]\n",
        "])\n",
        "\n",
        "\n"
      ],
      "metadata": {
        "id": "89PUgQSdjpBz"
      },
      "execution_count": null,
      "outputs": []
    },
    {
      "cell_type": "markdown",
      "source": [
        "# K-means - Algoritmo de IA não supervisionado.\n",
        "Achar as melhores dezenas entre os números que mais saíram e os que menos saíram."
      ],
      "metadata": {
        "id": "emxkvLGu77GW"
      }
    },
    {
      "cell_type": "code",
      "source": [
        "plt.scatter(novo_dataset[:,1], novo_dataset[:,0]) #posicionamento dos eixos x e y\n",
        "plt.xlim(1, 60) #range do eixo x\n",
        "plt.ylim(0, 400) #range do eixo y\n",
        "plt.grid() #função que desenha a grade no nosso gráfico"
      ],
      "metadata": {
        "colab": {
          "base_uri": "https://localhost:8080/",
          "height": 269
        },
        "id": "lCWdPALC8WPk",
        "outputId": "72588249-86a2-4d2f-e734-85cf346890f1"
      },
      "execution_count": null,
      "outputs": [
        {
          "output_type": "display_data",
          "data": {
            "text/plain": [
              "<Figure size 432x288 with 1 Axes>"
            ],
            "image/png": "[encoded data removed]"
          },
          "metadata": {
            "needs_background": "light"
          }
        }
      ]
    },
    {
      "cell_type": "code",
      "source": [
        "#numero de clusters\n",
        "kmeans = KMeans(n_clusters = 6, init = 'random', n_init = 10, max_iter = 100) \n",
        "pred_y = kmeans.fit_predict(novo_dataset)\n",
        "#posicionamento dos eixos x e y\n",
        "plt.scatter(novo_dataset[:,1], novo_dataset[:,0], c = pred_y) \n",
        " #range do eixo x\n",
        "plt.xlim(1, 60)\n",
        "#range do eixo y\n",
        "plt.ylim(0, 400) \n",
        "#função que desenha a grade no nosso gráfico\n",
        "plt.grid() \n",
        "#posição de cada centroide no gráfico\n",
        "plt.scatter(kmeans.cluster_centers_[:,1],kmeans.cluster_centers_[:,0], s = 100, c = 'red') \n",
        "plt.show()\n",
        "\n",
        "\n",
        "#numero de clusters\n",
        "kmeans = KMeans(n_clusters = 6, init = 'random', n_init = 10, max_iter = 1000) \n",
        "pred_y = kmeans.fit_predict(novo_dataset)\n",
        "#posicionamento dos eixos x e y\n",
        "plt.scatter(novo_dataset[:,1], novo_dataset[:,0], c = pred_y) \n",
        "#range do eixo x\n",
        "plt.xlim(1, 60) \n",
        " #range do eixo y\n",
        "plt.ylim(0, 400)\n",
        " #função que desenha a grade no nosso gráfico\n",
        "plt.grid()\n",
        "#posição de cada centroide no gráfico\n",
        "plt.scatter(kmeans.cluster_centers_[:,1],kmeans.cluster_centers_[:,0], s = 100, c = 'red') \n",
        "plt.show()"
      ],
      "metadata": {
        "colab": {
          "base_uri": "https://localhost:8080/",
          "height": 521
        },
        "id": "Etg9Dy4OkS6a",
        "outputId": "8ebacb3a-be26-467a-9f74-4517e28a3a48"
      },
      "execution_count": null,
      "outputs": [
        {
          "output_type": "display_data",
          "data": {
            "text/plain": [
              "<Figure size 432x288 with 1 Axes>"
            ],
            "image/png": "[encoded data removed]"
          },
          "metadata": {
            "needs_background": "light"
          }
        },
        {
          "output_type": "display_data",
          "data": {
            "text/plain": [
              "<Figure size 432x288 with 1 Axes>"
            ],
            "image/png": "[encoded data removed]"
          },
          "metadata": {
            "needs_background": "light"
          }
        }
      ]
    },
    {
      "cell_type": "code",
      "source": [
        "print('Melhores dezenas')\n",
        "for x in kmeans.cluster_centers_:\n",
        "  print(round(x[1]))"
      ],
      "metadata": {
        "colab": {
          "base_uri": "https://localhost:8080/"
        },
        "id": "J9vU7zq3kkVi",
        "outputId": "7fcd9c8f-1d1b-4415-a275-c28efbdc5d53"
      },
      "execution_count": null,
      "outputs": [
        {
          "output_type": "stream",
          "name": "stdout",
          "text": [
            "Melhores dezenas\n",
            "49\n",
            "9\n",
            "33\n",
            "13\n",
            "21\n",
            "50\n"
          ]
        }
      ]
    }
  ]
}