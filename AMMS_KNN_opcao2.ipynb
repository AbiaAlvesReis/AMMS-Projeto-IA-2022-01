{
  "nbformat": 4,
  "nbformat_minor": 0,
  "metadata": {
    "colab": {
      "name": "AMMS-KNN-opcao2.ipynb",
      "provenance": [],
      "collapsed_sections": [],
      "include_colab_link": true
    },
    "kernelspec": {
      "name": "python3",
      "display_name": "Python 3"
    },
    "language_info": {
      "name": "python"
    }
  },
  "cells": [
    {
      "cell_type": "markdown",
      "metadata": {
        "id": "view-in-github",
        "colab_type": "text"
      },
      "source": [
        "<a href=\"https://colab.research.google.com/github/AbiaAlvesReis/Projeto-IA-2022-01/blob/main/AMMS_KNN_opcao2.ipynb\" target=\"_parent\"><img src=\"https://colab.research.google.com/assets/colab-badge.svg\" alt=\"Open In Colab\"/></a>"
      ]
    },
    {
      "cell_type": "code",
      "execution_count": null,
      "metadata": {
        "id": "CzfJsilH1D6V",
        "colab": {
          "base_uri": "https://localhost:8080/",
          "height": 34
        },
        "outputId": "cca9a1ed-b564-498d-ae46-eb6c717894a2"
      },
      "outputs": [
        {
          "output_type": "display_data",
          "data": {
            "text/html": [
              "        <script type=\"text/javascript\">\n",
              "        window.PlotlyConfig = {MathJaxConfig: 'local'};\n",
              "        if (window.MathJax) {MathJax.Hub.Config({SVG: {font: \"STIX-Web\"}});}\n",
              "        if (typeof require !== 'undefined') {\n",
              "        require.undef(\"plotly\");\n",
              "        requirejs.config({\n",
              "            paths: {\n",
              "                'plotly': ['https://cdn.plot.ly/plotly-2.8.3.min']\n",
              "            }\n",
              "        });\n",
              "        require(['plotly'], function(Plotly) {\n",
              "            window._Plotly = Plotly;\n",
              "        });\n",
              "        }\n",
              "        </script>\n",
              "        "
            ]
          },
          "metadata": {}
        },
        {
          "output_type": "display_data",
          "data": {
            "text/html": [
              "        <script type=\"text/javascript\">\n",
              "        window.PlotlyConfig = {MathJaxConfig: 'local'};\n",
              "        if (window.MathJax) {MathJax.Hub.Config({SVG: {font: \"STIX-Web\"}});}\n",
              "        if (typeof require !== 'undefined') {\n",
              "        require.undef(\"plotly\");\n",
              "        requirejs.config({\n",
              "            paths: {\n",
              "                'plotly': ['https://cdn.plot.ly/plotly-2.8.3.min']\n",
              "            }\n",
              "        });\n",
              "        require(['plotly'], function(Plotly) {\n",
              "            window._Plotly = Plotly;\n",
              "        });\n",
              "        }\n",
              "        </script>\n",
              "        "
            ]
          },
          "metadata": {}
        },
        {
          "output_type": "stream",
          "name": "stdout",
          "text": [
            "Mounted at /content/drive\n"
          ]
        }
      ],
      "source": [
        "import pandas as pd\n",
        "import numpy as np\n",
        "# bibliotecas para trabalhar offline com a biblioteca\n",
        "import plotly\n",
        "import plotly.offline as py\n",
        "import plotly.graph_objs as go # criará de fato os gráficos\n",
        "from plotly.offline import plot, iplot\n",
        "import cufflinks as cf # para conectar o plotly ao pandas\n",
        "cf.go_offline()\n",
        "plotly.offline.init_notebook_mode(connected = True)\n",
        "# Import everything\n",
        "import pandas as pd\n",
        "import numpy as np\n",
        "\n",
        "import matplotlib.pyplot as plt\n",
        "import seaborn as sns\n",
        "%matplotlib inline\n",
        "\n",
        "from sklearn.preprocessing import StandardScaler\n",
        "from google.colab import drive\n",
        "\n",
        "drive.mount('/content/drive')\n",
        "\n"
      ]
    },
    {
      "cell_type": "code",
      "source": [
        "import plotly.io as pio\n",
        "pio.renderers"
      ],
      "metadata": {
        "colab": {
          "base_uri": "https://localhost:8080/"
        },
        "id": "Iz3iB3xMuGQ3",
        "outputId": "f312ad05-3238-4de9-fe86-fa46573ba6e8"
      },
      "execution_count": null,
      "outputs": [
        {
          "output_type": "execute_result",
          "data": {
            "text/plain": [
              "Renderers configuration\n",
              "-----------------------\n",
              "    Default renderer: 'plotly_mimetype+notebook_connected'\n",
              "    Available renderers:\n",
              "        ['plotly_mimetype', 'jupyterlab', 'nteract', 'vscode',\n",
              "         'notebook', 'notebook_connected', 'kaggle', 'azure', 'colab',\n",
              "         'cocalc', 'databricks', 'json', 'png', 'jpeg', 'jpg', 'svg',\n",
              "         'pdf', 'browser', 'firefox', 'chrome', 'chromium', 'iframe',\n",
              "         'iframe_connected', 'sphinx_gallery', 'sphinx_gallery_png']"
            ]
          },
          "metadata": {},
          "execution_count": 2
        }
      ]
    },
    {
      "cell_type": "code",
      "source": [
        "pio.renderers.default = 'colab'"
      ],
      "metadata": {
        "id": "UQ_DjTuBuJ1I"
      },
      "execution_count": null,
      "outputs": []
    },
    {
      "cell_type": "code",
      "source": [
        "# Create a DataFrame\n",
        "df = pd.read_excel('//content/drive/MyDrive/2022/IA - projeto/dados brutos mega sena/mega.xlsx', parse_dates=True, index_col=2)"
      ],
      "metadata": {
        "id": "urk0f-r51SNR"
      },
      "execution_count": null,
      "outputs": []
    },
    {
      "cell_type": "code",
      "source": [
        "# Print the head of the data.\n",
        "df.head()"
      ],
      "metadata": {
        "colab": {
          "base_uri": "https://localhost:8080/",
          "height": 238
        },
        "id": "AXfZBTMt1NG0",
        "outputId": "f18b2096-40f5-44ae-ec98-ce533177da49"
      },
      "execution_count": null,
      "outputs": [
        {
          "output_type": "execute_result",
          "data": {
            "text/plain": [
              "         lottery       date  ball_02  ball_03  ball_04  ball_05  ball_06\n",
              "ball_01                                                                 \n",
              "41.0         1.0 1996-03-11      5.0      4.0     52.0     30.0     33.0\n",
              "9.0          2.0 1996-03-18     39.0     37.0     49.0     43.0     41.0\n",
              "36.0         3.0 1996-03-25     30.0     10.0     11.0     29.0     47.0\n",
              "6.0          4.0 1996-04-01     59.0     42.0     27.0      1.0      5.0\n",
              "1.0          5.0 1996-04-08     19.0     46.0      6.0     16.0      2.0"
            ],
            "text/html": [
              "\n",
              "  <div id=\"df-ca74c92c-01d5-4613-8625-6de46030ad84\">\n",
              "    <div class=\"colab-df-container\">\n",
              "      <div>\n",
              "<style scoped>\n",
              "    .dataframe tbody tr th:only-of-type {\n",
              "        vertical-align: middle;\n",
              "    }\n",
              "\n",
              "    .dataframe tbody tr th {\n",
              "        vertical-align: top;\n",
              "    }\n",
              "\n",
              "    .dataframe thead th {\n",
              "        text-align: right;\n",
              "    }\n",
              "</style>\n",
              "<table border=\"1\" class=\"dataframe\">\n",
              "  <thead>\n",
              "    <tr style=\"text-align: right;\">\n",
              "      <th></th>\n",
              "      <th>lottery</th>\n",
              "      <th>date</th>\n",
              "      <th>ball_02</th>\n",
              "      <th>ball_03</th>\n",
              "      <th>ball_04</th>\n",
              "      <th>ball_05</th>\n",
              "      <th>ball_06</th>\n",
              "    </tr>\n",
              "    <tr>\n",
              "      <th>ball_01</th>\n",
              "      <th></th>\n",
              "      <th></th>\n",
              "      <th></th>\n",
              "      <th></th>\n",
              "      <th></th>\n",
              "      <th></th>\n",
              "      <th></th>\n",
              "    </tr>\n",
              "  </thead>\n",
              "  <tbody>\n",
              "    <tr>\n",
              "      <th>41.0</th>\n",
              "      <td>1.0</td>\n",
              "      <td>1996-03-11</td>\n",
              "      <td>5.0</td>\n",
              "      <td>4.0</td>\n",
              "      <td>52.0</td>\n",
              "      <td>30.0</td>\n",
              "      <td>33.0</td>\n",
              "    </tr>\n",
              "    <tr>\n",
              "      <th>9.0</th>\n",
              "      <td>2.0</td>\n",
              "      <td>1996-03-18</td>\n",
              "      <td>39.0</td>\n",
              "      <td>37.0</td>\n",
              "      <td>49.0</td>\n",
              "      <td>43.0</td>\n",
              "      <td>41.0</td>\n",
              "    </tr>\n",
              "    <tr>\n",
              "      <th>36.0</th>\n",
              "      <td>3.0</td>\n",
              "      <td>1996-03-25</td>\n",
              "      <td>30.0</td>\n",
              "      <td>10.0</td>\n",
              "      <td>11.0</td>\n",
              "      <td>29.0</td>\n",
              "      <td>47.0</td>\n",
              "    </tr>\n",
              "    <tr>\n",
              "      <th>6.0</th>\n",
              "      <td>4.0</td>\n",
              "      <td>1996-04-01</td>\n",
              "      <td>59.0</td>\n",
              "      <td>42.0</td>\n",
              "      <td>27.0</td>\n",
              "      <td>1.0</td>\n",
              "      <td>5.0</td>\n",
              "    </tr>\n",
              "    <tr>\n",
              "      <th>1.0</th>\n",
              "      <td>5.0</td>\n",
              "      <td>1996-04-08</td>\n",
              "      <td>19.0</td>\n",
              "      <td>46.0</td>\n",
              "      <td>6.0</td>\n",
              "      <td>16.0</td>\n",
              "      <td>2.0</td>\n",
              "    </tr>\n",
              "  </tbody>\n",
              "</table>\n",
              "</div>\n",
              "      <button class=\"colab-df-convert\" onclick=\"convertToInteractive('df-ca74c92c-01d5-4613-8625-6de46030ad84')\"\n",
              "              title=\"Convert this dataframe to an interactive table.\"\n",
              "              style=\"display:none;\">\n",
              "        \n",
              "  <svg xmlns=\"http://www.w3.org/2000/svg\" height=\"24px\"viewBox=\"0 0 24 24\"\n",
              "       width=\"24px\">\n",
              "    <path d=\"M0 0h24v24H0V0z\" fill=\"none\"/>\n",
              "    <path d=\"M18.56 5.44l.94 2.06.94-2.06 2.06-.94-2.06-.94-.94-2.06-.94 2.06-2.06.94zm-11 1L8.5 8.5l.94-2.06 2.06-.94-2.06-.94L8.5 2.5l-.94 2.06-2.06.94zm10 10l.94 2.06.94-2.06 2.06-.94-2.06-.94-.94-2.06-.94 2.06-2.06.94z\"/><path d=\"M17.41 7.96l-1.37-1.37c-.4-.4-.92-.59-1.43-.59-.52 0-1.04.2-1.43.59L10.3 9.45l-7.72 7.72c-.78.78-.78 2.05 0 2.83L4 21.41c.39.39.9.59 1.41.59.51 0 1.02-.2 1.41-.59l7.78-7.78 2.81-2.81c.8-.78.8-2.07 0-2.86zM5.41 20L4 18.59l7.72-7.72 1.47 1.35L5.41 20z\"/>\n",
              "  </svg>\n",
              "      </button>\n",
              "      \n",
              "  <style>\n",
              "    .colab-df-container {\n",
              "      display:flex;\n",
              "      flex-wrap:wrap;\n",
              "      gap: 12px;\n",
              "    }\n",
              "\n",
              "    .colab-df-convert {\n",
              "      background-color: #E8F0FE;\n",
              "      border: none;\n",
              "      border-radius: 50%;\n",
              "      cursor: pointer;\n",
              "      display: none;\n",
              "      fill: #1967D2;\n",
              "      height: 32px;\n",
              "      padding: 0 0 0 0;\n",
              "      width: 32px;\n",
              "    }\n",
              "\n",
              "    .colab-df-convert:hover {\n",
              "      background-color: #E2EBFA;\n",
              "      box-shadow: 0px 1px 2px rgba(60, 64, 67, 0.3), 0px 1px 3px 1px rgba(60, 64, 67, 0.15);\n",
              "      fill: #174EA6;\n",
              "    }\n",
              "\n",
              "    [theme=dark] .colab-df-convert {\n",
              "      background-color: #3B4455;\n",
              "      fill: #D2E3FC;\n",
              "    }\n",
              "\n",
              "    [theme=dark] .colab-df-convert:hover {\n",
              "      background-color: #434B5C;\n",
              "      box-shadow: 0px 1px 3px 1px rgba(0, 0, 0, 0.15);\n",
              "      filter: drop-shadow(0px 1px 2px rgba(0, 0, 0, 0.3));\n",
              "      fill: #FFFFFF;\n",
              "    }\n",
              "  </style>\n",
              "\n",
              "      <script>\n",
              "        const buttonEl =\n",
              "          document.querySelector('#df-ca74c92c-01d5-4613-8625-6de46030ad84 button.colab-df-convert');\n",
              "        buttonEl.style.display =\n",
              "          google.colab.kernel.accessAllowed ? 'block' : 'none';\n",
              "\n",
              "        async function convertToInteractive(key) {\n",
              "          const element = document.querySelector('#df-ca74c92c-01d5-4613-8625-6de46030ad84');\n",
              "          const dataTable =\n",
              "            await google.colab.kernel.invokeFunction('convertToInteractive',\n",
              "                                                     [key], {});\n",
              "          if (!dataTable) return;\n",
              "\n",
              "          const docLinkHtml = 'Like what you see? Visit the ' +\n",
              "            '<a target=\"_blank\" href=https://colab.research.google.com/notebooks/data_table.ipynb>data table notebook</a>'\n",
              "            + ' to learn more about interactive tables.';\n",
              "          element.innerHTML = '';\n",
              "          dataTable['output_type'] = 'display_data';\n",
              "          await google.colab.output.renderOutput(dataTable, element);\n",
              "          const docLink = document.createElement('div');\n",
              "          docLink.innerHTML = docLinkHtml;\n",
              "          element.appendChild(docLink);\n",
              "        }\n",
              "      </script>\n",
              "    </div>\n",
              "  </div>\n",
              "  "
            ]
          },
          "metadata": {},
          "execution_count": 5
        }
      ]
    },
    {
      "cell_type": "markdown",
      "source": [
        "conjunto de dados"
      ],
      "metadata": {
        "id": "OJlCc_LW73It"
      }
    },
    {
      "cell_type": "code",
      "source": [
        "df.shape"
      ],
      "metadata": {
        "colab": {
          "base_uri": "https://localhost:8080/"
        },
        "id": "cmN3LkOJCM0I",
        "outputId": "cc6fad38-e51d-42fe-9beb-05b8d3ffb014"
      },
      "execution_count": null,
      "outputs": [
        {
          "output_type": "execute_result",
          "data": {
            "text/plain": [
              "(2485, 7)"
            ]
          },
          "metadata": {},
          "execution_count": 6
        }
      ]
    },
    {
      "cell_type": "code",
      "source": [
        "df.drop('lottery', inplace=True, axis=1)"
      ],
      "metadata": {
        "id": "GmkY7quBj9R6"
      },
      "execution_count": null,
      "outputs": []
    },
    {
      "cell_type": "code",
      "source": [
        "df.drop('date', inplace=True, axis=1)"
      ],
      "metadata": {
        "id": "0tfcZYDxkAj5"
      },
      "execution_count": null,
      "outputs": []
    },
    {
      "cell_type": "markdown",
      "source": [
        ""
      ],
      "metadata": {
        "id": "EAIoHTQ_lI2b"
      }
    },
    {
      "cell_type": "code",
      "source": [
        "df.describe()\n"
      ],
      "metadata": {
        "colab": {
          "base_uri": "https://localhost:8080/",
          "height": 300
        },
        "id": "4Elfq4YdAnSG",
        "outputId": "c7b32548-5b50-4ce4-a25f-0f3327dc2ea1"
      },
      "execution_count": null,
      "outputs": [
        {
          "output_type": "execute_result",
          "data": {
            "text/plain": [
              "           ball_02      ball_03      ball_04     ball_05      ball_06\n",
              "count  2485.000000  2485.000000  2485.000000  2485.00000  2485.000000\n",
              "mean     30.151710    30.734406    30.752918    30.55493    30.372233\n",
              "std      17.367138    17.328347    17.248985    17.17453    17.173908\n",
              "min       1.000000     1.000000     1.000000     1.00000     1.000000\n",
              "25%      15.000000    16.000000    16.000000    15.00000    16.000000\n",
              "50%      31.000000    31.000000    31.000000    31.00000    30.000000\n",
              "75%      45.000000    45.000000    45.000000    45.00000    45.000000\n",
              "max      60.000000    60.000000    60.000000    60.00000    60.000000"
            ],
            "text/html": [
              "\n",
              "  <div id=\"df-a4efa551-b500-4e7a-82bf-5dd4ce932c43\">\n",
              "    <div class=\"colab-df-container\">\n",
              "      <div>\n",
              "<style scoped>\n",
              "    .dataframe tbody tr th:only-of-type {\n",
              "        vertical-align: middle;\n",
              "    }\n",
              "\n",
              "    .dataframe tbody tr th {\n",
              "        vertical-align: top;\n",
              "    }\n",
              "\n",
              "    .dataframe thead th {\n",
              "        text-align: right;\n",
              "    }\n",
              "</style>\n",
              "<table border=\"1\" class=\"dataframe\">\n",
              "  <thead>\n",
              "    <tr style=\"text-align: right;\">\n",
              "      <th></th>\n",
              "      <th>ball_02</th>\n",
              "      <th>ball_03</th>\n",
              "      <th>ball_04</th>\n",
              "      <th>ball_05</th>\n",
              "      <th>ball_06</th>\n",
              "    </tr>\n",
              "  </thead>\n",
              "  <tbody>\n",
              "    <tr>\n",
              "      <th>count</th>\n",
              "      <td>2485.000000</td>\n",
              "      <td>2485.000000</td>\n",
              "      <td>2485.000000</td>\n",
              "      <td>2485.00000</td>\n",
              "      <td>2485.000000</td>\n",
              "    </tr>\n",
              "    <tr>\n",
              "      <th>mean</th>\n",
              "      <td>30.151710</td>\n",
              "      <td>30.734406</td>\n",
              "      <td>30.752918</td>\n",
              "      <td>30.55493</td>\n",
              "      <td>30.372233</td>\n",
              "    </tr>\n",
              "    <tr>\n",
              "      <th>std</th>\n",
              "      <td>17.367138</td>\n",
              "      <td>17.328347</td>\n",
              "      <td>17.248985</td>\n",
              "      <td>17.17453</td>\n",
              "      <td>17.173908</td>\n",
              "    </tr>\n",
              "    <tr>\n",
              "      <th>min</th>\n",
              "      <td>1.000000</td>\n",
              "      <td>1.000000</td>\n",
              "      <td>1.000000</td>\n",
              "      <td>1.00000</td>\n",
              "      <td>1.000000</td>\n",
              "    </tr>\n",
              "    <tr>\n",
              "      <th>25%</th>\n",
              "      <td>15.000000</td>\n",
              "      <td>16.000000</td>\n",
              "      <td>16.000000</td>\n",
              "      <td>15.00000</td>\n",
              "      <td>16.000000</td>\n",
              "    </tr>\n",
              "    <tr>\n",
              "      <th>50%</th>\n",
              "      <td>31.000000</td>\n",
              "      <td>31.000000</td>\n",
              "      <td>31.000000</td>\n",
              "      <td>31.00000</td>\n",
              "      <td>30.000000</td>\n",
              "    </tr>\n",
              "    <tr>\n",
              "      <th>75%</th>\n",
              "      <td>45.000000</td>\n",
              "      <td>45.000000</td>\n",
              "      <td>45.000000</td>\n",
              "      <td>45.00000</td>\n",
              "      <td>45.000000</td>\n",
              "    </tr>\n",
              "    <tr>\n",
              "      <th>max</th>\n",
              "      <td>60.000000</td>\n",
              "      <td>60.000000</td>\n",
              "      <td>60.000000</td>\n",
              "      <td>60.00000</td>\n",
              "      <td>60.000000</td>\n",
              "    </tr>\n",
              "  </tbody>\n",
              "</table>\n",
              "</div>\n",
              "      <button class=\"colab-df-convert\" onclick=\"convertToInteractive('df-a4efa551-b500-4e7a-82bf-5dd4ce932c43')\"\n",
              "              title=\"Convert this dataframe to an interactive table.\"\n",
              "              style=\"display:none;\">\n",
              "        \n",
              "  <svg xmlns=\"http://www.w3.org/2000/svg\" height=\"24px\"viewBox=\"0 0 24 24\"\n",
              "       width=\"24px\">\n",
              "    <path d=\"M0 0h24v24H0V0z\" fill=\"none\"/>\n",
              "    <path d=\"M18.56 5.44l.94 2.06.94-2.06 2.06-.94-2.06-.94-.94-2.06-.94 2.06-2.06.94zm-11 1L8.5 8.5l.94-2.06 2.06-.94-2.06-.94L8.5 2.5l-.94 2.06-2.06.94zm10 10l.94 2.06.94-2.06 2.06-.94-2.06-.94-.94-2.06-.94 2.06-2.06.94z\"/><path d=\"M17.41 7.96l-1.37-1.37c-.4-.4-.92-.59-1.43-.59-.52 0-1.04.2-1.43.59L10.3 9.45l-7.72 7.72c-.78.78-.78 2.05 0 2.83L4 21.41c.39.39.9.59 1.41.59.51 0 1.02-.2 1.41-.59l7.78-7.78 2.81-2.81c.8-.78.8-2.07 0-2.86zM5.41 20L4 18.59l7.72-7.72 1.47 1.35L5.41 20z\"/>\n",
              "  </svg>\n",
              "      </button>\n",
              "      \n",
              "  <style>\n",
              "    .colab-df-container {\n",
              "      display:flex;\n",
              "      flex-wrap:wrap;\n",
              "      gap: 12px;\n",
              "    }\n",
              "\n",
              "    .colab-df-convert {\n",
              "      background-color: #E8F0FE;\n",
              "      border: none;\n",
              "      border-radius: 50%;\n",
              "      cursor: pointer;\n",
              "      display: none;\n",
              "      fill: #1967D2;\n",
              "      height: 32px;\n",
              "      padding: 0 0 0 0;\n",
              "      width: 32px;\n",
              "    }\n",
              "\n",
              "    .colab-df-convert:hover {\n",
              "      background-color: #E2EBFA;\n",
              "      box-shadow: 0px 1px 2px rgba(60, 64, 67, 0.3), 0px 1px 3px 1px rgba(60, 64, 67, 0.15);\n",
              "      fill: #174EA6;\n",
              "    }\n",
              "\n",
              "    [theme=dark] .colab-df-convert {\n",
              "      background-color: #3B4455;\n",
              "      fill: #D2E3FC;\n",
              "    }\n",
              "\n",
              "    [theme=dark] .colab-df-convert:hover {\n",
              "      background-color: #434B5C;\n",
              "      box-shadow: 0px 1px 3px 1px rgba(0, 0, 0, 0.15);\n",
              "      filter: drop-shadow(0px 1px 2px rgba(0, 0, 0, 0.3));\n",
              "      fill: #FFFFFF;\n",
              "    }\n",
              "  </style>\n",
              "\n",
              "      <script>\n",
              "        const buttonEl =\n",
              "          document.querySelector('#df-a4efa551-b500-4e7a-82bf-5dd4ce932c43 button.colab-df-convert');\n",
              "        buttonEl.style.display =\n",
              "          google.colab.kernel.accessAllowed ? 'block' : 'none';\n",
              "\n",
              "        async function convertToInteractive(key) {\n",
              "          const element = document.querySelector('#df-a4efa551-b500-4e7a-82bf-5dd4ce932c43');\n",
              "          const dataTable =\n",
              "            await google.colab.kernel.invokeFunction('convertToInteractive',\n",
              "                                                     [key], {});\n",
              "          if (!dataTable) return;\n",
              "\n",
              "          const docLinkHtml = 'Like what you see? Visit the ' +\n",
              "            '<a target=\"_blank\" href=https://colab.research.google.com/notebooks/data_table.ipynb>data table notebook</a>'\n",
              "            + ' to learn more about interactive tables.';\n",
              "          element.innerHTML = '';\n",
              "          dataTable['output_type'] = 'display_data';\n",
              "          await google.colab.output.renderOutput(dataTable, element);\n",
              "          const docLink = document.createElement('div');\n",
              "          docLink.innerHTML = docLinkHtml;\n",
              "          element.appendChild(docLink);\n",
              "        }\n",
              "      </script>\n",
              "    </div>\n",
              "  </div>\n",
              "  "
            ]
          },
          "metadata": {},
          "execution_count": 9
        }
      ]
    },
    {
      "cell_type": "code",
      "source": [
        "df.head()"
      ],
      "metadata": {
        "colab": {
          "base_uri": "https://localhost:8080/",
          "height": 238
        },
        "id": "97R87TTckJGQ",
        "outputId": "8114034e-667d-4b5e-fd96-f558fe99423f"
      },
      "execution_count": null,
      "outputs": [
        {
          "output_type": "execute_result",
          "data": {
            "text/plain": [
              "         ball_02  ball_03  ball_04  ball_05  ball_06\n",
              "ball_01                                             \n",
              "41.0         5.0      4.0     52.0     30.0     33.0\n",
              "9.0         39.0     37.0     49.0     43.0     41.0\n",
              "36.0        30.0     10.0     11.0     29.0     47.0\n",
              "6.0         59.0     42.0     27.0      1.0      5.0\n",
              "1.0         19.0     46.0      6.0     16.0      2.0"
            ],
            "text/html": [
              "\n",
              "  <div id=\"df-b090c913-98d2-4179-9dec-72648b6a17c3\">\n",
              "    <div class=\"colab-df-container\">\n",
              "      <div>\n",
              "<style scoped>\n",
              "    .dataframe tbody tr th:only-of-type {\n",
              "        vertical-align: middle;\n",
              "    }\n",
              "\n",
              "    .dataframe tbody tr th {\n",
              "        vertical-align: top;\n",
              "    }\n",
              "\n",
              "    .dataframe thead th {\n",
              "        text-align: right;\n",
              "    }\n",
              "</style>\n",
              "<table border=\"1\" class=\"dataframe\">\n",
              "  <thead>\n",
              "    <tr style=\"text-align: right;\">\n",
              "      <th></th>\n",
              "      <th>ball_02</th>\n",
              "      <th>ball_03</th>\n",
              "      <th>ball_04</th>\n",
              "      <th>ball_05</th>\n",
              "      <th>ball_06</th>\n",
              "    </tr>\n",
              "    <tr>\n",
              "      <th>ball_01</th>\n",
              "      <th></th>\n",
              "      <th></th>\n",
              "      <th></th>\n",
              "      <th></th>\n",
              "      <th></th>\n",
              "    </tr>\n",
              "  </thead>\n",
              "  <tbody>\n",
              "    <tr>\n",
              "      <th>41.0</th>\n",
              "      <td>5.0</td>\n",
              "      <td>4.0</td>\n",
              "      <td>52.0</td>\n",
              "      <td>30.0</td>\n",
              "      <td>33.0</td>\n",
              "    </tr>\n",
              "    <tr>\n",
              "      <th>9.0</th>\n",
              "      <td>39.0</td>\n",
              "      <td>37.0</td>\n",
              "      <td>49.0</td>\n",
              "      <td>43.0</td>\n",
              "      <td>41.0</td>\n",
              "    </tr>\n",
              "    <tr>\n",
              "      <th>36.0</th>\n",
              "      <td>30.0</td>\n",
              "      <td>10.0</td>\n",
              "      <td>11.0</td>\n",
              "      <td>29.0</td>\n",
              "      <td>47.0</td>\n",
              "    </tr>\n",
              "    <tr>\n",
              "      <th>6.0</th>\n",
              "      <td>59.0</td>\n",
              "      <td>42.0</td>\n",
              "      <td>27.0</td>\n",
              "      <td>1.0</td>\n",
              "      <td>5.0</td>\n",
              "    </tr>\n",
              "    <tr>\n",
              "      <th>1.0</th>\n",
              "      <td>19.0</td>\n",
              "      <td>46.0</td>\n",
              "      <td>6.0</td>\n",
              "      <td>16.0</td>\n",
              "      <td>2.0</td>\n",
              "    </tr>\n",
              "  </tbody>\n",
              "</table>\n",
              "</div>\n",
              "      <button class=\"colab-df-convert\" onclick=\"convertToInteractive('df-b090c913-98d2-4179-9dec-72648b6a17c3')\"\n",
              "              title=\"Convert this dataframe to an interactive table.\"\n",
              "              style=\"display:none;\">\n",
              "        \n",
              "  <svg xmlns=\"http://www.w3.org/2000/svg\" height=\"24px\"viewBox=\"0 0 24 24\"\n",
              "       width=\"24px\">\n",
              "    <path d=\"M0 0h24v24H0V0z\" fill=\"none\"/>\n",
              "    <path d=\"M18.56 5.44l.94 2.06.94-2.06 2.06-.94-2.06-.94-.94-2.06-.94 2.06-2.06.94zm-11 1L8.5 8.5l.94-2.06 2.06-.94-2.06-.94L8.5 2.5l-.94 2.06-2.06.94zm10 10l.94 2.06.94-2.06 2.06-.94-2.06-.94-.94-2.06-.94 2.06-2.06.94z\"/><path d=\"M17.41 7.96l-1.37-1.37c-.4-.4-.92-.59-1.43-.59-.52 0-1.04.2-1.43.59L10.3 9.45l-7.72 7.72c-.78.78-.78 2.05 0 2.83L4 21.41c.39.39.9.59 1.41.59.51 0 1.02-.2 1.41-.59l7.78-7.78 2.81-2.81c.8-.78.8-2.07 0-2.86zM5.41 20L4 18.59l7.72-7.72 1.47 1.35L5.41 20z\"/>\n",
              "  </svg>\n",
              "      </button>\n",
              "      \n",
              "  <style>\n",
              "    .colab-df-container {\n",
              "      display:flex;\n",
              "      flex-wrap:wrap;\n",
              "      gap: 12px;\n",
              "    }\n",
              "\n",
              "    .colab-df-convert {\n",
              "      background-color: #E8F0FE;\n",
              "      border: none;\n",
              "      border-radius: 50%;\n",
              "      cursor: pointer;\n",
              "      display: none;\n",
              "      fill: #1967D2;\n",
              "      height: 32px;\n",
              "      padding: 0 0 0 0;\n",
              "      width: 32px;\n",
              "    }\n",
              "\n",
              "    .colab-df-convert:hover {\n",
              "      background-color: #E2EBFA;\n",
              "      box-shadow: 0px 1px 2px rgba(60, 64, 67, 0.3), 0px 1px 3px 1px rgba(60, 64, 67, 0.15);\n",
              "      fill: #174EA6;\n",
              "    }\n",
              "\n",
              "    [theme=dark] .colab-df-convert {\n",
              "      background-color: #3B4455;\n",
              "      fill: #D2E3FC;\n",
              "    }\n",
              "\n",
              "    [theme=dark] .colab-df-convert:hover {\n",
              "      background-color: #434B5C;\n",
              "      box-shadow: 0px 1px 3px 1px rgba(0, 0, 0, 0.15);\n",
              "      filter: drop-shadow(0px 1px 2px rgba(0, 0, 0, 0.3));\n",
              "      fill: #FFFFFF;\n",
              "    }\n",
              "  </style>\n",
              "\n",
              "      <script>\n",
              "        const buttonEl =\n",
              "          document.querySelector('#df-b090c913-98d2-4179-9dec-72648b6a17c3 button.colab-df-convert');\n",
              "        buttonEl.style.display =\n",
              "          google.colab.kernel.accessAllowed ? 'block' : 'none';\n",
              "\n",
              "        async function convertToInteractive(key) {\n",
              "          const element = document.querySelector('#df-b090c913-98d2-4179-9dec-72648b6a17c3');\n",
              "          const dataTable =\n",
              "            await google.colab.kernel.invokeFunction('convertToInteractive',\n",
              "                                                     [key], {});\n",
              "          if (!dataTable) return;\n",
              "\n",
              "          const docLinkHtml = 'Like what you see? Visit the ' +\n",
              "            '<a target=\"_blank\" href=https://colab.research.google.com/notebooks/data_table.ipynb>data table notebook</a>'\n",
              "            + ' to learn more about interactive tables.';\n",
              "          element.innerHTML = '';\n",
              "          dataTable['output_type'] = 'display_data';\n",
              "          await google.colab.output.renderOutput(dataTable, element);\n",
              "          const docLink = document.createElement('div');\n",
              "          docLink.innerHTML = docLinkHtml;\n",
              "          element.appendChild(docLink);\n",
              "        }\n",
              "      </script>\n",
              "    </div>\n",
              "  </div>\n",
              "  "
            ]
          },
          "metadata": {},
          "execution_count": 10
        }
      ]
    },
    {
      "cell_type": "code",
      "source": [
        "# X =  colunas de informação, variáveis independentes\n",
        "#X = df\n",
        "# y = Variável dependente, a qual será utilizada para classificar os dados\n",
        "#y = df\n",
        "\n",
        "\n",
        "X = df.iloc[:, [0, 1, 2, 3, 4]].values\n",
        "y = df.iloc[:, +1].values"
      ],
      "metadata": {
        "id": "OKq_VpnQXXHp"
      },
      "execution_count": null,
      "outputs": []
    },
    {
      "cell_type": "code",
      "source": [
        "# Verificando se X está com a coluna class \n",
        "X"
      ],
      "metadata": {
        "colab": {
          "base_uri": "https://localhost:8080/"
        },
        "id": "RyDimYcVTslh",
        "outputId": "6c4ae938-7f0d-4986-fc24-3c32dd3de67a"
      },
      "execution_count": null,
      "outputs": [
        {
          "output_type": "execute_result",
          "data": {
            "text/plain": [
              "array([[ 5.,  4., 52., 30., 33.],\n",
              "       [39., 37., 49., 43., 41.],\n",
              "       [30., 10., 11., 29., 47.],\n",
              "       ...,\n",
              "       [49., 34., 38., 40., 20.],\n",
              "       [36., 41., 54., 14., 11.],\n",
              "       [12., 38., 47.,  5., 32.]])"
            ]
          },
          "metadata": {},
          "execution_count": 12
        }
      ]
    },
    {
      "cell_type": "code",
      "source": [
        "y"
      ],
      "metadata": {
        "colab": {
          "base_uri": "https://localhost:8080/"
        },
        "id": "DQQTh_GdnvCb",
        "outputId": "dd439b1c-0712-47f4-bfcb-ea9d5e133269"
      },
      "execution_count": null,
      "outputs": [
        {
          "output_type": "execute_result",
          "data": {
            "text/plain": [
              "array([ 4., 37., 10., ..., 34., 41., 38.])"
            ]
          },
          "metadata": {},
          "execution_count": 13
        }
      ]
    },
    {
      "cell_type": "code",
      "source": [
        "#Importando o encoder para transformar as labels em chaves numéricas\n",
        "from sklearn.preprocessing import OneHotEncoder\n",
        "Oht_enc = OneHotEncoder()\n",
        "X = pd.DataFrame(Oht_enc.fit_transform(X).A)"
      ],
      "metadata": {
        "id": "Uy31yZ5cdnrL"
      },
      "execution_count": null,
      "outputs": []
    },
    {
      "cell_type": "code",
      "source": [
        "X.shape"
      ],
      "metadata": {
        "colab": {
          "base_uri": "https://localhost:8080/"
        },
        "id": "PGTxtINsdqTS",
        "outputId": "3750134e-f673-4be7-8df1-a3cc6ba0a145"
      },
      "execution_count": null,
      "outputs": [
        {
          "output_type": "execute_result",
          "data": {
            "text/plain": [
              "(2485, 300)"
            ]
          },
          "metadata": {},
          "execution_count": 15
        }
      ]
    },
    {
      "cell_type": "code",
      "source": [
        "from sklearn.model_selection import train_test_split \n",
        "X_train,X_test,y_train,y_test = train_test_split(X,y, test_size=0.3)"
      ],
      "metadata": {
        "id": "WvyRORwGUme_"
      },
      "execution_count": null,
      "outputs": []
    },
    {
      "cell_type": "code",
      "source": [
        "#Importing librarie\n",
        "from sklearn.preprocessing import StandardScaler"
      ],
      "metadata": {
        "id": "P5-JxSoVUw2G"
      },
      "execution_count": null,
      "outputs": []
    },
    {
      "cell_type": "code",
      "source": [
        "\n",
        "from sklearn.preprocessing import StandardScaler  \n",
        "scaler = StandardScaler()  \n",
        "scaler.fit(X_train)\n",
        "\n",
        "\n",
        "X_train = scaler.transform(X_train)  \n",
        "X_test = scaler.transform(X_test) "
      ],
      "metadata": {
        "id": "RdXMP7WUVfnk"
      },
      "execution_count": null,
      "outputs": []
    },
    {
      "cell_type": "code",
      "source": [
        "#Importando o modelo KNN\n",
        "from sklearn.neighbors import KNeighborsClassifier  \n",
        "\n",
        "# Definindo o valor de visinhos\n",
        "classifier = KNeighborsClassifier(n_neighbors=5)  \n",
        "\n",
        "#Treinando o modelo, com dados de treinamento\n",
        "classifier.fit(X_train, y_train)  "
      ],
      "metadata": {
        "colab": {
          "base_uri": "https://localhost:8080/"
        },
        "id": "Nl2BXWq1a88d",
        "outputId": "344a1cba-72ac-4f1f-d3b9-fd1879418582"
      },
      "execution_count": null,
      "outputs": [
        {
          "output_type": "execute_result",
          "data": {
            "text/plain": [
              "KNeighborsClassifier()"
            ]
          },
          "metadata": {},
          "execution_count": 19
        }
      ]
    },
    {
      "cell_type": "code",
      "source": [
        "KNeighborsClassifier(algorithm='auto', leaf_size=60, metric='minkowski',\n",
        "           metric_params=None, n_jobs=None, n_neighbors=6, p=2,\n",
        "           weights='uniform')"
      ],
      "metadata": {
        "colab": {
          "base_uri": "https://localhost:8080/"
        },
        "id": "pBrGgxYCV8rI",
        "outputId": "9c73810e-c19b-4ca5-c2e5-8bf9cda5a6b5"
      },
      "execution_count": null,
      "outputs": [
        {
          "output_type": "execute_result",
          "data": {
            "text/plain": [
              "KNeighborsClassifier(leaf_size=60, n_neighbors=6)"
            ]
          },
          "metadata": {},
          "execution_count": 20
        }
      ]
    },
    {
      "cell_type": "code",
      "source": [
        "#### Prevendo os valores de Y para os dados de teste (X_test)\n",
        "y_pred = classifier.predict(X_test)\n",
        "print(y_pred)\n"
      ],
      "metadata": {
        "id": "j8u6I3xkYzRe",
        "colab": {
          "base_uri": "https://localhost:8080/"
        },
        "outputId": "510469ab-5e2e-4c36-9ad1-11c201b2fe96"
      },
      "execution_count": null,
      "outputs": [
        {
          "output_type": "stream",
          "name": "stdout",
          "text": [
            "[23. 27. 12. 35. 17. 56. 15.  2.  5. 45. 26. 53.  5. 20. 10. 27.  9. 55.\n",
            " 51.  9. 12. 15.  1.  6.  3.  7. 18. 27. 10. 27. 23.  2. 18. 57. 44. 29.\n",
            " 54.  8. 54. 46. 34. 59. 30.  2. 16. 27.  6. 12.  2.  2.  7. 38. 42.  1.\n",
            " 12. 32.  8. 42. 48.  1.  5. 37.  4. 32. 55. 11. 17. 18. 10. 18. 16. 34.\n",
            "  4.  6. 15.  5.  2. 43. 22. 17.  1.  8. 27. 14. 47. 37. 27. 31.  3. 58.\n",
            "  2. 11.  5. 58. 27. 10. 14. 22. 58. 49. 25. 16. 18. 18. 21. 32. 31. 59.\n",
            " 54. 24. 14. 50.  1. 59.  7. 42.  3.  1. 12. 30. 11. 15. 53.  5. 31.  2.\n",
            "  7. 21. 54. 10. 20.  8.  3. 51.  2. 30. 57. 42. 34. 18.  7. 35. 24. 48.\n",
            "  8. 12. 42.  2. 24. 54.  5.  4.  4. 16. 60. 45.  4.  9. 50. 58.  5. 49.\n",
            " 12. 30.  5. 15.  8.  8. 42. 39. 33. 12.  5. 52. 56. 36. 19. 18. 13.  3.\n",
            "  1. 13.  8. 41. 27. 12. 15. 27. 20. 18. 16. 14.  1.  4. 12. 11. 17. 39.\n",
            " 17. 52. 29. 49. 33. 15.  5. 10. 32. 11.  1. 15. 40. 59. 12. 37.  8.  2.\n",
            " 11. 27. 29. 38. 44.  4. 44. 40. 18. 16. 33.  6. 22. 45. 14.  3.  8.  7.\n",
            " 44. 27. 20. 22.  2. 55. 29. 47. 52. 59. 23. 39.  4. 24. 21.  8. 13. 50.\n",
            "  5.  3. 42. 56.  4.  1. 34.  7. 43. 22.  2. 53. 10.  2. 13. 27.  3.  2.\n",
            " 29. 33.  9. 58. 43. 15. 21.  9. 12. 21. 24.  2. 39. 11. 19. 11.  2.  8.\n",
            " 11. 40.  4. 32. 12.  2. 13. 17. 27. 29. 41. 36.  1. 28.  8. 20.  8. 23.\n",
            " 41.  4. 11. 33. 19. 13.  2.  1. 11.  7.  1. 14. 23. 56. 58.  3. 19. 22.\n",
            " 31.  3. 28. 10.  2. 42. 22. 24. 33. 23. 22. 42. 17. 13. 18.  2.  7.  6.\n",
            "  1. 47. 38. 20. 43.  2. 29. 36.  1.  9. 14. 26. 37.  1. 35. 44. 38. 29.\n",
            " 18. 17. 42.  6.  3. 26. 27. 14.  4. 15. 12. 27. 29. 25. 59. 33. 58. 27.\n",
            "  1. 32.  4. 10. 14. 27.  2.  6. 18.  7.  7. 19. 51.  1.  9. 16.  1. 30.\n",
            " 39. 21. 52. 18. 51. 52. 17.  1.  2. 26. 40. 39. 37. 25. 33. 18.  5. 36.\n",
            " 29. 36. 10. 25.  2. 12. 30. 30. 24.  9.  3. 19. 53. 46.  2. 15. 23. 14.\n",
            " 60. 11. 26.  4.  1. 51. 21. 46. 38.  7.  6. 13. 12. 10. 55.  5. 53. 47.\n",
            " 38. 15. 19. 35. 23.  9.  4. 11. 40. 15.  5. 22. 29. 44. 18. 14. 18. 44.\n",
            "  4. 21. 38. 34.  9. 52.  1. 45. 14.  2. 38. 29.  1. 24. 38. 18.  1. 23.\n",
            " 27.  2. 35. 12. 14. 18. 13. 27. 48. 58. 38.  1. 20. 23. 20. 41.  2. 29.\n",
            " 39.  8. 19.  1. 27. 14.  3. 19. 45. 12. 23. 42.  4. 11. 59. 42. 56. 26.\n",
            "  3. 36. 27. 22.  4. 43. 20. 60.  8.  1. 15. 54. 53. 48. 26. 27. 26.  9.\n",
            " 51. 28. 19.  5. 23.  1. 18. 55.  2. 43. 28. 56.  1. 26. 21. 12. 38. 28.\n",
            " 31.  8.  2. 56.  8. 16. 18. 19. 39. 24.  5. 57. 60. 37.  8. 58.  5. 29.\n",
            " 37. 31.  9. 39. 15. 13.  5. 56. 58.  7.  1. 53. 46. 23.  9. 18. 57. 40.\n",
            " 41. 22. 22. 36. 30. 15.  6.  4. 23.  7.  3. 17. 27. 51. 46.  2. 45. 24.\n",
            " 43. 47. 34. 27. 23. 12. 19. 24. 14. 26. 18. 30. 16. 38. 52. 10. 10. 28.\n",
            " 14. 20. 40.  4. 35. 17.  5. 34.  4. 13. 14. 29. 29. 16. 20. 34. 35.  1.\n",
            " 13. 43. 28. 34. 17. 24.  4. 18. 47.  2. 38.  3. 20. 14.  5. 23. 17. 16.\n",
            "  5. 46. 39. 47. 23. 18. 47. 23. 18.  5. 29.  4. 17.  2.  8. 27. 15. 20.\n",
            "  4.  9. 60.  5. 16.  3. 11.  4.  2. 54. 24.  1.  2. 51. 30. 45.  7. 60.\n",
            " 37. 12. 12. 11. 10. 13.  2. 34.  1. 15.  4. 15. 17. 30.  3. 38.  3.  2.\n",
            " 19. 41.  2. 14. 47. 27. 21. 34. 15. 19. 18.  6.  8.  2. 11. 22. 24.  7.\n",
            " 18.  3. 30. 60. 50. 12. 13. 14.]\n"
          ]
        }
      ]
    },
    {
      "cell_type": "code",
      "source": [
        "error = []\n",
        "\n",
        "# Calculating error for K values between 1 and 40\n",
        "for i in range(1, 10):  \n",
        "    knn = KNeighborsClassifier(n_neighbors=i)\n",
        "    knn.fit(X_train, y_train)\n",
        "    pred_i = knn.predict(X_test)\n",
        "    error.append(np.mean(pred_i != y_test))\n",
        "    print(pred_i)"
      ],
      "metadata": {
        "colab": {
          "base_uri": "https://localhost:8080/"
        },
        "id": "8BnDSGK_WCXO",
        "outputId": "76e0d57c-2fbe-4fbf-e0e4-4de3767aefa4"
      },
      "execution_count": null,
      "outputs": [
        {
          "output_type": "stream",
          "name": "stdout",
          "text": [
            "[23. 10. 53. 58. 17. 13. 16. 41.  5. 45. 43. 53.  5. 19. 10. 37.  9. 42.\n",
            " 51. 43. 37. 15. 58. 13.  3. 58. 50. 41. 10. 23.  8.  2. 37. 27. 44. 50.\n",
            " 42. 46. 54. 24. 35. 59. 30. 36. 53. 54.  6. 49. 56.  2. 17.  1.  7.  1.\n",
            " 12. 32.  8. 43. 48. 32. 12. 41.  4. 32. 55. 35. 29. 20. 10. 18. 49. 18.\n",
            " 38. 20. 41. 14. 58.  6. 20. 27.  1.  8.  7. 30. 54. 37.  6. 38.  7. 31.\n",
            " 29. 23. 37. 28. 33. 10. 60. 19. 49. 49. 42. 58. 56. 44. 49. 52. 31. 59.\n",
            " 54. 58. 14. 50. 51. 59.  7. 27. 48. 59. 22. 48. 11. 15. 53. 33. 34.  2.\n",
            " 23. 30. 20. 10. 20. 29.  3. 51.  6. 27. 57. 23. 34. 40. 49. 35. 58.  7.\n",
            " 29. 27. 42. 13. 24. 27.  5. 51. 23. 18. 60. 53.  4. 25. 58. 24. 34. 49.\n",
            " 12. 36. 54. 15. 45. 13.  7. 25. 37.  2.  5. 24. 35.  3. 19. 44. 38.  3.\n",
            "  1. 13. 31. 41. 37. 33. 42. 35. 20. 23.  8. 23. 13.  4. 34. 35. 59. 58.\n",
            " 24. 52.  2. 34. 33. 15. 51. 10. 30. 47. 40. 15. 29. 24. 12. 37. 30.  2.\n",
            " 45. 41. 46. 48. 53. 35. 51. 38. 58. 55. 33.  6. 22. 31. 14.  3. 35. 18.\n",
            " 44. 59. 20. 22. 44. 17. 51. 56. 37. 13. 27. 39.  4. 27. 45.  3. 21. 54.\n",
            " 11. 19. 36. 29. 45.  1. 34. 37. 43. 22. 38. 53. 10.  2. 13. 44. 48.  2.\n",
            " 31. 33.  9. 41. 43.  4. 53.  9. 31. 21. 53. 34. 23. 11. 19. 38. 27. 20.\n",
            " 11.  4. 26. 27. 27.  2. 16. 17. 27. 29. 45. 55. 59. 28.  7. 20.  8. 46.\n",
            " 36. 51. 11. 35. 18. 13.  2.  1. 18.  7. 51. 14. 53. 56. 42. 13. 43. 22.\n",
            " 35. 27. 32. 35. 13. 13. 22. 35. 30. 55. 24. 51.  8. 52. 42. 46. 27. 32.\n",
            "  1. 33. 12. 30. 43. 59. 37. 36. 44.  9. 24. 26. 34. 24. 19. 13. 38. 59.\n",
            " 54. 17. 31. 49.  3. 27. 33. 14.  4. 15. 24. 23. 56. 25. 59. 33. 58.  2.\n",
            "  1. 32. 56. 10. 14. 27. 52. 46. 18. 55.  7. 12. 51. 37. 12. 41. 56. 35.\n",
            " 39. 31. 52. 18. 51. 38. 17. 18.  4. 35. 40. 39. 24. 20. 48. 12. 55. 38.\n",
            " 29.  2. 10.  1. 46. 13. 30. 35. 52.  9. 12. 19. 53. 46. 52. 15. 23. 18.\n",
            " 60. 54. 26. 58. 43. 51. 58. 42. 51.  7. 15. 13. 12. 59. 55.  5. 58. 47.\n",
            " 28. 15. 18. 35. 27.  9.  4. 11. 40. 19. 27. 22. 54. 44. 18. 14. 34. 44.\n",
            "  4. 38. 27. 34.  1. 52. 11. 45. 14. 51. 38.  6.  1. 53. 38. 51. 19. 23.\n",
            " 27. 47. 23. 31. 14. 40. 13.  4. 48. 28. 15. 13. 50. 30. 20. 41. 32. 29.\n",
            " 38.  8. 49. 10. 27. 41. 42. 41. 56. 55. 44. 16. 30. 44. 36. 42. 56. 58.\n",
            " 53. 36. 35. 29. 44. 43. 20. 60. 20. 24. 27. 54. 53. 48. 26. 23.  2. 58.\n",
            " 51. 48. 19. 42. 30.  1. 54. 55. 37. 30. 28. 37.  1. 59. 21. 37. 58. 34.\n",
            " 38. 33. 19.  4. 38. 24. 30. 38. 18. 24.  5. 57. 60. 12.  8. 37.  5. 51.\n",
            " 59. 11.  9. 39. 15. 35.  5.  7. 58. 51. 19. 23. 46. 44.  9. 52. 38. 56.\n",
            " 56. 38.  1. 36. 42. 18. 53. 46. 28.  7.  3. 17. 27.  6. 53. 14. 45. 51.\n",
            " 43. 47. 34. 27. 23. 44. 38. 24. 14. 26. 48. 56. 24.  4. 52. 10. 11. 28.\n",
            " 14. 20. 40. 56. 35. 17. 24. 34.  4. 37. 43. 19. 27. 43. 59. 21. 35. 58.\n",
            " 55. 43. 28. 34. 17.  8.  4. 18. 27.  2. 43. 30. 38. 60.  5. 52. 17. 49.\n",
            " 46. 49. 39. 12. 56. 28. 56. 23. 52. 43. 29. 57. 17. 58. 30. 47. 54. 27.\n",
            " 36. 24. 60. 38. 55.  6. 32. 13.  2. 54. 56. 42. 13. 51. 30. 45.  7. 60.\n",
            "  4. 41. 27. 30. 10. 34. 33. 30. 35. 15.  4. 35. 25. 30.  3. 38. 44. 53.\n",
            " 57. 60.  2. 57. 51. 60. 21. 34. 22. 43. 18.  6. 34. 49. 11. 22. 24. 59.\n",
            " 18. 24. 58. 60.  2. 40. 32. 19.]\n",
            "[ 1. 10. 27. 43. 17. 13. 16. 36.  5. 45. 36. 30.  5. 19. 10. 29.  9. 42.\n",
            " 34. 19. 37. 15.  2. 13.  3.  7. 50. 30. 10. 23.  8.  2. 37. 27.  8. 29.\n",
            " 10. 20.  8. 24. 28.  3. 30. 36. 32. 27.  6. 16.  2.  2. 17.  1.  7.  1.\n",
            " 12. 32.  7. 42. 45. 19.  5. 37.  4. 32. 55. 35. 29. 18. 10. 18. 16. 18.\n",
            " 38.  6. 41. 14. 23.  6. 12. 27.  1.  8.  7. 14. 54. 37.  6.  3.  7. 31.\n",
            "  2. 23.  5. 28. 33. 10. 51. 19. 49. 38. 25. 18. 28. 18. 21. 32. 31. 38.\n",
            " 54. 24. 14. 50.  1. 59.  7. 27. 48.  1. 22. 30. 11. 15. 40. 15. 34.  2.\n",
            " 23. 21. 20. 10. 20. 21.  3. 24.  2. 23. 57. 23. 34. 40. 38. 35. 24.  7.\n",
            "  8. 20. 42.  2. 24. 27.  5. 26.  4. 18. 60. 45.  4. 22. 50. 24. 19. 49.\n",
            " 12. 36. 36. 15. 41. 13.  7. 25. 33.  2.  5. 24. 35.  3. 19. 37. 37.  3.\n",
            "  1. 13. 31. 41. 29. 33. 15. 35. 20. 23.  8. 19. 13.  4. 12. 35. 17. 58.\n",
            " 24. 52.  2. 34. 33. 15. 51. 10.  1. 11. 22. 15. 22. 24. 12. 37. 30.  2.\n",
            " 11. 27. 29. 38. 44.  4. 38. 38. 18. 27. 33.  6. 22. 31. 14.  3.  8. 18.\n",
            " 44. 43. 20. 22. 16. 17. 43. 47. 37. 13. 23. 39.  4.  2. 27.  3. 21. 54.\n",
            " 10. 19.  6. 29. 45.  1. 34. 27. 43. 22.  2. 25. 10.  2. 13. 44.  3.  2.\n",
            " 29.  8.  9. 41.  7.  4. 21.  9. 12. 21. 51. 23. 21. 11. 19. 24.  2. 20.\n",
            " 11.  4. 26. 27. 27.  2. 16. 17. 27. 29. 41. 48. 37. 28.  7. 20.  8. 23.\n",
            " 32.  4. 11. 33. 18. 13.  2.  1. 18.  7.  1. 14. 23. 56. 19. 13. 29. 22.\n",
            " 35.  3. 28. 27. 13. 13. 22. 24. 30. 24. 24. 48.  8. 52. 18. 38. 27.  6.\n",
            "  1. 33. 12. 20.  4. 12. 37. 36. 19.  6. 14. 26. 34.  1. 19. 13. 36. 29.\n",
            " 38. 17. 31.  8.  3. 26. 33. 14.  4. 13. 12. 18. 36. 25. 59. 33. 25.  2.\n",
            "  1. 32.  4. 10. 14. 27. 37. 46. 18.  7.  7. 12. 51. 31.  8. 41. 56. 30.\n",
            " 39. 31. 37. 18. 38. 38. 17.  8.  4. 35.  8. 39. 24. 20.  7.  2.  5. 36.\n",
            " 29.  2. 10.  1.  2. 13. 30. 30. 52.  9.  3. 19. 19. 42. 36. 15. 23. 18.\n",
            " 60. 30.  5. 41. 30. 41. 54. 42. 38.  7. 15. 13. 12.  2. 10.  5. 54. 47.\n",
            " 28. 15. 18. 35. 27.  9.  4. 11. 40. 15.  5. 22. 39. 44. 18. 14. 34.  1.\n",
            "  4. 38. 27. 34.  1.  4. 11. 45. 14. 51.  4.  6.  1. 24. 38. 18.  1. 23.\n",
            " 27. 27. 23. 12. 14.  3. 13.  4. 31. 28.  8. 13. 20. 23. 20. 34.  3. 29.\n",
            " 38.  8. 19. 10. 27. 17. 32. 41. 45. 12. 37. 16.  4. 44. 36. 35.  8. 26.\n",
            "  3. 36. 35. 28.  4.  7. 20. 60. 20.  1. 27.  6. 11. 48. 26. 16.  2. 16.\n",
            " 19. 48. 19. 42. 30.  1. 42. 55.  2. 30. 28. 30.  1. 49. 21. 37. 39. 28.\n",
            " 38. 33. 19.  4. 36. 24. 18. 19. 18. 24.  5. 40. 60. 12.  8. 16.  5. 51.\n",
            " 37. 11.  9. 39. 15. 13.  5.  7. 29.  7.  1. 23. 46. 43.  9. 52. 38. 40.\n",
            " 41. 24.  1. 36. 30. 18.  6.  4. 28.  7.  3. 17. 27.  6. 46. 14. 29. 51.\n",
            " 43. 47. 34. 27. 15. 12. 38. 24. 14. 26. 18. 56. 24.  4. 52.  2. 11. 28.\n",
            " 14. 20. 27.  4. 35. 17. 23. 34.  4. 13. 37. 19. 27. 20. 43. 21. 35. 44.\n",
            " 55. 12. 28. 34. 17.  8.  4.  7. 27.  2. 38.  3. 20. 59.  5. 23. 17. 44.\n",
            " 35. 19. 39. 12. 49. 28. 47. 23. 18. 43. 29.  4. 17. 13. 30. 47. 42. 20.\n",
            " 36.  9. 24.  5. 52.  6. 11.  4.  2. 54. 37. 41.  2. 30. 15. 42.  7. 60.\n",
            "  4. 30. 27. 30. 10. 13. 33. 30. 35. 15.  4. 15. 25. 30.  3. 38.  3.  2.\n",
            " 29. 41.  2. 14. 47. 47. 21. 34. 22. 19. 18.  6. 34. 27. 11.  9. 24.  7.\n",
            " 18. 13. 58. 60.  2. 12. 32. 14.]\n",
            "[ 1. 10. 12. 42. 17. 13. 15.  2.  5. 45. 36. 30.  5. 20. 10. 27.  9. 12.\n",
            " 51.  9. 16. 15.  2. 13.  3.  7. 18. 30. 10. 23.  8.  2. 18. 27.  8. 29.\n",
            " 10. 20. 54. 15. 28. 59.  3.  2. 20. 27.  6. 16.  2.  2. 17.  1.  7.  1.\n",
            " 12. 32.  8. 32. 16. 19.  5. 37.  4. 32. 55. 11. 29. 18. 10. 18. 16. 34.\n",
            "  4.  6. 15.  5.  2.  6.  7. 27.  1.  8.  7. 14. 52. 37. 27.  3.  7. 58.\n",
            "  2. 23.  5. 28. 33. 10. 14. 22. 36. 38. 25. 18. 18. 18. 21. 32. 31.  4.\n",
            " 54. 24. 14. 50.  1. 59.  7. 27.  3.  1. 19. 30. 11.  9. 53.  5. 31.  2.\n",
            "  7. 21. 54. 10. 20. 21.  3. 23.  2. 23. 57. 23. 34. 30. 32. 35.  2.  7.\n",
            "  8. 19. 29.  2. 24. 27.  5.  4.  4. 18. 60. 24.  4. 22. 50. 58.  5. 49.\n",
            " 12. 30.  5.  4.  8. 13. 42. 39. 16. 12.  5. 52. 35.  3. 19. 18. 13.  3.\n",
            "  1. 13.  8. 41. 29. 12. 15. 27. 20. 18.  8. 14. 13.  4. 12. 11. 17. 39.\n",
            " 24. 52.  2. 49. 33. 15.  5. 10.  1. 11. 22. 15. 22. 59. 12. 37.  8.  2.\n",
            " 11. 27. 29. 26. 44.  4. 18. 40. 18. 16. 33.  6. 22. 45. 14.  3.  8.  7.\n",
            " 31. 43.  4. 22. 16. 55. 42. 47. 37. 13. 23. 39.  4.  2. 27.  8. 13. 50.\n",
            " 10.  7.  6. 56. 45.  1. 23.  7. 43. 20.  2.  4. 10.  2. 13. 44.  3.  2.\n",
            "  4.  8.  9. 41. 43.  4. 21.  9. 12. 21. 47. 12. 21. 11. 19. 21.  2. 20.\n",
            " 11. 40. 26. 32. 27.  2. 13. 17. 16. 29. 41. 36. 33. 28.  7. 20.  8. 23.\n",
            " 32.  4. 11. 33. 18. 13.  2.  1. 18.  7.  1. 14. 23. 56. 19. 13. 29. 22.\n",
            " 31.  3. 28. 10.  2. 42. 22. 24. 30. 24. 24.  3.  8. 30. 18.  2.  7.  6.\n",
            "  1. 47.  4. 20. 43. 12. 37. 36.  7.  6. 14. 26. 34.  1. 35. 44. 38. 24.\n",
            " 38. 17. 31.  6.  3. 26. 27. 14.  4.  9. 12. 18. 29. 25. 59. 33. 58. 27.\n",
            "  1. 32.  4. 10. 14. 27. 18. 38. 18.  7.  7. 12. 51. 31.  8. 41.  1. 30.\n",
            " 39. 31. 52. 18. 51. 52. 17.  8.  2. 35. 40. 39. 24. 25.  7.  2.  5.  2.\n",
            " 29. 36. 10. 25.  2. 12. 30. 30. 52.  9.  3. 19. 19. 46.  2. 15. 23. 14.\n",
            " 60. 23. 26. 16. 25. 51. 50. 42. 38.  7.  6. 13. 12.  2. 10.  5. 53. 47.\n",
            " 28. 10. 18. 35. 23.  9.  4. 11. 40. 15.  5. 22. 29. 44. 18. 14. 18. 44.\n",
            "  4. 21. 27. 34.  9.  4. 11. 45. 14.  2. 38.  6.  1. 24. 38. 17.  1. 23.\n",
            " 27. 11. 23. 12. 14.  3. 13.  4. 48. 28.  8. 13. 20. 23. 20. 41.  3. 29.\n",
            " 38.  8. 19. 10. 21. 17. 31. 41. 26. 12. 37. 42.  4. 11. 59. 35. 56. 26.\n",
            "  3. 36. 35. 28.  4. 43. 20. 60.  8.  1. 27.  6.  8. 48. 26. 16.  2. 12.\n",
            " 51. 28. 19. 11. 23.  1. 18. 55.  2. 30. 28. 30.  1. 49. 21. 12. 38. 28.\n",
            " 31. 27.  2. 56. 27. 24. 18. 19. 16. 24.  5. 57. 60. 12.  8. 16.  5. 29.\n",
            " 37. 11.  9. 39. 15. 13.  5. 56. 29.  7.  1. 53. 46. 43.  9. 52. 38. 40.\n",
            " 41. 24.  1. 36. 30. 18.  6.  4. 28.  7.  3. 17. 27. 51. 46. 14. 29. 51.\n",
            " 43. 47. 34. 27. 23. 12. 19. 24. 14. 26. 48. 56. 16.  4. 52. 10. 11. 28.\n",
            " 14. 11. 40.  4. 35. 17. 23. 34.  4. 13. 14.  6. 29. 16. 20. 11. 35.  1.\n",
            " 13. 12. 28. 24. 17.  8.  4.  7. 27.  2. 38.  3. 20. 14.  5. 23. 17. 44.\n",
            " 35. 19. 39. 12. 49. 28. 31. 23. 18. 26. 29.  4. 17.  2. 30. 15. 42. 14.\n",
            " 24.  9. 24.  5. 16.  3. 11.  4.  2. 54. 24.  1.  2. 51. 15. 18.  7. 60.\n",
            "  4. 12. 12. 11. 10. 13. 27. 34.  1. 15.  4.  1. 17. 30.  3. 38.  3.  2.\n",
            " 19. 41.  2. 14. 47. 27. 21. 34. 22. 19. 18.  6. 34.  2. 11. 22. 24.  7.\n",
            " 18.  7. 30. 60.  2. 12. 13. 14.]\n",
            "[ 1. 10. 12. 35. 17. 56. 15.  2.  5. 45. 26. 30.  5. 20. 10. 27.  9. 55.\n",
            " 51.  9. 12. 15.  1.  6.  3.  7. 50. 27. 10. 27. 23.  2. 18. 57.  8. 29.\n",
            " 10. 10. 54. 15. 34. 59.  3.  2. 20. 27.  6. 16.  2.  2. 17. 38.  7.  1.\n",
            " 12. 32.  8. 42. 48. 19.  5. 37.  4. 32. 55. 11. 29. 18. 10. 18. 16. 34.\n",
            "  4.  6. 15.  5.  2. 43.  7. 17.  1.  8.  3. 14. 52. 37. 27. 31.  3. 58.\n",
            "  2. 11.  5. 58. 27. 10.  8. 22. 36. 18. 25. 18. 18. 18. 21. 32. 31. 59.\n",
            " 54. 24. 14. 50.  1. 59.  7. 42.  3.  1. 12. 30. 11.  9. 53.  5. 31.  2.\n",
            "  7. 21. 54. 10. 20. 21.  3. 51.  2. 30. 57. 42. 34. 30.  7. 35. 24. 48.\n",
            "  8. 19.  1.  2. 24. 54.  5.  4.  4. 16. 60. 24.  4.  9. 50. 58.  5. 49.\n",
            " 12. 30.  5.  4.  8.  8. 42. 39. 33. 12.  5. 52. 30. 36. 19. 18. 13.  2.\n",
            "  1. 13.  8. 41. 27. 12. 15. 27. 20. 18. 16. 14. 13.  4. 12. 11. 17. 39.\n",
            " 17. 52. 29. 49. 33. 15.  5. 10. 32. 11.  1. 30. 22. 59. 12. 37.  8.  2.\n",
            " 11. 27. 29. 24. 44.  4. 18. 40. 18. 16. 33.  6. 22. 45. 14.  3.  8.  7.\n",
            " 44. 43. 20. 22.  2. 55. 30. 47. 52. 59. 23. 39.  4. 27. 21.  8. 13. 49.\n",
            " 10.  3.  6. 56.  4.  1. 34.  7. 43. 20.  2. 53. 10.  2. 13. 44.  3.  2.\n",
            " 29. 33.  9. 58. 43. 15. 21.  9. 12. 21. 24. 12. 39. 11. 19. 21.  2. 20.\n",
            " 11. 40.  4. 32. 27.  2. 13. 17. 16. 29. 41. 36. 33. 28.  8. 20.  8. 23.\n",
            " 41.  4. 11. 33. 19. 13.  2.  1. 18.  7.  1. 14. 23. 56. 19.  3. 19. 22.\n",
            " 31.  3. 28. 10.  2. 42. 22. 24. 33. 23. 22.  3. 17. 30. 18.  2.  7.  6.\n",
            "  1. 47. 38. 20. 43.  2. 30. 25.  1.  9. 14. 26. 37.  1. 35. 44. 38. 24.\n",
            " 18. 17. 42.  6.  3. 26. 27. 14.  4.  9. 12. 27. 29. 25. 59. 33. 58. 27.\n",
            "  1. 32.  4. 10. 14. 27. 18.  6. 18.  7.  7. 19. 51. 10.  8. 41.  1. 30.\n",
            " 39. 31. 52. 18. 51. 52. 17.  1.  2. 26. 40. 39. 37. 25.  7.  2. 55. 36.\n",
            " 29. 36. 10. 25.  2. 12. 30. 30. 52.  9.  3. 19. 53. 46.  2. 15. 23. 11.\n",
            " 60. 11. 26. 16.  1. 51. 28. 46. 38.  7.  6. 13. 12.  2. 10.  5. 53. 47.\n",
            " 38. 10. 18. 35. 23.  9.  4. 11. 40. 15.  5. 22. 29. 44. 18. 14. 18. 44.\n",
            "  4. 21. 38. 34.  9. 52.  1. 45. 14.  2. 38.  3.  1. 24. 38. 18.  1. 23.\n",
            " 27.  2. 35. 12. 14.  3. 13. 27. 48. 28.  8.  1. 20. 23. 17. 41.  2. 29.\n",
            " 39.  8. 19.  1. 27. 14.  3. 30. 45. 12. 27. 42.  4. 11. 59. 30. 56. 26.\n",
            "  3. 36. 35. 22.  4. 43. 20. 60.  8.  1. 15. 54. 53. 48. 26. 27. 26.  9.\n",
            " 51. 28. 19.  5. 23.  1. 18. 55.  2. 30. 28. 16.  1. 26. 21. 12. 38. 28.\n",
            " 31.  8.  2. 56.  8. 24. 18. 19. 16. 24.  5. 57. 60. 12.  8. 58.  5. 29.\n",
            " 37. 31.  9. 39. 15. 13.  5.  7. 58.  7.  1. 53. 46. 23.  9. 52. 57. 40.\n",
            " 41. 24. 22. 36. 30. 18.  6.  4. 23.  7.  3. 17. 27. 51. 46.  2. 45. 24.\n",
            " 43. 47. 34. 27. 23. 12. 19. 24. 14. 26. 48. 34. 16. 58. 52. 10. 11. 28.\n",
            " 14. 20. 40.  4. 35. 17.  5. 34.  4. 13. 14. 29. 29. 16. 20. 34. 35.  1.\n",
            " 13. 43. 28. 34. 17. 24.  4. 18. 47.  2. 38.  3. 20. 14.  5. 23. 17. 44.\n",
            "  5. 49. 39. 47. 49. 28. 47. 23. 11.  5. 29.  4. 17.  2.  9. 15. 42. 20.\n",
            "  4.  9. 60.  5. 16.  3. 11.  4.  2. 54. 24.  1.  2. 51. 30. 45.  7. 60.\n",
            "  2. 12. 12. 11. 10. 13.  2. 34.  1. 15.  4. 15. 17. 30.  3. 38.  3.  2.\n",
            " 19. 24.  2. 14. 47. 27. 21. 34. 22. 19. 18.  6. 34.  2. 11. 22. 24.  7.\n",
            " 18.  7. 30. 60. 50. 12. 13. 14.]\n",
            "[23. 27. 12. 35. 17. 56. 15.  2.  5. 45. 26. 53.  5. 20. 10. 27.  9. 55.\n",
            " 51.  9. 12. 15.  1.  6.  3.  7. 18. 27. 10. 27. 23.  2. 18. 57. 44. 29.\n",
            " 54.  8. 54. 46. 34. 59. 30.  2. 16. 27.  6. 12.  2.  2.  7. 38. 42.  1.\n",
            " 12. 32.  8. 42. 48.  1.  5. 37.  4. 32. 55. 11. 17. 18. 10. 18. 16. 34.\n",
            "  4.  6. 15.  5.  2. 43. 22. 17.  1.  8. 27. 14. 47. 37. 27. 31.  3. 58.\n",
            "  2. 11.  5. 58. 27. 10. 14. 22. 58. 49. 25. 16. 18. 18. 21. 32. 31. 59.\n",
            " 54. 24. 14. 50.  1. 59.  7. 42.  3.  1. 12. 30. 11. 15. 53.  5. 31.  2.\n",
            "  7. 21. 54. 10. 20.  8.  3. 51.  2. 30. 57. 42. 34. 18.  7. 35. 24. 48.\n",
            "  8. 12. 42.  2. 24. 54.  5.  4.  4. 16. 60. 45.  4.  9. 50. 58.  5. 49.\n",
            " 12. 30.  5. 15.  8.  8. 42. 39. 33. 12.  5. 52. 56. 36. 19. 18. 13.  3.\n",
            "  1. 13.  8. 41. 27. 12. 15. 27. 20. 18. 16. 14.  1.  4. 12. 11. 17. 39.\n",
            " 17. 52. 29. 49. 33. 15.  5. 10. 32. 11.  1. 15. 40. 59. 12. 37.  8.  2.\n",
            " 11. 27. 29. 38. 44.  4. 44. 40. 18. 16. 33.  6. 22. 45. 14.  3.  8.  7.\n",
            " 44. 27. 20. 22.  2. 55. 29. 47. 52. 59. 23. 39.  4. 24. 21.  8. 13. 50.\n",
            "  5.  3. 42. 56.  4.  1. 34.  7. 43. 22.  2. 53. 10.  2. 13. 27.  3.  2.\n",
            " 29. 33.  9. 58. 43. 15. 21.  9. 12. 21. 24.  2. 39. 11. 19. 11.  2.  8.\n",
            " 11. 40.  4. 32. 12.  2. 13. 17. 27. 29. 41. 36.  1. 28.  8. 20.  8. 23.\n",
            " 41.  4. 11. 33. 19. 13.  2.  1. 11.  7.  1. 14. 23. 56. 58.  3. 19. 22.\n",
            " 31.  3. 28. 10.  2. 42. 22. 24. 33. 23. 22. 42. 17. 13. 18.  2.  7.  6.\n",
            "  1. 47. 38. 20. 43.  2. 29. 36.  1.  9. 14. 26. 37.  1. 35. 44. 38. 29.\n",
            " 18. 17. 42.  6.  3. 26. 27. 14.  4. 15. 12. 27. 29. 25. 59. 33. 58. 27.\n",
            "  1. 32.  4. 10. 14. 27.  2.  6. 18.  7.  7. 19. 51.  1.  9. 16.  1. 30.\n",
            " 39. 21. 52. 18. 51. 52. 17.  1.  2. 26. 40. 39. 37. 25. 33. 18.  5. 36.\n",
            " 29. 36. 10. 25.  2. 12. 30. 30. 24.  9.  3. 19. 53. 46.  2. 15. 23. 14.\n",
            " 60. 11. 26.  4.  1. 51. 21. 46. 38.  7.  6. 13. 12. 10. 55.  5. 53. 47.\n",
            " 38. 15. 19. 35. 23.  9.  4. 11. 40. 15.  5. 22. 29. 44. 18. 14. 18. 44.\n",
            "  4. 21. 38. 34.  9. 52.  1. 45. 14.  2. 38. 29.  1. 24. 38. 18.  1. 23.\n",
            " 27.  2. 35. 12. 14. 18. 13. 27. 48. 58. 38.  1. 20. 23. 20. 41.  2. 29.\n",
            " 39.  8. 19.  1. 27. 14.  3. 19. 45. 12. 23. 42.  4. 11. 59. 42. 56. 26.\n",
            "  3. 36. 27. 22.  4. 43. 20. 60.  8.  1. 15. 54. 53. 48. 26. 27. 26.  9.\n",
            " 51. 28. 19.  5. 23.  1. 18. 55.  2. 43. 28. 56.  1. 26. 21. 12. 38. 28.\n",
            " 31.  8.  2. 56.  8. 16. 18. 19. 39. 24.  5. 57. 60. 37.  8. 58.  5. 29.\n",
            " 37. 31.  9. 39. 15. 13.  5. 56. 58.  7.  1. 53. 46. 23.  9. 18. 57. 40.\n",
            " 41. 22. 22. 36. 30. 15.  6.  4. 23.  7.  3. 17. 27. 51. 46.  2. 45. 24.\n",
            " 43. 47. 34. 27. 23. 12. 19. 24. 14. 26. 18. 30. 16. 38. 52. 10. 10. 28.\n",
            " 14. 20. 40.  4. 35. 17.  5. 34.  4. 13. 14. 29. 29. 16. 20. 34. 35.  1.\n",
            " 13. 43. 28. 34. 17. 24.  4. 18. 47.  2. 38.  3. 20. 14.  5. 23. 17. 16.\n",
            "  5. 46. 39. 47. 23. 18. 47. 23. 18.  5. 29.  4. 17.  2.  8. 27. 15. 20.\n",
            "  4.  9. 60.  5. 16.  3. 11.  4.  2. 54. 24.  1.  2. 51. 30. 45.  7. 60.\n",
            " 37. 12. 12. 11. 10. 13.  2. 34.  1. 15.  4. 15. 17. 30.  3. 38.  3.  2.\n",
            " 19. 41.  2. 14. 47. 27. 21. 34. 15. 19. 18.  6.  8.  2. 11. 22. 24.  7.\n",
            " 18.  3. 30. 60. 50. 12. 13. 14.]\n",
            "[23. 27.  2. 35. 17. 56.  2.  2.  5. 45. 26. 53.  5. 20. 10. 27.  9. 55.\n",
            " 51.  9. 12. 15. 23.  6.  3.  7. 18. 27. 10. 27. 23.  2. 18. 57. 44. 29.\n",
            " 54.  8. 54. 46. 34. 27. 30.  2. 16. 27.  6. 12.  2.  2.  7. 38. 42.  1.\n",
            " 12. 32.  8. 42. 48.  1.  5. 37. 58. 32. 55. 11. 17. 18.  7. 18. 16. 34.\n",
            "  4.  6. 15.  5.  2. 43. 22. 17.  1.  8. 27. 14. 24. 37. 27. 31.  3. 58.\n",
            "  2. 11.  5. 58. 18. 10. 14. 22. 58. 18. 25. 16. 27. 18. 21. 32. 31. 59.\n",
            " 54. 24. 14. 50.  1. 59.  7. 42.  3.  1. 22. 30. 11. 15. 53.  5. 31.  2.\n",
            "  7. 21. 54. 10. 20.  8.  3. 51.  2. 30. 57. 42. 34. 18. 49. 35. 24. 48.\n",
            "  8. 21. 42. 14.  8. 54.  5.  4.  4. 27. 60. 24.  4.  9. 50. 58.  5. 49.\n",
            " 12. 30.  5. 15.  8.  8. 42. 39. 33. 12.  5. 52. 56. 36. 19. 18. 13.  3.\n",
            "  1. 13.  8. 16. 18. 12. 15. 27. 20. 18. 16. 14. 13.  4. 12. 22. 17. 39.\n",
            " 17. 52. 29. 49. 33. 15.  5. 10. 32. 11.  1. 15. 40. 59. 12. 37.  8. 55.\n",
            " 11. 27. 29. 38. 27.  4. 44. 40. 18. 16. 33.  6. 22. 45. 14.  3.  8.  7.\n",
            " 44. 27. 20. 22.  2. 55. 29. 47. 52. 59. 13. 39.  4. 24. 21.  8. 13. 50.\n",
            "  5.  3. 42. 56.  4.  1. 34.  7. 43. 22.  2. 25. 10. 42. 13. 27.  3.  2.\n",
            " 29. 33.  9. 58. 43. 15. 21.  9. 12. 39. 24.  2. 39. 11. 19. 11.  2.  8.\n",
            " 11. 40.  4. 32. 12.  2. 21. 17. 27. 18. 41. 36.  1. 28.  8. 20.  8. 23.\n",
            " 41.  4. 11. 33. 19. 13.  2.  1. 11.  7.  1. 14. 23. 56. 58.  3. 19. 22.\n",
            "  7.  3. 28. 10.  2. 42. 22. 51. 33. 23. 22. 42. 17. 30. 18. 38.  7.  6.\n",
            "  1. 47. 38. 20. 43.  2. 29. 36.  1.  9. 14. 26. 37. 44. 35. 44. 38. 29.\n",
            " 54. 17. 42.  4.  3. 26. 27. 14.  4. 15. 18. 27. 27. 25. 59. 33. 58. 27.\n",
            "  1. 32.  4. 10. 14. 27.  2.  6. 18.  7.  7. 19. 51.  1.  9. 16.  1. 30.\n",
            " 39. 21. 26. 53. 51. 52. 17. 27.  2. 26. 40. 39. 37. 25. 33. 18.  5. 36.\n",
            " 27. 36. 10. 25.  2. 12. 30. 30. 24.  9.  3. 19. 53. 46.  2. 15. 23. 14.\n",
            " 60. 11. 26.  4.  1. 51. 58. 46. 38.  7. 15. 13. 12. 10. 55.  5. 53. 47.\n",
            " 38. 15. 19. 35. 50. 27.  4. 11. 40. 15.  5. 22. 29. 44. 18. 14. 34. 44.\n",
            "  4. 21. 38. 34.  9.  4.  1. 45. 14.  2. 38. 29.  1. 24. 38. 18.  1. 23.\n",
            " 27. 47. 35. 12. 14. 18. 13. 27. 48. 58. 38.  1. 20. 23. 20. 41.  2. 29.\n",
            " 39.  8. 19.  1. 27. 14.  3.  8. 45. 12. 23. 19.  4.  8. 59. 42. 56. 26.\n",
            "  3. 36. 27. 22.  4. 43. 20. 60.  8.  1. 15. 54. 53. 48. 26. 27. 26.  9.\n",
            " 51. 28. 19.  5. 23.  1. 42. 55.  2. 43. 28. 56.  1. 26. 21. 12. 22. 16.\n",
            " 31.  7.  2. 56.  7. 16. 18. 19. 39. 24.  5. 57. 60. 37. 58. 58.  5. 29.\n",
            " 37. 31.  9. 39. 15. 13.  5. 56. 58.  7.  1. 53. 46. 23.  9. 18. 57. 40.\n",
            " 41. 38. 22. 36. 54. 15.  6. 57. 23.  7.  3. 17. 27. 51. 46. 32. 45. 24.\n",
            " 43. 47. 34. 27. 23. 12. 19. 24. 14. 26. 18. 30. 16. 38. 52. 10. 10. 28.\n",
            " 14. 20. 40.  4. 35. 17.  5. 34.  4. 13. 44. 29. 29. 16. 20. 34. 35.  1.\n",
            " 13. 43. 28. 34. 17. 24.  4. 18. 47.  2. 38.  3. 20. 14.  5. 23. 17. 16.\n",
            " 35. 46. 39. 47. 49. 18. 47. 23. 18.  5. 29. 50. 17.  2.  8. 27. 15. 20.\n",
            "  4.  9. 60.  5. 16.  3. 11.  4.  2. 54. 24.  1.  5. 51. 30. 45. 60. 60.\n",
            " 37. 12. 27. 11. 10.  1.  2. 34. 59. 15.  4. 15. 17. 30.  3. 38.  3.  2.\n",
            " 19. 41.  2. 14. 47. 27. 21. 34. 42. 19. 18.  6.  8.  2. 11. 22. 24.  7.\n",
            " 18. 13. 58. 60. 50. 44. 13. 14.]\n",
            "[23. 20.  2. 35. 17. 56.  2.  2.  5. 45. 43. 53.  5. 20. 10. 27.  9. 55.\n",
            " 51.  9. 12. 15. 23. 27.  3.  7. 50. 24. 10. 27. 23.  2. 18. 57. 44. 29.\n",
            " 54. 57. 54. 46. 34. 27. 30.  2. 42. 27.  6. 25.  2.  2.  7. 38. 42.  1.\n",
            " 12. 32.  8. 42. 48.  1.  5. 37. 58. 32. 55. 11. 17.  5. 10. 18. 16. 34.\n",
            "  4. 51. 12.  5.  2. 43. 22. 17.  1.  8. 27. 14. 24. 37. 27. 24.  3. 58.\n",
            "  2. 11.  5. 24. 33. 10. 14. 22. 36. 18. 25. 11. 27. 18. 21. 32. 31. 59.\n",
            " 54. 24. 14. 50.  1. 59.  7. 42. 17.  1. 22. 12. 11. 15. 53.  5. 38.  2.\n",
            " 37. 21. 38. 10. 20.  8.  3. 51.  2. 30. 57. 42. 34. 13. 49. 35. 24. 48.\n",
            "  8. 21. 42. 14.  8. 54.  5.  4.  4. 27. 60. 24. 60.  9. 50. 39. 24. 49.\n",
            " 12. 30.  5. 15.  8.  8. 42. 39. 33. 12.  5. 52. 56. 36. 19. 18. 13.  3.\n",
            " 55. 13.  8. 16. 18. 39.  8. 27. 20. 18. 16. 14. 13.  4. 12. 22. 17. 39.\n",
            " 17. 52. 29. 49. 33. 15.  5. 10. 32. 11. 38. 15. 40. 59. 12. 37.  1. 55.\n",
            " 27. 27. 29. 38. 27.  4. 44. 40. 18. 16. 33.  6. 22. 45. 14.  3.  8. 44.\n",
            " 44. 27. 20. 22.  2. 55. 29. 47. 52. 59. 13. 39.  4. 24. 21.  8. 13. 50.\n",
            "  5.  3. 42. 56.  4.  1. 34.  7. 43. 22.  2. 25. 10. 42. 13. 27.  3.  2.\n",
            " 29. 33.  9. 58. 43.  4. 21.  9. 12. 39. 24. 34. 39. 11. 19. 11.  2.  8.\n",
            " 11. 40. 26. 32. 12.  2. 21. 17. 27. 18. 41. 36. 57. 28.  8. 20.  8. 23.\n",
            " 41.  4. 11. 33. 19. 13.  2.  1. 11.  7. 15. 14. 12. 56. 58.  3. 19. 22.\n",
            "  7.  3. 28. 10.  2. 42. 22. 51. 33. 23. 22. 51. 17. 30. 18. 38. 50.  6.\n",
            " 58. 47. 38. 20. 43. 37. 29. 36.  1.  9. 14. 26. 37. 44. 35. 44. 38. 29.\n",
            " 38. 17. 42.  4.  3. 26. 27. 14.  4. 15. 18. 27. 36. 25.  8. 33. 58. 27.\n",
            "  1. 32.  4. 10. 14. 27.  2.  6. 18.  7.  7. 19. 51.  1.  9. 16.  1. 30.\n",
            " 39. 21. 26. 53. 51. 52. 17. 27.  2. 26. 40. 39. 37. 25. 33. 18.  5. 36.\n",
            " 27. 36. 10. 25.  2. 12. 30. 30. 24.  9. 42. 19. 53. 46.  2. 15. 23. 14.\n",
            "  4. 11. 26.  4.  1. 51. 58. 46. 38.  7. 15. 13. 12.  2. 55.  5. 53. 47.\n",
            " 38. 15. 19. 35. 50. 27.  4. 11. 40. 15.  5. 22. 27. 44. 18. 14. 34. 44.\n",
            "  4. 58. 38. 36.  9.  4.  1. 45. 14.  2. 38. 29.  1.  7. 38. 18.  1. 23.\n",
            " 27. 47. 35. 12. 14. 18. 13. 27. 48. 42. 38.  1. 20. 23. 20. 41. 14. 29.\n",
            " 39.  8. 19.  1. 27. 14.  3. 41. 45. 12. 23. 19.  4.  8. 59. 42. 56. 26.\n",
            "  3. 36. 20.  1.  4. 43. 20. 60.  8.  1. 15. 54. 53. 48. 26. 27. 26.  9.\n",
            " 42. 28. 19.  5. 23.  1. 42. 55.  2. 43. 28. 56.  1. 26. 21. 12. 39. 16.\n",
            " 30.  7. 37. 56.  7. 16. 18. 19. 39. 24.  5. 57. 60. 37. 58. 27.  5. 29.\n",
            " 56. 31.  9. 39. 15. 13.  5. 56. 58.  7.  1. 53. 46. 23.  9. 18. 57. 40.\n",
            " 41. 38. 22. 36. 54. 15.  6. 57. 23.  7.  3. 17. 27. 51. 46.  2. 45. 24.\n",
            " 43. 47. 34. 27. 23. 20.  6. 24. 14. 26. 18. 41. 16. 38. 52. 10. 10. 28.\n",
            " 14. 20. 40.  4. 35. 17.  1. 34.  4. 13. 44. 29. 29. 16. 20. 34. 35.  1.\n",
            " 13. 43. 28. 34. 17. 24.  4. 18. 47.  2. 38.  3. 20. 14.  5. 23. 17. 16.\n",
            " 35. 30. 39. 47. 49. 18. 47. 23. 18.  5. 29. 50. 17.  2.  8. 27. 54. 20.\n",
            "  4.  9. 55.  5. 16.  3. 11.  4.  2. 54. 24.  1.  5. 51. 30. 45. 60. 60.\n",
            " 37. 12. 27. 11. 10.  1.  2. 34. 59. 15.  4. 15. 17. 30. 59. 38.  3.  2.\n",
            " 19. 41.  2. 14. 47. 27. 21. 34. 42. 19. 18.  6.  8.  2. 11. 22. 24.  7.\n",
            " 18. 13. 58. 60. 50. 44. 13. 14.]\n",
            "[23. 20.  2. 35. 17. 56.  2.  2.  5. 45. 43. 30.  5. 20. 10. 27.  9. 55.\n",
            " 51.  9. 12. 15. 23. 27.  3.  7. 50.  3. 10. 27. 23.  2. 18. 57. 44. 29.\n",
            " 54. 57. 54. 46. 24. 27. 30. 35. 42. 27.  6. 25. 58.  2.  7. 38.  8.  1.\n",
            " 12. 32.  8. 42. 48.  1.  5. 37. 58. 32. 55. 11. 17.  5. 10. 18. 16. 34.\n",
            "  4. 51. 12.  5.  2. 43. 22. 17.  1. 44. 27. 14. 24. 37. 27. 24.  3. 58.\n",
            "  2. 42.  5. 24. 33. 10. 14. 22. 36. 18. 25. 11. 27. 18. 21. 32. 31. 59.\n",
            " 54. 24. 14. 50.  1. 59. 34. 42. 17.  1. 22. 56. 11. 15. 53. 33. 38.  2.\n",
            " 37. 42. 38. 10. 20.  7.  3. 27.  2. 30. 57. 42. 34. 58. 49. 35. 24. 48.\n",
            "  8. 21. 42. 14.  8. 54.  5.  4.  4. 27. 60. 24. 60.  9. 50. 39. 24. 49.\n",
            " 12. 30. 30. 15.  2.  8. 42. 39. 33. 12.  5. 52. 56. 36. 19. 18. 58.  3.\n",
            " 55. 13.  8. 16. 18. 39.  8. 27. 20. 18.  8. 14. 13.  4. 12. 22. 17. 39.\n",
            " 24. 52. 29. 49. 33. 15.  5. 10. 32. 11.  1. 15. 40. 30. 12. 37.  1. 55.\n",
            " 27. 27. 29.  8. 44.  4. 22. 40. 18. 16. 33. 11. 22. 45. 14.  3. 27. 44.\n",
            " 44. 27. 20. 22.  2. 55. 58. 47. 52. 59. 13. 39.  4. 24. 21.  8.  3. 54.\n",
            " 10.  3. 42. 56.  4.  1. 34.  7. 27. 22. 34. 25. 10. 42. 13. 27.  3.  2.\n",
            " 29. 33.  9. 58. 43.  4. 21.  9. 12. 39. 24. 34. 39. 11. 19. 36.  2.  8.\n",
            " 11. 40. 26. 32. 12.  2. 21. 17. 27. 38. 41. 36. 57. 28.  8. 20.  8. 23.\n",
            " 41.  4. 11. 33. 19. 13.  2.  1. 11.  7. 15. 14. 12. 56. 27.  3. 19. 22.\n",
            "  7.  2. 28. 10.  2. 42. 22. 35. 33. 23. 22. 51. 17. 30. 12. 18. 50.  6.\n",
            " 58. 47. 38. 20. 43. 37.  2. 36.  1.  9. 14. 26. 37. 44. 35. 44. 38. 29.\n",
            " 38. 17. 42.  4.  3. 26. 53. 14.  4. 15. 18. 27. 36. 25.  8. 33. 58. 27.\n",
            "  1. 32. 27. 10. 14. 27. 52.  6. 18.  7. 30. 19. 51.  1.  9. 16.  1. 30.\n",
            " 39. 21. 26. 53. 51. 52. 17. 27.  2. 53. 40. 39. 37. 25. 33. 18.  5. 36.\n",
            " 38. 36. 10. 25.  2. 12. 30. 30. 24.  9. 42. 19. 53. 46.  2. 15. 23. 14.\n",
            " 60. 11. 26.  4.  1. 51. 58. 46. 38.  7. 15. 13. 12. 10. 55.  5. 53. 47.\n",
            " 38. 15. 19. 35. 50. 27.  4. 11. 40. 15.  5. 22. 27. 44. 18. 14. 11. 44.\n",
            "  4. 58. 38. 36.  9.  4. 29. 45. 14.  2. 38. 29.  1. 51. 38. 18.  1. 23.\n",
            " 27. 47. 35. 12. 14. 18. 13. 27. 48. 42. 38.  1. 20. 23. 20. 41. 14. 29.\n",
            " 39.  8. 19.  1. 27. 14.  3. 41. 45. 12. 23. 19.  4.  8. 59. 42. 56. 26.\n",
            " 55. 36. 20.  1.  4. 43. 20. 60.  8. 16.  8. 54. 53. 48. 26. 27. 26.  9.\n",
            " 42. 28. 19.  5. 23.  1. 42. 55. 23. 43. 28. 56.  1. 59. 21. 12. 39. 16.\n",
            " 23. 18. 37. 56. 18. 27. 18. 38. 39. 24.  5. 57. 60. 37. 58. 27.  5. 29.\n",
            " 56. 31.  9. 39. 15. 13.  5. 56. 58.  7.  1. 53. 46. 23.  9. 18. 57. 40.\n",
            " 41. 38. 22. 36. 54. 15.  6. 57. 23.  7.  3. 17. 27. 51. 46. 32. 45. 24.\n",
            " 43. 47. 34. 27. 23. 20.  6. 24. 14. 26. 18. 41. 16. 38. 52. 10. 58. 28.\n",
            " 14. 20. 40.  4. 35. 17.  1. 34.  4. 13. 44. 29. 29.  7. 43. 34. 35.  1.\n",
            " 13. 43. 28. 34. 17. 24.  4. 18. 47.  2. 38. 37. 20. 14.  5. 23. 17. 16.\n",
            " 35. 30. 39. 47. 49. 18. 47. 23. 18. 58. 29. 50. 17.  2.  8. 27. 54. 20.\n",
            "  4.  9. 55.  5. 16.  3. 11.  4.  2. 54. 24.  1.  5. 51. 30. 45. 60. 60.\n",
            " 37. 12. 27. 11. 10.  1.  2. 34. 59. 15.  4. 15. 17. 30. 59. 29.  3. 34.\n",
            " 19. 41.  2. 42. 47. 27. 21. 34. 42. 19. 18.  6.  8.  2. 11. 22. 24.  7.\n",
            " 18. 13. 58. 60. 50. 44. 13. 14.]\n",
            "[23. 20. 12. 35. 17. 56. 57. 42.  5. 45. 43. 30.  5. 20. 10. 27.  9. 55.\n",
            " 51.  9. 12. 15. 23. 27.  3.  7. 50.  3. 10. 27. 23.  2. 18. 57. 44. 29.\n",
            " 54. 57. 54. 46. 24. 27. 30. 35. 42. 54.  6. 25. 58.  2. 17. 38.  8.  1.\n",
            " 12. 32.  8.  8. 48.  1.  5. 37. 58. 32. 55. 11. 17.  5. 10.  1. 16. 34.\n",
            " 42. 51. 11.  5.  2. 38. 22.  8.  1. 44. 24. 14. 29. 37. 27. 24.  3. 58.\n",
            "  2. 42.  5. 24. 33. 10. 14. 22. 36. 18. 25. 11. 27. 18. 21. 32. 31. 59.\n",
            " 54. 24. 14. 50.  1. 59. 34. 42. 17.  1. 22. 56. 11. 15. 53. 33. 38.  2.\n",
            " 37. 42. 38. 10. 20.  7.  3. 27.  2. 30. 57. 42. 34. 40. 49. 35. 24. 48.\n",
            "  8. 21. 30. 12.  4. 54.  5.  4.  4. 27. 60. 45. 60.  9. 12. 39. 24. 49.\n",
            " 12. 30. 30. 15. 58. 27. 42. 39. 33. 12.  5. 52. 56. 36. 58. 18. 58.  3.\n",
            " 55. 13.  8. 16. 27. 39.  8. 27. 20. 18.  8. 14. 13.  4. 12. 22. 27. 39.\n",
            " 24. 52.  2. 49. 33. 15.  5. 10. 32. 11.  1. 15. 40. 30. 12. 37.  1. 55.\n",
            " 27. 27. 29.  8. 44.  4. 22. 40. 18. 27. 33. 11. 22. 45. 14. 27. 27. 44.\n",
            " 44. 27. 20. 22. 37. 55. 42. 47. 52. 59. 27. 39.  4. 24. 21.  8.  3. 54.\n",
            " 10.  3. 42. 56.  4.  1. 34.  7. 27. 22. 34. 25. 10. 42. 13. 27. 13.  2.\n",
            " 29. 33.  9. 58. 43.  4. 21.  9. 12. 39.  2. 34. 39. 11. 19. 36.  2.  6.\n",
            " 11. 40. 26. 32. 29.  2. 21. 17. 27. 38. 41. 36. 57. 28.  8. 20.  4. 23.\n",
            " 41.  4. 11. 33. 19. 13.  2.  1. 11.  7. 15. 14. 12. 56. 27.  3. 19. 22.\n",
            "  7.  2. 28. 10.  2. 42. 22. 35. 33. 23. 22. 51. 17. 30. 12. 18. 42.  6.\n",
            " 58. 47. 38. 20. 43. 37.  2. 36.  1.  9. 14. 26. 37. 44. 35. 44. 38. 29.\n",
            " 54. 17. 42.  4. 27. 26. 53. 14.  4. 15. 18. 27. 36. 25.  8. 33. 58. 27.\n",
            " 36. 32. 21. 10. 14. 27. 52.  6. 18.  7. 30. 19. 51. 30.  9. 42.  1. 30.\n",
            " 39. 21. 26. 53. 51. 52. 17. 25.  2. 53. 40. 39. 12. 25. 33. 18.  5. 36.\n",
            " 38. 36. 10. 25.  2. 12. 30. 30. 24.  9. 42. 19. 29. 46.  2. 15. 23. 14.\n",
            " 60. 23. 26.  4.  1. 51. 58. 46. 38.  7. 15. 13. 12. 10. 55. 22. 53. 47.\n",
            " 38. 15. 19. 35. 50. 27.  4. 11. 40. 15.  5. 22. 30. 44. 18. 14. 11. 44.\n",
            " 58. 58. 38. 36.  9.  4. 29. 45. 14.  2. 27. 29.  1. 51. 38. 18.  1. 23.\n",
            " 27. 47. 35. 12. 14. 18. 13. 27. 48. 42. 38.  1. 20. 23. 20. 41. 14. 18.\n",
            " 39.  8. 19.  1. 27. 14. 35.  8. 23. 12. 30. 19.  4.  8. 59. 42. 56. 26.\n",
            " 55. 36. 59.  1.  4. 43. 20. 60. 20. 16.  8. 54. 53. 48. 26. 27. 26.  9.\n",
            " 42. 28. 19.  5. 23.  1. 42. 55. 23. 43. 28. 56.  1. 44. 21. 12. 39. 16.\n",
            " 23. 18. 35. 56. 18. 27. 18. 38. 39. 24.  5. 57. 60. 37. 38. 27.  5. 29.\n",
            " 56. 31.  9. 39. 15. 27.  5. 56. 58.  7.  1. 53. 46. 23.  9. 18. 57. 40.\n",
            " 41. 38. 22. 36. 54. 15.  6. 57. 23.  7.  3.  8. 27. 51. 46. 32. 45. 24.\n",
            " 43. 47. 34. 27. 23. 20.  6. 24. 14. 26. 18. 41. 16. 38. 52. 10. 58. 18.\n",
            " 14. 20. 40. 23. 35. 17. 34. 34.  4. 13. 44. 29. 58. 39. 43. 34. 35.  1.\n",
            " 13. 43. 28. 34. 17. 24.  4. 15. 47.  2. 38. 37. 20. 14.  5. 23. 17.  7.\n",
            " 35. 30. 39. 47. 49. 18. 47. 54. 11. 58. 29. 50. 17. 58.  8. 27. 54. 20.\n",
            "  4.  9. 24.  5. 16.  3. 11.  4.  2. 54. 24.  1.  5. 51. 30. 45. 60. 60.\n",
            " 37. 12. 27. 11. 10.  1. 33. 34. 59. 15.  4. 15. 17. 30. 59. 29.  3. 34.\n",
            " 19. 41.  2. 42. 47. 60. 21. 34. 42. 19. 18.  6.  8.  2. 36. 22. 18.  1.\n",
            " 18. 13. 58. 60. 50. 44. 13. 14.]\n"
          ]
        }
      ]
    },
    {
      "cell_type": "code",
      "source": [
        "plt.figure(figsize=(12, 6))  \n",
        "plt.plot(range(1, 10), error, color='red', linestyle='dashed', marker='o',  \n",
        "         markerfacecolor='blue', markersize=10)\n",
        "plt.title('Error Rate K Value')  \n",
        "plt.xlabel('K Value')  \n",
        "plt.ylabel('Mean Error')  "
      ],
      "metadata": {
        "colab": {
          "base_uri": "https://localhost:8080/",
          "height": 421
        },
        "id": "hQxHErJhWJ1g",
        "outputId": "1299c275-a521-4cb9-ca5c-3043d5ab3774"
      },
      "execution_count": null,
      "outputs": [
        {
          "output_type": "execute_result",
          "data": {
            "text/plain": [
              "Text(0, 0.5, 'Mean Error')"
            ]
          },
          "metadata": {},
          "execution_count": 43
        },
        {
          "output_type": "display_data",
          "data": {
            "text/plain": [
              "<Figure size 864x432 with 1 Axes>"
            ],
            "image/png": "[encoded data removed]"
          },
          "metadata": {
            "needs_background": "light"
          }
        }
      ]
    },
    {
      "cell_type": "code",
      "source": [
        "print(knn)"
      ],
      "metadata": {
        "colab": {
          "base_uri": "https://localhost:8080/"
        },
        "id": "vZxq0N30o_b9",
        "outputId": "65d0ea66-5417-4db3-e630-37227be115cd"
      },
      "execution_count": null,
      "outputs": [
        {
          "output_type": "stream",
          "name": "stdout",
          "text": [
            "KNeighborsClassifier(n_neighbors=9)\n"
          ]
        }
      ]
    },
    {
      "cell_type": "code",
      "source": [
        "# Treinando o modelo KNN com o melhor parâmetro para K\n",
        "\n",
        "from sklearn.neighbors import KNeighborsClassifier  \n",
        "classifier = KNeighborsClassifier(n_neighbors=1)  \n",
        "classifier.fit(X_train, y_train)  "
      ],
      "metadata": {
        "colab": {
          "base_uri": "https://localhost:8080/"
        },
        "id": "slL00FhiVEpc",
        "outputId": "c6d90b01-840d-42b1-cfff-3399f7e3de58"
      },
      "execution_count": null,
      "outputs": [
        {
          "output_type": "execute_result",
          "data": {
            "text/plain": [
              "KNeighborsClassifier(n_neighbors=1)"
            ]
          },
          "metadata": {},
          "execution_count": 45
        }
      ]
    },
    {
      "cell_type": "code",
      "source": [
        "KNeighborsClassifier(algorithm='auto', leaf_size=60, metric='minkowski',\n",
        "           metric_params=None, n_jobs=None, n_neighbors=6, p=2,\n",
        "           weights='uniform')"
      ],
      "metadata": {
        "colab": {
          "base_uri": "https://localhost:8080/"
        },
        "id": "xoBqVv-bVEsC",
        "outputId": "79be7523-679d-4df9-9333-ea940b9ac91b"
      },
      "execution_count": null,
      "outputs": [
        {
          "output_type": "execute_result",
          "data": {
            "text/plain": [
              "KNeighborsClassifier(leaf_size=60, n_neighbors=6)"
            ]
          },
          "metadata": {},
          "execution_count": 31
        }
      ]
    },
    {
      "cell_type": "code",
      "source": [
        "# Aplicando os valores de teste novamente\n",
        "y_pred = classifier.predict(X_test) \n",
        "y_pred"
      ],
      "metadata": {
        "colab": {
          "base_uri": "https://localhost:8080/"
        },
        "id": "75rCO1vRVEuf",
        "outputId": "3c8c1cb3-416d-41a2-8e03-b9092724659a"
      },
      "execution_count": null,
      "outputs": [
        {
          "output_type": "execute_result",
          "data": {
            "text/plain": [
              "array([16., 59., 30., 10., 38., 27., 19., 57., 24., 53.,  1.,  2.,  2.,\n",
              "       32., 18., 17., 54., 56., 44., 39., 52., 20., 15., 48., 56., 28.,\n",
              "       58., 14., 53., 40., 43., 38., 16., 26.,  4., 30., 60., 18., 16.,\n",
              "       42.,  8., 29., 46., 21., 48., 11., 30., 21., 36., 30., 34., 12.,\n",
              "       36.,  5.,  1., 27., 49., 42., 60., 13., 32.,  7., 27., 41., 20.,\n",
              "       21., 19., 23., 14., 51., 30., 55.,  8., 17.,  6., 34., 52., 43.,\n",
              "       38., 29., 43.,  1., 30., 45.,  3.,  6., 26., 43., 42., 34., 53.,\n",
              "       59., 59.,  2., 53., 53., 23., 55., 45., 46., 11., 36., 37., 44.,\n",
              "       58., 21., 42., 43., 20., 27., 22., 45.,  2., 43., 20., 28., 14.,\n",
              "       60., 37., 59., 38., 59.,  4., 44.,  1., 28., 24., 57., 53., 38.,\n",
              "       36., 26., 32., 58.,  6., 30., 57.,  2., 34., 35., 42., 25., 42.,\n",
              "        1., 36., 56., 26.,  8.,  2.,  4., 45., 57., 58., 38., 30.,  5.,\n",
              "       40., 27., 27., 53., 27., 29., 32., 22., 37., 32.,  4., 58., 53.,\n",
              "        7., 43., 55., 27., 44., 16., 59., 48., 10., 18., 16., 54., 25.,\n",
              "       11., 37., 46., 50., 17., 22., 57., 39.,  4., 60., 24., 39., 34.,\n",
              "        2., 38., 47., 10., 27., 36., 38., 14.,  2., 13.,  8., 32.,  7.,\n",
              "       58.,  8., 56., 29., 13., 38., 59., 28., 44., 19.,  8., 43., 55.,\n",
              "       20., 51., 27., 30., 28., 57., 19., 52., 21., 33., 52.,  9., 50.,\n",
              "        9., 34., 55.,  8., 53., 13., 39., 45., 27.,  2., 22.,  5., 50.,\n",
              "       35., 43., 42., 24.,  8., 28., 49., 13., 11., 44., 35.,  5.,  5.,\n",
              "       30.,  4., 58.,  5., 41., 11., 26., 59., 58., 18., 34., 60., 37.,\n",
              "       44., 37., 23., 12., 34.,  2., 37., 26., 27., 52., 16., 12., 50.,\n",
              "       60., 39.,  6., 21., 53., 44., 41., 46., 39., 13., 56., 27., 44.,\n",
              "       54., 53., 37.,  2.,  8., 30., 37., 48., 42., 22.,  6., 31., 21.,\n",
              "       60.,  5., 23.,  4., 51.,  6., 13., 14., 47., 29., 38.,  7., 34.,\n",
              "       12.,  4.,  8., 59., 43., 51., 36., 10., 11., 45., 39.,  6., 41.,\n",
              "       53., 59., 19., 40., 24., 23., 14., 37., 34., 29., 33.,  9., 51.,\n",
              "       34.,  9., 12., 23.,  8., 44., 31., 32., 43., 58., 56., 34., 17.,\n",
              "       28., 14., 55., 22., 24., 23., 56., 15., 38., 49.,  1., 19., 59.,\n",
              "       30., 12., 34., 36., 43., 48.,  8., 47., 23., 59., 37., 11., 30.,\n",
              "       21., 50., 13.,  9., 24., 23.,  1., 39., 16.,  4., 10., 43., 27.,\n",
              "       35.,  4., 59., 44.,  1., 56., 10., 59., 51., 41., 18., 54., 42.,\n",
              "       43., 17., 35., 33., 58., 38., 18., 21., 48., 25., 58., 47., 58.,\n",
              "       59., 56., 43., 11., 38., 23., 43., 51., 24., 13., 45.,  1.,  2.,\n",
              "       16.,  4., 23., 59.,  1., 52., 29., 57., 26., 13., 58., 41., 54.,\n",
              "        8.,  2., 10., 34., 53., 43.,  5., 25., 18., 38., 45., 53., 56.,\n",
              "       26., 16.,  2., 15., 29., 24., 54.,  9., 27., 55., 32., 56., 24.,\n",
              "       36., 49., 30., 56., 58.,  4., 24.,  2., 34., 55., 27., 10., 11.,\n",
              "       46., 14., 49., 18., 13., 40., 19., 57., 37., 38., 35.,  2., 36.,\n",
              "       42.,  8., 47.,  2., 36., 24., 41., 38., 57., 18., 56., 34., 58.,\n",
              "       49., 44.,  4., 20., 30., 45.,  1., 60., 52., 19., 50.,  8., 57.,\n",
              "       13., 15., 41., 13., 30., 40., 32.,  6., 59.,  3.,  2., 14., 36.,\n",
              "       38., 10., 37., 48., 59.,  1., 37., 25.,  5., 27., 21., 23., 10.,\n",
              "       30., 41., 47., 24., 45., 23., 13., 39., 58., 34., 53., 30.,  9.,\n",
              "       58., 35., 54., 27., 14., 57.,  5., 18.,  1., 24., 43., 47., 39.,\n",
              "       58., 53., 58., 30., 20., 34., 23., 56., 58., 33., 30., 24., 59.,\n",
              "       43., 37., 14.,  2., 57., 29., 55.,  3., 30., 10., 34., 46., 50.,\n",
              "        2., 53., 59.,  1., 18., 15., 14., 60., 50., 18., 27., 45., 44.,\n",
              "       17., 12., 38., 36., 51., 55., 24., 48., 24., 34., 29., 43., 54.,\n",
              "       52.,  1., 44., 50.,  4., 17., 31., 21., 10.,  4., 54., 12., 17.,\n",
              "       58., 11., 29., 59., 27., 30., 54., 24., 30., 27., 26., 11., 53.,\n",
              "       34.,  1.,  2., 13., 20., 59., 47., 20.,  2., 34., 52., 57., 15.,\n",
              "       58., 19., 23.,  1., 27., 21., 41., 56., 37., 27., 38., 26., 59.,\n",
              "       48., 24., 43.,  6.,  4., 13.,  8.,  9., 37., 56., 17., 40., 27.,\n",
              "       29., 15., 34., 35., 36., 32., 12., 12., 28., 58., 13., 57., 48.,\n",
              "       18., 45., 38., 33.,  1.,  4., 56., 12., 44., 20., 27., 57.,  7.,\n",
              "        5.,  6., 30., 48., 39., 21., 54.,  1., 36., 25.,  2., 50., 25.,\n",
              "       15., 21., 34., 39., 34.])"
            ]
          },
          "metadata": {},
          "execution_count": 32
        }
      ]
    },
    {
      "cell_type": "code",
      "source": [
        "# Importando métricas para validação do modelo\n",
        "from sklearn.metrics import classification_report, confusion_matrix, accuracy_score"
      ],
      "metadata": {
        "id": "-LZHojeTpfHc"
      },
      "execution_count": null,
      "outputs": []
    },
    {
      "cell_type": "code",
      "source": [
        "# Imprimindo a matriz confusa\n",
        "print(\"Matriz Confusa: \")\n",
        "print(confusion_matrix(y_test, y_pred), \"\\n\")  "
      ],
      "metadata": {
        "colab": {
          "base_uri": "https://localhost:8080/"
        },
        "id": "GpuNJTxrpgB6",
        "outputId": "4d605a64-ad78-44a4-b14e-a4cf402de726"
      },
      "execution_count": null,
      "outputs": [
        {
          "output_type": "stream",
          "name": "stdout",
          "text": [
            "Matriz Confusa: \n",
            "[[14  0  0 ...  0  0  0]\n",
            " [ 0 16  0 ...  0  0  0]\n",
            " [ 0  0  6 ...  0  0  0]\n",
            " ...\n",
            " [ 2  0  0 ...  7  0  0]\n",
            " [ 1  0  0 ...  0  7  0]\n",
            " [ 0  0  0 ...  0  0  7]] \n",
            "\n"
          ]
        }
      ]
    },
    {
      "cell_type": "code",
      "source": [
        "# Imprimindo o relatório de classificação\n",
        "print(\"Relatório de classificação: \\n\", classification_report(y_test, y_pred))  "
      ],
      "metadata": {
        "colab": {
          "base_uri": "https://localhost:8080/"
        },
        "id": "gWwZFn06piLu",
        "outputId": "c136328e-371a-4e67-c9ca-484c8f3018b7"
      },
      "execution_count": null,
      "outputs": [
        {
          "output_type": "stream",
          "name": "stdout",
          "text": [
            "Relatório de classificação: \n",
            "               precision    recall  f1-score   support\n",
            "\n",
            "         1.0       0.37      0.54      0.44        13\n",
            "         2.0       0.09      0.18      0.12        11\n",
            "         3.0       0.67      0.22      0.33         9\n",
            "         4.0       0.35      0.40      0.38        15\n",
            "         5.0       0.36      0.40      0.38        10\n",
            "         6.0       0.50      0.42      0.45        12\n",
            "         7.0       0.60      0.27      0.37        11\n",
            "         8.0       0.44      0.70      0.54        10\n",
            "         9.0       0.38      0.43      0.40         7\n",
            "        10.0       0.67      0.62      0.64        13\n",
            "        11.0       0.64      0.50      0.56        14\n",
            "        12.0       0.64      0.41      0.50        17\n",
            "        13.0       0.47      0.53      0.50        15\n",
            "        14.0       0.75      0.50      0.60        18\n",
            "        15.0       0.38      0.33      0.35         9\n",
            "        16.0       0.33      0.33      0.33         9\n",
            "        17.0       0.22      0.25      0.24         8\n",
            "        18.0       0.77      0.42      0.54        24\n",
            "        19.0       0.67      0.35      0.46        17\n",
            "        20.0       0.20      0.18      0.19        11\n",
            "        21.0       0.79      0.73      0.76        15\n",
            "        22.0       0.67      0.50      0.57         8\n",
            "        23.0       0.13      0.14      0.14        14\n",
            "        24.0       0.37      0.47      0.41        15\n",
            "        25.0       1.00      0.54      0.70        13\n",
            "        26.0       0.80      0.73      0.76        11\n",
            "        27.0       0.20      0.33      0.25        15\n",
            "        28.0       0.62      0.38      0.48        13\n",
            "        29.0       0.50      0.33      0.40        18\n",
            "        30.0       0.17      0.36      0.23        11\n",
            "        31.0       0.33      0.10      0.15        10\n",
            "        32.0       0.20      0.20      0.20        10\n",
            "        33.0       0.20      0.12      0.15         8\n",
            "        34.0       0.12      0.25      0.16        12\n",
            "        35.0       0.38      0.20      0.26        15\n",
            "        36.0       0.20      0.50      0.29         6\n",
            "        37.0       0.29      0.36      0.32        14\n",
            "        38.0       0.15      0.30      0.20        10\n",
            "        39.0       0.25      0.50      0.33         6\n",
            "        40.0       0.67      0.33      0.44        12\n",
            "        41.0       0.60      0.38      0.46        16\n",
            "        42.0       0.50      0.36      0.42        14\n",
            "        43.0       0.33      0.64      0.44        11\n",
            "        44.0       0.60      0.64      0.62        14\n",
            "        45.0       0.67      0.62      0.64        13\n",
            "        46.0       1.00      0.46      0.63        13\n",
            "        47.0       0.75      0.60      0.67        10\n",
            "        48.0       0.18      0.25      0.21         8\n",
            "        49.0       0.50      0.38      0.43         8\n",
            "        50.0       0.80      0.57      0.67        14\n",
            "        51.0       0.38      0.20      0.26        15\n",
            "        52.0       0.67      0.38      0.48        16\n",
            "        53.0       0.22      0.36      0.28        11\n",
            "        54.0       0.64      0.39      0.48        18\n",
            "        55.0       0.70      0.47      0.56        15\n",
            "        56.0       0.29      0.33      0.31        15\n",
            "        57.0       0.27      0.44      0.33         9\n",
            "        58.0       0.30      0.47      0.37        15\n",
            "        59.0       0.17      0.33      0.23        12\n",
            "        60.0       0.67      0.60      0.63        10\n",
            "\n",
            "    accuracy                           0.41       746\n",
            "   macro avg       0.46      0.40      0.41       746\n",
            "weighted avg       0.49      0.41      0.42       746\n",
            "\n"
          ]
        }
      ]
    },
    {
      "cell_type": "code",
      "source": [
        "# Imprimindo o quão acurado foi o modelo\n",
        "print('Acurácia do modelo: ' , accuracy_score(y_test, y_pred))"
      ],
      "metadata": {
        "colab": {
          "base_uri": "https://localhost:8080/"
        },
        "id": "zbyl-NQopopn",
        "outputId": "24efdb63-4ca8-4243-f867-a4cf8c1ff9fd"
      },
      "execution_count": null,
      "outputs": [
        {
          "output_type": "stream",
          "name": "stdout",
          "text": [
            "Acurácia do modelo:  0.4075067024128686\n"
          ]
        }
      ]
    }
  ]
}