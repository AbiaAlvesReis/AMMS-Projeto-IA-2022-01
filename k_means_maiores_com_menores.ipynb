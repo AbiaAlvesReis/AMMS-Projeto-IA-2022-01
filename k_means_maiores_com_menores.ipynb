{
  "nbformat": 4,
  "nbformat_minor": 0,
  "metadata": {
    "colab": {
      "name": "k-means-maiores-com-menores.ipynb",
      "provenance": [],
      "collapsed_sections": [],
      "include_colab_link": true
    },
    "kernelspec": {
      "name": "python3",
      "display_name": "Python 3"
    },
    "language_info": {
      "name": "python"
    }
  },
  "cells": [
    {
      "cell_type": "markdown",
      "metadata": {
        "id": "view-in-github",
        "colab_type": "text"
      },
      "source": [
        "<a href=\"https://colab.research.google.com/github/AbiaAlvesReis/Projeto-IA-2022-01/blob/main/k_means_maiores_com_menores.ipynb\" target=\"_parent\"><img src=\"https://colab.research.google.com/assets/colab-badge.svg\" alt=\"Open In Colab\"/></a>"
      ]
    },
    {
      "cell_type": "markdown",
      "source": [
        "Tentativa: Esses números não fizeram muito sentido: Ver o k-means\n",
        "Aplicando o algoritmo de IA k-means, para predizer qual as melhores dezena para jogar entre as dezenas que mais saíram e as que menos saíram."
      ],
      "metadata": {
        "id": "kqpeBnF5kYjx"
      }
    },
    {
      "cell_type": "code",
      "execution_count": null,
      "metadata": {
        "id": "4exc_drgkRx1"
      },
      "outputs": [],
      "source": [
        "import numpy as np #para manipular os vetores\n",
        "from matplotlib import pyplot as plt #para plotar os gráficos\n",
        "from sklearn.cluster import KMeans #para usar o KMeans"
      ]
    },
    {
      "cell_type": "code",
      "source": [
        "#Novo dataset com todas as dezenas (30 dezenas) que mais saíram e as que menos saíram.\n",
        "# Para ver se muda a predição\n",
        "\n",
        "novo_dataset = np.array(\n",
        "\n",
        "[[8, 53],\n",
        "[6, 10], \n",
        "[52, 42], \n",
        "[46, 5], \n",
        "[18, 37], \n",
        "[50, 33], \n",
        "[58, 23], \n",
        "[20, 4], \n",
        "[1, 30], \n",
        "[12, 28],\n",
        "[45, 35],\n",
        "[40, 27], \n",
        "[47, 41],\n",
        "[7, 54],\n",
        "[25, 34], \n",
        "[19, 17],\n",
        "[39, 29], \n",
        "[57, 44],\n",
        "[60, 11],\n",
        "[31, 16],\n",
        "[59, 51],\n",
        "[9, 43],\n",
        "[14, 49],\n",
        "[3, 24],\n",
        "[48, 38],\n",
        "[15, 2],\n",
        "[22, 32],\n",
        "[21, 36],\n",
        "[55, 13],\n",
        "[26, 56]\n",
        " ])\n",
        "\n",
        "plt.scatter(novo_dataset[:,1], novo_dataset[:,0]) #posicionamento dos eixos x e y\n",
        "plt.xlim(0, 60) #range do eixo x\n",
        "plt.ylim(0, 60) #range do eixo y\n",
        "plt.grid() #função que desenha a grade no nosso gráfico"
      ],
      "metadata": {
        "colab": {
          "base_uri": "https://localhost:8080/",
          "height": 269
        },
        "id": "6QsedSVSk80H",
        "outputId": "c9360789-b517-4ca0-e7fc-11d1a47ef358"
      },
      "execution_count": null,
      "outputs": [
        {
          "output_type": "display_data",
          "data": {
            "text/plain": [
              "<Figure size 432x288 with 1 Axes>"
            ],
            "image/png": "[encoded data removed]"
          },
          "metadata": {
            "needs_background": "light"
          }
        }
      ]
    },
    {
      "cell_type": "markdown",
      "source": [
        "Melhorando o algoritmo aumentando o número de interações."
      ],
      "metadata": {
        "id": "RmC2EsmPmyc9"
      }
    },
    {
      "cell_type": "code",
      "source": [
        "#algoritmo que define a posição dos clusters de maneira mais assertiva\n",
        "#numero máximo de iterações\n",
        "kmeans = KMeans(n_clusters = 6, init = 'random', n_init = 10, max_iter = 1) #numero de clusters\n",
        "pred_y = kmeans.fit_predict(novo_dataset)\n",
        "plt.scatter(novo_dataset[:,1], novo_dataset[:,0], c = pred_y) #posicionamento dos eixos x e y\n",
        "plt.xlim(0, 60) #range do eixo x\n",
        "plt.ylim(0, 60) #range do eixo y\n",
        "plt.grid() #função que desenha a grade no nosso gráfico\n",
        "plt.scatter(kmeans.cluster_centers_[:,1],kmeans.cluster_centers_[:,0], s = 100, c = 'red') #posição de cada centroide no gráfico\n",
        "plt.show()\n",
        "\n"
      ],
      "metadata": {
        "colab": {
          "base_uri": "https://localhost:8080/",
          "height": 269
        },
        "id": "D6GA0MSUk_6X",
        "outputId": "8935a157-93dc-47c9-950e-2e57121d690c"
      },
      "execution_count": null,
      "outputs": [
        {
          "output_type": "display_data",
          "data": {
            "text/plain": [
              "<Figure size 432x288 with 1 Axes>"
            ],
            "image/png": "[encoded data removed]"
          },
          "metadata": {
            "needs_background": "light"
          }
        }
      ]
    },
    {
      "cell_type": "code",
      "source": [
        "kmeans = KMeans(n_clusters = 6, #numero de clusters\n",
        "#numero máximo de iterações\n",
        "init = 'random', n_init = 10, max_iter = 100) #algoritmo que define a posição dos clusters de maneira mais assertiva \n",
        "pred_y = kmeans.fit_predict(novo_dataset)\n",
        "plt.scatter(novo_dataset[:,1], novo_dataset[:,0]) #posicionamento dos eixos x e y\n",
        "plt.xlim(0, 60) #range do eixo x\n",
        "plt.ylim(0, 60) #range do eixo y\n",
        "plt.grid() #função que desenha a grade no nosso gráfico\n",
        "plt.scatter(kmeans.cluster_centers_[:,1],kmeans.cluster_centers_[:,0], s = 100, c = 'red') #posição de cada centroide no gráfico\n",
        "plt.show()\n",
        "\n",
        "print('Menor | Maior')\n",
        "for x in kmeans.cluster_centers_:\n",
        "  print(round(x[0]) , '|' , round(x[1]))"
      ],
      "metadata": {
        "colab": {
          "base_uri": "https://localhost:8080/",
          "height": 398
        },
        "id": "dsTKoA3KlCJ5",
        "outputId": "7c169171-5fcd-434d-fb65-81ac7555f8cf"
      },
      "execution_count": null,
      "outputs": [
        {
          "output_type": "display_data",
          "data": {
            "text/plain": [
              "<Figure size 432x288 with 1 Axes>"
            ],
            "image/png": "[encoded data removed]"
          },
          "metadata": {
            "needs_background": "light"
          }
        },
        {
          "output_type": "stream",
          "name": "stdout",
          "text": [
            "Menor | Maior\n",
            "15 | 8\n",
            "55 | 13\n",
            "37 | 24\n",
            "13 | 51\n",
            "51 | 41\n",
            "15 | 32\n"
          ]
        }
      ]
    },
    {
      "cell_type": "markdown",
      "source": [
        "A ideia aqui e juntar todos os dados anteriores e prever o melhor [tem q ver uma forma de fazer automático pelo array]"
      ],
      "metadata": {
        "id": "-8rTIJ63pfub"
      }
    },
    {
      "cell_type": "code",
      "source": [
        "novo_dataset = np.array(\n",
        "\n",
        "[\n",
        "[22, 37],\n",
        "[54, 35],\n",
        "[20, 9],\n",
        "[32, 54],\n",
        "[48, 10], \n",
        "[15, 32],\n",
        "[56, 46], \n",
        "[13, 51], \n",
        "[55, 13], \n",
        "[18, 10], \n",
        "[45, 34] \n",
        " ])\n",
        "\n",
        "plt.scatter(novo_dataset[:,1], novo_dataset[:,0]) #posicionamento dos eixos x e y\n",
        "plt.xlim(0, 60) #range do eixo x\n",
        "plt.ylim(0, 60) #range do eixo y\n",
        "plt.grid() #função que desenha a grade no nosso gráfico"
      ],
      "metadata": {
        "colab": {
          "base_uri": "https://localhost:8080/",
          "height": 269
        },
        "id": "rOQKkgWhn32v",
        "outputId": "df1c501c-6b95-4300-8bb0-4cec26774ed9"
      },
      "execution_count": null,
      "outputs": [
        {
          "output_type": "display_data",
          "data": {
            "text/plain": [
              "<Figure size 432x288 with 1 Axes>"
            ],
            "image/png": "[encoded data removed]"
          },
          "metadata": {
            "needs_background": "light"
          }
        }
      ]
    },
    {
      "cell_type": "code",
      "source": [
        "kmeans = KMeans(n_clusters = 6, init = 'random', n_init = 10, max_iter = 100) #numero de clusters\n",
        "pred_y = kmeans.fit_predict(novo_dataset)\n",
        "plt.scatter(novo_dataset[:,1], novo_dataset[:,0], c = pred_y) #posicionamento dos eixos x e y\n",
        "plt.xlim(0, 60) #range do eixo x\n",
        "plt.ylim(0, 60) #range do eixo y\n",
        "plt.grid() #função que desenha a grade no nosso gráfico\n",
        "plt.scatter(kmeans.cluster_centers_[:,1],kmeans.cluster_centers_[:,0], s = 100, c = 'red') #posição de cada centroide no gráfico\n",
        "plt.show()"
      ],
      "metadata": {
        "colab": {
          "base_uri": "https://localhost:8080/",
          "height": 269
        },
        "id": "Wi97Clq0oP86",
        "outputId": "436a1410-9bf8-4af6-a0a9-ea161cabbbfc"
      },
      "execution_count": null,
      "outputs": [
        {
          "output_type": "display_data",
          "data": {
            "text/plain": [
              "<Figure size 432x288 with 1 Axes>"
            ],
            "image/png": "[encoded data removed]"
          },
          "metadata": {
            "needs_background": "light"
          }
        }
      ]
    },
    {
      "cell_type": "code",
      "source": [
        "print('Menor | Maior')\n",
        "for x in kmeans.cluster_centers_:\n",
        "  print(round(x[0]) , '|' , round(x[1]))"
      ],
      "metadata": {
        "colab": {
          "base_uri": "https://localhost:8080/"
        },
        "id": "n_sthHYLoVtz",
        "outputId": "ec6bd447-a0f3-4317-b2ed-30a2fbcad51a"
      },
      "execution_count": null,
      "outputs": [
        {
          "output_type": "stream",
          "name": "stdout",
          "text": [
            "Menor | Maior\n",
            "52 | 12\n",
            "32 | 54\n",
            "19 | 10\n",
            "52 | 38\n",
            "13 | 51\n",
            "18 | 34\n"
          ]
        }
      ]
    },
    {
      "cell_type": "markdown",
      "source": [
        "K-means com números que mais saíram com menos saíram, dados com:\n",
        "[dezena, quantidade de vezes que saiu]\n",
        "\n"
      ],
      "metadata": {
        "id": "tHQvQyFPYCcG"
      }
    },
    {
      "cell_type": "code",
      "source": [
        "novo_dataset = np.array(\n",
        "[\n",
        "[1, 241],\n",
        "[2, 255],\n",
        "[3, 228],\n",
        "[4, 265],\n",
        "[5, 271],\n",
        "[6, 250],\n",
        "[7, 236],\n",
        "[8, 252],\n",
        "[9, 233],\n",
        "[10, 282],\n",
        "[11, 259],\n",
        "[12, 239],\n",
        "[13, 253],\n",
        "[14, 233],\n",
        "[15, 219],\n",
        "[16, 258],\n",
        "[17, 259],\n",
        "[18, 244],\n",
        "[19, 235],\n",
        "[20, 241],\n",
        "[21, 214],\n",
        "[22, 218],\n",
        "[23, 266],\n",
        "[24, 256],\n",
        "[25, 236],\n",
        "[26, 205],\n",
        "[27, 262],\n",
        "[28, 263],\n",
        "[29, 259],\n",
        "[30, 264],\n",
        "[31, 234],\n",
        "[32, 256],\n",
        "[33, 267],\n",
        "[34, 261],\n",
        "[35, 263],\n",
        "[36, 256],\n",
        "[37, 270],\n",
        "[38, 257],\n",
        "[39, 235],\n",
        "[40, 239],\n",
        "[41, 262],\n",
        "[42, 272],\n",
        "[43, 257],\n",
        "[44, 260],\n",
        "[45, 240],\n",
        "[46, 248],\n",
        "[47, 237],\n",
        "[48, 228],\n",
        "[49, 258],\n",
        "[50, 244],\n",
        "[51, 258],\n",
        "[52, 249],\n",
        "[53, 284],\n",
        "[54, 263],\n",
        "[55, 211],\n",
        "[56, 253],\n",
        "[57, 236],\n",
        "[58, 241],\n",
        "[59, 234],\n",
        "[60, 235]\n",
        "])\n",
        "\n",
        "\n",
        "\n",
        "\n",
        "plt.scatter(novo_dataset[:,1], novo_dataset[:,0]) #posicionamento dos eixos x e y\n",
        "plt.xlim(0, 400) #range do eixo x\n",
        "plt.ylim(1, 60) #range do eixo y\n",
        "plt.grid() #função que desenha a grade no nosso gráfico"
      ],
      "metadata": {
        "id": "hmPuoqd3YPah"
      },
      "execution_count": null,
      "outputs": []
    },
    {
      "cell_type": "code",
      "source": [
        "for x in novo_dataset:\n",
        "  print('[' + str(x[1]) + ',' + str(x[0]) + '],')"
      ],
      "metadata": {
        "id": "kotMuBYNja6k",
        "colab": {
          "base_uri": "https://localhost:8080/"
        },
        "outputId": "314b86d0-2ac4-47e2-c124-158b3588edaa"
      },
      "execution_count": null,
      "outputs": [
        {
          "output_type": "stream",
          "name": "stdout",
          "text": [
            "[241,1],\n",
            "[255,2],\n",
            "[228,3],\n",
            "[265,4],\n",
            "[271,5],\n",
            "[250,6],\n",
            "[236,7],\n",
            "[252,8],\n",
            "[233,9],\n",
            "[282,10],\n",
            "[259,11],\n",
            "[239,12],\n",
            "[253,13],\n",
            "[233,14],\n",
            "[219,15],\n",
            "[258,16],\n",
            "[259,17],\n",
            "[244,18],\n",
            "[235,19],\n",
            "[241,20],\n",
            "[214,21],\n",
            "[218,22],\n",
            "[266,23],\n",
            "[256,24],\n",
            "[236,25],\n",
            "[205,26],\n",
            "[262,27],\n",
            "[263,28],\n",
            "[259,29],\n",
            "[264,30],\n",
            "[234,31],\n",
            "[256,32],\n",
            "[267,33],\n",
            "[261,34],\n",
            "[263,35],\n",
            "[256,36],\n",
            "[270,37],\n",
            "[257,38],\n",
            "[235,39],\n",
            "[239,40],\n",
            "[262,41],\n",
            "[272,42],\n",
            "[257,43],\n",
            "[260,44],\n",
            "[240,45],\n",
            "[248,46],\n",
            "[237,47],\n",
            "[228,48],\n",
            "[258,49],\n",
            "[244,50],\n",
            "[258,51],\n",
            "[249,52],\n",
            "[284,53],\n",
            "[263,54],\n",
            "[211,55],\n",
            "[253,56],\n",
            "[236,57],\n",
            "[241,58],\n",
            "[234,59],\n",
            "[235,60],\n"
          ]
        }
      ]
    },
    {
      "cell_type": "code",
      "source": [
        "novo_dataset = np.array(\n",
        "[    \n",
        "[241,1],\n",
        "[255,2],\n",
        "[228,3],\n",
        "[265,4],\n",
        "[271,5],\n",
        "[250,6],\n",
        "[236,7],\n",
        "[252,8],\n",
        "[233,9],\n",
        "[282,10],\n",
        "[259,11],\n",
        "[239,12],\n",
        "[253,13],\n",
        "[233,14],\n",
        "[219,15],\n",
        "[258,16],\n",
        "[259,17],\n",
        "[244,18],\n",
        "[235,19],\n",
        "[241,20],\n",
        "[214,21],\n",
        "[218,22],\n",
        "[266,23],\n",
        "[256,24],\n",
        "[236,25],\n",
        "[205,26],\n",
        "[262,27],\n",
        "[263,28],\n",
        "[259,29],\n",
        "[264,30],\n",
        "[234,31],\n",
        "[256,32],\n",
        "[267,33],\n",
        "[261,34],\n",
        "[263,35],\n",
        "[256,36],\n",
        "[270,37],\n",
        "[257,38],\n",
        "[235,39],\n",
        "[239,40],\n",
        "[262,41],\n",
        "[272,42],\n",
        "[257,43],\n",
        "[260,44],\n",
        "[240,45],\n",
        "[248,46],\n",
        "[237,47],\n",
        "[228,48],\n",
        "[258,49],\n",
        "[244,50],\n",
        "[258,51],\n",
        "[249,52],\n",
        "[284,53],\n",
        "[263,54],\n",
        "[211,55],\n",
        "[253,56],\n",
        "[236,57],\n",
        "[241,58],\n",
        "[234,59],\n",
        "[235,60]\n",
        "])\n",
        "\n",
        "plt.scatter(novo_dataset[:,1], novo_dataset[:,0]) #posicionamento dos eixos x e y\n",
        "plt.xlim(1, 60) #range do eixo x\n",
        "plt.ylim(0, 400) #range do eixo y\n",
        "plt.grid() #função que desenha a grade no nosso gráfico\n"
      ],
      "metadata": {
        "colab": {
          "base_uri": "https://localhost:8080/",
          "height": 269
        },
        "id": "89PUgQSdjpBz",
        "outputId": "a43b4b0b-7d77-4b35-c81d-0951ae1d1e48"
      },
      "execution_count": null,
      "outputs": [
        {
          "output_type": "display_data",
          "data": {
            "text/plain": [
              "<Figure size 432x288 with 1 Axes>"
            ],
            "image/png": "[encoded data removed]"
          },
          "metadata": {
            "needs_background": "light"
          }
        }
      ]
    },
    {
      "cell_type": "code",
      "source": [
        "#numero de clusters\n",
        "kmeans = KMeans(n_clusters = 6, init = 'random', n_init = 10, max_iter = 1000) \n",
        "pred_y = kmeans.fit_predict(novo_dataset)\n",
        "#posicionamento dos eixos x e y\n",
        "plt.scatter(novo_dataset[:,1], novo_dataset[:,0], c = pred_y) \n",
        " #range do eixo x\n",
        "plt.xlim(1, 60)\n",
        "#range do eixo y\n",
        "plt.ylim(0, 400) \n",
        "#função que desenha a grade no nosso gráfico\n",
        "plt.grid() \n",
        "#posição de cada centroide no gráfico\n",
        "plt.scatter(kmeans.cluster_centers_[:,1],kmeans.cluster_centers_[:,0], s = 100, c = 'red') \n",
        "plt.show()\n",
        "\n",
        "\n",
        "#numero de clusters\n",
        "kmeans = KMeans(n_clusters = 6, init = 'random', n_init = 10, max_iter = 10000) \n",
        "pred_y = kmeans.fit_predict(novo_dataset)\n",
        "#posicionamento dos eixos x e y\n",
        "plt.scatter(novo_dataset[:,1], novo_dataset[:,0], c = pred_y) \n",
        "#range do eixo x\n",
        "plt.xlim(1, 60) \n",
        " #range do eixo y\n",
        "plt.ylim(0, 400)\n",
        " #função que desenha a grade no nosso gráfico\n",
        "plt.grid()\n",
        "#posição de cada centroide no gráfico\n",
        "plt.scatter(kmeans.cluster_centers_[:,1],kmeans.cluster_centers_[:,0], s = 100, c = 'red') \n",
        "plt.show()"
      ],
      "metadata": {
        "colab": {
          "base_uri": "https://localhost:8080/",
          "height": 521
        },
        "id": "Etg9Dy4OkS6a",
        "outputId": "60fd1d9d-2bc7-411b-c30d-7fe7635f7ae5"
      },
      "execution_count": null,
      "outputs": [
        {
          "output_type": "display_data",
          "data": {
            "text/plain": [
              "<Figure size 432x288 with 1 Axes>"
            ],
            "image/png": "[encoded data removed]"
          },
          "metadata": {
            "needs_background": "light"
          }
        },
        {
          "output_type": "display_data",
          "data": {
            "text/plain": [
              "<Figure size 432x288 with 1 Axes>"
            ],
            "image/png": "[encoded data removed]"
          },
          "metadata": {
            "needs_background": "light"
          }
        }
      ]
    },
    {
      "cell_type": "code",
      "source": [
        "print('Melhores dezenas')\n",
        "for x in kmeans.cluster_centers_:\n",
        "  print(round(x[1]))"
      ],
      "metadata": {
        "colab": {
          "base_uri": "https://localhost:8080/"
        },
        "id": "J9vU7zq3kkVi",
        "outputId": "6abb1e6a-ab39-4520-ba3e-cb60bb14b78c"
      },
      "execution_count": null,
      "outputs": [
        {
          "output_type": "stream",
          "name": "stdout",
          "text": [
            "Melhores dezenas\n",
            "9\n",
            "48\n",
            "21\n",
            "14\n",
            "51\n",
            "31\n"
          ]
        }
      ]
    }
  ]
}